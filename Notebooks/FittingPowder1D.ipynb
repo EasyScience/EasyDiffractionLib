{
 "cells": [
  {
   "cell_type": "markdown",
   "metadata": {},
   "source": [
    "# Fitting to the experimental data"
   ]
  },
  {
   "cell_type": "markdown",
   "metadata": {},
   "source": [
    "In this notebook we will show how to load a CIF file, an experimental profile and how to perform a parameter fit.\n"
   ]
  },
  {
   "cell_type": "markdown",
   "metadata": {},
   "source": [
    "#### Import Python packages"
   ]
  },
  {
   "cell_type": "code",
   "execution_count": null,
   "metadata": {},
   "outputs": [],
   "source": [
    "# esyScience, technique-independent\n",
    "from easyCore import np\n",
    "from easyCore.Fitting.Fitting import Fitter\n",
    "\n",
    "# esyScience, diffraction\n",
    "from easyDiffractionLib import Phases\n",
    "from easyDiffractionLib.sample import Sample as Job\n",
    "from easyDiffractionLib.interface import InterfaceFactory as Calculator\n",
    "from easyDiffractionLib.Elements.Experiments.Pattern import Pattern1D\n",
    "from easyDiffractionLib.Elements.Backgrounds.Point import PointBackground, BackgroundPoint\n",
    "from easyDiffractionLib.Profiles.P1D import Instrument1DCWParameters\n",
    "\n",
    "# Vizualization\n",
    "import py3Dmol\n",
    "import matplotlib.pyplot as plt"
   ]
  },
  {
   "cell_type": "markdown",
   "metadata": {},
   "source": [
    "## --- Sample ---"
   ]
  },
  {
   "cell_type": "markdown",
   "metadata": {},
   "source": [
    "#### Show a CIF file content"
   ]
  },
  {
   "cell_type": "code",
   "execution_count": null,
   "metadata": {},
   "outputs": [],
   "source": [
    "cif_fname = 'PbSO4.cif'\n",
    "\n",
    "with open(cif_fname, 'r') as f:\n",
    "    content = f.read()\n",
    "    \n",
    "print(content)"
   ]
  },
  {
   "cell_type": "markdown",
   "metadata": {},
   "source": [
    "#### Load structure from a CIF file"
   ]
  },
  {
   "cell_type": "code",
   "execution_count": null,
   "metadata": {},
   "outputs": [],
   "source": [
    "phases = Phases.from_cif_file(cif_fname)\n",
    "phase = phases[0]\n",
    "\n",
    "print(phases)\n",
    "print(phase)"
   ]
  },
  {
   "cell_type": "markdown",
   "metadata": {},
   "source": [
    "#### Visualise the structure"
   ]
  },
  {
   "cell_type": "code",
   "execution_count": null,
   "metadata": {},
   "outputs": [],
   "source": [
    "structure = py3Dmol.view()\n",
    "structure.addModel(phase.to_cif_str(), 'cif')\n",
    "structure.setStyle({'sphere':{'colorscheme':'Jmol','scale':.2},'stick':{'colorscheme':'Jmol','radius': 0.1}})\n",
    "structure.addUnitCell()\n",
    "structure.replicateUnitCell(2,2,1)\n",
    "structure.zoomTo()"
   ]
  },
  {
   "cell_type": "markdown",
   "metadata": {},
   "source": [
    "## --- Experiment ---"
   ]
  },
  {
   "cell_type": "markdown",
   "metadata": {},
   "source": [
    "#### Show measured data as text"
   ]
  },
  {
   "cell_type": "code",
   "execution_count": null,
   "metadata": {},
   "outputs": [],
   "source": [
    "meas_fname = 'D1A@ILL.xye'\n",
    "\n",
    "with open(meas_fname, 'r') as f:\n",
    "    content = f.read()\n",
    "    \n",
    "# print(content)"
   ]
  },
  {
   "cell_type": "markdown",
   "metadata": {},
   "source": [
    "#### Load the measured data"
   ]
  },
  {
   "cell_type": "code",
   "execution_count": null,
   "metadata": {},
   "outputs": [],
   "source": [
    "meas_x, meas_y, meas_e = np.loadtxt(meas_fname, unpack=True)"
   ]
  },
  {
   "cell_type": "markdown",
   "metadata": {},
   "source": [
    "#### Visualize the measured data"
   ]
  },
  {
   "cell_type": "code",
   "execution_count": null,
   "metadata": {
    "scrolled": true
   },
   "outputs": [],
   "source": [
    "%matplotlib widget\n",
    "plt.plot(meas_x, meas_y, label='Imeas')\n",
    "plt.legend()"
   ]
  },
  {
   "cell_type": "markdown",
   "metadata": {},
   "source": [
    "## --- Analysis ---"
   ]
  },
  {
   "cell_type": "markdown",
   "metadata": {},
   "source": [
    "#### Create job with default parameters for the 1D powder neutron diffraction experiment with constant wavelength "
   ]
  },
  {
   "cell_type": "code",
   "execution_count": null,
   "metadata": {},
   "outputs": [],
   "source": [
    "calculator = Calculator()\n",
    "\n",
    "print(f\"Current calculator engine: {calculator.current_interface_name}\")"
   ]
  },
  {
   "cell_type": "code",
   "execution_count": null,
   "metadata": {},
   "outputs": [],
   "source": [
    "job = Job(phases=phases, parameters=Instrument1DCWParameters.default(), calculator=calculator)"
   ]
  },
  {
   "cell_type": "markdown",
   "metadata": {},
   "source": [
    "#### Generate the calculated data"
   ]
  },
  {
   "cell_type": "code",
   "execution_count": null,
   "metadata": {},
   "outputs": [],
   "source": [
    "calc_y_cryspy = calculator.fit_func(meas_x)"
   ]
  },
  {
   "cell_type": "markdown",
   "metadata": {},
   "source": [
    "#### Visualize both the measured and calculated data"
   ]
  },
  {
   "cell_type": "code",
   "execution_count": null,
   "metadata": {
    "scrolled": true
   },
   "outputs": [],
   "source": [
    "%matplotlib widget\n",
    "plt.plot(meas_x, meas_y, label='Imeas')\n",
    "plt.plot(meas_x, calc_y_cryspy, label='Icalc (CrysPy)')\n",
    "plt.legend()"
   ]
  },
  {
   "cell_type": "markdown",
   "metadata": {},
   "source": [
    "#### Set scale manually"
   ]
  },
  {
   "cell_type": "code",
   "execution_count": null,
   "metadata": {},
   "outputs": [],
   "source": [
    "job.pattern.scale = 100"
   ]
  },
  {
   "cell_type": "code",
   "execution_count": null,
   "metadata": {},
   "outputs": [],
   "source": [
    "calc_y_cryspy = calculator.fit_func(meas_x)\n",
    "\n",
    "%matplotlib widget\n",
    "plt.plot(meas_x, meas_y, label='Imeas')\n",
    "plt.plot(meas_x, calc_y_cryspy, label='Icalc (CrysPy)')\n",
    "plt.legend()"
   ]
  },
  {
   "cell_type": "markdown",
   "metadata": {},
   "source": [
    "#### Set wavelength manually"
   ]
  },
  {
   "cell_type": "code",
   "execution_count": null,
   "metadata": {},
   "outputs": [],
   "source": [
    "job.parameters.wavelength = 1.912"
   ]
  },
  {
   "cell_type": "code",
   "execution_count": null,
   "metadata": {},
   "outputs": [],
   "source": [
    "calc_y_cryspy = calculator.fit_func(meas_x)\n",
    "\n",
    "%matplotlib widget\n",
    "plt.plot(meas_x, meas_y, label='Imeas')\n",
    "plt.plot(meas_x, calc_y_cryspy, label='Icalc (CrysPy)')\n",
    "plt.legend()"
   ]
  },
  {
   "cell_type": "markdown",
   "metadata": {},
   "source": [
    "#### Set background points manually"
   ]
  },
  {
   "cell_type": "code",
   "execution_count": null,
   "metadata": {},
   "outputs": [],
   "source": [
    "bkg = PointBackground(linked_experiment='PbSO4')\n",
    "\n",
    "bkg.append(BackgroundPoint.from_pars(meas_x[0], 200))\n",
    "bkg.append(BackgroundPoint.from_pars(meas_x[-1], 250))\n",
    "\n",
    "job.set_background(bkg)"
   ]
  },
  {
   "cell_type": "code",
   "execution_count": null,
   "metadata": {},
   "outputs": [],
   "source": [
    "calc_y_cryspy = calculator.fit_func(meas_x)\n",
    "\n",
    "%matplotlib widget\n",
    "plt.plot(meas_x, meas_y, label='Imeas')\n",
    "plt.plot(meas_x, calc_y_cryspy, label='Icalc (CrysPy)')\n",
    "plt.legend()"
   ]
  },
  {
   "cell_type": "markdown",
   "metadata": {},
   "source": [
    "#### Define parameters to optimize"
   ]
  },
  {
   "cell_type": "code",
   "execution_count": null,
   "metadata": {},
   "outputs": [],
   "source": [
    "job.pattern.scale.fixed = False\n",
    "job.pattern.zero_shift.fixed = False\n",
    "job.parameters.resolution_u.fixed = False\n",
    "job.parameters.resolution_v.fixed = False\n",
    "job.parameters.resolution_w.fixed = False\n",
    "job.backgrounds[0][0].y.fixed = False\n",
    "job.backgrounds[0][1].y.fixed = False"
   ]
  },
  {
   "cell_type": "code",
   "execution_count": null,
   "metadata": {},
   "outputs": [],
   "source": [
    "print(job.pattern.scale)\n",
    "print(job.pattern.zero_shift)\n",
    "print(job.parameters.resolution_u)\n",
    "print(job.parameters.resolution_v)\n",
    "print(job.parameters.resolution_w)\n",
    "print(job.backgrounds[0][0])\n",
    "print(job.backgrounds[0][1])"
   ]
  },
  {
   "cell_type": "markdown",
   "metadata": {},
   "source": [
    "#### Initalize the fitting engine and perform the fit"
   ]
  },
  {
   "cell_type": "code",
   "execution_count": null,
   "metadata": {},
   "outputs": [],
   "source": [
    "fitter = Fitter(job, calculator.fit_func)\n",
    "\n",
    "print(f\"Available minimizers: {fitter.available_engines}\")\n",
    "print(f\"Current minimizer: {fitter.current_engine.name}\")\n",
    "print(f\"Available methods of current minimizers: {fitter.available_methods()}\")"
   ]
  },
  {
   "cell_type": "code",
   "execution_count": null,
   "metadata": {},
   "outputs": [],
   "source": [
    "result = fitter.fit(meas_x, meas_y, weights=1/meas_e, method='least_squares')\n",
    "\n",
    "print(\"The fit has been successful: {}\".format(result.success))\n",
    "if result.success:    \n",
    "    print(\"The gooodness of fit (chi2) is: {}\".format(result.reduced_chi))\n",
    "    print(job.pattern.scale)\n",
    "    print(job.pattern.zero_shift)\n",
    "    print(job.parameters.resolution_u)\n",
    "    print(job.parameters.resolution_v)\n",
    "    print(job.parameters.resolution_w)\n",
    "    print(job.backgrounds[0][0])\n",
    "    print(job.backgrounds[0][1])"
   ]
  },
  {
   "cell_type": "code",
   "execution_count": null,
   "metadata": {},
   "outputs": [],
   "source": [
    "calc_y_cryspy = calculator.fit_func(meas_x)\n",
    "\n",
    "%matplotlib widget\n",
    "plt.plot(meas_x, meas_y, label='Imeas')\n",
    "plt.plot(meas_x, calc_y_cryspy, label='Icalc (CrysPy)')\n",
    "plt.plot(meas_x, meas_y-calc_y_cryspy, label='Imeas-Icalc (CrysPy)')\n",
    "plt.legend()"
   ]
  },
  {
   "cell_type": "markdown",
   "metadata": {},
   "source": [
    "#### Change calculator engine to CrysFML"
   ]
  },
  {
   "cell_type": "code",
   "execution_count": null,
   "metadata": {},
   "outputs": [],
   "source": [
    "job.interface.switch('CrysFML')\n",
    "job.update_bindings()\n",
    "\n",
    "print(f\"Current calculator engine: {job.interface.current_interface_name}\")\n",
    "print(f\"Current minimizer: {fitter.current_engine.name}\")"
   ]
  },
  {
   "cell_type": "markdown",
   "metadata": {},
   "source": [
    "#### Show results of both CrysPy and CrysFML calculations (before fitting)"
   ]
  },
  {
   "cell_type": "code",
   "execution_count": null,
   "metadata": {},
   "outputs": [],
   "source": [
    "calc_y_crysfml = calculator.fit_func(meas_x)\n",
    "\n",
    "%matplotlib widget\n",
    "plt.plot(meas_x, meas_y, label='Imeas')\n",
    "plt.plot(meas_x, calc_y_cryspy, label='Icalc (CrysPy)')\n",
    "plt.plot(meas_x, calc_y_crysfml, label='Icalc (CrysFML)')\n",
    "plt.legend()"
   ]
  },
  {
   "cell_type": "markdown",
   "metadata": {},
   "source": [
    "#### Perform the fit with CrysFML"
   ]
  },
  {
   "cell_type": "code",
   "execution_count": null,
   "metadata": {},
   "outputs": [],
   "source": [
    "result = fitter.fit(meas_x, meas_y, weights=1/meas_e, method='least_squares')\n",
    "\n",
    "print(\"The fit has been successful: {}\".format(result.success))\n",
    "if result.success:    \n",
    "    print(\"The gooodness of fit (chi2) is: {}\".format(result.reduced_chi))\n",
    "    print(job.pattern.scale)\n",
    "    print(job.pattern.zero_shift)\n",
    "    print(job.parameters.resolution_u)\n",
    "    print(job.parameters.resolution_v)\n",
    "    print(job.parameters.resolution_w)\n",
    "    print(job.backgrounds[0][0])\n",
    "    print(job.backgrounds[0][1])"
   ]
  },
  {
   "cell_type": "markdown",
   "metadata": {},
   "source": [
    "#### Show results of both CrysPy and CrysFML calculations (after fitting)"
   ]
  },
  {
   "cell_type": "code",
   "execution_count": null,
   "metadata": {},
   "outputs": [],
   "source": [
    "calc_y_crysfml = calculator.fit_func(meas_x)\n",
    "\n",
    "%matplotlib widget\n",
    "plt.plot(meas_x, meas_y, label='Imeas')\n",
    "plt.plot(meas_x, calc_y_cryspy, label='Icalc (CrysPy)')\n",
    "plt.plot(meas_x, calc_y_crysfml, label='Icalc (CrysFML)')\n",
    "plt.legend()"
   ]
  },
  {
   "cell_type": "code",
   "execution_count": null,
   "metadata": {},
   "outputs": [],
   "source": []
  },
  {
   "cell_type": "code",
   "execution_count": null,
   "metadata": {},
   "outputs": [],
   "source": []
  },
  {
   "cell_type": "code",
   "execution_count": null,
   "metadata": {},
   "outputs": [],
   "source": []
  }
 ],
 "metadata": {
  "kernelspec": {
   "display_name": "Python 3 (ipykernel)",
   "language": "python",
   "name": "python3"
  },
  "language_info": {
   "codemirror_mode": {
    "name": "ipython",
    "version": 3
   },
   "file_extension": ".py",
   "mimetype": "text/x-python",
   "name": "python",
   "nbconvert_exporter": "python",
   "pygments_lexer": "ipython3",
   "version": "3.7.10"
  }
 },
 "nbformat": 4,
 "nbformat_minor": 4
}
