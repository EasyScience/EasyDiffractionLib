{
 "cells": [
  {
   "cell_type": "code",
   "execution_count": 6,
   "id": "ef2b6043-41e5-4d4e-ba04-b66eff5567d0",
   "metadata": {
    "pycharm": {
     "name": "#%%\n"
    }
   },
   "outputs": [],
   "source": [
    "from easyDiffractionLib.graphics.renderables.lattice import Lattice"
   ]
  },
  {
   "cell_type": "code",
   "execution_count": 7,
   "id": "81ba6141-e974-410a-a88a-c0b30a53ae88",
   "metadata": {
    "pycharm": {
     "name": "#%%\n"
    }
   },
   "outputs": [],
   "source": [
    "l = Lattice.hexagonal(3, 5)"
   ]
  },
  {
   "cell_type": "code",
   "execution_count": 8,
   "id": "c7ffc8ee-6e4a-47e0-b925-62ff8273155b",
   "metadata": {
    "pycharm": {
     "name": "#%%\n"
    }
   },
   "outputs": [
    {
     "data": {
      "text/plain": [
       "<Lattice: (a: 3.00 Å, b: 3.00 Å, c: 5.00Å, alpha: 90.00 deg, beta: 90.00 deg, gamma: 120.00 deg>"
      ]
     },
     "execution_count": 8,
     "metadata": {},
     "output_type": "execute_result"
    }
   ],
   "source": [
    "l"
   ]
  },
  {
   "cell_type": "code",
   "execution_count": 9,
   "id": "0f6f9f98-1245-4be6-836a-369b8abefdf4",
   "metadata": {
    "pycharm": {
     "name": "#%%\n"
    }
   },
   "outputs": [
    {
     "data": {
      "application/vnd.mp.ctk+json": {
       "contents": [
        {
         "clickable": false,
         "positions": [
          [
           0,
           0,
           0
          ],
          [
           3.0,
           0.0,
           1.8369701987210297e-16
          ],
          [
           0,
           0,
           0
          ],
          [
           -1.4999999999999991,
           2.5980762113533165,
           1.8369701987210297e-16
          ],
          [
           0,
           0,
           0
          ],
          [
           0.0,
           0.0,
           5.0
          ],
          [
           3.0,
           0.0,
           1.8369701987210297e-16
          ],
          [
           1.5000000000000009,
           2.5980762113533165,
           3.6739403974420594e-16
          ],
          [
           3.0,
           0.0,
           1.8369701987210297e-16
          ],
          [
           3.0,
           0.0,
           5.0
          ],
          [
           -1.4999999999999991,
           2.5980762113533165,
           1.8369701987210297e-16
          ],
          [
           1.5000000000000009,
           2.5980762113533165,
           3.6739403974420594e-16
          ],
          [
           -1.4999999999999991,
           2.5980762113533165,
           1.8369701987210297e-16
          ],
          [
           -1.4999999999999991,
           2.5980762113533165,
           5.0
          ],
          [
           0.0,
           0.0,
           5.0
          ],
          [
           3.0,
           0.0,
           5.0
          ],
          [
           0.0,
           0.0,
           5.0
          ],
          [
           -1.4999999999999991,
           2.5980762113533165,
           5.0
          ],
          [
           1.5000000000000009,
           2.5980762113533165,
           3.6739403974420594e-16
          ],
          [
           1.5000000000000009,
           2.5980762113533165,
           5.0
          ],
          [
           3.0,
           0.0,
           5.0
          ],
          [
           1.5000000000000009,
           2.5980762113533165,
           5.0
          ],
          [
           -1.4999999999999991,
           2.5980762113533165,
           5.0
          ],
          [
           1.5000000000000009,
           2.5980762113533165,
           5.0
          ]
         ],
         "type": "lines"
        }
       ],
       "name": "a=3.0, b=3.0, c=5.0, alpha=90.0, beta=90.0, gamma=120.0",
       "visible": true
      },
      "text/plain": [
       "Scene(name='a=3.0, b=3.0, c=5.0, alpha=90.0, beta=90.0, gamma=120.0', contents=[Lines(positions=[[0, 0, 0], [3.0, 0.0, 1.8369701987210297e-16], [0, 0, 0], [-1.4999999999999991, 2.5980762113533165, 1.8369701987210297e-16], [0, 0, 0], [0.0, 0.0, 5.0], [3.0, 0.0, 1.8369701987210297e-16], [1.5000000000000009, 2.5980762113533165, 3.6739403974420594e-16], [3.0, 0.0, 1.8369701987210297e-16], [3.0, 0.0, 5.0], [-1.4999999999999991, 2.5980762113533165, 1.8369701987210297e-16], [1.5000000000000009, 2.5980762113533165, 3.6739403974420594e-16], [-1.4999999999999991, 2.5980762113533165, 1.8369701987210297e-16], [-1.4999999999999991, 2.5980762113533165, 5.0], [0.0, 0.0, 5.0], [3.0, 0.0, 5.0], [0.0, 0.0, 5.0], [-1.4999999999999991, 2.5980762113533165, 5.0], [1.5000000000000009, 2.5980762113533165, 3.6739403974420594e-16], [1.5000000000000009, 2.5980762113533165, 5.0], [3.0, 0.0, 5.0], [1.5000000000000009, 2.5980762113533165, 5.0], [-1.4999999999999991, 2.5980762113533165, 5.0], [1.5000000000000009, 2.5980762113533165, 5.0]], _animate=None, color=None, linewidth=None, scale=None, dashSize=None, gapSize=None, type='lines', visible=None, clickable=False, reference=None, _meta=None)], origin=None, visible=True, lattice=None, _meta=None)"
      ]
     },
     "execution_count": 9,
     "metadata": {},
     "output_type": "execute_result"
    }
   ],
   "source": [
    "l.get_scene()"
   ]
  },
  {
   "cell_type": "code",
   "execution_count": null,
   "id": "cfefbfb1-f912-403d-b980-cfce54ce8ad0",
   "metadata": {
    "pycharm": {
     "name": "#%%\n"
    }
   },
   "outputs": [],
   "source": []
  }
 ],
 "metadata": {
  "kernelspec": {
   "display_name": "Python 3",
   "language": "python",
   "name": "python3"
  },
  "language_info": {
   "codemirror_mode": {
    "name": "ipython",
    "version": 3
   },
   "file_extension": ".py",
   "mimetype": "text/x-python",
   "name": "python",
   "nbconvert_exporter": "python",
   "pygments_lexer": "ipython3",
   "version": "3.9.10"
  }
 },
 "nbformat": 4,
 "nbformat_minor": 5
}
