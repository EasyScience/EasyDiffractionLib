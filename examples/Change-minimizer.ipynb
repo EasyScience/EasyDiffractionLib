{
 "cells": [
  {
   "cell_type": "markdown",
   "id": "0c4dffd2",
   "metadata": {},
   "source": [
    "# Change minimizer\n",
    "\n",
    "This example shows how to change the minimization engine for refinement."
   ]
  },
  {
   "cell_type": "code",
   "execution_count": null,
   "id": "18c434a9",
   "metadata": {
    "ExecuteTime": {
     "end_time": "2024-11-11T21:06:41.119018Z",
     "start_time": "2024-11-11T21:06:41.114862Z"
    },
    "tags": [
     "hide_in_docs"
    ]
   },
   "outputs": [],
   "source": [
    "# Check if the easydiffraction library is installed\n",
    "# If not, install it including the 'charts' extras\n",
    "# This is done when running in a Jupyter notebook\n",
    "import builtins\n",
    "import importlib.util\n",
    "\n",
    "if hasattr(builtins, \"__IPYTHON__\"):\n",
    "    if importlib.util.find_spec('easydiffraction') is None:\n",
    "        print('Installing the easydiffraction library...')\n",
    "        !pip install 'easydiffraction[charts]'"
   ]
  },
  {
   "cell_type": "markdown",
   "id": "4b0507f5",
   "metadata": {},
   "source": [
    "## Import EasyDiffraction"
   ]
  },
  {
   "cell_type": "code",
   "execution_count": null,
   "id": "49645165",
   "metadata": {
    "ExecuteTime": {
     "end_time": "2024-11-11T21:06:43.462453Z",
     "start_time": "2024-11-11T21:06:41.120739Z"
    }
   },
   "outputs": [],
   "source": [
    "import easydiffraction as ed"
   ]
  },
  {
   "cell_type": "markdown",
   "id": "529ecb7a",
   "metadata": {},
   "source": [
    "## Create a job"
   ]
  },
  {
   "cell_type": "markdown",
   "id": "95311bc2",
   "metadata": {},
   "source": [
    "Create a job — the main object to store all the information"
   ]
  },
  {
   "cell_type": "code",
   "execution_count": null,
   "id": "4e60acbd",
   "metadata": {
    "ExecuteTime": {
     "end_time": "2024-11-11T21:06:43.588431Z",
     "start_time": "2024-11-11T21:06:43.578124Z"
    }
   },
   "outputs": [],
   "source": [
    "job = ed.Job()"
   ]
  },
  {
   "cell_type": "markdown",
   "id": "6c6b673b",
   "metadata": {},
   "source": [
    "## Define a model\n",
    "\n",
    "Download the CIF file from the EasyDiffraction repository on GitHub"
   ]
  },
  {
   "cell_type": "code",
   "execution_count": null,
   "id": "24986ea0",
   "metadata": {
    "ExecuteTime": {
     "end_time": "2024-11-11T21:06:43.693754Z",
     "start_time": "2024-11-11T21:06:43.691969Z"
    }
   },
   "outputs": [],
   "source": [
    "ed.download_from_repository('lbco_adp.cif', destination='data')"
   ]
  },
  {
   "cell_type": "markdown",
   "id": "4bf6565a",
   "metadata": {},
   "source": [
    "Load a phase from the downloaded CIF file"
   ]
  },
  {
   "cell_type": "code",
   "execution_count": null,
   "id": "fa85e088",
   "metadata": {
    "ExecuteTime": {
     "end_time": "2024-11-11T21:06:43.977210Z",
     "start_time": "2024-11-11T21:06:43.697182Z"
    }
   },
   "outputs": [],
   "source": [
    "job.add_phase_from_file('data/lbco_adp.cif')\n",
    "print(job.phases)"
   ]
  },
  {
   "cell_type": "markdown",
   "id": "bf280b65",
   "metadata": {},
   "source": [
    "Show phase info in CIF format"
   ]
  },
  {
   "cell_type": "code",
   "execution_count": null,
   "id": "b81b8f7b",
   "metadata": {
    "ExecuteTime": {
     "end_time": "2024-11-11T21:06:43.987503Z",
     "start_time": "2024-11-11T21:06:43.981188Z"
    }
   },
   "outputs": [],
   "source": [
    "phase = job.phases['lbco']\n",
    "print(phase.cif)"
   ]
  },
  {
   "cell_type": "markdown",
   "id": "529ec8f8",
   "metadata": {},
   "source": [
    "Display the crystal structure of a given model"
   ]
  },
  {
   "cell_type": "code",
   "execution_count": null,
   "id": "6f0bed76",
   "metadata": {
    "ExecuteTime": {
     "end_time": "2024-11-11T21:06:43.997974Z",
     "start_time": "2024-11-11T21:06:43.991057Z"
    }
   },
   "outputs": [],
   "source": [
    "job.show_crystal_structure(id='lbco')"
   ]
  },
  {
   "cell_type": "markdown",
   "id": "fe9d4e9d",
   "metadata": {},
   "source": [
    "## Define an experiment\n",
    "\n",
    "Load experimentally measured data from a file in XYE format"
   ]
  },
  {
   "cell_type": "code",
   "execution_count": null,
   "id": "997f98ef",
   "metadata": {
    "ExecuteTime": {
     "end_time": "2024-11-11T21:06:44.079121Z",
     "start_time": "2024-11-11T21:06:44.001661Z"
    }
   },
   "outputs": [],
   "source": [
    "job.add_experiment_from_file('data/hrpt.xye')"
   ]
  },
  {
   "cell_type": "markdown",
   "id": "880ef753",
   "metadata": {},
   "source": [
    "Display the experimentally measured data"
   ]
  },
  {
   "cell_type": "code",
   "execution_count": null,
   "id": "d45c9272",
   "metadata": {
    "ExecuteTime": {
     "end_time": "2024-11-11T21:06:44.256020Z",
     "start_time": "2024-11-11T21:06:44.107707Z"
    }
   },
   "outputs": [],
   "source": [
    "job.show_experiment_chart()"
   ]
  },
  {
   "cell_type": "markdown",
   "id": "5e76b097",
   "metadata": {},
   "source": [
    "Define a point background"
   ]
  },
  {
   "cell_type": "code",
   "execution_count": null,
   "id": "5ade4b9b",
   "metadata": {
    "ExecuteTime": {
     "end_time": "2024-11-11T21:06:44.325386Z",
     "start_time": "2024-11-11T21:06:44.322510Z"
    }
   },
   "outputs": [],
   "source": [
    "background_points = [(10.0, 170),\n",
    "                    (165.0, 170)]\n",
    "\n",
    "job.set_background(background_points)"
   ]
  },
  {
   "cell_type": "markdown",
   "id": "7036366d",
   "metadata": {},
   "source": [
    "Display the experiment chart after setting the background"
   ]
  },
  {
   "cell_type": "code",
   "execution_count": null,
   "id": "58965e36",
   "metadata": {
    "ExecuteTime": {
     "end_time": "2024-11-11T21:06:44.344551Z",
     "start_time": "2024-11-11T21:06:44.329177Z"
    }
   },
   "outputs": [],
   "source": [
    "job.show_experiment_chart()"
   ]
  },
  {
   "cell_type": "markdown",
   "id": "228c6df8",
   "metadata": {},
   "source": [
    "## Perform an analysis\n",
    "\n",
    "Display the analysis chart before setting initial parameter values"
   ]
  },
  {
   "cell_type": "code",
   "execution_count": null,
   "id": "642f9924",
   "metadata": {
    "ExecuteTime": {
     "end_time": "2024-11-11T21:06:44.421239Z",
     "start_time": "2024-11-11T21:06:44.354510Z"
    }
   },
   "outputs": [],
   "source": [
    "job.show_analysis_chart()"
   ]
  },
  {
   "cell_type": "markdown",
   "id": "b8218846",
   "metadata": {},
   "source": [
    "Create aliases for the two types of experimental parameters"
   ]
  },
  {
   "cell_type": "code",
   "execution_count": null,
   "id": "fef4d575",
   "metadata": {
    "ExecuteTime": {
     "end_time": "2024-11-11T21:06:44.442116Z",
     "start_time": "2024-11-11T21:06:44.440670Z"
    }
   },
   "outputs": [],
   "source": [
    "pattern = job.pattern\n",
    "instrument = job.instrument"
   ]
  },
  {
   "cell_type": "markdown",
   "id": "9318826e",
   "metadata": {},
   "source": [
    "Change the default value of the wavelength used in the experiment and display the analysis chart again"
   ]
  },
  {
   "cell_type": "code",
   "execution_count": null,
   "id": "2445edcf",
   "metadata": {
    "ExecuteTime": {
     "end_time": "2024-11-11T21:06:44.526475Z",
     "start_time": "2024-11-11T21:06:44.445947Z"
    }
   },
   "outputs": [],
   "source": [
    "instrument.wavelength = 1.494\n",
    "job.show_analysis_chart()"
   ]
  },
  {
   "cell_type": "markdown",
   "id": "7af2e06e",
   "metadata": {},
   "source": [
    "Select parameters to be refined"
   ]
  },
  {
   "cell_type": "code",
   "execution_count": null,
   "id": "dee18833",
   "metadata": {
    "ExecuteTime": {
     "end_time": "2024-11-11T21:06:44.547956Z",
     "start_time": "2024-11-11T21:06:44.545493Z"
    }
   },
   "outputs": [],
   "source": [
    "phase.scale.free = True\n",
    "phase.cell.length_a.free = True\n",
    "pattern.zero_shift.free = True\n",
    "instrument.resolution_u.free = True\n",
    "instrument.resolution_v.free = True\n",
    "instrument.resolution_w.free = True\n",
    "instrument.resolution_y.free = True"
   ]
  },
  {
   "cell_type": "markdown",
   "id": "dc89629c",
   "metadata": {},
   "source": [
    "Set the initial values of the parameters to be refined and display the analysis chart again"
   ]
  },
  {
   "cell_type": "code",
   "execution_count": null,
   "id": "9825dd71",
   "metadata": {
    "ExecuteTime": {
     "end_time": "2024-11-11T21:06:44.626379Z",
     "start_time": "2024-11-11T21:06:44.551719Z"
    }
   },
   "outputs": [],
   "source": [
    "phase.scale = 6\n",
    "phase.cell.length_a = 3.88\n",
    "pattern.zero_shift = 0.3\n",
    "instrument.resolution_u = 0.1\n",
    "instrument.resolution_v = -0.1\n",
    "instrument.resolution_w = 0.1\n",
    "instrument.resolution_y = 0\n",
    "job.show_analysis_chart()"
   ]
  },
  {
   "cell_type": "markdown",
   "id": "7dd1b655",
   "metadata": {},
   "source": [
    "Print parameters to be refined (free parameters) before fitting with **Lmfit**"
   ]
  },
  {
   "cell_type": "code",
   "execution_count": null,
   "id": "809f4e54",
   "metadata": {
    "ExecuteTime": {
     "end_time": "2024-11-11T21:06:44.651850Z",
     "start_time": "2024-11-11T21:06:44.645435Z"
    }
   },
   "outputs": [],
   "source": [
    "job.show_free_parameters()"
   ]
  },
  {
   "cell_type": "markdown",
   "id": "1bdcad47",
   "metadata": {},
   "source": [
    "Show the current minimization engine"
   ]
  },
  {
   "cell_type": "code",
   "execution_count": null,
   "id": "a13a50aa",
   "metadata": {
    "ExecuteTime": {
     "end_time": "2024-11-11T21:06:44.658021Z",
     "start_time": "2024-11-11T21:06:44.656360Z"
    }
   },
   "outputs": [],
   "source": [
    "print(job.analysis.current_minimizer)"
   ]
  },
  {
   "cell_type": "markdown",
   "id": "4cd1f2dc",
   "metadata": {},
   "source": [
    "Start minimization using the default minimizer (Least Squares method from the **Lmfit** library)"
   ]
  },
  {
   "cell_type": "code",
   "execution_count": null,
   "id": "a6bed955",
   "metadata": {
    "ExecuteTime": {
     "end_time": "2024-11-11T21:06:48.414972Z",
     "start_time": "2024-11-11T21:06:44.661763Z"
    }
   },
   "outputs": [],
   "source": [
    "job.fit()"
   ]
  },
  {
   "cell_type": "markdown",
   "id": "93820bfc",
   "metadata": {},
   "source": [
    "Print the refined parameters after fitting with **Lmfit**"
   ]
  },
  {
   "cell_type": "code",
   "execution_count": null,
   "id": "cac61f2f",
   "metadata": {
    "ExecuteTime": {
     "end_time": "2024-11-11T21:06:48.422690Z",
     "start_time": "2024-11-11T21:06:48.418943Z"
    }
   },
   "outputs": [],
   "source": [
    "job.show_free_parameters()"
   ]
  },
  {
   "cell_type": "markdown",
   "id": "8184ae2b",
   "metadata": {},
   "source": [
    "Display the analysis chart after the fitting with **Lmfit**"
   ]
  },
  {
   "cell_type": "code",
   "execution_count": null,
   "id": "ea035e96",
   "metadata": {
    "ExecuteTime": {
     "end_time": "2024-11-11T21:06:48.496337Z",
     "start_time": "2024-11-11T21:06:48.426692Z"
    }
   },
   "outputs": [],
   "source": [
    "job.show_analysis_chart()"
   ]
  },
  {
   "cell_type": "markdown",
   "id": "779782f8",
   "metadata": {},
   "source": [
    "Show list of available minimisation engines"
   ]
  },
  {
   "cell_type": "code",
   "execution_count": null,
   "id": "17c993e6",
   "metadata": {
    "ExecuteTime": {
     "end_time": "2024-11-11T21:06:48.526513Z",
     "start_time": "2024-11-11T21:06:48.524479Z"
    }
   },
   "outputs": [],
   "source": [
    "for mini in job.analysis.available_minimizers:\n",
    "    print(mini)"
   ]
  },
  {
   "cell_type": "markdown",
   "id": "cbde0e60",
   "metadata": {},
   "source": [
    "Change the minimization method to simplex from the **Bumps** library"
   ]
  },
  {
   "cell_type": "code",
   "execution_count": null,
   "id": "243b8848",
   "metadata": {
    "ExecuteTime": {
     "end_time": "2024-11-11T21:06:48.534130Z",
     "start_time": "2024-11-11T21:06:48.532286Z"
    }
   },
   "outputs": [],
   "source": [
    "job.analysis.current_minimizer = 'Bumps_lm'\n",
    "print(job.analysis.current_minimizer)"
   ]
  },
  {
   "cell_type": "markdown",
   "id": "b12452fa",
   "metadata": {},
   "source": [
    "Reset the free parameters to their initial values (before fitting with **Lmfit**) and display the analysis chart"
   ]
  },
  {
   "cell_type": "code",
   "execution_count": null,
   "id": "9807fc07",
   "metadata": {
    "ExecuteTime": {
     "end_time": "2024-11-11T21:06:48.614789Z",
     "start_time": "2024-11-11T21:06:48.537995Z"
    }
   },
   "outputs": [],
   "source": [
    "phase.scale = 6\n",
    "phase.cell.length_a = 3.88\n",
    "pattern.zero_shift = 0.3\n",
    "instrument.resolution_u = 0.1\n",
    "instrument.resolution_v = -0.1\n",
    "instrument.resolution_w = 0.1\n",
    "instrument.resolution_y = 0\n",
    "job.show_analysis_chart()"
   ]
  },
  {
   "cell_type": "markdown",
   "id": "4f92c4a1",
   "metadata": {},
   "source": [
    "Print free parameters before the fitting with **Bumps**"
   ]
  },
  {
   "cell_type": "code",
   "execution_count": null,
   "id": "812b4c41",
   "metadata": {
    "ExecuteTime": {
     "end_time": "2024-11-11T21:06:48.636653Z",
     "start_time": "2024-11-11T21:06:48.632895Z"
    }
   },
   "outputs": [],
   "source": [
    "job.show_free_parameters()"
   ]
  },
  {
   "cell_type": "markdown",
   "id": "a013522f",
   "metadata": {},
   "source": [
    "Start minimization with **Bumps**"
   ]
  },
  {
   "cell_type": "code",
   "execution_count": null,
   "id": "6d1d7529",
   "metadata": {
    "ExecuteTime": {
     "end_time": "2024-11-11T21:06:52.309206Z",
     "start_time": "2024-11-11T21:06:48.640679Z"
    }
   },
   "outputs": [],
   "source": [
    "job.fit()"
   ]
  },
  {
   "cell_type": "markdown",
   "id": "ce7f60f3",
   "metadata": {},
   "source": [
    "Print free parameters after the fitting with **Bumps**"
   ]
  },
  {
   "cell_type": "code",
   "execution_count": null,
   "id": "b1df0bcd",
   "metadata": {
    "ExecuteTime": {
     "end_time": "2024-11-11T21:06:52.317609Z",
     "start_time": "2024-11-11T21:06:52.314159Z"
    }
   },
   "outputs": [],
   "source": [
    "job.show_free_parameters()"
   ]
  },
  {
   "cell_type": "markdown",
   "id": "1cd529e8",
   "metadata": {},
   "source": [
    "Display the analysis chart after the fitting with **Bumps**"
   ]
  },
  {
   "cell_type": "code",
   "execution_count": null,
   "id": "06b61649",
   "metadata": {
    "ExecuteTime": {
     "end_time": "2024-11-11T21:06:52.392410Z",
     "start_time": "2024-11-11T21:06:52.321697Z"
    }
   },
   "outputs": [],
   "source": [
    "job.show_analysis_chart()"
   ]
  }
 ],
 "metadata": {
  "kernelspec": {
   "display_name": "Python 3 (ipykernel)",
   "language": "python",
   "name": "python3"
  },
  "language_info": {
   "codemirror_mode": {
    "name": "ipython",
    "version": 3
   },
   "file_extension": ".py",
   "mimetype": "text/x-python",
   "name": "python",
   "nbconvert_exporter": "python",
   "pygments_lexer": "ipython3",
   "version": "3.11.6"
  }
 },
 "nbformat": 4,
 "nbformat_minor": 5
}
