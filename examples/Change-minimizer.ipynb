{
 "cells": [
  {
   "cell_type": "markdown",
   "id": "0c4dffd2",
   "metadata": {},
   "source": [
    "# Change minimizer\n",
    "\n",
    "This example shows how to change the minimization engine for refinement."
   ]
  },
  {
   "cell_type": "code",
   "execution_count": null,
   "id": "18c434a9",
   "metadata": {
    "ExecuteTime": {
     "end_time": "2024-11-13T14:10:05.582057Z",
     "start_time": "2024-11-13T14:10:05.577858Z"
    },
    "tags": [
     "hide_in_docs"
    ]
   },
   "outputs": [],
   "source": [
    "# Check if the easydiffraction library is installed\n",
    "# If not, install it including the 'charts' extras\n",
    "# This is done when running in a Jupyter notebook\n",
    "import builtins\n",
    "import importlib.util\n",
    "\n",
    "if hasattr(builtins, \"__IPYTHON__\"):\n",
    "    if importlib.util.find_spec('easydiffraction') is None:\n",
    "        print('Installing the easydiffraction library...')\n",
    "        !pip install 'easydiffraction[charts]'"
   ]
  },
  {
   "cell_type": "markdown",
   "id": "4b0507f5",
   "metadata": {},
   "source": [
    "## Import EasyDiffraction"
   ]
  },
  {
   "cell_type": "code",
   "execution_count": null,
   "id": "49645165",
   "metadata": {
    "ExecuteTime": {
     "end_time": "2024-11-13T14:10:16.383947Z",
     "start_time": "2024-11-13T14:10:05.598255Z"
    }
   },
   "outputs": [],
   "source": [
    "import easydiffraction as ed"
   ]
  },
  {
   "cell_type": "markdown",
   "id": "529ecb7a",
   "metadata": {},
   "source": [
    "## Create a job"
   ]
  },
  {
   "cell_type": "markdown",
   "id": "95311bc2",
   "metadata": {},
   "source": [
    "Create a job — the main object to store all the information"
   ]
  },
  {
   "cell_type": "code",
   "execution_count": null,
   "id": "4e60acbd",
   "metadata": {
    "ExecuteTime": {
     "end_time": "2024-11-13T14:10:16.579926Z",
     "start_time": "2024-11-13T14:10:16.568856Z"
    }
   },
   "outputs": [],
   "source": [
    "job = ed.Job()"
   ]
  },
  {
   "cell_type": "markdown",
   "id": "6c6b673b",
   "metadata": {},
   "source": [
    "## Define a model\n",
    "\n",
    "Download the CIF file from the EasyDiffraction repository on GitHub"
   ]
  },
  {
   "cell_type": "code",
   "execution_count": null,
   "id": "24986ea0",
   "metadata": {
    "ExecuteTime": {
     "end_time": "2024-11-13T14:10:16.867160Z",
     "start_time": "2024-11-13T14:10:16.865112Z"
    }
   },
   "outputs": [],
   "source": [
    "ed.download_from_repository('lbco_adp.cif', destination='data')"
   ]
  },
  {
   "cell_type": "markdown",
   "id": "4bf6565a",
   "metadata": {},
   "source": [
    "Load a phase from the downloaded CIF file"
   ]
  },
  {
   "cell_type": "code",
   "execution_count": null,
   "id": "fa85e088",
   "metadata": {
    "ExecuteTime": {
     "end_time": "2024-11-13T14:10:17.176205Z",
     "start_time": "2024-11-13T14:10:16.871438Z"
    }
   },
   "outputs": [],
   "source": [
    "job.add_phase_from_file('data/lbco_adp.cif')\n",
    "print(job.phases)"
   ]
  },
  {
   "cell_type": "markdown",
   "id": "bf280b65",
   "metadata": {},
   "source": [
    "Show phase info in CIF format"
   ]
  },
  {
   "cell_type": "code",
   "execution_count": null,
   "id": "b81b8f7b",
   "metadata": {
    "ExecuteTime": {
     "end_time": "2024-11-13T14:10:17.194580Z",
     "start_time": "2024-11-13T14:10:17.187924Z"
    }
   },
   "outputs": [],
   "source": [
    "phase = job.phases['lbco']\n",
    "print(phase.cif)"
   ]
  },
  {
   "cell_type": "markdown",
   "id": "529ec8f8",
   "metadata": {},
   "source": [
    "Display the crystal structure of a given model"
   ]
  },
  {
   "cell_type": "code",
   "execution_count": null,
   "id": "6f0bed76",
   "metadata": {
    "ExecuteTime": {
     "end_time": "2024-11-13T14:10:17.297025Z",
     "start_time": "2024-11-13T14:10:17.288934Z"
    }
   },
   "outputs": [],
   "source": [
    "job.show_crystal_structure(id='lbco')"
   ]
  },
  {
   "cell_type": "markdown",
   "id": "fe9d4e9d",
   "metadata": {},
   "source": [
    "## Define an experiment\n",
    "\n",
    "Download the data file from the EasyDiffraction repository on GitHub"
   ]
  },
  {
   "cell_type": "code",
   "execution_count": null,
   "id": "22c4a4f89a00aab",
   "metadata": {
    "ExecuteTime": {
     "end_time": "2024-11-13T14:10:17.309425Z",
     "start_time": "2024-11-13T14:10:17.307632Z"
    }
   },
   "outputs": [],
   "source": [
    "ed.download_from_repository('hrpt.xye', destination='data')"
   ]
  },
  {
   "cell_type": "markdown",
   "id": "40fa8c065d51f67a",
   "metadata": {},
   "source": [
    "Show content of the downloaded file (first 6 lines)"
   ]
  },
  {
   "cell_type": "code",
   "execution_count": null,
   "id": "eb740ee1d3affd95",
   "metadata": {
    "ExecuteTime": {
     "end_time": "2024-11-13T14:10:17.330106Z",
     "start_time": "2024-11-13T14:10:17.320694Z"
    }
   },
   "outputs": [],
   "source": [
    "with open('data/hrpt.xye') as f:\n",
    "    print(''.join(f.readlines()[:6]))"
   ]
  },
  {
   "cell_type": "markdown",
   "id": "f07900c4c1c03445",
   "metadata": {},
   "source": [
    "Load experimentally measured data from a file in XYE format"
   ]
  },
  {
   "cell_type": "code",
   "execution_count": null,
   "id": "997f98ef",
   "metadata": {
    "ExecuteTime": {
     "end_time": "2024-11-13T14:10:17.476954Z",
     "start_time": "2024-11-13T14:10:17.406192Z"
    }
   },
   "outputs": [],
   "source": [
    "job.add_experiment_from_file('data/hrpt.xye')"
   ]
  },
  {
   "cell_type": "markdown",
   "id": "880ef753",
   "metadata": {},
   "source": [
    "Display the experimentally measured data"
   ]
  },
  {
   "cell_type": "code",
   "execution_count": null,
   "id": "d45c9272",
   "metadata": {
    "ExecuteTime": {
     "end_time": "2024-11-13T14:10:17.903805Z",
     "start_time": "2024-11-13T14:10:17.481192Z"
    }
   },
   "outputs": [],
   "source": [
    "job.show_experiment_chart()"
   ]
  },
  {
   "cell_type": "markdown",
   "id": "5e76b097",
   "metadata": {},
   "source": [
    "Define a point background"
   ]
  },
  {
   "cell_type": "code",
   "execution_count": null,
   "id": "5ade4b9b",
   "metadata": {
    "ExecuteTime": {
     "end_time": "2024-11-13T14:10:18.083580Z",
     "start_time": "2024-11-13T14:10:18.080154Z"
    }
   },
   "outputs": [],
   "source": [
    "background_points = [(10.0, 170),\n",
    "                    (165.0, 170)]\n",
    "\n",
    "job.set_background(background_points)"
   ]
  },
  {
   "cell_type": "markdown",
   "id": "7036366d",
   "metadata": {},
   "source": [
    "Display the experiment chart after setting the background"
   ]
  },
  {
   "cell_type": "code",
   "execution_count": null,
   "id": "58965e36",
   "metadata": {
    "ExecuteTime": {
     "end_time": "2024-11-13T14:10:18.103059Z",
     "start_time": "2024-11-13T14:10:18.086242Z"
    }
   },
   "outputs": [],
   "source": [
    "job.show_experiment_chart()"
   ]
  },
  {
   "cell_type": "markdown",
   "id": "228c6df8",
   "metadata": {},
   "source": [
    "## Perform an analysis\n",
    "\n",
    "Display the analysis chart before setting initial parameter values"
   ]
  },
  {
   "cell_type": "code",
   "execution_count": null,
   "id": "642f9924",
   "metadata": {
    "ExecuteTime": {
     "end_time": "2024-11-13T14:10:18.224508Z",
     "start_time": "2024-11-13T14:10:18.122943Z"
    }
   },
   "outputs": [],
   "source": [
    "job.show_analysis_chart()"
   ]
  },
  {
   "cell_type": "markdown",
   "id": "b8218846",
   "metadata": {},
   "source": [
    "Create aliases for the two types of experimental parameters"
   ]
  },
  {
   "cell_type": "code",
   "execution_count": null,
   "id": "fef4d575",
   "metadata": {
    "ExecuteTime": {
     "end_time": "2024-11-13T14:10:18.261294Z",
     "start_time": "2024-11-13T14:10:18.259426Z"
    }
   },
   "outputs": [],
   "source": [
    "pattern = job.pattern\n",
    "instrument = job.instrument"
   ]
  },
  {
   "cell_type": "markdown",
   "id": "9318826e",
   "metadata": {},
   "source": [
    "Change the default value of the wavelength used in the experiment and display the analysis chart again"
   ]
  },
  {
   "cell_type": "code",
   "execution_count": null,
   "id": "2445edcf",
   "metadata": {
    "ExecuteTime": {
     "end_time": "2024-11-13T14:10:18.342937Z",
     "start_time": "2024-11-13T14:10:18.265919Z"
    }
   },
   "outputs": [],
   "source": [
    "instrument.wavelength = 1.494\n",
    "job.show_analysis_chart()"
   ]
  },
  {
   "cell_type": "markdown",
   "id": "7af2e06e",
   "metadata": {},
   "source": [
    "Select parameters to be refined"
   ]
  },
  {
   "cell_type": "code",
   "execution_count": null,
   "id": "dee18833",
   "metadata": {
    "ExecuteTime": {
     "end_time": "2024-11-13T14:10:18.382511Z",
     "start_time": "2024-11-13T14:10:18.379542Z"
    }
   },
   "outputs": [],
   "source": [
    "phase.scale.free = True\n",
    "phase.cell.length_a.free = True\n",
    "pattern.zero_shift.free = True\n",
    "instrument.resolution_u.free = True\n",
    "instrument.resolution_v.free = True\n",
    "instrument.resolution_w.free = True\n",
    "instrument.resolution_y.free = True"
   ]
  },
  {
   "cell_type": "markdown",
   "id": "dc89629c",
   "metadata": {},
   "source": [
    "Set the initial values of the parameters to be refined and display the analysis chart again"
   ]
  },
  {
   "cell_type": "code",
   "execution_count": null,
   "id": "9825dd71",
   "metadata": {
    "ExecuteTime": {
     "end_time": "2024-11-13T14:10:18.463398Z",
     "start_time": "2024-11-13T14:10:18.387901Z"
    }
   },
   "outputs": [],
   "source": [
    "phase.scale = 6\n",
    "phase.cell.length_a = 3.88\n",
    "pattern.zero_shift = 0.3\n",
    "instrument.resolution_u = 0.1\n",
    "instrument.resolution_v = -0.1\n",
    "instrument.resolution_w = 0.1\n",
    "instrument.resolution_y = 0\n",
    "job.show_analysis_chart()"
   ]
  },
  {
   "cell_type": "markdown",
   "id": "7dd1b655",
   "metadata": {},
   "source": [
    "Print parameters to be refined (free parameters) before fitting with **Lmfit**"
   ]
  },
  {
   "cell_type": "code",
   "execution_count": null,
   "id": "809f4e54",
   "metadata": {
    "ExecuteTime": {
     "end_time": "2024-11-13T14:10:18.504003Z",
     "start_time": "2024-11-13T14:10:18.494106Z"
    }
   },
   "outputs": [],
   "source": [
    "job.show_free_parameters()"
   ]
  },
  {
   "cell_type": "markdown",
   "id": "1bdcad47",
   "metadata": {},
   "source": [
    "Show the current minimization engine"
   ]
  },
  {
   "cell_type": "code",
   "execution_count": null,
   "id": "a13a50aa",
   "metadata": {
    "ExecuteTime": {
     "end_time": "2024-11-13T14:10:18.514803Z",
     "start_time": "2024-11-13T14:10:18.512657Z"
    }
   },
   "outputs": [],
   "source": [
    "print(job.analysis.current_minimizer)"
   ]
  },
  {
   "cell_type": "markdown",
   "id": "4cd1f2dc",
   "metadata": {},
   "source": [
    "Start minimization using the default minimizer (Least Squares method from the **Lmfit** library)"
   ]
  },
  {
   "cell_type": "code",
   "execution_count": null,
   "id": "a6bed955",
   "metadata": {
    "ExecuteTime": {
     "end_time": "2024-11-13T14:10:21.906812Z",
     "start_time": "2024-11-13T14:10:18.525974Z"
    }
   },
   "outputs": [],
   "source": [
    "job.fit()"
   ]
  },
  {
   "cell_type": "markdown",
   "id": "93820bfc",
   "metadata": {},
   "source": [
    "Print the refined parameters after fitting with **Lmfit**"
   ]
  },
  {
   "cell_type": "code",
   "execution_count": null,
   "id": "cac61f2f",
   "metadata": {
    "ExecuteTime": {
     "end_time": "2024-11-13T14:10:21.916037Z",
     "start_time": "2024-11-13T14:10:21.912413Z"
    }
   },
   "outputs": [],
   "source": [
    "job.show_free_parameters()"
   ]
  },
  {
   "cell_type": "markdown",
   "id": "8184ae2b",
   "metadata": {},
   "source": [
    "Display the analysis chart after the fitting with **Lmfit**"
   ]
  },
  {
   "cell_type": "code",
   "execution_count": null,
   "id": "ea035e96",
   "metadata": {
    "ExecuteTime": {
     "end_time": "2024-11-13T14:10:21.992757Z",
     "start_time": "2024-11-13T14:10:21.923144Z"
    }
   },
   "outputs": [],
   "source": [
    "job.show_analysis_chart()"
   ]
  },
  {
   "cell_type": "markdown",
   "id": "779782f8",
   "metadata": {},
   "source": [
    "Show list of available minimisation engines"
   ]
  },
  {
   "cell_type": "code",
   "execution_count": null,
   "id": "17c993e6",
   "metadata": {
    "ExecuteTime": {
     "end_time": "2024-11-13T14:10:22.206849Z",
     "start_time": "2024-11-13T14:10:22.204734Z"
    }
   },
   "outputs": [],
   "source": [
    "for mini in job.analysis.available_minimizers:\n",
    "    print(mini)"
   ]
  },
  {
   "cell_type": "markdown",
   "id": "cbde0e60",
   "metadata": {},
   "source": [
    "Change the minimization method to simplex from the **Bumps** library"
   ]
  },
  {
   "cell_type": "code",
   "execution_count": null,
   "id": "243b8848",
   "metadata": {
    "ExecuteTime": {
     "end_time": "2024-11-13T14:10:22.228843Z",
     "start_time": "2024-11-13T14:10:22.226856Z"
    }
   },
   "outputs": [],
   "source": [
    "job.analysis.current_minimizer = 'Bumps_lm'\n",
    "print(job.analysis.current_minimizer)"
   ]
  },
  {
   "cell_type": "markdown",
   "id": "b12452fa",
   "metadata": {},
   "source": [
    "Reset the free parameters to their initial values (before fitting with **Lmfit**) and display the analysis chart"
   ]
  },
  {
   "cell_type": "code",
   "execution_count": null,
   "id": "9807fc07",
   "metadata": {
    "ExecuteTime": {
     "end_time": "2024-11-13T14:10:22.322421Z",
     "start_time": "2024-11-13T14:10:22.237935Z"
    }
   },
   "outputs": [],
   "source": [
    "phase.scale = 6\n",
    "phase.cell.length_a = 3.88\n",
    "pattern.zero_shift = 0.3\n",
    "instrument.resolution_u = 0.1\n",
    "instrument.resolution_v = -0.1\n",
    "instrument.resolution_w = 0.1\n",
    "instrument.resolution_y = 0\n",
    "job.show_analysis_chart()"
   ]
  },
  {
   "cell_type": "markdown",
   "id": "4f92c4a1",
   "metadata": {},
   "source": [
    "Print free parameters before the fitting with **Bumps**"
   ]
  },
  {
   "cell_type": "code",
   "execution_count": null,
   "id": "812b4c41",
   "metadata": {
    "ExecuteTime": {
     "end_time": "2024-11-13T14:10:22.350487Z",
     "start_time": "2024-11-13T14:10:22.346055Z"
    }
   },
   "outputs": [],
   "source": [
    "job.show_free_parameters()"
   ]
  },
  {
   "cell_type": "markdown",
   "id": "a013522f",
   "metadata": {},
   "source": [
    "Start minimization with **Bumps**"
   ]
  },
  {
   "cell_type": "code",
   "execution_count": null,
   "id": "6d1d7529",
   "metadata": {
    "ExecuteTime": {
     "end_time": "2024-11-13T14:10:26.009988Z",
     "start_time": "2024-11-13T14:10:22.355089Z"
    }
   },
   "outputs": [],
   "source": [
    "job.fit()"
   ]
  },
  {
   "cell_type": "markdown",
   "id": "ce7f60f3",
   "metadata": {},
   "source": [
    "Print free parameters after the fitting with **Bumps**"
   ]
  },
  {
   "cell_type": "code",
   "execution_count": null,
   "id": "b1df0bcd",
   "metadata": {
    "ExecuteTime": {
     "end_time": "2024-11-13T14:10:26.018749Z",
     "start_time": "2024-11-13T14:10:26.015170Z"
    }
   },
   "outputs": [],
   "source": [
    "job.show_free_parameters()"
   ]
  },
  {
   "cell_type": "markdown",
   "id": "1cd529e8",
   "metadata": {},
   "source": [
    "Display the analysis chart after the fitting with **Bumps**"
   ]
  },
  {
   "cell_type": "code",
   "execution_count": null,
   "id": "06b61649",
   "metadata": {
    "ExecuteTime": {
     "end_time": "2024-11-13T14:10:26.096158Z",
     "start_time": "2024-11-13T14:10:26.024381Z"
    }
   },
   "outputs": [],
   "source": [
    "job.show_analysis_chart()"
   ]
  }
 ],
 "metadata": {
  "kernelspec": {
   "display_name": "Python 3 (ipykernel)",
   "language": "python",
   "name": "python3"
  },
  "language_info": {
   "codemirror_mode": {
    "name": "ipython",
    "version": 3
   },
   "file_extension": ".py",
   "mimetype": "text/x-python",
   "name": "python",
   "nbconvert_exporter": "python",
   "pygments_lexer": "ipython3",
   "version": "3.11.6"
  }
 },
 "nbformat": 4,
 "nbformat_minor": 5
}
