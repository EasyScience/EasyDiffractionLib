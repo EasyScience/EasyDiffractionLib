{
 "cells": [
  {
   "cell_type": "markdown",
   "id": "5d27e328",
   "metadata": {},
   "source": [
    "# Change minimizer\n",
    "\n",
    "This example shows how to change the minimization engine for refinement."
   ]
  },
  {
   "cell_type": "code",
   "execution_count": null,
   "id": "02b085e1",
   "metadata": {
    "ExecuteTime": {
     "end_time": "2024-11-09T22:04:22.825944Z",
     "start_time": "2024-11-09T22:04:22.821175Z"
    },
    "tags": [
     "hide_in_docs"
    ]
   },
   "outputs": [],
   "source": [
    "# Check if the easydiffraction library is installed\n",
    "# If not, install it including the 'charts' extras\n",
    "# This is done when running in a Jupyter notebook\n",
    "import builtins\n",
    "import importlib.util\n",
    "\n",
    "if hasattr(builtins, \"__IPYTHON__\"):\n",
    "    if importlib.util.find_spec('easydiffraction') is None:\n",
    "        print('Installing the easydiffraction library...')\n",
    "        !pip install 'easydiffraction[charts] @ git+https://github.com/EasyScience/EasyDiffractionLib@more-examples'"
   ]
  },
  {
   "cell_type": "markdown",
   "id": "a50095af",
   "metadata": {},
   "source": [
    "## Import EasyDiffraction"
   ]
  },
  {
   "cell_type": "code",
   "execution_count": null,
   "id": "3b82ebba",
   "metadata": {
    "ExecuteTime": {
     "end_time": "2024-11-09T22:04:25.154949Z",
     "start_time": "2024-11-09T22:04:22.828033Z"
    }
   },
   "outputs": [],
   "source": [
    "import easydiffraction as ed"
   ]
  },
  {
   "cell_type": "markdown",
   "id": "845ceb36",
   "metadata": {},
   "source": [
    "## Job"
   ]
  },
  {
   "cell_type": "markdown",
   "id": "2b8dc65e",
   "metadata": {},
   "source": [
    "Create a job — the main object to store all the information"
   ]
  },
  {
   "cell_type": "code",
   "execution_count": null,
   "id": "9a5de939",
   "metadata": {
    "ExecuteTime": {
     "end_time": "2024-11-09T22:04:25.273606Z",
     "start_time": "2024-11-09T22:04:25.263792Z"
    }
   },
   "outputs": [],
   "source": [
    "job = ed.Job()"
   ]
  },
  {
   "cell_type": "markdown",
   "id": "ef09cf84",
   "metadata": {},
   "source": [
    "## Model\n",
    "\n",
    "Download the CIF file from the EasyDiffraction repository on GitHub"
   ]
  },
  {
   "cell_type": "code",
   "execution_count": null,
   "id": "b6084f1d",
   "metadata": {
    "ExecuteTime": {
     "end_time": "2024-11-09T22:04:25.372488Z",
     "start_time": "2024-11-09T22:04:25.370767Z"
    }
   },
   "outputs": [],
   "source": [
    "ed.download_from_repository('lbco.cif', destination='data')"
   ]
  },
  {
   "cell_type": "markdown",
   "id": "071dc0de",
   "metadata": {},
   "source": [
    "Load a phase from the downloaded CIF file"
   ]
  },
  {
   "cell_type": "code",
   "execution_count": null,
   "id": "a59d2ffb",
   "metadata": {
    "ExecuteTime": {
     "end_time": "2024-11-09T22:04:25.658404Z",
     "start_time": "2024-11-09T22:04:25.379460Z"
    }
   },
   "outputs": [],
   "source": [
    "job.add_phase_from_file('data/lbco.cif')\n",
    "print(job.phases)"
   ]
  },
  {
   "cell_type": "markdown",
   "id": "7244efc3",
   "metadata": {},
   "source": [
    "Show phase info in CIF format"
   ]
  },
  {
   "cell_type": "code",
   "execution_count": null,
   "id": "981a8f31",
   "metadata": {
    "ExecuteTime": {
     "end_time": "2024-11-09T22:04:25.675094Z",
     "start_time": "2024-11-09T22:04:25.668563Z"
    }
   },
   "outputs": [],
   "source": [
    "phase = job.phases['lbco']\n",
    "print(phase.cif)"
   ]
  },
  {
   "cell_type": "markdown",
   "id": "4d8efa8f",
   "metadata": {},
   "source": [
    "Display the crystal structure of a given model"
   ]
  },
  {
   "cell_type": "code",
   "execution_count": null,
   "id": "2e8d3685",
   "metadata": {
    "ExecuteTime": {
     "end_time": "2024-11-09T22:04:25.702277Z",
     "start_time": "2024-11-09T22:04:25.695059Z"
    }
   },
   "outputs": [],
   "source": [
    "job.show_crystal_structure(id='lbco')"
   ]
  },
  {
   "cell_type": "markdown",
   "id": "2c488ad6",
   "metadata": {},
   "source": [
    "## Experiment\n",
    "\n",
    "Load experimentally measured data from a file in XYE format"
   ]
  },
  {
   "cell_type": "code",
   "execution_count": null,
   "id": "e1aa78a8",
   "metadata": {
    "ExecuteTime": {
     "end_time": "2024-11-09T22:04:25.799347Z",
     "start_time": "2024-11-09T22:04:25.708032Z"
    }
   },
   "outputs": [],
   "source": [
    "job.add_experiment_from_file('data/hrpt.xye')"
   ]
  },
  {
   "cell_type": "markdown",
   "id": "9012c0bb",
   "metadata": {},
   "source": [
    "Display the experimentally measured data"
   ]
  },
  {
   "cell_type": "code",
   "execution_count": null,
   "id": "538c8007",
   "metadata": {
    "ExecuteTime": {
     "end_time": "2024-11-09T22:04:25.941080Z",
     "start_time": "2024-11-09T22:04:25.806509Z"
    }
   },
   "outputs": [],
   "source": [
    "job.show_experiment_chart()"
   ]
  },
  {
   "cell_type": "markdown",
   "id": "3dbee74e",
   "metadata": {},
   "source": [
    "Define a point background"
   ]
  },
  {
   "cell_type": "code",
   "execution_count": null,
   "id": "38eaf4b0",
   "metadata": {
    "ExecuteTime": {
     "end_time": "2024-11-09T22:04:26.062709Z",
     "start_time": "2024-11-09T22:04:26.042929Z"
    }
   },
   "outputs": [],
   "source": [
    "background_points = [(10.0, 170),\n",
    "                    (165.0, 170)]\n",
    "\n",
    "job.set_background(background_points)"
   ]
  },
  {
   "cell_type": "markdown",
   "id": "86e8fe15",
   "metadata": {},
   "source": [
    "Display the experiment chart after setting the background"
   ]
  },
  {
   "cell_type": "code",
   "execution_count": null,
   "id": "2ff27e89",
   "metadata": {
    "ExecuteTime": {
     "end_time": "2024-11-09T22:04:26.085205Z",
     "start_time": "2024-11-09T22:04:26.070114Z"
    }
   },
   "outputs": [],
   "source": [
    "job.show_experiment_chart()"
   ]
  },
  {
   "cell_type": "markdown",
   "id": "3c420aef",
   "metadata": {},
   "source": [
    "## Analysis\n",
    "\n",
    "Display the analysis chart before setting initial parameter values"
   ]
  },
  {
   "cell_type": "code",
   "execution_count": null,
   "id": "8b33c99f",
   "metadata": {
    "ExecuteTime": {
     "end_time": "2024-11-09T22:04:26.167467Z",
     "start_time": "2024-11-09T22:04:26.103350Z"
    }
   },
   "outputs": [],
   "source": [
    "job.show_analysis_chart()"
   ]
  },
  {
   "cell_type": "markdown",
   "id": "57ed059c",
   "metadata": {},
   "source": [
    "Create aliases for the two types of experimental parameters"
   ]
  },
  {
   "cell_type": "code",
   "execution_count": null,
   "id": "241588d9",
   "metadata": {
    "ExecuteTime": {
     "end_time": "2024-11-09T22:04:26.193348Z",
     "start_time": "2024-11-09T22:04:26.191793Z"
    }
   },
   "outputs": [],
   "source": [
    "pattern = job.pattern\n",
    "instrument = job.instrument"
   ]
  },
  {
   "cell_type": "markdown",
   "id": "c8998ca1",
   "metadata": {},
   "source": [
    "Change the default value of the wavelength used in the experiment and display the analysis chart again"
   ]
  },
  {
   "cell_type": "code",
   "execution_count": null,
   "id": "622457f0",
   "metadata": {
    "ExecuteTime": {
     "end_time": "2024-11-09T22:04:26.286179Z",
     "start_time": "2024-11-09T22:04:26.205061Z"
    }
   },
   "outputs": [],
   "source": [
    "instrument.wavelength = 1.494\n",
    "job.show_analysis_chart()"
   ]
  },
  {
   "cell_type": "markdown",
   "id": "17c96804",
   "metadata": {},
   "source": [
    "Select parameters to be refined"
   ]
  },
  {
   "cell_type": "code",
   "execution_count": null,
   "id": "16b333fb",
   "metadata": {
    "ExecuteTime": {
     "end_time": "2024-11-09T22:04:26.326300Z",
     "start_time": "2024-11-09T22:04:26.310722Z"
    }
   },
   "outputs": [],
   "source": [
    "phase.scale.free = True\n",
    "phase.cell.length_a.free = True\n",
    "pattern.zero_shift.free = True\n",
    "instrument.resolution_u.free = True\n",
    "instrument.resolution_v.free = True\n",
    "instrument.resolution_w.free = True\n",
    "instrument.resolution_y.free = True"
   ]
  },
  {
   "cell_type": "markdown",
   "id": "ad54b0cf",
   "metadata": {},
   "source": [
    "Set the initial values of the parameters to be refined and display the analysis chart again"
   ]
  },
  {
   "cell_type": "code",
   "execution_count": null,
   "id": "feeefec6",
   "metadata": {
    "ExecuteTime": {
     "end_time": "2024-11-09T22:04:26.432621Z",
     "start_time": "2024-11-09T22:04:26.357095Z"
    }
   },
   "outputs": [],
   "source": [
    "phase.scale = 7\n",
    "phase.cell.length_a = 3.88\n",
    "pattern.zero_shift = 0.3\n",
    "instrument.resolution_u = 0.1\n",
    "instrument.resolution_v = -0.1\n",
    "instrument.resolution_w = 0.2\n",
    "instrument.resolution_y = 0\n",
    "job.show_analysis_chart()"
   ]
  },
  {
   "cell_type": "markdown",
   "id": "7d350dd0",
   "metadata": {},
   "source": [
    "Print parameters to be refined (free parameters) before fitting with **Lmfit**"
   ]
  },
  {
   "cell_type": "code",
   "execution_count": null,
   "id": "aefc1188",
   "metadata": {
    "ExecuteTime": {
     "end_time": "2024-11-09T22:04:26.465830Z",
     "start_time": "2024-11-09T22:04:26.459228Z"
    }
   },
   "outputs": [],
   "source": [
    "job.show_free_parameters()"
   ]
  },
  {
   "cell_type": "markdown",
   "id": "50a1322f",
   "metadata": {},
   "source": [
    "Show the current minimization engine"
   ]
  },
  {
   "cell_type": "code",
   "execution_count": null,
   "id": "ace46252",
   "metadata": {
    "ExecuteTime": {
     "end_time": "2024-11-09T22:04:26.479240Z",
     "start_time": "2024-11-09T22:04:26.477432Z"
    }
   },
   "outputs": [],
   "source": [
    "print(job.analysis.current_minimizer)"
   ]
  },
  {
   "cell_type": "markdown",
   "id": "05472714",
   "metadata": {},
   "source": [
    "Start minimization using the default minimizer (Least Squares method from the **Lmfit** library)"
   ]
  },
  {
   "cell_type": "code",
   "execution_count": null,
   "id": "787aef38",
   "metadata": {
    "ExecuteTime": {
     "end_time": "2024-11-09T22:04:30.117145Z",
     "start_time": "2024-11-09T22:04:26.508378Z"
    }
   },
   "outputs": [],
   "source": [
    "job.fit()"
   ]
  },
  {
   "cell_type": "markdown",
   "id": "eff2e16b",
   "metadata": {},
   "source": [
    "Print the refined parameters after fitting with **Lmfit**"
   ]
  },
  {
   "cell_type": "code",
   "execution_count": null,
   "id": "42a063d9",
   "metadata": {
    "ExecuteTime": {
     "end_time": "2024-11-09T22:04:30.132260Z",
     "start_time": "2024-11-09T22:04:30.128795Z"
    }
   },
   "outputs": [],
   "source": [
    "job.show_free_parameters()"
   ]
  },
  {
   "cell_type": "markdown",
   "id": "2bade9ea",
   "metadata": {},
   "source": [
    "Display the analysis chart after the fitting with **Lmfit**"
   ]
  },
  {
   "cell_type": "code",
   "execution_count": null,
   "id": "286ed97c",
   "metadata": {
    "ExecuteTime": {
     "end_time": "2024-11-09T22:04:30.241220Z",
     "start_time": "2024-11-09T22:04:30.169802Z"
    }
   },
   "outputs": [],
   "source": [
    "job.show_analysis_chart()"
   ]
  },
  {
   "cell_type": "markdown",
   "id": "0095f9fe",
   "metadata": {},
   "source": [
    "Show list of available minimisation engines"
   ]
  },
  {
   "cell_type": "code",
   "execution_count": null,
   "id": "7b04e48b",
   "metadata": {
    "ExecuteTime": {
     "end_time": "2024-11-09T22:04:30.477144Z",
     "start_time": "2024-11-09T22:04:30.475309Z"
    }
   },
   "outputs": [],
   "source": [
    "print(job.analysis.available_minimizers)"
   ]
  },
  {
   "cell_type": "markdown",
   "id": "2a70b83a",
   "metadata": {},
   "source": [
    "Change the minimization method to simplex from the **Bumps** library"
   ]
  },
  {
   "cell_type": "code",
   "execution_count": null,
   "id": "52074e6f",
   "metadata": {
    "ExecuteTime": {
     "end_time": "2024-11-09T22:05:04.568437Z",
     "start_time": "2024-11-09T22:05:04.565925Z"
    }
   },
   "outputs": [],
   "source": [
    "job.analysis.current_minimizer = 'Bumps_lm'\n",
    "print(job.analysis.current_minimizer)"
   ]
  },
  {
   "cell_type": "markdown",
   "id": "aa31a894",
   "metadata": {},
   "source": [
    "Reset the free parameters to their initial values (before fitting with **Lmfit**) and display the analysis chart"
   ]
  },
  {
   "cell_type": "code",
   "execution_count": null,
   "id": "10ea727b",
   "metadata": {
    "ExecuteTime": {
     "end_time": "2024-11-09T22:05:05.930786Z",
     "start_time": "2024-11-09T22:05:05.859859Z"
    }
   },
   "outputs": [],
   "source": [
    "phase.scale = 7\n",
    "phase.cell.length_a = 3.88\n",
    "pattern.zero_shift = 0.3\n",
    "instrument.resolution_u = 0.1\n",
    "instrument.resolution_v = -0.1\n",
    "instrument.resolution_w = 0.2\n",
    "instrument.resolution_y = 0\n",
    "job.show_analysis_chart()"
   ]
  },
  {
   "cell_type": "markdown",
   "id": "221df9ce",
   "metadata": {},
   "source": [
    "Print free parameters before the fitting with **Bumps**"
   ]
  },
  {
   "cell_type": "code",
   "execution_count": null,
   "id": "983c369b",
   "metadata": {
    "ExecuteTime": {
     "end_time": "2024-11-09T22:05:07.380929Z",
     "start_time": "2024-11-09T22:05:07.375523Z"
    }
   },
   "outputs": [],
   "source": [
    "job.show_free_parameters()"
   ]
  },
  {
   "cell_type": "markdown",
   "id": "f42e9e16",
   "metadata": {},
   "source": [
    "Start minimization with Bumps"
   ]
  },
  {
   "cell_type": "code",
   "execution_count": null,
   "id": "7d01c7a6",
   "metadata": {
    "ExecuteTime": {
     "end_time": "2024-11-09T22:05:13.051708Z",
     "start_time": "2024-11-09T22:05:09.530719Z"
    }
   },
   "outputs": [],
   "source": [
    "job.fit()"
   ]
  },
  {
   "cell_type": "markdown",
   "id": "491aeda5",
   "metadata": {},
   "source": [
    "Print free parameters after the fitting with **Bumps**"
   ]
  },
  {
   "cell_type": "code",
   "execution_count": null,
   "id": "89addd8e",
   "metadata": {
    "ExecuteTime": {
     "end_time": "2024-11-09T22:04:31.090357Z",
     "start_time": "2024-11-09T22:04:00.187854Z"
    }
   },
   "outputs": [],
   "source": [
    "job.show_free_parameters()"
   ]
  },
  {
   "cell_type": "markdown",
   "id": "1e78c055",
   "metadata": {},
   "source": [
    "Display the analysis chart after the fitting with **Bumps**"
   ]
  },
  {
   "cell_type": "code",
   "execution_count": null,
   "id": "0d93f84c",
   "metadata": {
    "ExecuteTime": {
     "end_time": "2024-11-09T22:04:31.090621Z",
     "start_time": "2024-11-09T22:04:00.206224Z"
    }
   },
   "outputs": [],
   "source": [
    "job.show_analysis_chart()"
   ]
  }
 ],
 "metadata": {
  "kernelspec": {
   "display_name": "Python 3 (ipykernel)",
   "language": "python",
   "name": "python3"
  }
 },
 "nbformat": 4,
 "nbformat_minor": 5
}
