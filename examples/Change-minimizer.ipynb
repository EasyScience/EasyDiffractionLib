{
 "cells": [
  {
   "cell_type": "markdown",
   "id": "56a0c42c",
   "metadata": {},
   "source": [
    "# Change minimizer\n",
    "\n",
    "This example shows how to change the minimization engine for refinement."
   ]
  },
  {
   "cell_type": "code",
   "execution_count": null,
   "id": "f56569fb",
   "metadata": {
    "tags": [
     "hide_in_docs"
    ]
   },
   "outputs": [],
   "source": [
    "# Install the easydiffraction library if it is not installed (including charts extras)\n",
    "import importlib.util\n",
    "\n",
    "if importlib.util.find_spec('easydiffraction') is None:\n",
    "    !pip install 'easydiffraction[charts]'"
   ]
  },
  {
   "cell_type": "markdown",
   "id": "104c0318",
   "metadata": {},
   "source": [
    "## Import EasyDiffraction"
   ]
  },
  {
   "cell_type": "code",
   "execution_count": null,
   "id": "78075661",
   "metadata": {},
   "outputs": [],
   "source": [
    "import easydiffraction as ed"
   ]
  },
  {
   "cell_type": "markdown",
   "id": "f6d3c2ec",
   "metadata": {},
   "source": [
    "## Job"
   ]
  },
  {
   "cell_type": "markdown",
   "id": "5f9947b2",
   "metadata": {},
   "source": [
    "Create a job — the main object to store all the information"
   ]
  },
  {
   "cell_type": "code",
   "execution_count": null,
   "id": "d07c46bf",
   "metadata": {},
   "outputs": [],
   "source": [
    "job = ed.Job()"
   ]
  },
  {
   "cell_type": "markdown",
   "id": "eaec8c12",
   "metadata": {},
   "source": [
    "## Model\n",
    "\n",
    "Download the CIF file from the EasyDiffraction repository on GitHub"
   ]
  },
  {
   "cell_type": "code",
   "execution_count": null,
   "id": "40ee156e",
   "metadata": {},
   "outputs": [],
   "source": [
    "ed.download_from_repository('lbco.cif', destination='data')"
   ]
  },
  {
   "cell_type": "markdown",
   "id": "ce961022",
   "metadata": {},
   "source": [
    "Load a phase from the downloaded CIF file"
   ]
  },
  {
   "cell_type": "code",
   "execution_count": null,
   "id": "08f345e1",
   "metadata": {},
   "outputs": [],
   "source": [
    "job.add_phase_from_file('data/lbco.cif')\n",
    "print(job.phases)"
   ]
  },
  {
   "cell_type": "markdown",
   "id": "dd8b5d05",
   "metadata": {},
   "source": [
    "Show phase info in CIF format"
   ]
  },
  {
   "cell_type": "code",
   "execution_count": null,
   "id": "7412d00d",
   "metadata": {},
   "outputs": [],
   "source": [
    "phase = job.phases['lbco']\n",
    "print(phase.cif)"
   ]
  },
  {
   "cell_type": "markdown",
   "id": "515d6b75",
   "metadata": {},
   "source": [
    "Display the crystal structure of a given model"
   ]
  },
  {
   "cell_type": "code",
   "execution_count": null,
   "id": "4fc54beb",
   "metadata": {},
   "outputs": [],
   "source": [
    "job.show_crystal_structure(id='lbco')"
   ]
  },
  {
   "cell_type": "markdown",
   "id": "94f79a1d",
   "metadata": {},
   "source": [
    "## Experiment\n",
    "\n",
    "Load experimentally measured data from a file in XYE format"
   ]
  },
  {
   "cell_type": "code",
   "execution_count": null,
   "id": "aa06af24",
   "metadata": {},
   "outputs": [],
   "source": [
    "job.add_experiment_from_file('data/hrpt.xye')"
   ]
  },
  {
   "cell_type": "markdown",
   "id": "db643e7b",
   "metadata": {},
   "source": [
    "Display the experimentally measured data"
   ]
  },
  {
   "cell_type": "code",
   "execution_count": null,
   "id": "0c83182f",
   "metadata": {},
   "outputs": [],
   "source": [
    "job.show_experiment_chart()"
   ]
  },
  {
   "cell_type": "markdown",
   "id": "3acacb03",
   "metadata": {},
   "source": [
    "Define a point background"
   ]
  },
  {
   "cell_type": "code",
   "execution_count": null,
   "id": "22277873",
   "metadata": {},
   "outputs": [],
   "source": [
    "background_points = [(10.0, 170),\n",
    "                    (165.0, 170)]\n",
    "\n",
    "job.set_background(background_points)"
   ]
  },
  {
   "cell_type": "markdown",
   "id": "67e92c4d",
   "metadata": {},
   "source": [
    "Display the experiment chart after setting the background"
   ]
  },
  {
   "cell_type": "code",
   "execution_count": null,
   "id": "c1394a26",
   "metadata": {},
   "outputs": [],
   "source": [
    "job.show_experiment_chart()"
   ]
  },
  {
   "cell_type": "markdown",
   "id": "c2ca9cd0",
   "metadata": {},
   "source": [
    "## Analysis\n",
    "\n",
    "Display the analysis chart before setting initial parameter values"
   ]
  },
  {
   "cell_type": "code",
   "execution_count": null,
   "id": "9bfc04f7",
   "metadata": {},
   "outputs": [],
   "source": [
    "job.show_analysis_chart()"
   ]
  },
  {
   "cell_type": "markdown",
   "id": "821488fe",
   "metadata": {},
   "source": [
    "Create aliases for the two types of experimental parameters"
   ]
  },
  {
   "cell_type": "code",
   "execution_count": null,
   "id": "88697a71",
   "metadata": {},
   "outputs": [],
   "source": [
    "pattern = job.pattern\n",
    "instrument = job.instrument"
   ]
  },
  {
   "cell_type": "markdown",
   "id": "30ba2b7c",
   "metadata": {},
   "source": [
    "Change the default value of the wavelength used in the experiment and display the analysis chart again"
   ]
  },
  {
   "cell_type": "code",
   "execution_count": null,
   "id": "7ae84d7e",
   "metadata": {},
   "outputs": [],
   "source": [
    "instrument.wavelength = 1.494\n",
    "job.show_analysis_chart()"
   ]
  },
  {
   "cell_type": "markdown",
   "id": "aecfc772",
   "metadata": {},
   "source": [
    "Select parameters to be refined"
   ]
  },
  {
   "cell_type": "code",
   "execution_count": null,
   "id": "5a30175b",
   "metadata": {},
   "outputs": [],
   "source": [
    "phase.scale.free = True\n",
    "phase.cell.length_a.free = True\n",
    "pattern.zero_shift.free = True\n",
    "instrument.resolution_u.free = True\n",
    "instrument.resolution_v.free = True\n",
    "instrument.resolution_w.free = True\n",
    "instrument.resolution_y.free = True"
   ]
  },
  {
   "cell_type": "markdown",
   "id": "962f0a18",
   "metadata": {},
   "source": [
    "Set the initial values of the parameters to be refined and display the analysis chart again"
   ]
  },
  {
   "cell_type": "code",
   "execution_count": null,
   "id": "a5995f03",
   "metadata": {},
   "outputs": [],
   "source": [
    "phase.scale = 7\n",
    "phase.cell.length_a = 3.88\n",
    "pattern.zero_shift = 0.3\n",
    "instrument.resolution_u = 0.1\n",
    "instrument.resolution_v = -0.1\n",
    "instrument.resolution_w = 0.2\n",
    "instrument.resolution_y = 0\n",
    "job.show_analysis_chart()"
   ]
  },
  {
   "cell_type": "markdown",
   "id": "e5790c36",
   "metadata": {},
   "source": [
    "Print parameters to be refined (free parameters) before fitting with **Lmfit**"
   ]
  },
  {
   "cell_type": "code",
   "execution_count": null,
   "id": "f3ff3cd0",
   "metadata": {},
   "outputs": [],
   "source": [
    "job.show_free_parameters()"
   ]
  },
  {
   "cell_type": "markdown",
   "id": "8082a3da",
   "metadata": {},
   "source": [
    "Show the current minimization engine"
   ]
  },
  {
   "cell_type": "code",
   "execution_count": null,
   "id": "8d2ee7f4",
   "metadata": {},
   "outputs": [],
   "source": [
    "print(job.analysis.current_minimizer)"
   ]
  },
  {
   "cell_type": "markdown",
   "id": "a886e3dc",
   "metadata": {},
   "source": [
    "Start minimization using the default minimizer (Least Squares method from the **Lmfit** library)"
   ]
  },
  {
   "cell_type": "code",
   "execution_count": null,
   "id": "538a6150",
   "metadata": {},
   "outputs": [],
   "source": [
    "job.fit()"
   ]
  },
  {
   "cell_type": "markdown",
   "id": "5923b458",
   "metadata": {},
   "source": [
    "Print the refined parameters after fitting with **Lmfit**"
   ]
  },
  {
   "cell_type": "code",
   "execution_count": null,
   "id": "8c81a994",
   "metadata": {},
   "outputs": [],
   "source": [
    "job.show_free_parameters()"
   ]
  },
  {
   "cell_type": "markdown",
   "id": "04cdafd4",
   "metadata": {},
   "source": [
    "Display the analysis chart after the fitting with **Lmfit**"
   ]
  },
  {
   "cell_type": "code",
   "execution_count": null,
   "id": "c7e37b20",
   "metadata": {},
   "outputs": [],
   "source": [
    "job.show_analysis_chart()"
   ]
  },
  {
   "cell_type": "markdown",
   "id": "36877f1f",
   "metadata": {},
   "source": [
    "Show list of available minimisation engines"
   ]
  },
  {
   "cell_type": "code",
   "execution_count": null,
   "id": "f7e7db75",
   "metadata": {},
   "outputs": [],
   "source": [
    "print(job.analysis.available_minimizers)"
   ]
  },
  {
   "cell_type": "markdown",
   "id": "4b4843e4",
   "metadata": {},
   "source": [
    "Change the minimization method to simplex from the **Bumps** library"
   ]
  },
  {
   "cell_type": "code",
   "execution_count": null,
   "id": "cf3b7807",
   "metadata": {},
   "outputs": [],
   "source": [
    "job.analysis.current_minimizer = 'Bumps_simplex'\n",
    "print(job.analysis.current_minimizer)"
   ]
  },
  {
   "cell_type": "markdown",
   "id": "dda07b16",
   "metadata": {},
   "source": [
    "Reset the free parameters to their initial values (before fitting with **Lmfit**) and display the analysis chart"
   ]
  },
  {
   "cell_type": "code",
   "execution_count": null,
   "id": "0f74ab40",
   "metadata": {},
   "outputs": [],
   "source": [
    "phase.scale = 7\n",
    "phase.cell.length_a = 3.88\n",
    "pattern.zero_shift = 0.3\n",
    "instrument.resolution_u = 0.1\n",
    "instrument.resolution_v = -0.1\n",
    "instrument.resolution_w = 0.2\n",
    "instrument.resolution_y = 0\n",
    "job.show_analysis_chart()"
   ]
  },
  {
   "cell_type": "markdown",
   "id": "0b69608f",
   "metadata": {},
   "source": [
    "Print free parameters before the fitting with **Bumps**"
   ]
  },
  {
   "cell_type": "code",
   "execution_count": null,
   "id": "698c430f",
   "metadata": {},
   "outputs": [],
   "source": [
    "job.show_free_parameters()"
   ]
  },
  {
   "cell_type": "markdown",
   "id": "86ec6c62",
   "metadata": {},
   "source": [
    "Start minimization with Bumps"
   ]
  },
  {
   "cell_type": "code",
   "execution_count": null,
   "id": "d7b0a0ed",
   "metadata": {},
   "outputs": [],
   "source": [
    "job.fit()"
   ]
  },
  {
   "cell_type": "markdown",
   "id": "b0f70275",
   "metadata": {},
   "source": [
    "Print free parameters after the fitting with **Bumps**"
   ]
  },
  {
   "cell_type": "code",
   "execution_count": null,
   "id": "633a6ca3",
   "metadata": {},
   "outputs": [],
   "source": [
    "job.show_free_parameters()"
   ]
  },
  {
   "cell_type": "markdown",
   "id": "ae9a3a1f",
   "metadata": {},
   "source": [
    "Display the analysis chart after the fitting with **Bumps**"
   ]
  },
  {
   "cell_type": "code",
   "execution_count": null,
   "id": "ca2d3765",
   "metadata": {},
   "outputs": [],
   "source": [
    "job.show_analysis_chart()"
   ]
  }
 ],
 "metadata": {
  "kernelspec": {
   "display_name": "Python 3 (ipykernel)",
   "language": "python",
   "name": "python3"
  }
 },
 "nbformat": 4,
 "nbformat_minor": 5
}
