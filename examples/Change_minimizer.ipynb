{
 "cells": [
  {
   "cell_type": "markdown",
   "id": "59f71e46fa01b87a",
   "metadata": {},
   "source": [
    "<a target=\"_blank\" href=\"https://colab.research.google.com/github/EasyScience/EasyDiffractionLib/blob/master/examples/Change_minimizer.ipynb\">\n",
    "  <img src=\"https://colab.research.google.com/assets/colab-badge.svg\" alt=\"Open In Colab\"/>\n",
    "</a>"
   ]
  },
  {
   "cell_type": "markdown",
   "id": "feabf7cfd80b7c12",
   "metadata": {},
   "source": [
    "# Change minimizer"
   ]
  },
  {
   "cell_type": "markdown",
   "id": "b60c68dde8122dc",
   "metadata": {},
   "source": [
    "This example shows how to change the minimization engine for refinement."
   ]
  },
  {
   "cell_type": "markdown",
   "id": "3a9140b1172fb249",
   "metadata": {},
   "source": [
    "## Import"
   ]
  },
  {
   "cell_type": "code",
   "execution_count": null,
   "id": "77c67b33ae9b3236",
   "metadata": {
    "ExecuteTime": {
     "end_time": "2024-10-29T13:54:11.999796Z",
     "start_time": "2024-10-29T13:54:11.981259Z"
    },
    "tags": [
     "colab"
    ]
   },
   "outputs": [],
   "source": [
    "# Code related to Google Colab\n",
    "import importlib.util\n",
    "import os\n",
    "\n",
    "import pooch\n",
    "\n",
    "if os.getenv(\"COLAB_RELEASE_TAG\"):\n",
    "    print(\"Running in Google Colab\")\n",
    "    # Install the easydiffraction library if it is not installed (including charts extras)\n",
    "    if importlib.util.find_spec(\"easydiffraction\") is None:\n",
    "        !pip install 'easydiffraction[charts]'\n",
    "    # Download the data files to be read in notebook\n",
    "    for fname in ['lbco.cif', 'hrpt.xye']:\n",
    "        pooch.retrieve(\n",
    "            url=f\"https://raw.githubusercontent.com/EasyScience/EasyDiffractionLib/refs/heads/master/examples/data/{fname}\",\n",
    "            known_hash=None,\n",
    "            fname=fname,\n",
    "            path=\"data\",\n",
    "        )"
   ]
  },
  {
   "cell_type": "code",
   "execution_count": null,
   "id": "33934041eaae166f",
   "metadata": {
    "ExecuteTime": {
     "end_time": "2024-10-29T13:54:15.009394Z",
     "start_time": "2024-10-29T13:54:12.001884Z"
    }
   },
   "outputs": [],
   "source": [
    "import easydiffraction as ed"
   ]
  },
  {
   "cell_type": "markdown",
   "id": "429c480a606eec4c",
   "metadata": {},
   "source": [
    "## Job"
   ]
  },
  {
   "cell_type": "markdown",
   "id": "368b2e1ce306df51",
   "metadata": {},
   "source": [
    "Create a job — the main object to store all the information"
   ]
  },
  {
   "cell_type": "code",
   "execution_count": null,
   "id": "180e216d55b3f144",
   "metadata": {
    "ExecuteTime": {
     "end_time": "2024-10-29T13:54:15.061398Z",
     "start_time": "2024-10-29T13:54:15.051828Z"
    }
   },
   "outputs": [],
   "source": [
    "job = ed.Job()"
   ]
  },
  {
   "cell_type": "markdown",
   "id": "2bf31fe484bd0ca1",
   "metadata": {},
   "source": [
    "## Model"
   ]
  },
  {
   "cell_type": "markdown",
   "id": "2b6850d04bfdf53c",
   "metadata": {},
   "source": [
    "Load a phase from CIF file"
   ]
  },
  {
   "cell_type": "code",
   "execution_count": null,
   "id": "4c37bae8e1c19b0c",
   "metadata": {
    "ExecuteTime": {
     "end_time": "2024-10-29T13:54:15.482457Z",
     "start_time": "2024-10-29T13:54:15.190001Z"
    }
   },
   "outputs": [],
   "source": [
    "job.add_phase_from_file('data/lbco.cif')\n",
    "print(job.phases)"
   ]
  },
  {
   "cell_type": "markdown",
   "id": "f0c42370d97dd5db",
   "metadata": {},
   "source": [
    "Show phase info in CIF format"
   ]
  },
  {
   "cell_type": "code",
   "execution_count": null,
   "id": "5184de9d741bddb4",
   "metadata": {
    "ExecuteTime": {
     "end_time": "2024-10-29T13:54:15.493021Z",
     "start_time": "2024-10-29T13:54:15.486730Z"
    }
   },
   "outputs": [],
   "source": [
    "phase = job.phases['lbco']\n",
    "print(phase.cif)"
   ]
  },
  {
   "cell_type": "markdown",
   "id": "f2ea5dba03edb588",
   "metadata": {},
   "source": [
    "Display the crystal structure of a given model"
   ]
  },
  {
   "cell_type": "code",
   "execution_count": null,
   "id": "238c54cda578c7e7",
   "metadata": {
    "ExecuteTime": {
     "end_time": "2024-10-29T13:54:15.503865Z",
     "start_time": "2024-10-29T13:54:15.496848Z"
    }
   },
   "outputs": [],
   "source": [
    "job.show_crystal_structure(id='lbco')"
   ]
  },
  {
   "cell_type": "markdown",
   "id": "e87af7f4c26b5209",
   "metadata": {},
   "source": [
    "## Experiment"
   ]
  },
  {
   "cell_type": "markdown",
   "id": "1f6fe2b5622240c0",
   "metadata": {},
   "source": [
    "Load experimentally measured data from a file in XYE format"
   ]
  },
  {
   "cell_type": "code",
   "execution_count": null,
   "id": "8a1823930f0346e5",
   "metadata": {
    "ExecuteTime": {
     "end_time": "2024-10-29T13:54:15.598545Z",
     "start_time": "2024-10-29T13:54:15.507558Z"
    }
   },
   "outputs": [],
   "source": [
    "job.add_experiment_from_file('data/hrpt.xye')"
   ]
  },
  {
   "cell_type": "markdown",
   "id": "5c276b8592833bdf",
   "metadata": {},
   "source": [
    "Display the experimentally measured data"
   ]
  },
  {
   "cell_type": "code",
   "execution_count": null,
   "id": "f1dfee8a4bee7672",
   "metadata": {
    "ExecuteTime": {
     "end_time": "2024-10-29T13:54:15.761608Z",
     "start_time": "2024-10-29T13:54:15.602677Z"
    }
   },
   "outputs": [],
   "source": [
    "job.show_experiment_chart()"
   ]
  },
  {
   "cell_type": "markdown",
   "id": "2a5285f8fbf5d6c1",
   "metadata": {},
   "source": [
    "Define a point background"
   ]
  },
  {
   "cell_type": "code",
   "execution_count": null,
   "id": "f0bb1f8fb69261fa",
   "metadata": {
    "ExecuteTime": {
     "end_time": "2024-10-29T13:54:15.950032Z",
     "start_time": "2024-10-29T13:54:15.931474Z"
    }
   },
   "outputs": [],
   "source": [
    "background_points = [(10.0, 170),\n",
    "                    (165.0, 170)]\n",
    "\n",
    "job.set_background(background_points)"
   ]
  },
  {
   "cell_type": "markdown",
   "id": "270c0fdc493fa7df",
   "metadata": {},
   "source": [
    "Display the experiment chart after setting the background"
   ]
  },
  {
   "cell_type": "code",
   "execution_count": null,
   "id": "2c2c5d3bf7eee9f4",
   "metadata": {
    "ExecuteTime": {
     "end_time": "2024-10-29T13:54:15.970287Z",
     "start_time": "2024-10-29T13:54:15.955232Z"
    }
   },
   "outputs": [],
   "source": [
    "job.show_experiment_chart()"
   ]
  },
  {
   "cell_type": "markdown",
   "id": "2051b9d1de29b0f2",
   "metadata": {},
   "source": [
    "## Analysis"
   ]
  },
  {
   "cell_type": "markdown",
   "id": "78647e09f7a64eec",
   "metadata": {},
   "source": [
    "Display the analysis chart before setting initial parameter values"
   ]
  },
  {
   "cell_type": "code",
   "execution_count": null,
   "id": "db4e8db8fe0c808b",
   "metadata": {
    "ExecuteTime": {
     "end_time": "2024-10-29T13:54:16.058086Z",
     "start_time": "2024-10-29T13:54:15.984685Z"
    }
   },
   "outputs": [],
   "source": [
    "job.show_analysis_chart()"
   ]
  },
  {
   "cell_type": "markdown",
   "id": "ac970202d77ef4b0",
   "metadata": {},
   "source": [
    "Create aliases for the two types of experimental parameters"
   ]
  },
  {
   "cell_type": "code",
   "execution_count": null,
   "id": "1ffd1e04fcb6b2a2",
   "metadata": {
    "ExecuteTime": {
     "end_time": "2024-10-29T13:54:16.089547Z",
     "start_time": "2024-10-29T13:54:16.087785Z"
    }
   },
   "outputs": [],
   "source": [
    "pattern = job.pattern\n",
    "instrument = job.instrument"
   ]
  },
  {
   "cell_type": "markdown",
   "id": "b1e7ced069106c6b",
   "metadata": {},
   "source": [
    "Change the default value of the wavelength used in the experiment and display the analysis chart again"
   ]
  },
  {
   "cell_type": "code",
   "execution_count": null,
   "id": "a98aa40f40fd0588",
   "metadata": {
    "ExecuteTime": {
     "end_time": "2024-10-29T13:54:16.196824Z",
     "start_time": "2024-10-29T13:54:16.100634Z"
    }
   },
   "outputs": [],
   "source": [
    "instrument.wavelength = 1.494\n",
    "job.show_analysis_chart()"
   ]
  },
  {
   "cell_type": "markdown",
   "id": "f4aa4b9ec10f8f0e",
   "metadata": {},
   "source": [
    "Select parameters to be refined"
   ]
  },
  {
   "cell_type": "code",
   "execution_count": null,
   "id": "7d7aa26a77b016ac",
   "metadata": {
    "ExecuteTime": {
     "end_time": "2024-10-29T13:54:16.226138Z",
     "start_time": "2024-10-29T13:54:16.223424Z"
    }
   },
   "outputs": [],
   "source": [
    "phase.scale.free = True\n",
    "phase.cell.length_a.free = True\n",
    "pattern.zero_shift.free = True\n",
    "instrument.resolution_u.free = True\n",
    "instrument.resolution_v.free = True\n",
    "instrument.resolution_w.free = True\n",
    "instrument.resolution_y.free = True"
   ]
  },
  {
   "cell_type": "markdown",
   "id": "46f110fbcddd027a",
   "metadata": {},
   "source": [
    "Set the initial values of the parameters to be refined and display the analysis chart again"
   ]
  },
  {
   "cell_type": "code",
   "execution_count": null,
   "id": "936a01e25043acc0",
   "metadata": {
    "ExecuteTime": {
     "end_time": "2024-10-29T13:54:16.308707Z",
     "start_time": "2024-10-29T13:54:16.230585Z"
    }
   },
   "outputs": [],
   "source": [
    "phase.scale = 7\n",
    "phase.cell.length_a = 3.88\n",
    "pattern.zero_shift = 0.3\n",
    "instrument.resolution_u = 0.1\n",
    "instrument.resolution_v = -0.1\n",
    "instrument.resolution_w = 0.2\n",
    "instrument.resolution_y = 0\n",
    "job.show_analysis_chart()"
   ]
  },
  {
   "cell_type": "markdown",
   "id": "9bcf1069eed931c",
   "metadata": {},
   "source": [
    "Print parameters to be refined (free parameters) before fitting with **Lmfit**"
   ]
  },
  {
   "cell_type": "code",
   "execution_count": null,
   "id": "4d0f01cb2f0189f6",
   "metadata": {
    "ExecuteTime": {
     "end_time": "2024-10-29T13:54:16.374999Z",
     "start_time": "2024-10-29T13:54:16.332539Z"
    }
   },
   "outputs": [],
   "source": [
    "job.show_free_parameters()"
   ]
  },
  {
   "cell_type": "markdown",
   "id": "3d63ee9622227b9c",
   "metadata": {},
   "source": [
    "Show the current minimization engine"
   ]
  },
  {
   "cell_type": "code",
   "execution_count": null,
   "id": "b223983ffe002386",
   "metadata": {
    "ExecuteTime": {
     "end_time": "2024-10-29T13:54:16.381290Z",
     "start_time": "2024-10-29T13:54:16.379554Z"
    }
   },
   "outputs": [],
   "source": [
    "print(job.analysis.current_minimizer)"
   ]
  },
  {
   "cell_type": "markdown",
   "id": "33c439459cdb3f6f",
   "metadata": {},
   "source": [
    "Start minimization using the default minimizer (Least Squares method from the **Lmfit** library)"
   ]
  },
  {
   "cell_type": "code",
   "execution_count": null,
   "id": "28386e59f4800bd8",
   "metadata": {
    "ExecuteTime": {
     "end_time": "2024-10-29T13:54:20.763066Z",
     "start_time": "2024-10-29T13:54:16.385568Z"
    }
   },
   "outputs": [],
   "source": [
    "job.fit()"
   ]
  },
  {
   "cell_type": "markdown",
   "id": "cac7e8d93fc64455",
   "metadata": {},
   "source": [
    "Print the refined parameters after fitting with **Lmfit**"
   ]
  },
  {
   "cell_type": "code",
   "execution_count": null,
   "id": "5b86308392753279",
   "metadata": {
    "ExecuteTime": {
     "end_time": "2024-10-29T13:54:20.772675Z",
     "start_time": "2024-10-29T13:54:20.767685Z"
    }
   },
   "outputs": [],
   "source": [
    "job.show_free_parameters()"
   ]
  },
  {
   "cell_type": "markdown",
   "id": "f49a41b704aee261",
   "metadata": {},
   "source": [
    "Display the analysis chart after the fitting with **Lmfit**"
   ]
  },
  {
   "cell_type": "code",
   "execution_count": null,
   "id": "6883be22058101dc",
   "metadata": {
    "ExecuteTime": {
     "end_time": "2024-10-29T13:54:20.857633Z",
     "start_time": "2024-10-29T13:54:20.777681Z"
    }
   },
   "outputs": [],
   "source": [
    "job.show_analysis_chart()"
   ]
  },
  {
   "cell_type": "markdown",
   "id": "d464f84565ebc55b",
   "metadata": {},
   "source": [
    "Show list of available minimisation engines"
   ]
  },
  {
   "cell_type": "code",
   "execution_count": null,
   "id": "1b818b7b40bafe75",
   "metadata": {
    "ExecuteTime": {
     "end_time": "2024-10-29T13:54:20.895569Z",
     "start_time": "2024-10-29T13:54:20.893177Z"
    }
   },
   "outputs": [],
   "source": [
    "print(job.analysis.available_minimizers)"
   ]
  },
  {
   "cell_type": "markdown",
   "id": "a9c434107de1d8d7",
   "metadata": {},
   "source": [
    "Change the minimization method to simplex from the **Bumps** library"
   ]
  },
  {
   "cell_type": "code",
   "execution_count": null,
   "id": "30d9012d32f8a987",
   "metadata": {
    "ExecuteTime": {
     "end_time": "2024-10-29T13:54:20.903349Z",
     "start_time": "2024-10-29T13:54:20.901387Z"
    }
   },
   "outputs": [],
   "source": [
    "job.analysis.current_minimizer = 'Bumps_simplex'\n",
    "print(job.analysis.current_minimizer)"
   ]
  },
  {
   "cell_type": "markdown",
   "id": "ea9d5cb4f21dbfc0",
   "metadata": {},
   "source": [
    "Reset the free parameters to their initial values (before fitting with **Lmfit**) and display the analysis chart"
   ]
  },
  {
   "cell_type": "code",
   "execution_count": null,
   "id": "cbe2d99f4a149f0a",
   "metadata": {
    "ExecuteTime": {
     "end_time": "2024-10-29T13:54:21.040029Z",
     "start_time": "2024-10-29T13:54:20.908132Z"
    }
   },
   "outputs": [],
   "source": [
    "phase.scale = 7\n",
    "phase.cell.length_a = 3.88\n",
    "pattern.zero_shift = 0.3\n",
    "instrument.resolution_u = 0.1\n",
    "instrument.resolution_v = -0.1\n",
    "instrument.resolution_w = 0.2\n",
    "instrument.resolution_y = 0\n",
    "job.show_analysis_chart()"
   ]
  },
  {
   "cell_type": "markdown",
   "id": "d4b2a80c976be39e",
   "metadata": {},
   "source": [
    "Print free parameters before the fitting with **Bumps**"
   ]
  },
  {
   "cell_type": "code",
   "execution_count": null,
   "id": "9c1088f4d76115cc",
   "metadata": {
    "ExecuteTime": {
     "end_time": "2024-10-29T13:54:21.116229Z",
     "start_time": "2024-10-29T13:54:21.110642Z"
    }
   },
   "outputs": [],
   "source": [
    "job.show_free_parameters()"
   ]
  },
  {
   "cell_type": "markdown",
   "id": "1cc5b9fdbc66e967",
   "metadata": {},
   "source": [
    "Start minimization with Bumps"
   ]
  },
  {
   "cell_type": "code",
   "execution_count": null,
   "id": "7d58e98a8119d931",
   "metadata": {
    "ExecuteTime": {
     "end_time": "2024-10-29T13:55:41.928174Z",
     "start_time": "2024-10-29T13:54:21.121021Z"
    }
   },
   "outputs": [],
   "source": [
    "job.fit()"
   ]
  },
  {
   "cell_type": "markdown",
   "id": "193b23954a06ee5b",
   "metadata": {},
   "source": [
    "Print free parameters after the fitting with **Bumps**"
   ]
  },
  {
   "cell_type": "code",
   "execution_count": null,
   "id": "8e16d197061ea1e9",
   "metadata": {
    "ExecuteTime": {
     "end_time": "2024-10-29T13:55:41.993729Z",
     "start_time": "2024-10-29T13:55:41.988817Z"
    }
   },
   "outputs": [],
   "source": [
    "job.show_free_parameters()"
   ]
  },
  {
   "cell_type": "markdown",
   "id": "8faac60c48685775",
   "metadata": {},
   "source": [
    "Display the analysis chart after the fitting with **Bumps**"
   ]
  },
  {
   "cell_type": "code",
   "execution_count": null,
   "id": "6d7868c4c4d441e6",
   "metadata": {
    "ExecuteTime": {
     "end_time": "2024-10-29T13:55:42.077737Z",
     "start_time": "2024-10-29T13:55:42.004412Z"
    }
   },
   "outputs": [],
   "source": [
    "job.show_analysis_chart()"
   ]
  }
 ],
 "metadata": {
  "kernelspec": {
   "display_name": "Python 3 (ipykernel)",
   "language": "python",
   "name": "python3"
  },
  "language_info": {
   "codemirror_mode": {
    "name": "ipython",
    "version": 3
   },
   "file_extension": ".py",
   "mimetype": "text/x-python",
   "name": "python",
   "nbconvert_exporter": "python",
   "pygments_lexer": "ipython3",
   "version": "3.11.6"
  }
 },
 "nbformat": 4,
 "nbformat_minor": 5
}
