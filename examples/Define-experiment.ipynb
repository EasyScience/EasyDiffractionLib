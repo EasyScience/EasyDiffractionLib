{
 "cells": [
  {
   "cell_type": "code",
   "execution_count": null,
   "id": "95dd7838",
   "metadata": {
    "tags": [
     "hide_in_docs"
    ]
   },
   "outputs": [],
   "source": [
    "# Install the easydiffraction library if it is not installed (including charts extras)\n",
    "import importlib.util\n",
    "\n",
    "if importlib.util.find_spec('easydiffraction') is None:\n",
    "    !pip install 'easydiffraction[charts]'"
   ]
  },
  {
   "cell_type": "markdown",
   "id": "eb4eea38",
   "metadata": {},
   "source": [
    "# Define an experiment\n",
    "\n",
    "This example shows how to define experimental parameters and load measured data in EasyDiffraction.\n",
    "\n",
    "## Import EasyDiffraction"
   ]
  },
  {
   "cell_type": "code",
   "execution_count": null,
   "id": "8b238760",
   "metadata": {},
   "outputs": [],
   "source": [
    "import easydiffraction as ed"
   ]
  },
  {
   "cell_type": "markdown",
   "id": "8071b2e7",
   "metadata": {},
   "source": [
    "## Define an experiment\n",
    "\n",
    "### Powder neutron diffraction with constant wavelength `pd-neut-cwl`\n",
    "\n",
    "#### From a file in CIF format\n",
    "\n",
    "Download the data file from the EasyDiffraction repository on GitHub"
   ]
  },
  {
   "cell_type": "code",
   "execution_count": null,
   "id": "17f85057",
   "metadata": {},
   "outputs": [],
   "source": [
    "ed.download_from_repository('d1a.cif', destination='data')"
   ]
  },
  {
   "cell_type": "markdown",
   "id": "9e1ea553",
   "metadata": {},
   "source": [
    "Show content of the downloaded file (first 45 lines)"
   ]
  },
  {
   "cell_type": "code",
   "execution_count": null,
   "id": "a6f8f7dc",
   "metadata": {},
   "outputs": [],
   "source": [
    "with open('data/d1a.cif') as f:\n",
    "    print(''.join(f.readlines()[:45]))"
   ]
  },
  {
   "cell_type": "markdown",
   "id": "61535a82",
   "metadata": {},
   "source": [
    "Load the data from the file and show the chart"
   ]
  },
  {
   "cell_type": "code",
   "execution_count": null,
   "id": "5141c0ed",
   "metadata": {},
   "outputs": [],
   "source": [
    "job = ed.Job(type='pd-neut-cwl')\n",
    "job.add_experiment_from_file('data/d1a.cif')\n",
    "job.show_experiment_chart()"
   ]
  },
  {
   "cell_type": "markdown",
   "id": "56f35962",
   "metadata": {},
   "source": [
    "#### From a file in XYE format\n",
    "\n",
    "Download the data file from the EasyDiffraction repository on GitHub"
   ]
  },
  {
   "cell_type": "code",
   "execution_count": null,
   "id": "27d82506",
   "metadata": {},
   "outputs": [],
   "source": [
    "ed.download_from_repository('hrpt.xye', destination='data')"
   ]
  },
  {
   "cell_type": "markdown",
   "id": "b92485c1",
   "metadata": {},
   "source": [
    "Show content of the downloaded file (first 6 lines)"
   ]
  },
  {
   "cell_type": "code",
   "execution_count": null,
   "id": "f1724b0e",
   "metadata": {},
   "outputs": [],
   "source": [
    "with open('data/hrpt.xye') as f:\n",
    "    print(''.join(f.readlines()[:6]))"
   ]
  },
  {
   "cell_type": "markdown",
   "id": "1a2c4cc2",
   "metadata": {},
   "source": [
    "Load the data from the file and show the chart"
   ]
  },
  {
   "cell_type": "code",
   "execution_count": null,
   "id": "54847c31",
   "metadata": {},
   "outputs": [],
   "source": [
    "job = ed.Job(type='pd-neut-cwl')\n",
    "job.add_experiment_from_file('data/hrpt.xye')\n",
    "job.show_experiment_chart()"
   ]
  },
  {
   "cell_type": "markdown",
   "id": "ae4a9c23",
   "metadata": {},
   "source": [
    "### Powder neutron diffraction with time-of-flight `pd-neut-tof`\n",
    "\n",
    "#### From a file in XYE format\n",
    "\n",
    "Download the data file from the EasyDiffraction repository on GitHub"
   ]
  },
  {
   "cell_type": "code",
   "execution_count": null,
   "id": "f0d052ad",
   "metadata": {},
   "outputs": [],
   "source": [
    "ed.download_from_repository('sepd.xye', destination='data')"
   ]
  },
  {
   "cell_type": "markdown",
   "id": "35ecfe34",
   "metadata": {},
   "source": [
    "Show content of the downloaded file (first 5 lines)"
   ]
  },
  {
   "cell_type": "code",
   "execution_count": null,
   "id": "1ac59c4e",
   "metadata": {},
   "outputs": [],
   "source": [
    "with open('data/sepd.xye') as f:\n",
    "    print(''.join(f.readlines()[:5]))"
   ]
  },
  {
   "cell_type": "markdown",
   "id": "9a2749bb",
   "metadata": {},
   "source": [
    "Load the data from the file and show the chart"
   ]
  },
  {
   "cell_type": "code",
   "execution_count": null,
   "id": "15b09654",
   "metadata": {},
   "outputs": [],
   "source": [
    "job = ed.Job(type='pd-neut-tof')\n",
    "job.add_experiment_from_file('data/sepd.xye')\n",
    "job.show_experiment_chart()"
   ]
  }
 ],
 "metadata": {
  "kernelspec": {
   "display_name": "Python 3 (ipykernel)",
   "language": "python",
   "name": "python3"
  }
 },
 "nbformat": 4,
 "nbformat_minor": 5
}
