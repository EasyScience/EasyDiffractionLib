{
 "cells": [
  {
   "cell_type": "code",
   "execution_count": null,
   "id": "40a52e85",
   "metadata": {
    "tags": [
     "hide_in_docs"
    ]
   },
   "outputs": [],
   "source": [
    "# Install the easydiffraction library if it is not installed (including charts extras)\n",
    "import importlib.util\n",
    "\n",
    "if importlib.util.find_spec('easydiffraction') is None:\n",
    "    !pip install 'easydiffraction[charts]'"
   ]
  },
  {
   "cell_type": "markdown",
   "id": "d3f6c5aa",
   "metadata": {},
   "source": [
    "# Define an experiment\n",
    "\n",
    "This example shows how to define experimental parameters and load measured data in EasyDiffraction.\n",
    "\n",
    "## Import EasyDiffraction"
   ]
  },
  {
   "cell_type": "code",
   "execution_count": null,
   "id": "b0d3ec6e",
   "metadata": {},
   "outputs": [],
   "source": [
    "import easydiffraction as ed"
   ]
  },
  {
   "cell_type": "markdown",
   "id": "094ce9f1",
   "metadata": {},
   "source": [
    "## Define an experiment\n",
    "\n",
    "### Powder neutron diffraction with constant wavelength `pd-neut-cwl`\n",
    "\n",
    "#### From a file in CIF format\n",
    "\n",
    "Download the data file from the EasyDiffraction repository on GitHub"
   ]
  },
  {
   "cell_type": "code",
   "execution_count": null,
   "id": "6a08af14",
   "metadata": {},
   "outputs": [],
   "source": [
    "ed.download_from_repository('d1a.cif', destination='data')"
   ]
  },
  {
   "cell_type": "markdown",
   "id": "f61eb0bb",
   "metadata": {},
   "source": [
    "Show content of the downloaded file (first 45 lines)"
   ]
  },
  {
   "cell_type": "code",
   "execution_count": null,
   "id": "4781aab7",
   "metadata": {},
   "outputs": [],
   "source": [
    "with open('data/d1a.cif') as f:\n",
    "    print(''.join(f.readlines()[:45]))"
   ]
  },
  {
   "cell_type": "markdown",
   "id": "3fee2e7d",
   "metadata": {},
   "source": [
    "Load the data from the file and show the chart"
   ]
  },
  {
   "cell_type": "code",
   "execution_count": null,
   "id": "6b87bc36",
   "metadata": {},
   "outputs": [],
   "source": [
    "job = ed.Job(type='pd-neut-cwl')\n",
    "job.add_experiment_from_file('data/d1a.cif')\n",
    "job.show_experiment_chart()"
   ]
  },
  {
   "cell_type": "markdown",
   "id": "c1f511b1",
   "metadata": {},
   "source": [
    "#### From a file in XYE format\n",
    "\n",
    "Download the data file from the EasyDiffraction repository on GitHub"
   ]
  },
  {
   "cell_type": "code",
   "execution_count": null,
   "id": "0b10b801",
   "metadata": {},
   "outputs": [],
   "source": [
    "ed.download_from_repository('hrpt.xye', destination='data')"
   ]
  },
  {
   "cell_type": "markdown",
   "id": "b52fd08c",
   "metadata": {},
   "source": [
    "Show content of the downloaded file (first 6 lines)"
   ]
  },
  {
   "cell_type": "code",
   "execution_count": null,
   "id": "263d39fb",
   "metadata": {},
   "outputs": [],
   "source": [
    "with open('data/hrpt.xye') as f:\n",
    "    print(''.join(f.readlines()[:6]))"
   ]
  },
  {
   "cell_type": "markdown",
   "id": "d1c960f5",
   "metadata": {},
   "source": [
    "Load the data from the file and show the chart"
   ]
  },
  {
   "cell_type": "code",
   "execution_count": null,
   "id": "951cb400",
   "metadata": {},
   "outputs": [],
   "source": [
    "job = ed.Job(type='pd-neut-cwl')\n",
    "job.add_experiment_from_file('data/hrpt.xye')\n",
    "job.show_experiment_chart()"
   ]
  },
  {
   "cell_type": "markdown",
   "id": "bc79cdc0",
   "metadata": {},
   "source": [
    "### Powder neutron diffraction with time-of-flight `pd-neut-tof`\n",
    "\n",
    "#### From a file in XYE format\n",
    "\n",
    "Download the data file from the EasyDiffraction repository on GitHub"
   ]
  },
  {
   "cell_type": "code",
   "execution_count": null,
   "id": "5fc33a02",
   "metadata": {},
   "outputs": [],
   "source": [
    "ed.download_from_repository('sepd.xye', destination='data')"
   ]
  },
  {
   "cell_type": "markdown",
   "id": "2d0445b6",
   "metadata": {},
   "source": [
    "Show content of the downloaded file (first 5 lines)"
   ]
  },
  {
   "cell_type": "code",
   "execution_count": null,
   "id": "3271a2a3",
   "metadata": {},
   "outputs": [],
   "source": [
    "with open('data/sepd.xye') as f:\n",
    "    print(''.join(f.readlines()[:5]))"
   ]
  },
  {
   "cell_type": "markdown",
   "id": "1b62248a",
   "metadata": {},
   "source": [
    "Load the data from the file and show the chart"
   ]
  },
  {
   "cell_type": "code",
   "execution_count": null,
   "id": "e420552c",
   "metadata": {},
   "outputs": [],
   "source": [
    "job = ed.Job(type='pd-neut-tof')\n",
    "job.add_experiment_from_file('data/sepd.xye')\n",
    "job.show_experiment_chart()"
   ]
  }
 ],
 "metadata": {
  "kernelspec": {
   "display_name": "Python 3 (ipykernel)",
   "language": "python",
   "name": "python3"
  }
 },
 "nbformat": 4,
 "nbformat_minor": 5
}
