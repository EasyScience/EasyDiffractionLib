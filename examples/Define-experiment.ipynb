{
 "cells": [
  {
   "cell_type": "markdown",
   "id": "5edd8f4d7e3921e1",
   "metadata": {},
   "source": [
    "# Define an experiment\n",
    "\n",
    "This example shows how to define experimental parameters and load measured data in EasyDiffraction."
   ]
  },
  {
   "cell_type": "code",
   "execution_count": null,
   "id": "91227a50e15e3b4a",
   "metadata": {
    "tags": [
     "hide_in_docs"
    ]
   },
   "outputs": [],
   "source": [
    "# Check if the easydiffraction library is installed\n",
    "# If not, install it including the 'charts' extras\n",
    "# This is done when running in a Jupyter notebook\n",
    "import builtins\n",
    "import importlib.util\n",
    "\n",
    "if hasattr(builtins, \"__IPYTHON__\"):\n",
    "    if importlib.util.find_spec('easydiffraction') is None:\n",
    "        print('Installing the easydiffraction library...')\n",
    "        !pip install 'easydiffraction[charts] @ git+https://github.com/EasyScience/EasyDiffractionLib@more-examples'"
   ]
  },
  {
   "cell_type": "markdown",
   "id": "e2cbde34dde3a2c1",
   "metadata": {},
   "source": [
    "## Import EasyDiffraction"
   ]
  },
  {
   "cell_type": "code",
   "execution_count": null,
   "id": "bdbb32940870e4c7",
   "metadata": {},
   "outputs": [],
   "source": [
    "import easydiffraction as ed"
   ]
  },
  {
   "cell_type": "markdown",
   "id": "981044bb00850020",
   "metadata": {},
   "source": [
    "## Define an experiment\n",
    "\n",
    "### Powder neutron diffraction with constant wavelength `pd-neut-cwl`\n",
    "\n",
    "#### From a file in CIF format\n",
    "\n",
    "Download the data file from the EasyDiffraction repository on GitHub"
   ]
  },
  {
   "cell_type": "code",
   "execution_count": null,
   "id": "99201d517450dcbb",
   "metadata": {},
   "outputs": [],
   "source": [
    "ed.download_from_repository('d1a.cif', destination='data')"
   ]
  },
  {
   "cell_type": "markdown",
   "id": "19ab4d220b9bd1f3",
   "metadata": {},
   "source": [
    "Show content of the downloaded file (first 45 lines)"
   ]
  },
  {
   "cell_type": "code",
   "execution_count": null,
   "id": "dd513e9a7ea98ada",
   "metadata": {},
   "outputs": [],
   "source": [
    "with open('data/d1a.cif') as f:\n",
    "    print(''.join(f.readlines()[:45]))"
   ]
  },
  {
   "cell_type": "markdown",
   "id": "4317ecaadbc8ae10",
   "metadata": {},
   "source": [
    "Load the data from the file and show the chart"
   ]
  },
  {
   "cell_type": "code",
   "execution_count": null,
   "id": "60ca6ec4ca84b3dd",
   "metadata": {},
   "outputs": [],
   "source": [
    "job = ed.Job(type='pd-neut-cwl')\n",
    "job.add_experiment_from_file('data/d1a.cif')\n",
    "job.show_experiment_chart()"
   ]
  },
  {
   "cell_type": "markdown",
   "id": "f77ef5528ef11776",
   "metadata": {},
   "source": [
    "#### From a file in XYE format\n",
    "\n",
    "Download the data file from the EasyDiffraction repository on GitHub"
   ]
  },
  {
   "cell_type": "code",
   "execution_count": null,
   "id": "8a3a6313051ff5ff",
   "metadata": {},
   "outputs": [],
   "source": [
    "ed.download_from_repository('hrpt.xye', destination='data')"
   ]
  },
  {
   "cell_type": "markdown",
   "id": "94affc15025e21c5",
   "metadata": {},
   "source": [
    "Show content of the downloaded file (first 6 lines)"
   ]
  },
  {
   "cell_type": "code",
   "execution_count": null,
   "id": "bdf1530bfed9445",
   "metadata": {},
   "outputs": [],
   "source": [
    "with open('data/hrpt.xye') as f:\n",
    "    print(''.join(f.readlines()[:6]))"
   ]
  },
  {
   "cell_type": "markdown",
   "id": "c86c76f492dce73",
   "metadata": {},
   "source": [
    "Load the data from the file and show the chart"
   ]
  },
  {
   "cell_type": "code",
   "execution_count": null,
   "id": "cd68750f8260bf9c",
   "metadata": {},
   "outputs": [],
   "source": [
    "job = ed.Job(type='pd-neut-cwl')\n",
    "job.add_experiment_from_file('data/hrpt.xye')\n",
    "job.show_experiment_chart()"
   ]
  },
  {
   "cell_type": "markdown",
   "id": "896e13ffcb561e90",
   "metadata": {},
   "source": [
    "### Powder neutron diffraction with time-of-flight `pd-neut-tof`\n",
    "\n",
    "#### From a file in XYE format\n",
    "\n",
    "Download the data file from the EasyDiffraction repository on GitHub"
   ]
  },
  {
   "cell_type": "code",
   "execution_count": null,
   "id": "351aebb38e1340b3",
   "metadata": {},
   "outputs": [],
   "source": [
    "ed.download_from_repository('sepd.xye', destination='data')"
   ]
  },
  {
   "cell_type": "markdown",
   "id": "95128bbcf34f4a94",
   "metadata": {},
   "source": [
    "Show content of the downloaded file (first 5 lines)"
   ]
  },
  {
   "cell_type": "code",
   "execution_count": null,
   "id": "e3e8a24a1ee59fd7",
   "metadata": {},
   "outputs": [],
   "source": [
    "with open('data/sepd.xye') as f:\n",
    "    print(''.join(f.readlines()[:5]))"
   ]
  },
  {
   "cell_type": "markdown",
   "id": "19e30afe4e57b644",
   "metadata": {},
   "source": [
    "Load the data from the file and show the chart"
   ]
  },
  {
   "cell_type": "code",
   "execution_count": null,
   "id": "14875975e602f6d8",
   "metadata": {},
   "outputs": [],
   "source": [
    "job = ed.Job(type='pd-neut-tof')\n",
    "job.add_experiment_from_file('data/sepd.xye')\n",
    "job.show_experiment_chart(show_legend=False)"
   ]
  }
 ],
 "metadata": {
  "kernelspec": {
   "display_name": "Python 3 (ipykernel)",
   "language": "python",
   "name": "python3"
  }
 },
 "nbformat": 4,
 "nbformat_minor": 5
}
