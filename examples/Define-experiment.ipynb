{
 "cells": [
  {
   "cell_type": "code",
   "execution_count": null,
   "id": "9be5dc2b",
   "metadata": {
    "tags": [
     "hide_in_docs"
    ]
   },
   "outputs": [],
   "source": [
    "# Install the easydiffraction library if it is not installed (including charts extras)\n",
    "import importlib.util\n",
    "\n",
    "if importlib.util.find_spec('easydiffraction') is None:\n",
    "    !pip install 'easydiffraction[charts] @ git+https://github.com/EasyScience/EasyDiffractionLib@more-examples'"
   ]
  },
  {
   "cell_type": "markdown",
   "id": "167a6fc9",
   "metadata": {},
   "source": [
    "# Define an experiment\n",
    "\n",
    "This example shows how to define experimental parameters and load measured data in EasyDiffraction.\n",
    "\n",
    "## Import EasyDiffraction"
   ]
  },
  {
   "cell_type": "code",
   "execution_count": null,
   "id": "06e6f516",
   "metadata": {},
   "outputs": [],
   "source": [
    "import easydiffraction as ed"
   ]
  },
  {
   "cell_type": "markdown",
   "id": "f5912520",
   "metadata": {},
   "source": [
    "## Define an experiment\n",
    "\n",
    "### Powder neutron diffraction with constant wavelength `pd-neut-cwl`\n",
    "\n",
    "#### From a file in CIF format\n",
    "\n",
    "Download the data file from the EasyDiffraction repository on GitHub"
   ]
  },
  {
   "cell_type": "code",
   "execution_count": null,
   "id": "65d44aa6",
   "metadata": {},
   "outputs": [],
   "source": [
    "ed.download_from_repository('d1a.cif', destination='data')"
   ]
  },
  {
   "cell_type": "markdown",
   "id": "42c908b3",
   "metadata": {},
   "source": [
    "Show content of the downloaded file (first 45 lines)"
   ]
  },
  {
   "cell_type": "code",
   "execution_count": null,
   "id": "19e076d6",
   "metadata": {},
   "outputs": [],
   "source": [
    "with open('data/d1a.cif') as f:\n",
    "    print(''.join(f.readlines()[:45]))"
   ]
  },
  {
   "cell_type": "markdown",
   "id": "ea39cbda",
   "metadata": {},
   "source": [
    "Load the data from the file and show the chart"
   ]
  },
  {
   "cell_type": "code",
   "execution_count": null,
   "id": "8e80824b",
   "metadata": {},
   "outputs": [],
   "source": [
    "job = ed.Job(type='pd-neut-cwl')\n",
    "job.add_experiment_from_file('data/d1a.cif')\n",
    "job.show_experiment_chart()"
   ]
  },
  {
   "cell_type": "markdown",
   "id": "92d2fdff",
   "metadata": {},
   "source": [
    "#### From a file in XYE format\n",
    "\n",
    "Download the data file from the EasyDiffraction repository on GitHub"
   ]
  },
  {
   "cell_type": "code",
   "execution_count": null,
   "id": "158564bd",
   "metadata": {},
   "outputs": [],
   "source": [
    "ed.download_from_repository('hrpt.xye', destination='data')"
   ]
  },
  {
   "cell_type": "markdown",
   "id": "aa5ec446",
   "metadata": {},
   "source": [
    "Show content of the downloaded file (first 6 lines)"
   ]
  },
  {
   "cell_type": "code",
   "execution_count": null,
   "id": "b2488c1b",
   "metadata": {},
   "outputs": [],
   "source": [
    "with open('data/hrpt.xye') as f:\n",
    "    print(''.join(f.readlines()[:6]))"
   ]
  },
  {
   "cell_type": "markdown",
   "id": "a1c6d779",
   "metadata": {},
   "source": [
    "Load the data from the file and show the chart"
   ]
  },
  {
   "cell_type": "code",
   "execution_count": null,
   "id": "1eedadfd",
   "metadata": {},
   "outputs": [],
   "source": [
    "job = ed.Job(type='pd-neut-cwl')\n",
    "job.add_experiment_from_file('data/hrpt.xye')\n",
    "job.show_experiment_chart()"
   ]
  },
  {
   "cell_type": "markdown",
   "id": "52372ed6",
   "metadata": {},
   "source": [
    "### Powder neutron diffraction with time-of-flight `pd-neut-tof`\n",
    "\n",
    "#### From a file in XYE format\n",
    "\n",
    "Download the data file from the EasyDiffraction repository on GitHub"
   ]
  },
  {
   "cell_type": "code",
   "execution_count": null,
   "id": "1114d7bc",
   "metadata": {},
   "outputs": [],
   "source": [
    "ed.download_from_repository('sepd.xye', destination='data')"
   ]
  },
  {
   "cell_type": "markdown",
   "id": "023c60e4",
   "metadata": {},
   "source": [
    "Show content of the downloaded file (first 5 lines)"
   ]
  },
  {
   "cell_type": "code",
   "execution_count": null,
   "id": "3de00cc4",
   "metadata": {},
   "outputs": [],
   "source": [
    "with open('data/sepd.xye') as f:\n",
    "    print(''.join(f.readlines()[:5]))"
   ]
  },
  {
   "cell_type": "markdown",
   "id": "0d90e50a",
   "metadata": {},
   "source": [
    "Load the data from the file and show the chart"
   ]
  },
  {
   "cell_type": "code",
   "execution_count": null,
   "id": "c1d439bd",
   "metadata": {},
   "outputs": [],
   "source": [
    "job = ed.Job(type='pd-neut-tof')\n",
    "job.add_experiment_from_file('data/sepd.xye')\n",
    "job.show_experiment_chart()"
   ]
  }
 ],
 "metadata": {
  "kernelspec": {
   "display_name": "Python 3 (ipykernel)",
   "language": "python",
   "name": "python3"
  }
 },
 "nbformat": 4,
 "nbformat_minor": 5
}
