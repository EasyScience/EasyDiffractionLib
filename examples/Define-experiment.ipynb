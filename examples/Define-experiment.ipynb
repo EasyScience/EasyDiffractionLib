{
 "cells": [
  {
   "cell_type": "markdown",
   "id": "49ac967b",
   "metadata": {},
   "source": [
    "# Define an experiment\n",
    "\n",
    "This example shows how to define experimental parameters and load measured data in EasyDiffraction."
   ]
  },
  {
   "cell_type": "code",
   "execution_count": null,
   "id": "490699d7",
   "metadata": {
    "tags": [
     "hide_in_docs"
    ]
   },
   "outputs": [],
   "source": [
    "# Check if the easydiffraction library is installed\n",
    "# If not, install it including the 'charts' extras\n",
    "# This is done when running in a Jupyter notebook\n",
    "import builtins\n",
    "import importlib.util\n",
    "\n",
    "if hasattr(builtins, \"__IPYTHON__\"):\n",
    "    if importlib.util.find_spec('easydiffraction') is None:\n",
    "        print('Installing the easydiffraction library...')\n",
    "        !pip install 'easydiffraction[charts]'"
   ]
  },
  {
   "cell_type": "markdown",
   "id": "011cc38a",
   "metadata": {},
   "source": [
    "## Import EasyDiffraction"
   ]
  },
  {
   "cell_type": "code",
   "execution_count": null,
   "id": "d5d47433",
   "metadata": {},
   "outputs": [],
   "source": [
    "import easydiffraction as ed"
   ]
  },
  {
   "cell_type": "markdown",
   "id": "526bd308",
   "metadata": {},
   "source": [
    "## Define an experiment\n",
    "\n",
    "### <a class=\"label-experiment\" href=\"https://docs.easydiffraction.org/lib/glossary/#experiment-type-labels\">pd-neut-cwl</a>\n",
    "\n",
    "#### Load from CIF\n",
    "\n",
    "Download the data file from the EasyDiffraction repository on GitHub"
   ]
  },
  {
   "cell_type": "code",
   "execution_count": null,
   "id": "6440c472",
   "metadata": {},
   "outputs": [],
   "source": [
    "ed.download_from_repository('d1a.cif', destination='data')"
   ]
  },
  {
   "cell_type": "markdown",
   "id": "72566369",
   "metadata": {},
   "source": [
    "Show content of the downloaded file (first 45 lines)"
   ]
  },
  {
   "cell_type": "code",
   "execution_count": null,
   "id": "c6b0bb87",
   "metadata": {},
   "outputs": [],
   "source": [
    "with open('data/d1a.cif') as f:\n",
    "    print(''.join(f.readlines()[:45]))"
   ]
  },
  {
   "cell_type": "markdown",
   "id": "305cf18f",
   "metadata": {},
   "source": [
    "Load the data from the file and show the chart"
   ]
  },
  {
   "cell_type": "code",
   "execution_count": null,
   "id": "924de44d",
   "metadata": {},
   "outputs": [],
   "source": [
    "job = ed.Job(type='pd-neut-cwl')\n",
    "job.add_experiment_from_file('data/d1a.cif')\n",
    "job.show_experiment_chart()"
   ]
  },
  {
   "cell_type": "markdown",
   "id": "66d966ee",
   "metadata": {},
   "source": [
    "#### Load from XYE\n",
    "\n",
    "Download the data file from the EasyDiffraction repository on GitHub"
   ]
  },
  {
   "cell_type": "code",
   "execution_count": null,
   "id": "d6af1c18",
   "metadata": {},
   "outputs": [],
   "source": [
    "ed.download_from_repository('hrpt.xye', destination='data')"
   ]
  },
  {
   "cell_type": "markdown",
   "id": "07741578",
   "metadata": {},
   "source": [
    "Show content of the downloaded file (first 6 lines)"
   ]
  },
  {
   "cell_type": "code",
   "execution_count": null,
   "id": "6994ed73",
   "metadata": {},
   "outputs": [],
   "source": [
    "with open('data/hrpt.xye') as f:\n",
    "    print(''.join(f.readlines()[:6]))"
   ]
  },
  {
   "cell_type": "markdown",
   "id": "f7bab0e1",
   "metadata": {},
   "source": [
    "Load the data from the file and show the chart"
   ]
  },
  {
   "cell_type": "code",
   "execution_count": null,
   "id": "96ace849",
   "metadata": {},
   "outputs": [],
   "source": [
    "job = ed.Job(type='pd-neut-cwl')\n",
    "job.add_experiment_from_file('data/hrpt.xye')\n",
    "job.show_experiment_chart()"
   ]
  },
  {
   "cell_type": "markdown",
   "id": "8555a5dd",
   "metadata": {},
   "source": [
    "### <a class=\"label-experiment\" href=\"https://docs.easydiffraction.org/lib/glossary/#experiment-type-labels\">pd-neut-tof</a>\n",
    "\n",
    "#### Load from XYE\n",
    "\n",
    "Download the data file from the EasyDiffraction repository on GitHub"
   ]
  },
  {
   "cell_type": "code",
   "execution_count": null,
   "id": "43c20767",
   "metadata": {},
   "outputs": [],
   "source": [
    "ed.download_from_repository('sepd.xye', destination='data')"
   ]
  },
  {
   "cell_type": "markdown",
   "id": "a0bb9916",
   "metadata": {},
   "source": [
    "Show content of the downloaded file (first 5 lines)"
   ]
  },
  {
   "cell_type": "code",
   "execution_count": null,
   "id": "e620ce7a",
   "metadata": {},
   "outputs": [],
   "source": [
    "with open('data/sepd.xye') as f:\n",
    "    print(''.join(f.readlines()[:5]))"
   ]
  },
  {
   "cell_type": "markdown",
   "id": "1fe88e7a",
   "metadata": {},
   "source": [
    "Load the data from the file and show the chart"
   ]
  },
  {
   "cell_type": "code",
   "execution_count": null,
   "id": "8519ad12",
   "metadata": {},
   "outputs": [],
   "source": [
    "job = ed.Job(type='pd-neut-tof')\n",
    "job.add_experiment_from_file('data/sepd.xye')\n",
    "job.show_experiment_chart(show_legend=False)"
   ]
  }
 ],
 "metadata": {
  "kernelspec": {
   "display_name": "Python 3 (ipykernel)",
   "language": "python",
   "name": "python3"
  }
 },
 "nbformat": 4,
 "nbformat_minor": 5
}
