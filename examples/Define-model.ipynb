{
 "cells": [
  {
   "cell_type": "markdown",
   "id": "b3c543d7",
   "metadata": {},
   "source": [
    "# Define a model\n",
    "\n",
    "This example shows how to define a model of a crystal structure in EasyDiffraction."
   ]
  },
  {
   "cell_type": "code",
   "execution_count": null,
   "id": "ec40f363",
   "metadata": {
    "tags": [
     "hide_in_docs"
    ]
   },
   "outputs": [],
   "source": [
    "# Check if the easydiffraction library is installed\n",
    "# If not, install it including the 'charts' extras\n",
    "# This is done when running in a Jupyter notebook\n",
    "import builtins\n",
    "import importlib.util\n",
    "\n",
    "if hasattr(builtins, \"__IPYTHON__\"):\n",
    "    if importlib.util.find_spec('easydiffraction') is None:\n",
    "        print('Installing the easydiffraction library...')\n",
    "        !pip install 'easydiffraction[charts]'"
   ]
  },
  {
   "cell_type": "markdown",
   "id": "e0d68d10",
   "metadata": {},
   "source": [
    "## Import EasyDiffraction"
   ]
  },
  {
   "cell_type": "code",
   "execution_count": null,
   "id": "570ff526",
   "metadata": {},
   "outputs": [],
   "source": [
    "import easydiffraction as ed"
   ]
  },
  {
   "cell_type": "markdown",
   "id": "34834387",
   "metadata": {},
   "source": [
    "## Create a job\n",
    "\n",
    "Create a job — the main object to store all the information"
   ]
  },
  {
   "cell_type": "code",
   "execution_count": null,
   "id": "5487791a",
   "metadata": {},
   "outputs": [],
   "source": [
    "job = ed.Job()"
   ]
  },
  {
   "cell_type": "markdown",
   "id": "0d46f15b",
   "metadata": {},
   "source": [
    "## Define a model\n",
    "\n",
    "### Set manually\n",
    "\n",
    "Create a phase object"
   ]
  },
  {
   "cell_type": "code",
   "execution_count": null,
   "id": "cb8e117b",
   "metadata": {},
   "outputs": [],
   "source": [
    "phase = ed.Phase(name='nacl')"
   ]
  },
  {
   "cell_type": "markdown",
   "id": "dd3a061a",
   "metadata": {},
   "source": [
    "Set space group"
   ]
  },
  {
   "cell_type": "code",
   "execution_count": null,
   "id": "0ffebfa6",
   "metadata": {},
   "outputs": [],
   "source": [
    "phase.space_group.name_hm_alt = 'F m -3 m'"
   ]
  },
  {
   "cell_type": "markdown",
   "id": "f4406770",
   "metadata": {},
   "source": [
    "Set cell parameters"
   ]
  },
  {
   "cell_type": "code",
   "execution_count": null,
   "id": "aecbd733",
   "metadata": {},
   "outputs": [],
   "source": [
    "phase.cell.length_a = 5.691694"
   ]
  },
  {
   "cell_type": "markdown",
   "id": "ebc92f1a",
   "metadata": {},
   "source": [
    "Add atoms"
   ]
  },
  {
   "cell_type": "code",
   "execution_count": null,
   "id": "085195c3",
   "metadata": {},
   "outputs": [],
   "source": [
    "phase.atom_sites.append(label='Na',\n",
    "                        type_symbol='Na',\n",
    "                        fract_x=0,\n",
    "                        fract_y=0,\n",
    "                        fract_z=0,\n",
    "                        occupancy=1,\n",
    "                        b_iso_or_equiv=0.5)\n",
    "phase.atom_sites.append(label='Cl',\n",
    "                        type_symbol='Cl',\n",
    "                        fract_x=0,\n",
    "                        fract_y=0,\n",
    "                        fract_z=0.5,\n",
    "                        occupancy=1,\n",
    "                        b_iso_or_equiv=0.5)"
   ]
  },
  {
   "cell_type": "markdown",
   "id": "3cc81ee7",
   "metadata": {},
   "source": [
    "Add phase to the job object"
   ]
  },
  {
   "cell_type": "code",
   "execution_count": null,
   "id": "bdf8d096",
   "metadata": {},
   "outputs": [],
   "source": [
    "job.add_phase(phase=phase)\n",
    "print(job.phases)"
   ]
  },
  {
   "cell_type": "markdown",
   "id": "9b3082e7",
   "metadata": {},
   "source": [
    "Show phase info in CIF format"
   ]
  },
  {
   "cell_type": "code",
   "execution_count": null,
   "id": "3fb22b10",
   "metadata": {},
   "outputs": [],
   "source": [
    "phase = job.phases['nacl']\n",
    "print(phase.cif)"
   ]
  },
  {
   "cell_type": "markdown",
   "id": "22d608eb",
   "metadata": {},
   "source": [
    "Display the crystal structure of a given model"
   ]
  },
  {
   "cell_type": "code",
   "execution_count": null,
   "id": "35bda8b0",
   "metadata": {},
   "outputs": [],
   "source": [
    "job.show_crystal_structure(id='nacl')"
   ]
  },
  {
   "cell_type": "markdown",
   "id": "979560ae",
   "metadata": {},
   "source": [
    "### Load from CIF\n",
    "\n",
    "Download the CIF file from the EasyDiffraction repository on GitHub"
   ]
  },
  {
   "cell_type": "code",
   "execution_count": null,
   "id": "898ce9bb",
   "metadata": {},
   "outputs": [],
   "source": [
    "ed.download_from_repository('lbco.cif', destination='data')"
   ]
  },
  {
   "cell_type": "markdown",
   "id": "1243b01d",
   "metadata": {},
   "source": [
    "Load a phase from the downloaded CIF file"
   ]
  },
  {
   "cell_type": "code",
   "execution_count": null,
   "id": "c46ab6a7",
   "metadata": {},
   "outputs": [],
   "source": [
    "job.add_phase_from_file('data/lbco.cif')\n",
    "print(job.phases)"
   ]
  },
  {
   "cell_type": "markdown",
   "id": "0a2ab55a",
   "metadata": {},
   "source": [
    "Show phase info in CIF format"
   ]
  },
  {
   "cell_type": "code",
   "execution_count": null,
   "id": "65bc1f78",
   "metadata": {},
   "outputs": [],
   "source": [
    "print(job.phases['lbco'].cif)"
   ]
  },
  {
   "cell_type": "markdown",
   "id": "19c16b03",
   "metadata": {},
   "source": [
    "Display the crystal structure of a given model"
   ]
  },
  {
   "cell_type": "code",
   "execution_count": null,
   "id": "542e2a39",
   "metadata": {},
   "outputs": [],
   "source": [
    "job.show_crystal_structure(id='lbco')"
   ]
  }
 ],
 "metadata": {
  "kernelspec": {
   "display_name": "Python 3 (ipykernel)",
   "language": "python",
   "name": "python3"
  }
 },
 "nbformat": 4,
 "nbformat_minor": 5
}
