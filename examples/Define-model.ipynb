{
 "cells": [
  {
   "cell_type": "markdown",
   "id": "054d5f54",
   "metadata": {},
   "source": [
    "# Define a model\n",
    "\n",
    "This example shows how to define a model of a crystal structure in EasyDiffraction."
   ]
  },
  {
   "cell_type": "code",
   "execution_count": null,
   "id": "3ee71d0a",
   "metadata": {
    "tags": [
     "hide_in_docs"
    ]
   },
   "outputs": [],
   "source": [
    "# Install the easydiffraction library if it is not installed (including charts extras)\n",
    "import importlib.util\n",
    "\n",
    "if importlib.util.find_spec('easydiffraction') is None:\n",
    "    !pip install 'easydiffraction[charts]'"
   ]
  },
  {
   "cell_type": "markdown",
   "id": "bae622d5",
   "metadata": {},
   "source": [
    "## Import EasyDiffraction"
   ]
  },
  {
   "cell_type": "code",
   "execution_count": null,
   "id": "7252e9d4",
   "metadata": {},
   "outputs": [],
   "source": [
    "import easydiffraction as ed"
   ]
  },
  {
   "cell_type": "markdown",
   "id": "f2f9e544",
   "metadata": {},
   "source": [
    "## Create a job\n",
    "\n",
    "Create a job — the main object to store all the information"
   ]
  },
  {
   "cell_type": "code",
   "execution_count": null,
   "id": "79d5cb84",
   "metadata": {},
   "outputs": [],
   "source": [
    "job = ed.Job()"
   ]
  },
  {
   "cell_type": "markdown",
   "id": "29609fa0",
   "metadata": {},
   "source": [
    "## Create a model manually\n",
    "\n",
    "Create a phase object"
   ]
  },
  {
   "cell_type": "code",
   "execution_count": null,
   "id": "b02755e0",
   "metadata": {},
   "outputs": [],
   "source": [
    "phase = ed.Phase(name='nacl')"
   ]
  },
  {
   "cell_type": "markdown",
   "id": "bd6fc15b",
   "metadata": {},
   "source": [
    "Set space group"
   ]
  },
  {
   "cell_type": "code",
   "execution_count": null,
   "id": "33b76046",
   "metadata": {},
   "outputs": [],
   "source": [
    "phase.space_group.name_hm_alt = 'F m -3 m'"
   ]
  },
  {
   "cell_type": "markdown",
   "id": "6b97f044",
   "metadata": {},
   "source": [
    "Set cell parameters"
   ]
  },
  {
   "cell_type": "code",
   "execution_count": null,
   "id": "2d5fdc5b",
   "metadata": {},
   "outputs": [],
   "source": [
    "phase.cell.length_a = 5.691694"
   ]
  },
  {
   "cell_type": "markdown",
   "id": "60ebb1e2",
   "metadata": {},
   "source": [
    "Add atoms"
   ]
  },
  {
   "cell_type": "code",
   "execution_count": null,
   "id": "627cae1d",
   "metadata": {},
   "outputs": [],
   "source": [
    "phase.atom_sites.append(label='Na',\n",
    "                        type_symbol='Na',\n",
    "                        fract_x=0,\n",
    "                        fract_y=0,\n",
    "                        fract_z=0,\n",
    "                        occupancy=1,\n",
    "                        b_iso_or_equiv=0.5)\n",
    "phase.atom_sites.append(label='Cl',\n",
    "                        type_symbol='Cl',\n",
    "                        fract_x=0,\n",
    "                        fract_y=0,\n",
    "                        fract_z=0.5,\n",
    "                        occupancy=1,\n",
    "                        b_iso_or_equiv=0.5)"
   ]
  },
  {
   "cell_type": "markdown",
   "id": "dea3c80c",
   "metadata": {},
   "source": [
    "Add phase to the job object"
   ]
  },
  {
   "cell_type": "code",
   "execution_count": null,
   "id": "ba6e3311",
   "metadata": {},
   "outputs": [],
   "source": [
    "job.add_phase(phase=phase)\n",
    "print(job.phases)"
   ]
  },
  {
   "cell_type": "markdown",
   "id": "c02198fa",
   "metadata": {},
   "source": [
    "Show phase info in CIF format"
   ]
  },
  {
   "cell_type": "code",
   "execution_count": null,
   "id": "992d0777",
   "metadata": {},
   "outputs": [],
   "source": [
    "phase = job.phases['nacl']\n",
    "print(phase.cif)"
   ]
  },
  {
   "cell_type": "markdown",
   "id": "409bf992",
   "metadata": {},
   "source": [
    "Display the crystal structure of a given model"
   ]
  },
  {
   "cell_type": "code",
   "execution_count": null,
   "id": "927853b1",
   "metadata": {},
   "outputs": [],
   "source": [
    "job.show_crystal_structure(id='nacl')"
   ]
  },
  {
   "cell_type": "markdown",
   "id": "345a6831",
   "metadata": {},
   "source": [
    "Download the CIF file from the EasyDiffraction repository on GitHub"
   ]
  },
  {
   "cell_type": "code",
   "execution_count": null,
   "id": "8af28053",
   "metadata": {},
   "outputs": [],
   "source": [
    "ed.download_from_repository('lbco.cif', destination='data')"
   ]
  },
  {
   "cell_type": "markdown",
   "id": "d2fd19ca",
   "metadata": {},
   "source": [
    "Load a phase from the downloaded CIF file"
   ]
  },
  {
   "cell_type": "code",
   "execution_count": null,
   "id": "60ef2e5c",
   "metadata": {},
   "outputs": [],
   "source": [
    "job.add_phase_from_file('data/lbco.cif')\n",
    "print(job.phases)"
   ]
  },
  {
   "cell_type": "markdown",
   "id": "3dbf7378",
   "metadata": {},
   "source": [
    "Show phase info in CIF format"
   ]
  },
  {
   "cell_type": "code",
   "execution_count": null,
   "id": "41d647a0",
   "metadata": {},
   "outputs": [],
   "source": [
    "print(job.phases['lbco'].cif)"
   ]
  },
  {
   "cell_type": "markdown",
   "id": "1dc12542",
   "metadata": {},
   "source": [
    "Display the crystal structure of a given model"
   ]
  },
  {
   "cell_type": "code",
   "execution_count": null,
   "id": "9ab93681",
   "metadata": {},
   "outputs": [],
   "source": [
    "job.show_crystal_structure(id='lbco')"
   ]
  }
 ],
 "metadata": {
  "kernelspec": {
   "display_name": "Python 3 (ipykernel)",
   "language": "python",
   "name": "python3"
  }
 },
 "nbformat": 4,
 "nbformat_minor": 5
}
