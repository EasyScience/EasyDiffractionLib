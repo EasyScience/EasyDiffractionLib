{
 "cells": [
  {
   "cell_type": "markdown",
   "id": "e35208c1",
   "metadata": {},
   "source": [
    "# Fitting `PD-NEUT-CW` LBCO-HRPT\n",
    "\n",
    "This example shows how to refine the crystal structure parameters of La0.5Ba0.5CoO3 from neutron diffraction data in a constant wavelength experiment performed on HRPT diffractometer at PSI."
   ]
  },
  {
   "cell_type": "code",
   "execution_count": null,
   "id": "cbb6026e",
   "metadata": {
    "tags": [
     "hide_in_docs"
    ]
   },
   "outputs": [],
   "source": [
    "# Install the easydiffraction library if it is not installed (including charts extras)\n",
    "import importlib.util\n",
    "\n",
    "if importlib.util.find_spec('easydiffraction') is None:\n",
    "    !pip install 'easydiffraction[charts]'"
   ]
  },
  {
   "cell_type": "markdown",
   "id": "32034eed",
   "metadata": {},
   "source": [
    "## Import EasyDiffraction"
   ]
  },
  {
   "cell_type": "code",
   "execution_count": null,
   "id": "698333f7",
   "metadata": {},
   "outputs": [],
   "source": [
    "import easydiffraction as ed"
   ]
  },
  {
   "cell_type": "markdown",
   "id": "736e06e4",
   "metadata": {},
   "source": [
    "## Job\n",
    "\n",
    "Create a job — the main object to store all the information"
   ]
  },
  {
   "cell_type": "code",
   "execution_count": null,
   "id": "b245d912",
   "metadata": {},
   "outputs": [],
   "source": [
    "job = ed.Job()"
   ]
  },
  {
   "cell_type": "markdown",
   "id": "fa0202ff",
   "metadata": {},
   "source": [
    "## Model\n",
    "\n",
    "Download the CIF file from the EasyDiffraction repository on GitHub"
   ]
  },
  {
   "cell_type": "code",
   "execution_count": null,
   "id": "51dd7e1d",
   "metadata": {},
   "outputs": [],
   "source": [
    "ed.download_from_repository('lbco.cif', destination='data')"
   ]
  },
  {
   "cell_type": "markdown",
   "id": "b4424d85",
   "metadata": {},
   "source": [
    "Load a phase from the downloaded CIF file"
   ]
  },
  {
   "cell_type": "code",
   "execution_count": null,
   "id": "aef682d2",
   "metadata": {},
   "outputs": [],
   "source": [
    "job.add_phase_from_file('data/lbco.cif')\n",
    "print(job.phases)"
   ]
  },
  {
   "cell_type": "markdown",
   "id": "a435b810",
   "metadata": {},
   "source": [
    "Show phase info in CIF format"
   ]
  },
  {
   "cell_type": "code",
   "execution_count": null,
   "id": "b121918a",
   "metadata": {},
   "outputs": [],
   "source": [
    "print(job.phases['lbco'].cif)"
   ]
  },
  {
   "cell_type": "markdown",
   "id": "11154804",
   "metadata": {},
   "source": [
    "Display the crystal structure of a given model"
   ]
  },
  {
   "cell_type": "code",
   "execution_count": null,
   "id": "99c7f7ac",
   "metadata": {},
   "outputs": [],
   "source": [
    "job.show_crystal_structure(id='lbco')"
   ]
  },
  {
   "cell_type": "markdown",
   "id": "aa443a5d",
   "metadata": {},
   "source": [
    "## Experiment\n",
    "\n",
    "Download the data file from the EasyDiffraction repository on GitHub"
   ]
  },
  {
   "cell_type": "code",
   "execution_count": null,
   "id": "b95b8693",
   "metadata": {},
   "outputs": [],
   "source": [
    "ed.download_from_repository('hrpt.xye', destination='data')"
   ]
  },
  {
   "cell_type": "markdown",
   "id": "15f654c0",
   "metadata": {},
   "source": [
    "Show content of the downloaded file (first 6 lines)"
   ]
  },
  {
   "cell_type": "code",
   "execution_count": null,
   "id": "a3d1771a",
   "metadata": {},
   "outputs": [],
   "source": [
    "with open('data/hrpt.xye') as f:\n",
    "    print(''.join(f.readlines()[:6]))"
   ]
  },
  {
   "cell_type": "markdown",
   "id": "825e35a7",
   "metadata": {},
   "source": [
    "\n",
    "Load experimentally measured data from a file in XYE format"
   ]
  },
  {
   "cell_type": "code",
   "execution_count": null,
   "id": "acd18518",
   "metadata": {},
   "outputs": [],
   "source": [
    "job.add_experiment_from_file('data/hrpt.xye')"
   ]
  },
  {
   "cell_type": "markdown",
   "id": "81478318",
   "metadata": {},
   "source": [
    "Display the experimentally measured data"
   ]
  },
  {
   "cell_type": "code",
   "execution_count": null,
   "id": "db172288",
   "metadata": {},
   "outputs": [],
   "source": [
    "job.show_experiment_chart()"
   ]
  },
  {
   "cell_type": "markdown",
   "id": "77133a14",
   "metadata": {},
   "source": [
    "Define a point background"
   ]
  },
  {
   "cell_type": "code",
   "execution_count": null,
   "id": "bb9da95d",
   "metadata": {},
   "outputs": [],
   "source": [
    "job.set_background([(10.0, 170),\n",
    "                    (165.0, 170)])"
   ]
  },
  {
   "cell_type": "markdown",
   "id": "88c0769d",
   "metadata": {},
   "source": [
    "Display the experiment chart after setting the background"
   ]
  },
  {
   "cell_type": "code",
   "execution_count": null,
   "id": "e8e9c9e9",
   "metadata": {},
   "outputs": [],
   "source": [
    "job.show_experiment_chart()"
   ]
  },
  {
   "cell_type": "markdown",
   "id": "afc1ae5e",
   "metadata": {},
   "source": [
    "## Analysis\n",
    "\n",
    "Display the analysis chart before setting initial parameter values"
   ]
  },
  {
   "cell_type": "code",
   "execution_count": null,
   "id": "42488152",
   "metadata": {},
   "outputs": [],
   "source": [
    "job.show_analysis_chart()"
   ]
  },
  {
   "cell_type": "markdown",
   "id": "0b9fa55f",
   "metadata": {},
   "source": [
    "Show all parameters before refinement"
   ]
  },
  {
   "cell_type": "code",
   "execution_count": null,
   "id": "610a7bfb",
   "metadata": {},
   "outputs": [],
   "source": [
    "job.show_parameters()"
   ]
  },
  {
   "cell_type": "markdown",
   "id": "e9d8d7dc",
   "metadata": {},
   "source": [
    "Change the default value of the wavelength used in the experiment and display the analysis chart again"
   ]
  },
  {
   "cell_type": "code",
   "execution_count": null,
   "id": "170ea4f2",
   "metadata": {},
   "outputs": [],
   "source": [
    "job.instrument.wavelength = 1.494\n",
    "job.show_analysis_chart()"
   ]
  },
  {
   "cell_type": "markdown",
   "id": "749b0693",
   "metadata": {},
   "source": [
    "Change the scale and display the analysis chart again"
   ]
  },
  {
   "cell_type": "code",
   "execution_count": null,
   "id": "6ec0ddc9",
   "metadata": {},
   "outputs": [],
   "source": [
    "job.phases['lbco'].scale = 3\n",
    "job.show_analysis_chart()"
   ]
  },
  {
   "cell_type": "markdown",
   "id": "692e209f",
   "metadata": {},
   "source": [
    "Change the default values of the peak profile related parameters and display the analysis chart again"
   ]
  },
  {
   "cell_type": "code",
   "execution_count": null,
   "id": "23ef74be",
   "metadata": {},
   "outputs": [],
   "source": [
    "job.instrument.resolution_u = 0.1\n",
    "job.instrument.resolution_v = -0.1\n",
    "job.instrument.resolution_w = 0.2\n",
    "job.instrument.resolution_x = 0\n",
    "job.instrument.resolution_y = 0\n",
    "job.show_analysis_chart()"
   ]
  },
  {
   "cell_type": "markdown",
   "id": "189c4372",
   "metadata": {},
   "source": [
    "Select parameters to be refined in the 1st round"
   ]
  },
  {
   "cell_type": "code",
   "execution_count": null,
   "id": "947ff53a",
   "metadata": {},
   "outputs": [],
   "source": [
    "job.phases['lbco'].scale.free = True\n",
    "job.phases['lbco'].cell.length_a.free = True\n",
    "job.pattern.zero_shift.free = True\n",
    "job.pattern.backgrounds[0][0].y.free = True\n",
    "job.pattern.backgrounds[0][1].y.free = True"
   ]
  },
  {
   "cell_type": "markdown",
   "id": "2c77f452",
   "metadata": {},
   "source": [
    "Print parameters to be refined (free parameters) before fitting"
   ]
  },
  {
   "cell_type": "code",
   "execution_count": null,
   "id": "d4c5e7e8",
   "metadata": {},
   "outputs": [],
   "source": [
    "job.show_free_parameters()"
   ]
  },
  {
   "cell_type": "code",
   "execution_count": null,
   "id": "028c53ed",
   "metadata": {},
   "outputs": [],
   "source": [
    "job.get_fit_parameters()"
   ]
  },
  {
   "cell_type": "markdown",
   "id": "8a120f36",
   "metadata": {},
   "source": [
    "Start Least-Squares minimization to refine the selected parameters"
   ]
  },
  {
   "cell_type": "code",
   "execution_count": null,
   "id": "82f70a20",
   "metadata": {},
   "outputs": [],
   "source": [
    "job.fit()"
   ]
  },
  {
   "cell_type": "markdown",
   "id": "bb423452",
   "metadata": {},
   "source": [
    "Print the refined parameters after fitting"
   ]
  },
  {
   "cell_type": "code",
   "execution_count": null,
   "id": "8a50e2a3",
   "metadata": {},
   "outputs": [],
   "source": [
    "job.show_free_parameters()"
   ]
  },
  {
   "cell_type": "markdown",
   "id": "20dc1ac2",
   "metadata": {},
   "source": [
    "Display the analysis chart after the 1st fitting"
   ]
  },
  {
   "cell_type": "code",
   "execution_count": null,
   "id": "899f8ad3",
   "metadata": {},
   "outputs": [],
   "source": [
    "job.show_analysis_chart()"
   ]
  },
  {
   "cell_type": "markdown",
   "id": "00c9c893",
   "metadata": {},
   "source": [
    "Select more parameters to be refined in the 2nd round"
   ]
  },
  {
   "cell_type": "code",
   "execution_count": null,
   "id": "e6a6778d",
   "metadata": {},
   "outputs": [],
   "source": [
    "job.instrument.resolution_u.free = True\n",
    "job.instrument.resolution_v.free = True\n",
    "job.instrument.resolution_w.free = True\n",
    "job.instrument.resolution_y.free = True"
   ]
  },
  {
   "cell_type": "markdown",
   "id": "2b5448df",
   "metadata": {},
   "source": [
    "Print free parameters before the 2nd fitting"
   ]
  },
  {
   "cell_type": "code",
   "execution_count": null,
   "id": "e22db592",
   "metadata": {},
   "outputs": [],
   "source": [
    "job.show_free_parameters()"
   ]
  },
  {
   "cell_type": "markdown",
   "id": "164a8e03",
   "metadata": {},
   "source": [
    "Start 2nd round of minimization"
   ]
  },
  {
   "cell_type": "code",
   "execution_count": null,
   "id": "19323964",
   "metadata": {},
   "outputs": [],
   "source": [
    "job.fit()"
   ]
  },
  {
   "cell_type": "markdown",
   "id": "77951424",
   "metadata": {},
   "source": [
    "Print free parameters after the 2nd fitting"
   ]
  },
  {
   "cell_type": "code",
   "execution_count": null,
   "id": "b47df25d",
   "metadata": {},
   "outputs": [],
   "source": [
    "job.show_free_parameters()"
   ]
  },
  {
   "cell_type": "markdown",
   "id": "a98c26e9",
   "metadata": {},
   "source": [
    "Display the analysis chart after the 2nd fitting"
   ]
  },
  {
   "cell_type": "code",
   "execution_count": null,
   "id": "92c616f4",
   "metadata": {},
   "outputs": [],
   "source": [
    "job.show_analysis_chart()"
   ]
  },
  {
   "cell_type": "markdown",
   "id": "597fb349",
   "metadata": {},
   "source": [
    "Select atomic displacement parameters (ADPs) to be refined in the 3rd round"
   ]
  },
  {
   "cell_type": "code",
   "execution_count": null,
   "id": "ca1cdb70",
   "metadata": {},
   "outputs": [],
   "source": [
    "job.phases['lbco'].atom_sites['La'].b_iso_or_equiv.free = True\n",
    "job.phases['lbco'].atom_sites['Ba'].b_iso_or_equiv.free = True\n",
    "job.phases['lbco'].atom_sites['Co'].b_iso_or_equiv.free = True\n",
    "job.phases['lbco'].atom_sites['O'].b_iso_or_equiv.free = True"
   ]
  },
  {
   "cell_type": "markdown",
   "id": "3071586d",
   "metadata": {},
   "source": [
    "Print free parameters before the 3rd fitting"
   ]
  },
  {
   "cell_type": "code",
   "execution_count": null,
   "id": "7be528c9",
   "metadata": {},
   "outputs": [],
   "source": [
    "job.show_free_parameters()"
   ]
  },
  {
   "cell_type": "markdown",
   "id": "c27483bf",
   "metadata": {},
   "source": [
    "Start 3rd round of minimization"
   ]
  },
  {
   "cell_type": "code",
   "execution_count": null,
   "id": "fc1d71ed",
   "metadata": {},
   "outputs": [],
   "source": [
    "job.fit()"
   ]
  },
  {
   "cell_type": "markdown",
   "id": "bc144b30",
   "metadata": {},
   "source": [
    "Print free parameters after the 3rd fitting"
   ]
  },
  {
   "cell_type": "code",
   "execution_count": null,
   "id": "3c57a3c7",
   "metadata": {},
   "outputs": [],
   "source": [
    "job.show_free_parameters()"
   ]
  },
  {
   "cell_type": "markdown",
   "id": "6a3d07e0",
   "metadata": {},
   "source": [
    "Display the analysis chart after the 3rd fitting"
   ]
  },
  {
   "cell_type": "code",
   "execution_count": null,
   "id": "b09f9a62",
   "metadata": {},
   "outputs": [],
   "source": [
    "job.show_analysis_chart()"
   ]
  },
  {
   "cell_type": "markdown",
   "id": "259743c6",
   "metadata": {},
   "source": [
    "Show all parameters after refinement"
   ]
  },
  {
   "cell_type": "code",
   "execution_count": null,
   "id": "69c41169",
   "metadata": {},
   "outputs": [],
   "source": [
    "job.show_parameters()"
   ]
  }
 ],
 "metadata": {
  "kernelspec": {
   "display_name": "Python 3 (ipykernel)",
   "language": "python",
   "name": "python3"
  }
 },
 "nbformat": 4,
 "nbformat_minor": 5
}
