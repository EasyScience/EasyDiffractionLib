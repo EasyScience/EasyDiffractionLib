{
 "cells": [
  {
   "cell_type": "markdown",
   "id": "59f71e46fa01b87a",
   "metadata": {},
   "source": [
    "<a target=\"_blank\" href=\"https://colab.research.google.com/github/EasyScience/EasyDiffractionLib/blob/master/examples/Fitting_PD-NEUT-CW_LBCO-HRPT.ipynb\">\n",
    "  <img src=\"https://colab.research.google.com/assets/colab-badge.svg\" alt=\"Open In Colab\"/>\n",
    "</a>"
   ]
  },
  {
   "cell_type": "markdown",
   "id": "feabf7cfd80b7c12",
   "metadata": {},
   "source": [
    "# Fitting `PD-NEUT-CW` LBCO-HRPT"
   ]
  },
  {
   "cell_type": "markdown",
   "id": "b60c68dde8122dc",
   "metadata": {},
   "source": [
    "This example shows how to refine the crystal structure parameters of La0.5Ba0.5CoO3 from neutron diffraction data in a constant wavelength experiment performed on HRPT diffractometer at PSI."
   ]
  },
  {
   "cell_type": "markdown",
   "id": "3a9140b1172fb249",
   "metadata": {},
   "source": [
    "## Import"
   ]
  },
  {
   "cell_type": "code",
   "execution_count": null,
   "id": "77c67b33ae9b3236",
   "metadata": {
    "ExecuteTime": {
     "end_time": "2024-10-29T13:54:18.107823Z",
     "start_time": "2024-10-29T13:54:18.096454Z"
    },
    "tags": [
     "colab"
    ]
   },
   "outputs": [],
   "source": [
    "# Code related to Google Colab\n",
    "import importlib.util\n",
    "import os\n",
    "\n",
    "import pooch\n",
    "\n",
    "if os.getenv(\"COLAB_RELEASE_TAG\"):\n",
    "    print(\"Running in Google Colab\")\n",
    "    # Install the easydiffraction library if it is not installed (including charts extras)\n",
    "    if importlib.util.find_spec(\"easydiffraction\") is None:\n",
    "        !pip install 'easydiffraction[charts]'\n",
    "    # Download the data files to be read in notebook\n",
    "    for fname in ['lbco.cif', 'hrpt.xye']:\n",
    "        pooch.retrieve(\n",
    "            url=f\"https://raw.githubusercontent.com/EasyScience/EasyDiffractionLib/refs/heads/master/examples/data/{fname}\",\n",
    "            known_hash=None,\n",
    "            fname=fname,\n",
    "            path=\"data\",\n",
    "        )"
   ]
  },
  {
   "cell_type": "code",
   "execution_count": null,
   "id": "33934041eaae166f",
   "metadata": {
    "ExecuteTime": {
     "end_time": "2024-10-29T13:54:21.156951Z",
     "start_time": "2024-10-29T13:54:18.110162Z"
    }
   },
   "outputs": [],
   "source": [
    "import easydiffraction as ed"
   ]
  },
  {
   "cell_type": "markdown",
   "id": "429c480a606eec4c",
   "metadata": {},
   "source": [
    "## Job"
   ]
  },
  {
   "cell_type": "markdown",
   "id": "368b2e1ce306df51",
   "metadata": {},
   "source": [
    "Create a job — the main object to store all the information"
   ]
  },
  {
   "cell_type": "code",
   "execution_count": null,
   "id": "180e216d55b3f144",
   "metadata": {
    "ExecuteTime": {
     "end_time": "2024-10-29T13:54:21.214927Z",
     "start_time": "2024-10-29T13:54:21.203963Z"
    }
   },
   "outputs": [],
   "source": [
    "job = ed.Job()"
   ]
  },
  {
   "cell_type": "markdown",
   "id": "2bf31fe484bd0ca1",
   "metadata": {},
   "source": [
    "## Model"
   ]
  },
  {
   "cell_type": "markdown",
   "id": "2b6850d04bfdf53c",
   "metadata": {},
   "source": [
    "Load a phase from CIF file"
   ]
  },
  {
   "cell_type": "code",
   "execution_count": null,
   "id": "4c37bae8e1c19b0c",
   "metadata": {
    "ExecuteTime": {
     "end_time": "2024-10-29T13:54:21.740328Z",
     "start_time": "2024-10-29T13:54:21.396950Z"
    }
   },
   "outputs": [],
   "source": [
    "job.add_phase_from_file('data/lbco.cif')\n",
    "print(job.phases)"
   ]
  },
  {
   "cell_type": "markdown",
   "id": "f0c42370d97dd5db",
   "metadata": {},
   "source": [
    "Show phase info in CIF format"
   ]
  },
  {
   "cell_type": "code",
   "execution_count": null,
   "id": "5184de9d741bddb4",
   "metadata": {
    "ExecuteTime": {
     "end_time": "2024-10-29T13:54:21.751772Z",
     "start_time": "2024-10-29T13:54:21.745031Z"
    }
   },
   "outputs": [],
   "source": [
    "print(job.phases['lbco'].cif)"
   ]
  },
  {
   "cell_type": "markdown",
   "id": "f2ea5dba03edb588",
   "metadata": {},
   "source": [
    "Display the crystal structure of a given model"
   ]
  },
  {
   "cell_type": "code",
   "execution_count": null,
   "id": "238c54cda578c7e7",
   "metadata": {
    "ExecuteTime": {
     "end_time": "2024-10-29T13:54:21.763117Z",
     "start_time": "2024-10-29T13:54:21.756058Z"
    }
   },
   "outputs": [],
   "source": [
    "job.show_crystal_structure(id='lbco')"
   ]
  },
  {
   "cell_type": "markdown",
   "id": "e87af7f4c26b5209",
   "metadata": {},
   "source": [
    "## Experiment"
   ]
  },
  {
   "cell_type": "markdown",
   "id": "1f6fe2b5622240c0",
   "metadata": {},
   "source": [
    "Load experimentally measured data from a file in XYE format"
   ]
  },
  {
   "cell_type": "code",
   "execution_count": null,
   "id": "8a1823930f0346e5",
   "metadata": {
    "ExecuteTime": {
     "end_time": "2024-10-29T13:54:21.878427Z",
     "start_time": "2024-10-29T13:54:21.768040Z"
    }
   },
   "outputs": [],
   "source": [
    "job.add_experiment_from_file('data/hrpt.xye')"
   ]
  },
  {
   "cell_type": "markdown",
   "id": "5c276b8592833bdf",
   "metadata": {},
   "source": [
    "Display the experimentally measured data"
   ]
  },
  {
   "cell_type": "code",
   "execution_count": null,
   "id": "f1dfee8a4bee7672",
   "metadata": {
    "ExecuteTime": {
     "end_time": "2024-10-29T13:54:22.034253Z",
     "start_time": "2024-10-29T13:54:21.883334Z"
    }
   },
   "outputs": [],
   "source": [
    "job.show_experiment_chart()"
   ]
  },
  {
   "cell_type": "markdown",
   "id": "2a5285f8fbf5d6c1",
   "metadata": {},
   "source": [
    "Define a point background"
   ]
  },
  {
   "cell_type": "code",
   "execution_count": null,
   "id": "f0bb1f8fb69261fa",
   "metadata": {
    "ExecuteTime": {
     "end_time": "2024-10-29T13:54:22.170125Z",
     "start_time": "2024-10-29T13:54:22.166890Z"
    }
   },
   "outputs": [],
   "source": [
    "job.set_background([(10.0, 170),\n",
    "                    (165.0, 170)])"
   ]
  },
  {
   "cell_type": "markdown",
   "id": "270c0fdc493fa7df",
   "metadata": {},
   "source": [
    "Display the experiment chart after setting the background"
   ]
  },
  {
   "cell_type": "code",
   "execution_count": null,
   "id": "2c2c5d3bf7eee9f4",
   "metadata": {
    "ExecuteTime": {
     "end_time": "2024-10-29T13:54:22.189640Z",
     "start_time": "2024-10-29T13:54:22.174287Z"
    }
   },
   "outputs": [],
   "source": [
    "job.show_experiment_chart()"
   ]
  },
  {
   "cell_type": "markdown",
   "id": "2051b9d1de29b0f2",
   "metadata": {},
   "source": [
    "## Analysis"
   ]
  },
  {
   "cell_type": "markdown",
   "id": "78647e09f7a64eec",
   "metadata": {},
   "source": [
    "Display the analysis chart before setting initial parameter values"
   ]
  },
  {
   "cell_type": "code",
   "execution_count": null,
   "id": "db4e8db8fe0c808b",
   "metadata": {
    "ExecuteTime": {
     "end_time": "2024-10-29T13:54:22.289472Z",
     "start_time": "2024-10-29T13:54:22.203371Z"
    }
   },
   "outputs": [],
   "source": [
    "job.show_analysis_chart()"
   ]
  },
  {
   "cell_type": "markdown",
   "id": "5e3677de9a2830a8",
   "metadata": {},
   "source": [
    "Show all parameters before refinement"
   ]
  },
  {
   "cell_type": "code",
   "execution_count": null,
   "id": "6b67c8e48b844e89",
   "metadata": {
    "ExecuteTime": {
     "end_time": "2024-10-29T13:54:23.048821Z",
     "start_time": "2024-10-29T13:54:22.949051Z"
    }
   },
   "outputs": [],
   "source": [
    "job.show_parameters()"
   ]
  },
  {
   "cell_type": "markdown",
   "id": "46f110fbcddd027a",
   "metadata": {},
   "source": [
    "Change the default value of the wavelength used in the experiment and display the analysis chart again"
   ]
  },
  {
   "cell_type": "code",
   "execution_count": null,
   "id": "1bf432541735fec6",
   "metadata": {
    "ExecuteTime": {
     "end_time": "2024-10-29T13:54:23.168254Z",
     "start_time": "2024-10-29T13:54:23.062745Z"
    }
   },
   "outputs": [],
   "source": [
    "job.instrument.wavelength = 1.494\n",
    "job.show_analysis_chart()"
   ]
  },
  {
   "cell_type": "markdown",
   "id": "a9715b42e290242e",
   "metadata": {},
   "source": [
    "Change the scale and display the analysis chart again"
   ]
  },
  {
   "cell_type": "code",
   "execution_count": null,
   "id": "edce437c4d9dcf10",
   "metadata": {
    "ExecuteTime": {
     "end_time": "2024-10-29T13:54:23.310448Z",
     "start_time": "2024-10-29T13:54:23.221320Z"
    }
   },
   "outputs": [],
   "source": [
    "job.phases['lbco'].scale = 3\n",
    "job.show_analysis_chart()"
   ]
  },
  {
   "cell_type": "markdown",
   "id": "12f44a5ec9525298",
   "metadata": {},
   "source": [
    "Change the default values of the peak profile related parameters and display the analysis chart again"
   ]
  },
  {
   "cell_type": "code",
   "execution_count": null,
   "id": "936a01e25043acc0",
   "metadata": {
    "ExecuteTime": {
     "end_time": "2024-10-29T13:54:23.447901Z",
     "start_time": "2024-10-29T13:54:23.351523Z"
    }
   },
   "outputs": [],
   "source": [
    "job.instrument.resolution_u = 0.1\n",
    "job.instrument.resolution_v = -0.1\n",
    "job.instrument.resolution_w = 0.2\n",
    "job.instrument.resolution_x = 0\n",
    "job.instrument.resolution_y = 0\n",
    "job.show_analysis_chart()"
   ]
  },
  {
   "cell_type": "markdown",
   "id": "f4aa4b9ec10f8f0e",
   "metadata": {},
   "source": [
    "Select parameters to be refined in the 1st round"
   ]
  },
  {
   "cell_type": "code",
   "execution_count": null,
   "id": "7d7aa26a77b016ac",
   "metadata": {
    "ExecuteTime": {
     "end_time": "2024-10-29T13:54:23.484979Z",
     "start_time": "2024-10-29T13:54:23.481504Z"
    }
   },
   "outputs": [],
   "source": [
    "job.phases['lbco'].scale.free = True\n",
    "job.phases['lbco'].cell.length_a.free = True\n",
    "job.pattern.zero_shift.free = True\n",
    "job.pattern.backgrounds[0][0].y.free = True\n",
    "job.pattern.backgrounds[0][1].y.free = True"
   ]
  },
  {
   "cell_type": "markdown",
   "id": "9bcf1069eed931c",
   "metadata": {},
   "source": [
    "Print parameters to be refined (free parameters) before fitting"
   ]
  },
  {
   "cell_type": "code",
   "execution_count": null,
   "id": "4d0f01cb2f0189f6",
   "metadata": {
    "ExecuteTime": {
     "end_time": "2024-10-29T13:54:23.492426Z",
     "start_time": "2024-10-29T13:54:23.488003Z"
    }
   },
   "outputs": [],
   "source": [
    "job.show_free_parameters()"
   ]
  },
  {
   "cell_type": "markdown",
   "id": "33c439459cdb3f6f",
   "metadata": {},
   "source": [
    "Start Least-Squares minimization to refine the selected parameters"
   ]
  },
  {
   "cell_type": "code",
   "execution_count": null,
   "id": "28386e59f4800bd8",
   "metadata": {
    "ExecuteTime": {
     "end_time": "2024-10-29T13:54:27.628674Z",
     "start_time": "2024-10-29T13:54:23.497125Z"
    }
   },
   "outputs": [],
   "source": [
    "job.fit()"
   ]
  },
  {
   "cell_type": "markdown",
   "id": "cac7e8d93fc64455",
   "metadata": {},
   "source": [
    "Print the refined parameters after fitting"
   ]
  },
  {
   "cell_type": "code",
   "execution_count": null,
   "id": "5b86308392753279",
   "metadata": {
    "ExecuteTime": {
     "end_time": "2024-10-29T13:54:27.638773Z",
     "start_time": "2024-10-29T13:54:27.633927Z"
    }
   },
   "outputs": [],
   "source": [
    "job.show_free_parameters()"
   ]
  },
  {
   "cell_type": "markdown",
   "id": "f49a41b704aee261",
   "metadata": {},
   "source": [
    "Display the analysis chart after the 1st fitting"
   ]
  },
  {
   "cell_type": "code",
   "execution_count": null,
   "id": "6883be22058101dc",
   "metadata": {
    "ExecuteTime": {
     "end_time": "2024-10-29T13:54:27.722335Z",
     "start_time": "2024-10-29T13:54:27.642656Z"
    }
   },
   "outputs": [],
   "source": [
    "job.show_analysis_chart()"
   ]
  },
  {
   "cell_type": "markdown",
   "id": "fc303c6ae0d91d1e",
   "metadata": {},
   "source": [
    "Select more parameters to be refined in the 2nd round"
   ]
  },
  {
   "cell_type": "code",
   "execution_count": null,
   "id": "cbe2d99f4a149f0a",
   "metadata": {
    "ExecuteTime": {
     "end_time": "2024-10-29T13:54:27.763420Z",
     "start_time": "2024-10-29T13:54:27.761282Z"
    }
   },
   "outputs": [],
   "source": [
    "job.instrument.resolution_u.free = True\n",
    "job.instrument.resolution_v.free = True\n",
    "job.instrument.resolution_w.free = True\n",
    "job.instrument.resolution_y.free = True"
   ]
  },
  {
   "cell_type": "markdown",
   "id": "d4b2a80c976be39e",
   "metadata": {},
   "source": [
    "Print free parameters before the 2nd fitting"
   ]
  },
  {
   "cell_type": "code",
   "execution_count": null,
   "id": "9c1088f4d76115cc",
   "metadata": {
    "ExecuteTime": {
     "end_time": "2024-10-29T13:54:27.773150Z",
     "start_time": "2024-10-29T13:54:27.768178Z"
    }
   },
   "outputs": [],
   "source": [
    "job.show_free_parameters()"
   ]
  },
  {
   "cell_type": "markdown",
   "id": "1cc5b9fdbc66e967",
   "metadata": {},
   "source": [
    "Start 2nd round of minimization"
   ]
  },
  {
   "cell_type": "code",
   "execution_count": null,
   "id": "7d58e98a8119d931",
   "metadata": {
    "ExecuteTime": {
     "end_time": "2024-10-29T13:54:32.787865Z",
     "start_time": "2024-10-29T13:54:27.778551Z"
    }
   },
   "outputs": [],
   "source": [
    "job.fit()"
   ]
  },
  {
   "cell_type": "markdown",
   "id": "193b23954a06ee5b",
   "metadata": {},
   "source": [
    "Print free parameters after the 2nd fitting"
   ]
  },
  {
   "cell_type": "code",
   "execution_count": null,
   "id": "8e16d197061ea1e9",
   "metadata": {
    "ExecuteTime": {
     "end_time": "2024-10-29T13:54:32.797773Z",
     "start_time": "2024-10-29T13:54:32.792495Z"
    }
   },
   "outputs": [],
   "source": [
    "job.show_free_parameters()"
   ]
  },
  {
   "cell_type": "markdown",
   "id": "8faac60c48685775",
   "metadata": {},
   "source": [
    "Display the analysis chart after the 2nd fitting"
   ]
  },
  {
   "cell_type": "code",
   "execution_count": null,
   "id": "6d7868c4c4d441e6",
   "metadata": {
    "ExecuteTime": {
     "end_time": "2024-10-29T13:54:32.883670Z",
     "start_time": "2024-10-29T13:54:32.803147Z"
    }
   },
   "outputs": [],
   "source": [
    "job.show_analysis_chart()"
   ]
  },
  {
   "cell_type": "markdown",
   "id": "546620278f0e0715",
   "metadata": {},
   "source": [
    "Select atomic displacement parameters (ADPs) to be refined in the 3rd round"
   ]
  },
  {
   "cell_type": "code",
   "execution_count": null,
   "id": "1808bef0f94af48a",
   "metadata": {
    "ExecuteTime": {
     "end_time": "2024-10-29T13:54:32.929194Z",
     "start_time": "2024-10-29T13:54:32.923594Z"
    }
   },
   "outputs": [],
   "source": [
    "job.phases['lbco'].atom_sites['La'].b_iso_or_equiv.free = True\n",
    "job.phases['lbco'].atom_sites['Ba'].b_iso_or_equiv.free = True\n",
    "job.phases['lbco'].atom_sites['Co'].b_iso_or_equiv.free = True\n",
    "job.phases['lbco'].atom_sites['O'].b_iso_or_equiv.free = True"
   ]
  },
  {
   "cell_type": "markdown",
   "id": "6058127ba3c99c9c",
   "metadata": {},
   "source": [
    "Print free parameters before the 3rd fitting"
   ]
  },
  {
   "cell_type": "code",
   "execution_count": null,
   "id": "2d673e2e6abad946",
   "metadata": {
    "ExecuteTime": {
     "end_time": "2024-10-29T13:54:32.948861Z",
     "start_time": "2024-10-29T13:54:32.942646Z"
    }
   },
   "outputs": [],
   "source": [
    "job.show_free_parameters()"
   ]
  },
  {
   "cell_type": "markdown",
   "id": "f242702028512831",
   "metadata": {},
   "source": [
    "Start 3rd round of minimization"
   ]
  },
  {
   "cell_type": "code",
   "execution_count": null,
   "id": "1b29ab5831b606dd",
   "metadata": {
    "ExecuteTime": {
     "end_time": "2024-10-29T13:54:42.735332Z",
     "start_time": "2024-10-29T13:54:32.962837Z"
    }
   },
   "outputs": [],
   "source": [
    "job.fit()"
   ]
  },
  {
   "cell_type": "markdown",
   "id": "80a5217170775b51",
   "metadata": {},
   "source": [
    "Print free parameters after the 3rd fitting"
   ]
  },
  {
   "cell_type": "code",
   "execution_count": null,
   "id": "df84e6fddc567a5b",
   "metadata": {
    "ExecuteTime": {
     "end_time": "2024-10-29T13:54:42.747148Z",
     "start_time": "2024-10-29T13:54:42.740344Z"
    }
   },
   "outputs": [],
   "source": [
    "job.show_free_parameters()"
   ]
  },
  {
   "cell_type": "markdown",
   "id": "8985cf633462faee",
   "metadata": {},
   "source": [
    "Display the analysis chart after the 3rd fitting"
   ]
  },
  {
   "cell_type": "code",
   "execution_count": null,
   "id": "c761fae92af9a6aa",
   "metadata": {
    "ExecuteTime": {
     "end_time": "2024-10-29T13:54:42.840104Z",
     "start_time": "2024-10-29T13:54:42.752414Z"
    }
   },
   "outputs": [],
   "source": [
    "job.show_analysis_chart()"
   ]
  },
  {
   "cell_type": "markdown",
   "id": "b0069053591ecfe8",
   "metadata": {},
   "source": [
    "Show all parameters after refinement"
   ]
  },
  {
   "cell_type": "code",
   "execution_count": null,
   "id": "e89500f2dabd92f1",
   "metadata": {
    "ExecuteTime": {
     "end_time": "2024-10-29T13:54:42.880984Z",
     "start_time": "2024-10-29T13:54:42.867567Z"
    }
   },
   "outputs": [],
   "source": [
    "job.show_parameters()"
   ]
  }
 ],
 "metadata": {
  "kernelspec": {
   "display_name": "Python 3 (ipykernel)",
   "language": "python",
   "name": "python3"
  },
  "language_info": {
   "codemirror_mode": {
    "name": "ipython",
    "version": 3
   },
   "file_extension": ".py",
   "mimetype": "text/x-python",
   "name": "python",
   "nbconvert_exporter": "python",
   "pygments_lexer": "ipython3",
   "version": "3.11.6"
  }
 },
 "nbformat": 4,
 "nbformat_minor": 5
}
