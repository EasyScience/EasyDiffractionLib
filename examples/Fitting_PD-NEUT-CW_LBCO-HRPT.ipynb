{
 "cells": [
  {
   "cell_type": "markdown",
   "id": "6e16d363",
   "metadata": {},
   "source": [
    "# Fitting <a class=\"label-experiment\" href=\"https://docs.easydiffraction.org/lib/glossary/#experiment-type-labels\">pd-neut-cwl</a> LBCO-HRPT\n",
    "\n",
    "This example shows how to refine the crystal structure parameters of La0.5Ba0.5CoO3 from neutron\n",
    "diffraction data in a constant wavelength experiment performed on HRPT diffractometer at PSI."
   ]
  },
  {
   "cell_type": "code",
   "execution_count": null,
   "id": "3843b03e",
   "metadata": {
    "tags": [
     "hide_in_docs"
    ]
   },
   "outputs": [],
   "source": [
    "# Check if the easydiffraction library is installed\n",
    "# If not, install it including the 'charts' extras\n",
    "# This is done when running in a Jupyter notebook\n",
    "import builtins\n",
    "import importlib.util\n",
    "\n",
    "if hasattr(builtins, \"__IPYTHON__\"):\n",
    "    if importlib.util.find_spec('easydiffraction') is None:\n",
    "        print('Installing the easydiffraction library...')\n",
    "        !pip install 'easydiffraction[charts] @ git+https://github.com/EasyScience/EasyDiffractionLib@more-examples'"
   ]
  },
  {
   "cell_type": "markdown",
   "id": "83d5adf9",
   "metadata": {},
   "source": [
    "## Import EasyDiffraction"
   ]
  },
  {
   "cell_type": "code",
   "execution_count": null,
   "id": "dc429322",
   "metadata": {},
   "outputs": [],
   "source": [
    "import easydiffraction as ed"
   ]
  },
  {
   "cell_type": "markdown",
   "id": "274aacf1",
   "metadata": {},
   "source": [
    "## Create a job\n",
    "\n",
    "Create a job — the main object to store all the information"
   ]
  },
  {
   "cell_type": "code",
   "execution_count": null,
   "id": "3c788ecb",
   "metadata": {},
   "outputs": [],
   "source": [
    "job = ed.Job()\n",
    "print(job.type)"
   ]
  },
  {
   "cell_type": "markdown",
   "id": "25408574",
   "metadata": {},
   "source": [
    "## Define a model\n",
    "\n",
    "Download the CIF file from the EasyDiffraction repository on GitHub"
   ]
  },
  {
   "cell_type": "code",
   "execution_count": null,
   "id": "d7b034c7",
   "metadata": {},
   "outputs": [],
   "source": [
    "ed.download_from_repository('lbco.cif', destination='data')"
   ]
  },
  {
   "cell_type": "markdown",
   "id": "0f811979",
   "metadata": {},
   "source": [
    "Load a phase from the downloaded CIF file"
   ]
  },
  {
   "cell_type": "code",
   "execution_count": null,
   "id": "e559d154",
   "metadata": {},
   "outputs": [],
   "source": [
    "job.add_phase_from_file('data/lbco.cif')\n",
    "print(job.phases)"
   ]
  },
  {
   "cell_type": "markdown",
   "id": "3dba4dd5",
   "metadata": {},
   "source": [
    "Show phase info in CIF format"
   ]
  },
  {
   "cell_type": "code",
   "execution_count": null,
   "id": "cbb4b945",
   "metadata": {},
   "outputs": [],
   "source": [
    "print(job.phases['lbco'].cif)"
   ]
  },
  {
   "cell_type": "markdown",
   "id": "572bb860",
   "metadata": {},
   "source": [
    "Display the crystal structure of a given model"
   ]
  },
  {
   "cell_type": "code",
   "execution_count": null,
   "id": "dc4ba751",
   "metadata": {},
   "outputs": [],
   "source": [
    "job.show_crystal_structure(id='lbco')"
   ]
  },
  {
   "cell_type": "markdown",
   "id": "2567a3c8",
   "metadata": {},
   "source": [
    "## Define an experiment\n",
    "\n",
    "Download the data file from the EasyDiffraction repository on GitHub"
   ]
  },
  {
   "cell_type": "code",
   "execution_count": null,
   "id": "30d7f13e",
   "metadata": {},
   "outputs": [],
   "source": [
    "ed.download_from_repository('hrpt.xye', destination='data')"
   ]
  },
  {
   "cell_type": "markdown",
   "id": "eb0d1e64",
   "metadata": {},
   "source": [
    "Show content of the downloaded file (first 6 lines)"
   ]
  },
  {
   "cell_type": "code",
   "execution_count": null,
   "id": "64dbd50d",
   "metadata": {},
   "outputs": [],
   "source": [
    "with open('data/hrpt.xye') as f:\n",
    "    print(''.join(f.readlines()[:6]))"
   ]
  },
  {
   "cell_type": "markdown",
   "id": "de59d9d1",
   "metadata": {},
   "source": [
    "\n",
    "Load experimentally measured data from a file in XYE format"
   ]
  },
  {
   "cell_type": "code",
   "execution_count": null,
   "id": "a90e0a81",
   "metadata": {},
   "outputs": [],
   "source": [
    "job.add_experiment_from_file('data/hrpt.xye')"
   ]
  },
  {
   "cell_type": "markdown",
   "id": "0276e716",
   "metadata": {},
   "source": [
    "Display the experimentally measured data"
   ]
  },
  {
   "cell_type": "code",
   "execution_count": null,
   "id": "8904499e",
   "metadata": {},
   "outputs": [],
   "source": [
    "job.show_experiment_chart()"
   ]
  },
  {
   "cell_type": "markdown",
   "id": "82835916",
   "metadata": {},
   "source": [
    "Define a point background"
   ]
  },
  {
   "cell_type": "code",
   "execution_count": null,
   "id": "e32df1b3",
   "metadata": {},
   "outputs": [],
   "source": [
    "job.set_background([(10.0, 170),\n",
    "                    (165.0, 170)])"
   ]
  },
  {
   "cell_type": "markdown",
   "id": "6967f158",
   "metadata": {},
   "source": [
    "Display the experiment chart after setting the background"
   ]
  },
  {
   "cell_type": "code",
   "execution_count": null,
   "id": "fad58ece",
   "metadata": {},
   "outputs": [],
   "source": [
    "job.show_experiment_chart()"
   ]
  },
  {
   "cell_type": "markdown",
   "id": "11c1d63f",
   "metadata": {},
   "source": [
    "## Perform an analysis\n",
    "\n",
    "Display the analysis chart before setting initial parameter values"
   ]
  },
  {
   "cell_type": "code",
   "execution_count": null,
   "id": "35dd2453",
   "metadata": {},
   "outputs": [],
   "source": [
    "job.show_analysis_chart()"
   ]
  },
  {
   "cell_type": "markdown",
   "id": "8624a0d6",
   "metadata": {},
   "source": [
    "Show all parameters before refinement"
   ]
  },
  {
   "cell_type": "code",
   "execution_count": null,
   "id": "a3972551",
   "metadata": {},
   "outputs": [],
   "source": [
    "job.show_parameters()"
   ]
  },
  {
   "cell_type": "markdown",
   "id": "931daf5f",
   "metadata": {},
   "source": [
    "Change the default value of the wavelength used in the experiment and display the analysis chart again"
   ]
  },
  {
   "cell_type": "code",
   "execution_count": null,
   "id": "a8eb36dd",
   "metadata": {},
   "outputs": [],
   "source": [
    "job.instrument.wavelength = 1.494\n",
    "job.show_analysis_chart()"
   ]
  },
  {
   "cell_type": "markdown",
   "id": "35055c80",
   "metadata": {},
   "source": [
    "Change the scale and display the analysis chart again"
   ]
  },
  {
   "cell_type": "code",
   "execution_count": null,
   "id": "d6fa3335",
   "metadata": {},
   "outputs": [],
   "source": [
    "job.phases['lbco'].scale = 3\n",
    "job.show_analysis_chart()"
   ]
  },
  {
   "cell_type": "markdown",
   "id": "4ed116bb",
   "metadata": {},
   "source": [
    "Change the default values of the peak profile related parameters and display the analysis chart again"
   ]
  },
  {
   "cell_type": "code",
   "execution_count": null,
   "id": "83138abb",
   "metadata": {},
   "outputs": [],
   "source": [
    "job.instrument.resolution_u = 0.1\n",
    "job.instrument.resolution_v = -0.1\n",
    "job.instrument.resolution_w = 0.2\n",
    "job.instrument.resolution_x = 0\n",
    "job.instrument.resolution_y = 0\n",
    "job.show_analysis_chart()"
   ]
  },
  {
   "cell_type": "markdown",
   "id": "6b9c7bb1",
   "metadata": {},
   "source": [
    "Select parameters to be refined in the 1st round"
   ]
  },
  {
   "cell_type": "code",
   "execution_count": null,
   "id": "d3a93882",
   "metadata": {},
   "outputs": [],
   "source": [
    "job.phases['lbco'].scale.free = True\n",
    "job.phases['lbco'].cell.length_a.free = True\n",
    "job.pattern.zero_shift.free = True\n",
    "job.pattern.backgrounds[0][0].y.free = True\n",
    "job.pattern.backgrounds[0][1].y.free = True"
   ]
  },
  {
   "cell_type": "markdown",
   "id": "763bc96d",
   "metadata": {},
   "source": [
    "Print parameters to be refined (free parameters) before fitting"
   ]
  },
  {
   "cell_type": "code",
   "execution_count": null,
   "id": "e8138bc2",
   "metadata": {},
   "outputs": [],
   "source": [
    "job.show_free_parameters()"
   ]
  },
  {
   "cell_type": "code",
   "execution_count": null,
   "id": "59d88f1c",
   "metadata": {},
   "outputs": [],
   "source": [
    "job.get_fit_parameters()"
   ]
  },
  {
   "cell_type": "markdown",
   "id": "b1149d4a",
   "metadata": {},
   "source": [
    "Start Least-Squares minimization to refine the selected parameters"
   ]
  },
  {
   "cell_type": "code",
   "execution_count": null,
   "id": "f6000d32",
   "metadata": {},
   "outputs": [],
   "source": [
    "job.fit()"
   ]
  },
  {
   "cell_type": "markdown",
   "id": "799161ef",
   "metadata": {},
   "source": [
    "Print the refined parameters after fitting"
   ]
  },
  {
   "cell_type": "code",
   "execution_count": null,
   "id": "dd870bc7",
   "metadata": {},
   "outputs": [],
   "source": [
    "job.show_free_parameters()"
   ]
  },
  {
   "cell_type": "markdown",
   "id": "889b9a87",
   "metadata": {},
   "source": [
    "Display the analysis chart after the 1st fitting"
   ]
  },
  {
   "cell_type": "code",
   "execution_count": null,
   "id": "ddf50a6a",
   "metadata": {},
   "outputs": [],
   "source": [
    "job.show_analysis_chart()"
   ]
  },
  {
   "cell_type": "markdown",
   "id": "d88ad5ab",
   "metadata": {},
   "source": [
    "Select more parameters to be refined in the 2nd round"
   ]
  },
  {
   "cell_type": "code",
   "execution_count": null,
   "id": "1faa1131",
   "metadata": {},
   "outputs": [],
   "source": [
    "job.instrument.resolution_u.free = True\n",
    "job.instrument.resolution_v.free = True\n",
    "job.instrument.resolution_w.free = True\n",
    "job.instrument.resolution_y.free = True"
   ]
  },
  {
   "cell_type": "markdown",
   "id": "47cb21f5",
   "metadata": {},
   "source": [
    "Print free parameters before the 2nd fitting"
   ]
  },
  {
   "cell_type": "code",
   "execution_count": null,
   "id": "64fb6794",
   "metadata": {},
   "outputs": [],
   "source": [
    "job.show_free_parameters()"
   ]
  },
  {
   "cell_type": "markdown",
   "id": "99dbe37d",
   "metadata": {},
   "source": [
    "Start 2nd round of minimization"
   ]
  },
  {
   "cell_type": "code",
   "execution_count": null,
   "id": "462a0f70",
   "metadata": {},
   "outputs": [],
   "source": [
    "job.fit()"
   ]
  },
  {
   "cell_type": "markdown",
   "id": "0f03ca54",
   "metadata": {},
   "source": [
    "Print free parameters after the 2nd fitting"
   ]
  },
  {
   "cell_type": "code",
   "execution_count": null,
   "id": "a6974eee",
   "metadata": {},
   "outputs": [],
   "source": [
    "job.show_free_parameters()"
   ]
  },
  {
   "cell_type": "markdown",
   "id": "a09a8c58",
   "metadata": {},
   "source": [
    "Display the analysis chart after the 2nd fitting"
   ]
  },
  {
   "cell_type": "code",
   "execution_count": null,
   "id": "740c138a",
   "metadata": {},
   "outputs": [],
   "source": [
    "job.show_analysis_chart()"
   ]
  },
  {
   "cell_type": "markdown",
   "id": "1b70ba38",
   "metadata": {},
   "source": [
    "Select atomic displacement parameters (ADPs) to be refined in the 3rd round"
   ]
  },
  {
   "cell_type": "code",
   "execution_count": null,
   "id": "e73e0ebb",
   "metadata": {},
   "outputs": [],
   "source": [
    "job.phases['lbco'].atom_sites['La'].b_iso_or_equiv.free = True\n",
    "job.phases['lbco'].atom_sites['Ba'].b_iso_or_equiv.free = True\n",
    "job.phases['lbco'].atom_sites['Co'].b_iso_or_equiv.free = True\n",
    "job.phases['lbco'].atom_sites['O'].b_iso_or_equiv.free = True"
   ]
  },
  {
   "cell_type": "markdown",
   "id": "dcfc85e2",
   "metadata": {},
   "source": [
    "Print free parameters before the 3rd fitting"
   ]
  },
  {
   "cell_type": "code",
   "execution_count": null,
   "id": "fc7fd01e",
   "metadata": {},
   "outputs": [],
   "source": [
    "job.show_free_parameters()"
   ]
  },
  {
   "cell_type": "markdown",
   "id": "879b969a",
   "metadata": {},
   "source": [
    "Start 3rd round of minimization"
   ]
  },
  {
   "cell_type": "code",
   "execution_count": null,
   "id": "ea0df31d",
   "metadata": {},
   "outputs": [],
   "source": [
    "job.fit()"
   ]
  },
  {
   "cell_type": "markdown",
   "id": "1e06bff0",
   "metadata": {},
   "source": [
    "Print free parameters after the 3rd fitting"
   ]
  },
  {
   "cell_type": "code",
   "execution_count": null,
   "id": "273d68ef",
   "metadata": {},
   "outputs": [],
   "source": [
    "job.show_free_parameters()"
   ]
  },
  {
   "cell_type": "markdown",
   "id": "c2dd0f20",
   "metadata": {},
   "source": [
    "Display the analysis chart after the 3rd fitting"
   ]
  },
  {
   "cell_type": "code",
   "execution_count": null,
   "id": "cdb5096b",
   "metadata": {},
   "outputs": [],
   "source": [
    "job.show_analysis_chart()"
   ]
  },
  {
   "cell_type": "markdown",
   "id": "880819a3",
   "metadata": {},
   "source": [
    "Show all parameters after refinement"
   ]
  },
  {
   "cell_type": "code",
   "execution_count": null,
   "id": "331bff7f",
   "metadata": {},
   "outputs": [],
   "source": [
    "job.show_parameters()"
   ]
  }
 ],
 "metadata": {
  "kernelspec": {
   "display_name": "Python 3 (ipykernel)",
   "language": "python",
   "name": "python3"
  }
 },
 "nbformat": 4,
 "nbformat_minor": 5
}
