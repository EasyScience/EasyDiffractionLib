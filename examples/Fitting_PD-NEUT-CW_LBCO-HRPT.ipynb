{
 "cells": [
  {
   "cell_type": "markdown",
   "id": "d300d0e5",
   "metadata": {},
   "source": [
    "# Fitting `PD-NEUT-CW` LBCO-HRPT\n",
    "\n",
    "This example shows how to refine the crystal structure parameters of La0.5Ba0.5CoO3 from neutron diffraction data in a constant wavelength experiment performed on HRPT diffractometer at PSI."
   ]
  },
  {
   "cell_type": "code",
   "execution_count": null,
   "id": "ee82be4c",
   "metadata": {
    "ExecuteTime": {
     "end_time": "2024-11-08T18:07:04.457653Z",
     "start_time": "2024-11-08T18:07:04.453820Z"
    },
    "tags": [
     "hide_in_docs"
    ]
   },
   "outputs": [],
   "source": [
    "# Check if the easydiffraction library is installed\n",
    "# If not, install it including the 'charts' extras\n",
    "# This is done when running in a Jupyter notebook\n",
    "import builtins\n",
    "import importlib.util\n",
    "\n",
    "if hasattr(builtins, \"__IPYTHON__\"):\n",
    "    if importlib.util.find_spec('easydiffraction') is None:\n",
    "        print('Installing the easydiffraction library...')\n",
    "        !pip install 'easydiffraction[charts] @ git+https://github.com/EasyScience/EasyDiffractionLib@more-examples'"
   ]
  },
  {
   "cell_type": "markdown",
   "id": "28d3431c",
   "metadata": {},
   "source": [
    "## Import EasyDiffraction"
   ]
  },
  {
   "cell_type": "code",
   "execution_count": null,
   "id": "2e545548",
   "metadata": {
    "ExecuteTime": {
     "end_time": "2024-11-08T18:07:07.626781Z",
     "start_time": "2024-11-08T18:07:04.461220Z"
    }
   },
   "outputs": [],
   "source": [
    "import easydiffraction as ed"
   ]
  },
  {
   "cell_type": "markdown",
   "id": "aa6bb51a",
   "metadata": {},
   "source": [
    "## Job\n",
    "\n",
    "Create a job — the main object to store all the information"
   ]
  },
  {
   "cell_type": "code",
   "execution_count": null,
   "id": "74cce9f1",
   "metadata": {
    "ExecuteTime": {
     "end_time": "2024-11-08T18:07:07.748798Z",
     "start_time": "2024-11-08T18:07:07.738933Z"
    }
   },
   "outputs": [],
   "source": [
    "job = ed.Job()"
   ]
  },
  {
   "cell_type": "markdown",
   "id": "44e4d339",
   "metadata": {},
   "source": [
    "## Model\n",
    "\n",
    "Download the CIF file from the EasyDiffraction repository on GitHub"
   ]
  },
  {
   "cell_type": "code",
   "execution_count": null,
   "id": "1120f9e4",
   "metadata": {
    "ExecuteTime": {
     "end_time": "2024-11-08T18:07:08.091980Z",
     "start_time": "2024-11-08T18:07:08.090097Z"
    }
   },
   "outputs": [],
   "source": [
    "ed.download_from_repository('lbco.cif', destination='data')"
   ]
  },
  {
   "cell_type": "markdown",
   "id": "7865b3b2",
   "metadata": {},
   "source": [
    "Load a phase from the downloaded CIF file"
   ]
  },
  {
   "cell_type": "code",
   "execution_count": null,
   "id": "7f5d5086",
   "metadata": {
    "ExecuteTime": {
     "end_time": "2024-11-08T18:07:08.389392Z",
     "start_time": "2024-11-08T18:07:08.096288Z"
    }
   },
   "outputs": [],
   "source": [
    "job.add_phase_from_file('data/lbco.cif')\n",
    "print(job.phases)"
   ]
  },
  {
   "cell_type": "markdown",
   "id": "e1c8d047",
   "metadata": {},
   "source": [
    "Show phase info in CIF format"
   ]
  },
  {
   "cell_type": "code",
   "execution_count": null,
   "id": "c3fa98ee",
   "metadata": {
    "ExecuteTime": {
     "end_time": "2024-11-08T18:07:08.401104Z",
     "start_time": "2024-11-08T18:07:08.394852Z"
    }
   },
   "outputs": [],
   "source": [
    "print(job.phases['lbco'].cif)"
   ]
  },
  {
   "cell_type": "markdown",
   "id": "89122d57",
   "metadata": {},
   "source": [
    "Display the crystal structure of a given model"
   ]
  },
  {
   "cell_type": "code",
   "execution_count": null,
   "id": "061cd146",
   "metadata": {
    "ExecuteTime": {
     "end_time": "2024-11-08T18:07:08.421584Z",
     "start_time": "2024-11-08T18:07:08.415021Z"
    }
   },
   "outputs": [],
   "source": [
    "job.show_crystal_structure(id='lbco')"
   ]
  },
  {
   "cell_type": "markdown",
   "id": "4b8dc318",
   "metadata": {},
   "source": [
    "## Experiment\n",
    "\n",
    "Download the data file from the EasyDiffraction repository on GitHub"
   ]
  },
  {
   "cell_type": "code",
   "execution_count": null,
   "id": "75181127",
   "metadata": {
    "ExecuteTime": {
     "end_time": "2024-11-08T18:07:08.436990Z",
     "start_time": "2024-11-08T18:07:08.435307Z"
    }
   },
   "outputs": [],
   "source": [
    "ed.download_from_repository('hrpt.xye', destination='data')"
   ]
  },
  {
   "cell_type": "markdown",
   "id": "5113283c",
   "metadata": {},
   "source": [
    "Show content of the downloaded file (first 6 lines)"
   ]
  },
  {
   "cell_type": "code",
   "execution_count": null,
   "id": "327fc28a",
   "metadata": {
    "ExecuteTime": {
     "end_time": "2024-11-08T18:07:08.450133Z",
     "start_time": "2024-11-08T18:07:08.440898Z"
    }
   },
   "outputs": [],
   "source": [
    "with open('data/hrpt.xye') as f:\n",
    "    print(''.join(f.readlines()[:6]))"
   ]
  },
  {
   "cell_type": "markdown",
   "id": "cd215930",
   "metadata": {},
   "source": [
    "\n",
    "Load experimentally measured data from a file in XYE format"
   ]
  },
  {
   "cell_type": "code",
   "execution_count": null,
   "id": "f1a43f00",
   "metadata": {
    "ExecuteTime": {
     "end_time": "2024-11-08T18:07:08.530071Z",
     "start_time": "2024-11-08T18:07:08.460818Z"
    }
   },
   "outputs": [],
   "source": [
    "job.add_experiment_from_file('data/hrpt.xye')"
   ]
  },
  {
   "cell_type": "markdown",
   "id": "6156fc04",
   "metadata": {},
   "source": [
    "Display the experimentally measured data"
   ]
  },
  {
   "cell_type": "code",
   "execution_count": null,
   "id": "1c730f0e",
   "metadata": {
    "ExecuteTime": {
     "end_time": "2024-11-08T18:07:08.955773Z",
     "start_time": "2024-11-08T18:07:08.534180Z"
    }
   },
   "outputs": [],
   "source": [
    "job.show_experiment_chart()"
   ]
  },
  {
   "cell_type": "markdown",
   "id": "d6177616",
   "metadata": {},
   "source": [
    "Define a point background"
   ]
  },
  {
   "cell_type": "code",
   "execution_count": null,
   "id": "2f7dd547",
   "metadata": {
    "ExecuteTime": {
     "end_time": "2024-11-08T18:07:09.188713Z",
     "start_time": "2024-11-08T18:07:09.183998Z"
    }
   },
   "outputs": [],
   "source": [
    "job.set_background([(10.0, 170),\n",
    "                    (165.0, 170)])"
   ]
  },
  {
   "cell_type": "markdown",
   "id": "8ab19efb",
   "metadata": {},
   "source": [
    "Display the experiment chart after setting the background"
   ]
  },
  {
   "cell_type": "code",
   "execution_count": null,
   "id": "d77c2f03",
   "metadata": {
    "ExecuteTime": {
     "end_time": "2024-11-08T18:07:09.210414Z",
     "start_time": "2024-11-08T18:07:09.193847Z"
    }
   },
   "outputs": [],
   "source": [
    "job.show_experiment_chart()"
   ]
  },
  {
   "cell_type": "markdown",
   "id": "0fa53f0d",
   "metadata": {},
   "source": [
    "## Analysis\n",
    "\n",
    "Display the analysis chart before setting initial parameter values"
   ]
  },
  {
   "cell_type": "code",
   "execution_count": null,
   "id": "dc992537",
   "metadata": {
    "ExecuteTime": {
     "end_time": "2024-11-08T18:07:09.347443Z",
     "start_time": "2024-11-08T18:07:09.230010Z"
    }
   },
   "outputs": [],
   "source": [
    "job.show_analysis_chart()"
   ]
  },
  {
   "cell_type": "markdown",
   "id": "b4174aa4",
   "metadata": {},
   "source": [
    "Show all parameters before refinement"
   ]
  },
  {
   "cell_type": "code",
   "execution_count": null,
   "id": "da8414b2",
   "metadata": {
    "ExecuteTime": {
     "end_time": "2024-11-08T18:07:09.401248Z",
     "start_time": "2024-11-08T18:07:09.382827Z"
    }
   },
   "outputs": [],
   "source": [
    "job.show_parameters()"
   ]
  },
  {
   "cell_type": "markdown",
   "id": "cd6e964c",
   "metadata": {},
   "source": [
    "Change the default value of the wavelength used in the experiment and display the analysis chart again"
   ]
  },
  {
   "cell_type": "code",
   "execution_count": null,
   "id": "0d126127",
   "metadata": {
    "ExecuteTime": {
     "end_time": "2024-11-08T18:07:09.524783Z",
     "start_time": "2024-11-08T18:07:09.418340Z"
    }
   },
   "outputs": [],
   "source": [
    "job.instrument.wavelength = 1.494\n",
    "job.show_analysis_chart()"
   ]
  },
  {
   "cell_type": "markdown",
   "id": "7aecc0af",
   "metadata": {},
   "source": [
    "Change the scale and display the analysis chart again"
   ]
  },
  {
   "cell_type": "code",
   "execution_count": null,
   "id": "57485ea8",
   "metadata": {
    "ExecuteTime": {
     "end_time": "2024-11-08T18:07:09.676598Z",
     "start_time": "2024-11-08T18:07:09.603718Z"
    }
   },
   "outputs": [],
   "source": [
    "job.phases['lbco'].scale = 3\n",
    "job.show_analysis_chart()"
   ]
  },
  {
   "cell_type": "markdown",
   "id": "1466fedf",
   "metadata": {},
   "source": [
    "Change the default values of the peak profile related parameters and display the analysis chart again"
   ]
  },
  {
   "cell_type": "code",
   "execution_count": null,
   "id": "f5698332",
   "metadata": {
    "ExecuteTime": {
     "end_time": "2024-11-08T18:07:10.066588Z",
     "start_time": "2024-11-08T18:07:09.993126Z"
    }
   },
   "outputs": [],
   "source": [
    "job.instrument.resolution_u = 0.1\n",
    "job.instrument.resolution_v = -0.1\n",
    "job.instrument.resolution_w = 0.2\n",
    "job.instrument.resolution_x = 0\n",
    "job.instrument.resolution_y = 0\n",
    "job.show_analysis_chart()"
   ]
  },
  {
   "cell_type": "markdown",
   "id": "111960d7",
   "metadata": {},
   "source": [
    "Select parameters to be refined in the 1st round"
   ]
  },
  {
   "cell_type": "code",
   "execution_count": null,
   "id": "9dcd09aa",
   "metadata": {
    "ExecuteTime": {
     "end_time": "2024-11-08T18:07:10.098317Z",
     "start_time": "2024-11-08T18:07:10.095522Z"
    }
   },
   "outputs": [],
   "source": [
    "job.phases['lbco'].scale.free = True\n",
    "job.phases['lbco'].cell.length_a.free = True\n",
    "job.pattern.zero_shift.free = True\n",
    "job.pattern.backgrounds[0][0].y.free = True\n",
    "job.pattern.backgrounds[0][1].y.free = True"
   ]
  },
  {
   "cell_type": "markdown",
   "id": "34426790",
   "metadata": {},
   "source": [
    "Print parameters to be refined (free parameters) before fitting"
   ]
  },
  {
   "cell_type": "code",
   "execution_count": null,
   "id": "2eb72a4b",
   "metadata": {
    "ExecuteTime": {
     "end_time": "2024-11-08T18:07:10.106242Z",
     "start_time": "2024-11-08T18:07:10.102739Z"
    }
   },
   "outputs": [],
   "source": [
    "job.show_free_parameters()"
   ]
  },
  {
   "cell_type": "code",
   "execution_count": null,
   "id": "9e328b2a",
   "metadata": {
    "ExecuteTime": {
     "end_time": "2024-11-08T18:07:10.113682Z",
     "start_time": "2024-11-08T18:07:10.110924Z"
    }
   },
   "outputs": [],
   "source": [
    "job.get_fit_parameters()"
   ]
  },
  {
   "cell_type": "markdown",
   "id": "836373bb",
   "metadata": {},
   "source": [
    "Start Least-Squares minimization to refine the selected parameters"
   ]
  },
  {
   "cell_type": "code",
   "execution_count": null,
   "id": "a866fa73",
   "metadata": {
    "ExecuteTime": {
     "end_time": "2024-11-08T18:07:13.883677Z",
     "start_time": "2024-11-08T18:07:10.384222Z"
    }
   },
   "outputs": [],
   "source": [
    "job.fit()"
   ]
  },
  {
   "cell_type": "markdown",
   "id": "63b170bf",
   "metadata": {},
   "source": [
    "Print the refined parameters after fitting"
   ]
  },
  {
   "cell_type": "code",
   "execution_count": null,
   "id": "a84dce3c",
   "metadata": {
    "ExecuteTime": {
     "end_time": "2024-11-08T18:07:13.892125Z",
     "start_time": "2024-11-08T18:07:13.888860Z"
    }
   },
   "outputs": [],
   "source": [
    "job.show_free_parameters()"
   ]
  },
  {
   "cell_type": "markdown",
   "id": "cfc39a84",
   "metadata": {},
   "source": [
    "Display the analysis chart after the 1st fitting"
   ]
  },
  {
   "cell_type": "code",
   "execution_count": null,
   "id": "1c4e2de0",
   "metadata": {
    "ExecuteTime": {
     "end_time": "2024-11-08T18:07:13.965643Z",
     "start_time": "2024-11-08T18:07:13.896194Z"
    }
   },
   "outputs": [],
   "source": [
    "job.show_analysis_chart()"
   ]
  },
  {
   "cell_type": "markdown",
   "id": "29aee7f2",
   "metadata": {},
   "source": [
    "Select more parameters to be refined in the 2nd round"
   ]
  },
  {
   "cell_type": "code",
   "execution_count": null,
   "id": "c48e6d61",
   "metadata": {
    "ExecuteTime": {
     "end_time": "2024-11-08T18:07:14.301566Z",
     "start_time": "2024-11-08T18:07:14.297836Z"
    }
   },
   "outputs": [],
   "source": [
    "job.instrument.resolution_u.free = True\n",
    "job.instrument.resolution_v.free = True\n",
    "job.instrument.resolution_w.free = True\n",
    "job.instrument.resolution_y.free = True"
   ]
  },
  {
   "cell_type": "markdown",
   "id": "29d1e1e1",
   "metadata": {},
   "source": [
    "Print free parameters before the 2nd fitting"
   ]
  },
  {
   "cell_type": "code",
   "execution_count": null,
   "id": "06b1b707",
   "metadata": {
    "ExecuteTime": {
     "end_time": "2024-11-08T18:07:14.345913Z",
     "start_time": "2024-11-08T18:07:14.339854Z"
    }
   },
   "outputs": [],
   "source": [
    "job.show_free_parameters()"
   ]
  },
  {
   "cell_type": "markdown",
   "id": "dd0709a2",
   "metadata": {},
   "source": [
    "Start 2nd round of minimization"
   ]
  },
  {
   "cell_type": "code",
   "execution_count": null,
   "id": "4f780aa2",
   "metadata": {
    "ExecuteTime": {
     "end_time": "2024-11-08T18:07:18.520125Z",
     "start_time": "2024-11-08T18:07:14.368772Z"
    }
   },
   "outputs": [],
   "source": [
    "job.fit()"
   ]
  },
  {
   "cell_type": "markdown",
   "id": "5ec19dcb",
   "metadata": {},
   "source": [
    "Print free parameters after the 2nd fitting"
   ]
  },
  {
   "cell_type": "code",
   "execution_count": null,
   "id": "fefe40ae",
   "metadata": {
    "ExecuteTime": {
     "end_time": "2024-11-08T18:07:18.530202Z",
     "start_time": "2024-11-08T18:07:18.526493Z"
    }
   },
   "outputs": [],
   "source": [
    "job.show_free_parameters()"
   ]
  },
  {
   "cell_type": "markdown",
   "id": "50b03fba",
   "metadata": {},
   "source": [
    "Display the analysis chart after the 2nd fitting"
   ]
  },
  {
   "cell_type": "code",
   "execution_count": null,
   "id": "3a7ab92a",
   "metadata": {
    "ExecuteTime": {
     "end_time": "2024-11-08T18:07:18.610452Z",
     "start_time": "2024-11-08T18:07:18.535465Z"
    }
   },
   "outputs": [],
   "source": [
    "job.show_analysis_chart()"
   ]
  },
  {
   "cell_type": "markdown",
   "id": "cda6e808",
   "metadata": {},
   "source": [
    "Select atomic displacement parameters (ADPs) to be refined in the 3rd round"
   ]
  },
  {
   "cell_type": "code",
   "execution_count": null,
   "id": "626c8f4f",
   "metadata": {
    "ExecuteTime": {
     "end_time": "2024-11-08T18:07:18.855796Z",
     "start_time": "2024-11-08T18:07:18.850753Z"
    }
   },
   "outputs": [],
   "source": [
    "job.phases['lbco'].atom_sites['La'].b_iso_or_equiv.free = True\n",
    "job.phases['lbco'].atom_sites['Ba'].b_iso_or_equiv.free = True\n",
    "job.phases['lbco'].atom_sites['Co'].b_iso_or_equiv.free = True\n",
    "job.phases['lbco'].atom_sites['O'].b_iso_or_equiv.free = True"
   ]
  },
  {
   "cell_type": "markdown",
   "id": "7d93f267",
   "metadata": {},
   "source": [
    "Print free parameters before the 3rd fitting"
   ]
  },
  {
   "cell_type": "code",
   "execution_count": null,
   "id": "e43b85e2",
   "metadata": {
    "ExecuteTime": {
     "end_time": "2024-11-08T18:07:18.865313Z",
     "start_time": "2024-11-08T18:07:18.860244Z"
    }
   },
   "outputs": [],
   "source": [
    "job.show_free_parameters()"
   ]
  },
  {
   "cell_type": "markdown",
   "id": "b4d453e5",
   "metadata": {},
   "source": [
    "Start 3rd round of minimization"
   ]
  },
  {
   "cell_type": "code",
   "execution_count": null,
   "id": "795343a9",
   "metadata": {
    "ExecuteTime": {
     "end_time": "2024-11-08T18:07:26.548949Z",
     "start_time": "2024-11-08T18:07:18.875369Z"
    }
   },
   "outputs": [],
   "source": [
    "job.fit()"
   ]
  },
  {
   "cell_type": "markdown",
   "id": "bf6b28fc",
   "metadata": {},
   "source": [
    "Print free parameters after the 3rd fitting"
   ]
  },
  {
   "cell_type": "code",
   "execution_count": null,
   "id": "6d8ee702",
   "metadata": {
    "ExecuteTime": {
     "end_time": "2024-11-08T18:07:26.559262Z",
     "start_time": "2024-11-08T18:07:26.554683Z"
    }
   },
   "outputs": [],
   "source": [
    "job.show_free_parameters()"
   ]
  },
  {
   "cell_type": "markdown",
   "id": "d0d32b29",
   "metadata": {},
   "source": [
    "Display the analysis chart after the 3rd fitting"
   ]
  },
  {
   "cell_type": "code",
   "execution_count": null,
   "id": "809b2736",
   "metadata": {
    "ExecuteTime": {
     "end_time": "2024-11-08T18:07:26.640954Z",
     "start_time": "2024-11-08T18:07:26.564817Z"
    }
   },
   "outputs": [],
   "source": [
    "job.show_analysis_chart()"
   ]
  },
  {
   "cell_type": "markdown",
   "id": "d63f881e",
   "metadata": {},
   "source": [
    "Show all parameters after refinement"
   ]
  },
  {
   "cell_type": "code",
   "execution_count": null,
   "id": "580faf09",
   "metadata": {
    "ExecuteTime": {
     "end_time": "2024-11-08T18:07:26.967767Z",
     "start_time": "2024-11-08T18:07:26.959207Z"
    }
   },
   "outputs": [],
   "source": [
    "job.show_parameters()"
   ]
  }
 ],
 "metadata": {
  "kernelspec": {
   "display_name": "Python 3 (ipykernel)",
   "language": "python",
   "name": "python3"
  }
 },
 "nbformat": 4,
 "nbformat_minor": 5
}
