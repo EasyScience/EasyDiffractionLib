{
 "cells": [
  {
   "cell_type": "markdown",
   "id": "25d9a98a",
   "metadata": {},
   "source": [
    "# Fitting `PD-NEUT-TOF` NCAF-WISH\n",
    "\n",
    "This example shows how to refine the crystal structure parameters of Si from neutron diffraction data in a time-of-flight experiment performed on SEPD diffractometer at Argonne."
   ]
  },
  {
   "cell_type": "code",
   "execution_count": null,
   "id": "e2b2ea82",
   "metadata": {
    "tags": [
     "hide_in_docs"
    ]
   },
   "outputs": [],
   "source": [
    "# Install the easydiffraction library if it is not installed (including charts extras)\n",
    "import importlib.util\n",
    "\n",
    "if importlib.util.find_spec('easydiffraction') is None:\n",
    "    !pip install 'easydiffraction[charts] @ git+https://github.com/EasyScience/EasyDiffractionLib@more-examples'"
   ]
  },
  {
   "cell_type": "markdown",
   "id": "2b1511ed",
   "metadata": {},
   "source": [
    "## Import EasyDiffraction"
   ]
  },
  {
   "cell_type": "code",
   "execution_count": null,
   "id": "3a0bcafc",
   "metadata": {},
   "outputs": [],
   "source": [
    "import easydiffraction as ed"
   ]
  },
  {
   "cell_type": "markdown",
   "id": "20ab20d4",
   "metadata": {},
   "source": [
    "## Job"
   ]
  },
  {
   "cell_type": "markdown",
   "id": "58939041",
   "metadata": {},
   "source": [
    "Create a job — the main object to store all the information"
   ]
  },
  {
   "cell_type": "code",
   "execution_count": null,
   "id": "af38b09d",
   "metadata": {},
   "outputs": [],
   "source": [
    "job = ed.Job(type='tof')"
   ]
  },
  {
   "cell_type": "markdown",
   "id": "7adcd194",
   "metadata": {},
   "source": [
    "## Model"
   ]
  },
  {
   "cell_type": "markdown",
   "id": "7459f358",
   "metadata": {},
   "source": [
    "Load a phase from CIF file"
   ]
  },
  {
   "cell_type": "code",
   "execution_count": null,
   "id": "24b4e229",
   "metadata": {},
   "outputs": [],
   "source": [
    "job.add_phase_from_file('data/ncaf.cif')\n",
    "print(job.phases)"
   ]
  },
  {
   "cell_type": "markdown",
   "id": "e08e2350",
   "metadata": {},
   "source": [
    "Show phase info in CIF format"
   ]
  },
  {
   "cell_type": "code",
   "execution_count": null,
   "id": "c5780acd",
   "metadata": {},
   "outputs": [],
   "source": [
    "phase = job.phases['ncaf']\n",
    "print(phase.cif)"
   ]
  },
  {
   "cell_type": "markdown",
   "id": "c0c07a11",
   "metadata": {},
   "source": [
    "Display the crystal structure of a given model"
   ]
  },
  {
   "cell_type": "code",
   "execution_count": null,
   "id": "6a69db21",
   "metadata": {},
   "outputs": [],
   "source": [
    "job.show_crystal_structure(id='ncaf')"
   ]
  },
  {
   "cell_type": "markdown",
   "id": "85e03443",
   "metadata": {},
   "source": [
    "## Experiment\n",
    "\n",
    "Download the data file from the EasyDiffraction repository on GitHub"
   ]
  },
  {
   "cell_type": "code",
   "execution_count": null,
   "id": "8f9c3dfe",
   "metadata": {},
   "outputs": [],
   "source": [
    "ed.download_from_repository('wish.xye', destination='data')"
   ]
  },
  {
   "cell_type": "markdown",
   "id": "8e6c3123",
   "metadata": {},
   "source": [
    "Show content of the downloaded file (first 5 lines)"
   ]
  },
  {
   "cell_type": "code",
   "execution_count": null,
   "id": "26e05f2c",
   "metadata": {},
   "outputs": [],
   "source": [
    "with open('data/wish.xye') as f:\n",
    "    print(''.join(f.readlines()[:5]))"
   ]
  },
  {
   "cell_type": "markdown",
   "id": "bc16692f",
   "metadata": {},
   "source": [
    "Load experimentally measured data from downloaded file in XYE format"
   ]
  },
  {
   "cell_type": "code",
   "execution_count": null,
   "id": "79d44f88",
   "metadata": {},
   "outputs": [],
   "source": [
    "job.add_experiment_from_file('data/wish.xye')"
   ]
  },
  {
   "cell_type": "markdown",
   "id": "6297d976",
   "metadata": {},
   "source": [
    "Display the experimentally measured data"
   ]
  },
  {
   "cell_type": "code",
   "execution_count": null,
   "id": "753927c3",
   "metadata": {},
   "outputs": [],
   "source": [
    "job.show_experiment_chart()"
   ]
  },
  {
   "cell_type": "markdown",
   "id": "9a0fed51",
   "metadata": {},
   "source": [
    "Define a point background"
   ]
  },
  {
   "cell_type": "code",
   "execution_count": null,
   "id": "49fcdb97",
   "metadata": {},
   "outputs": [],
   "source": [
    "background_points = [\n",
    "    (  9162, 465),\n",
    "    ( 11136, 593),\n",
    "    ( 13313, 497),\n",
    "    ( 14906, 546),\n",
    "    ( 16454, 533),\n",
    "    ( 17352, 496),\n",
    "    ( 18743, 428),\n",
    "    ( 20179, 452),\n",
    "    ( 21368, 397),\n",
    "    ( 22176, 468),\n",
    "    ( 22827, 477),\n",
    "    ( 24644, 380),\n",
    "    ( 26439, 381),\n",
    "    ( 28257, 378),\n",
    "    ( 31196, 343),\n",
    "    ( 34034, 328),\n",
    "    ( 37265, 310),\n",
    "    ( 41214, 323),\n",
    "    ( 44827, 283),\n",
    "    ( 49830, 273),\n",
    "    ( 52905, 257),\n",
    "    ( 58204, 260),\n",
    "    ( 62916, 261),\n",
    "    ( 70186, 262),\n",
    "    ( 74204, 262),\n",
    "    ( 82103, 268),\n",
    "    ( 91958, 268),\n",
    "    (102712, 262)\n",
    "]\n",
    "job.set_background(background_points)"
   ]
  },
  {
   "cell_type": "markdown",
   "id": "a9ed4eb1",
   "metadata": {},
   "source": [
    "Display the experiment chart after setting the background"
   ]
  },
  {
   "cell_type": "code",
   "execution_count": null,
   "id": "657b3418",
   "metadata": {},
   "outputs": [],
   "source": [
    "job.show_experiment_chart()"
   ]
  },
  {
   "cell_type": "markdown",
   "id": "eaef7c54",
   "metadata": {},
   "source": [
    "## Analysis"
   ]
  },
  {
   "cell_type": "markdown",
   "id": "431f2b85",
   "metadata": {},
   "source": [
    "Display the analysis chart before setting initial parameter values"
   ]
  },
  {
   "cell_type": "code",
   "execution_count": null,
   "id": "b332d4c8",
   "metadata": {},
   "outputs": [],
   "source": [
    "job.show_analysis_chart()"
   ]
  },
  {
   "cell_type": "markdown",
   "id": "63159976",
   "metadata": {},
   "source": [
    "Create aliases for the two types of experimental parameters"
   ]
  },
  {
   "cell_type": "code",
   "execution_count": null,
   "id": "12d22629",
   "metadata": {},
   "outputs": [],
   "source": [
    "pattern= job.pattern\n",
    "instrument = job.instrument"
   ]
  },
  {
   "cell_type": "markdown",
   "id": "9b491b7e",
   "metadata": {},
   "source": [
    "Change the default value of some instrumental parameters and display the analysis chart again"
   ]
  },
  {
   "cell_type": "code",
   "execution_count": null,
   "id": "18f93ad8",
   "metadata": {},
   "outputs": [],
   "source": [
    "instrument.dtt1 = 20770\n",
    "instrument.dtt2 = -1.08308\n",
    "instrument.ttheta_bank = 152.827\n",
    "job.show_analysis_chart()"
   ]
  },
  {
   "cell_type": "markdown",
   "id": "7a330725",
   "metadata": {},
   "source": [
    "Change the scale and display the analysis chart again"
   ]
  },
  {
   "cell_type": "code",
   "execution_count": null,
   "id": "ad8370ef",
   "metadata": {},
   "outputs": [],
   "source": [
    "phase.scale = 0.5\n",
    "job.show_analysis_chart()"
   ]
  },
  {
   "cell_type": "markdown",
   "id": "bc8b6161",
   "metadata": {},
   "source": [
    "Change the default values of the peak profile related parameters and display the analysis chart again"
   ]
  },
  {
   "cell_type": "code",
   "execution_count": null,
   "id": "a64bb69a",
   "metadata": {},
   "outputs": [],
   "source": [
    "instrument.alpha0 = 0\n",
    "instrument.alpha1 = 0.1\n",
    "instrument.beta0 = 0.01\n",
    "instrument.beta1 = 0.01\n",
    "instrument.sigma0 = 0\n",
    "instrument.sigma1 = 0\n",
    "instrument.sigma2 = 5\n",
    "job.show_analysis_chart()"
   ]
  },
  {
   "cell_type": "markdown",
   "id": "b5e93df2",
   "metadata": {},
   "source": [
    "Select parameters to be refined in the first round"
   ]
  },
  {
   "cell_type": "code",
   "execution_count": null,
   "id": "3fb96f0f",
   "metadata": {},
   "outputs": [],
   "source": [
    "phase.scale.free = True\n",
    "pattern.zero_shift.free = True"
   ]
  },
  {
   "cell_type": "markdown",
   "id": "037d02eb",
   "metadata": {},
   "source": [
    "Print parameters to be refined (free parameters) before fitting"
   ]
  },
  {
   "cell_type": "code",
   "execution_count": null,
   "id": "79537107",
   "metadata": {},
   "outputs": [],
   "source": [
    "job.show_free_parameters()"
   ]
  },
  {
   "cell_type": "markdown",
   "id": "3f380030",
   "metadata": {},
   "source": [
    "Start Least-Squares minimization to refine the selected parameters"
   ]
  },
  {
   "cell_type": "code",
   "execution_count": null,
   "id": "0ca5463f",
   "metadata": {},
   "outputs": [],
   "source": [
    "job.fit()"
   ]
  },
  {
   "cell_type": "markdown",
   "id": "fcac1ce5",
   "metadata": {},
   "source": [
    "Print the refined parameters after fitting"
   ]
  },
  {
   "cell_type": "code",
   "execution_count": null,
   "id": "7d414b15",
   "metadata": {},
   "outputs": [],
   "source": [
    "job.show_free_parameters()"
   ]
  },
  {
   "cell_type": "markdown",
   "id": "c57fbd74",
   "metadata": {},
   "source": [
    "Display the analysis chart after the first fitting"
   ]
  },
  {
   "cell_type": "code",
   "execution_count": null,
   "id": "ac02e9bd",
   "metadata": {},
   "outputs": [],
   "source": [
    "job.show_analysis_chart()"
   ]
  },
  {
   "cell_type": "markdown",
   "id": "36feaf2c",
   "metadata": {},
   "source": [
    "Select more parameters to be refined in the second round"
   ]
  },
  {
   "cell_type": "code",
   "execution_count": null,
   "id": "e0d08ce3",
   "metadata": {},
   "outputs": [],
   "source": [
    "instrument.alpha1.free = True\n",
    "instrument.beta0.free = True\n",
    "instrument.beta1.free = True\n",
    "instrument.sigma2.free = True"
   ]
  },
  {
   "cell_type": "markdown",
   "id": "1ca5b1d3",
   "metadata": {},
   "source": [
    "Print free parameters before the second fitting"
   ]
  },
  {
   "cell_type": "code",
   "execution_count": null,
   "id": "38086320",
   "metadata": {},
   "outputs": [],
   "source": [
    "job.show_free_parameters()"
   ]
  },
  {
   "cell_type": "markdown",
   "id": "3965b4d7",
   "metadata": {},
   "source": [
    "Start the second round of minimization"
   ]
  },
  {
   "cell_type": "code",
   "execution_count": null,
   "id": "422c71b3",
   "metadata": {},
   "outputs": [],
   "source": [
    "job.fit()"
   ]
  },
  {
   "cell_type": "markdown",
   "id": "66619340",
   "metadata": {},
   "source": [
    "Print free parameters after the third fitting"
   ]
  },
  {
   "cell_type": "code",
   "execution_count": null,
   "id": "e536e518",
   "metadata": {},
   "outputs": [],
   "source": [
    "job.show_free_parameters()"
   ]
  },
  {
   "cell_type": "markdown",
   "id": "8d26a026",
   "metadata": {},
   "source": [
    "Display the analysis chart after the third fitting"
   ]
  },
  {
   "cell_type": "code",
   "execution_count": null,
   "id": "29e15b93",
   "metadata": {},
   "outputs": [],
   "source": [
    "job.show_analysis_chart()"
   ]
  },
  {
   "cell_type": "markdown",
   "id": "abc989a4",
   "metadata": {},
   "source": [
    "Show all parameters after refinement"
   ]
  },
  {
   "cell_type": "code",
   "execution_count": null,
   "id": "89ed8bb6",
   "metadata": {},
   "outputs": [],
   "source": [
    "job.show_parameters()"
   ]
  }
 ],
 "metadata": {
  "kernelspec": {
   "display_name": "Python 3 (ipykernel)",
   "language": "python",
   "name": "python3"
  }
 },
 "nbformat": 4,
 "nbformat_minor": 5
}
