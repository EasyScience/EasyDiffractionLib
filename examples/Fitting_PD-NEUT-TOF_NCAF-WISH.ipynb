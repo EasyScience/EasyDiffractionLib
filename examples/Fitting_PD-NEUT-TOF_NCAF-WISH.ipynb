{
 "cells": [
  {
   "cell_type": "markdown",
   "id": "43e67069",
   "metadata": {},
   "source": [
    "# Fitting `PD-NEUT-TOF` NCAF-WISH\n",
    "\n",
    "This example shows how to refine the crystal structure parameters of Si from neutron diffraction data in a time-of-flight experiment performed on SEPD diffractometer at Argonne."
   ]
  },
  {
   "cell_type": "code",
   "execution_count": null,
   "id": "844cfdec",
   "metadata": {
    "tags": [
     "hide_in_docs"
    ]
   },
   "outputs": [],
   "source": [
    "# Install the easydiffraction library if it is not installed (including charts extras)\n",
    "import importlib.util\n",
    "\n",
    "if importlib.util.find_spec('easydiffraction') is None:\n",
    "    !pip install 'easydiffraction[charts]'"
   ]
  },
  {
   "cell_type": "markdown",
   "id": "409a62f4",
   "metadata": {},
   "source": [
    "## Import EasyDiffraction"
   ]
  },
  {
   "cell_type": "code",
   "execution_count": null,
   "id": "08605654",
   "metadata": {},
   "outputs": [],
   "source": [
    "import easydiffraction as ed"
   ]
  },
  {
   "cell_type": "markdown",
   "id": "9d17116b",
   "metadata": {},
   "source": [
    "## Job"
   ]
  },
  {
   "cell_type": "markdown",
   "id": "18a584e5",
   "metadata": {},
   "source": [
    "Create a job — the main object to store all the information"
   ]
  },
  {
   "cell_type": "code",
   "execution_count": null,
   "id": "da224738",
   "metadata": {},
   "outputs": [],
   "source": [
    "job = ed.Job(type='tof')"
   ]
  },
  {
   "cell_type": "markdown",
   "id": "4409ae70",
   "metadata": {},
   "source": [
    "## Model"
   ]
  },
  {
   "cell_type": "markdown",
   "id": "8ba2b810",
   "metadata": {},
   "source": [
    "Load a phase from CIF file"
   ]
  },
  {
   "cell_type": "code",
   "execution_count": null,
   "id": "397811c3",
   "metadata": {},
   "outputs": [],
   "source": [
    "job.add_phase_from_file('data/ncaf.cif')\n",
    "print(job.phases)"
   ]
  },
  {
   "cell_type": "markdown",
   "id": "6df4b8d0",
   "metadata": {},
   "source": [
    "Show phase info in CIF format"
   ]
  },
  {
   "cell_type": "code",
   "execution_count": null,
   "id": "ea31be34",
   "metadata": {},
   "outputs": [],
   "source": [
    "phase = job.phases['ncaf']\n",
    "print(phase.cif)"
   ]
  },
  {
   "cell_type": "markdown",
   "id": "a2795f43",
   "metadata": {},
   "source": [
    "Display the crystal structure of a given model"
   ]
  },
  {
   "cell_type": "code",
   "execution_count": null,
   "id": "17b9e860",
   "metadata": {},
   "outputs": [],
   "source": [
    "job.show_crystal_structure(id='ncaf')"
   ]
  },
  {
   "cell_type": "markdown",
   "id": "02eee1b1",
   "metadata": {},
   "source": [
    "## Experiment\n",
    "\n",
    "Download the data file from the EasyDiffraction repository on GitHub"
   ]
  },
  {
   "cell_type": "code",
   "execution_count": null,
   "id": "18a6f1fb",
   "metadata": {},
   "outputs": [],
   "source": [
    "ed.download_from_repository('wish.xye', destination='data')"
   ]
  },
  {
   "cell_type": "markdown",
   "id": "d6cc9e3d",
   "metadata": {},
   "source": [
    "Show content of the downloaded file (first 5 lines)"
   ]
  },
  {
   "cell_type": "code",
   "execution_count": null,
   "id": "d22bff0d",
   "metadata": {},
   "outputs": [],
   "source": [
    "with open('data/wish.xye') as f:\n",
    "    print(''.join(f.readlines()[:5]))"
   ]
  },
  {
   "cell_type": "markdown",
   "id": "b8d42755",
   "metadata": {},
   "source": [
    "Load experimentally measured data from downloaded file in XYE format"
   ]
  },
  {
   "cell_type": "code",
   "execution_count": null,
   "id": "6ecd530c",
   "metadata": {},
   "outputs": [],
   "source": [
    "job.add_experiment_from_file('data/wish.xye')"
   ]
  },
  {
   "cell_type": "markdown",
   "id": "a61b1094",
   "metadata": {},
   "source": [
    "Display the experimentally measured data"
   ]
  },
  {
   "cell_type": "code",
   "execution_count": null,
   "id": "2ef0fd1b",
   "metadata": {},
   "outputs": [],
   "source": [
    "job.show_experiment_chart()"
   ]
  },
  {
   "cell_type": "markdown",
   "id": "1bda5c38",
   "metadata": {},
   "source": [
    "Define a point background"
   ]
  },
  {
   "cell_type": "code",
   "execution_count": null,
   "id": "2c4964ff",
   "metadata": {},
   "outputs": [],
   "source": [
    "background_points = [\n",
    "    (  9162, 465),\n",
    "    ( 11136, 593),\n",
    "    ( 13313, 497),\n",
    "    ( 14906, 546),\n",
    "    ( 16454, 533),\n",
    "    ( 17352, 496),\n",
    "    ( 18743, 428),\n",
    "    ( 20179, 452),\n",
    "    ( 21368, 397),\n",
    "    ( 22176, 468),\n",
    "    ( 22827, 477),\n",
    "    ( 24644, 380),\n",
    "    ( 26439, 381),\n",
    "    ( 28257, 378),\n",
    "    ( 31196, 343),\n",
    "    ( 34034, 328),\n",
    "    ( 37265, 310),\n",
    "    ( 41214, 323),\n",
    "    ( 44827, 283),\n",
    "    ( 49830, 273),\n",
    "    ( 52905, 257),\n",
    "    ( 58204, 260),\n",
    "    ( 62916, 261),\n",
    "    ( 70186, 262),\n",
    "    ( 74204, 262),\n",
    "    ( 82103, 268),\n",
    "    ( 91958, 268),\n",
    "    (102712, 262)\n",
    "]\n",
    "job.set_background(background_points)"
   ]
  },
  {
   "cell_type": "markdown",
   "id": "8b002731",
   "metadata": {},
   "source": [
    "Display the experiment chart after setting the background"
   ]
  },
  {
   "cell_type": "code",
   "execution_count": null,
   "id": "70aab0e3",
   "metadata": {},
   "outputs": [],
   "source": [
    "job.show_experiment_chart()"
   ]
  },
  {
   "cell_type": "markdown",
   "id": "345da703",
   "metadata": {},
   "source": [
    "## Analysis"
   ]
  },
  {
   "cell_type": "markdown",
   "id": "4c997737",
   "metadata": {},
   "source": [
    "Display the analysis chart before setting initial parameter values"
   ]
  },
  {
   "cell_type": "code",
   "execution_count": null,
   "id": "7446b15d",
   "metadata": {},
   "outputs": [],
   "source": [
    "job.show_analysis_chart()"
   ]
  },
  {
   "cell_type": "markdown",
   "id": "b7f16fd5",
   "metadata": {},
   "source": [
    "Create aliases for the two types of experimental parameters"
   ]
  },
  {
   "cell_type": "code",
   "execution_count": null,
   "id": "6988202c",
   "metadata": {},
   "outputs": [],
   "source": [
    "pattern= job.pattern\n",
    "instrument = job.instrument"
   ]
  },
  {
   "cell_type": "markdown",
   "id": "5dbeb44c",
   "metadata": {},
   "source": [
    "Change the default value of some instrumental parameters and display the analysis chart again"
   ]
  },
  {
   "cell_type": "code",
   "execution_count": null,
   "id": "ab172079",
   "metadata": {},
   "outputs": [],
   "source": [
    "instrument.dtt1 = 20770\n",
    "instrument.dtt2 = -1.08308\n",
    "instrument.ttheta_bank = 152.827\n",
    "job.show_analysis_chart()"
   ]
  },
  {
   "cell_type": "markdown",
   "id": "7f6609b7",
   "metadata": {},
   "source": [
    "Change the scale and display the analysis chart again"
   ]
  },
  {
   "cell_type": "code",
   "execution_count": null,
   "id": "93c78d4a",
   "metadata": {},
   "outputs": [],
   "source": [
    "phase.scale = 0.5\n",
    "job.show_analysis_chart()"
   ]
  },
  {
   "cell_type": "markdown",
   "id": "494e6da1",
   "metadata": {},
   "source": [
    "Change the default values of the peak profile related parameters and display the analysis chart again"
   ]
  },
  {
   "cell_type": "code",
   "execution_count": null,
   "id": "ac23047b",
   "metadata": {},
   "outputs": [],
   "source": [
    "instrument.alpha0 = 0\n",
    "instrument.alpha1 = 0.1\n",
    "instrument.beta0 = 0.01\n",
    "instrument.beta1 = 0.01\n",
    "instrument.sigma0 = 0\n",
    "instrument.sigma1 = 0\n",
    "instrument.sigma2 = 5\n",
    "job.show_analysis_chart()"
   ]
  },
  {
   "cell_type": "markdown",
   "id": "706e3311",
   "metadata": {},
   "source": [
    "Select parameters to be refined in the first round"
   ]
  },
  {
   "cell_type": "code",
   "execution_count": null,
   "id": "e3e9fbc7",
   "metadata": {},
   "outputs": [],
   "source": [
    "phase.scale.free = True\n",
    "pattern.zero_shift.free = True"
   ]
  },
  {
   "cell_type": "markdown",
   "id": "909fc765",
   "metadata": {},
   "source": [
    "Print parameters to be refined (free parameters) before fitting"
   ]
  },
  {
   "cell_type": "code",
   "execution_count": null,
   "id": "5a369bef",
   "metadata": {},
   "outputs": [],
   "source": [
    "job.show_free_parameters()"
   ]
  },
  {
   "cell_type": "markdown",
   "id": "120a2883",
   "metadata": {},
   "source": [
    "Start Least-Squares minimization to refine the selected parameters"
   ]
  },
  {
   "cell_type": "code",
   "execution_count": null,
   "id": "3c7892ec",
   "metadata": {},
   "outputs": [],
   "source": [
    "job.fit()"
   ]
  },
  {
   "cell_type": "markdown",
   "id": "90a89f1d",
   "metadata": {},
   "source": [
    "Print the refined parameters after fitting"
   ]
  },
  {
   "cell_type": "code",
   "execution_count": null,
   "id": "42a0253b",
   "metadata": {},
   "outputs": [],
   "source": [
    "job.show_free_parameters()"
   ]
  },
  {
   "cell_type": "markdown",
   "id": "c26089cb",
   "metadata": {},
   "source": [
    "Display the analysis chart after the first fitting"
   ]
  },
  {
   "cell_type": "code",
   "execution_count": null,
   "id": "54ab7aa9",
   "metadata": {},
   "outputs": [],
   "source": [
    "job.show_analysis_chart()"
   ]
  },
  {
   "cell_type": "markdown",
   "id": "eed6c4b7",
   "metadata": {},
   "source": [
    "Select more parameters to be refined in the second round"
   ]
  },
  {
   "cell_type": "code",
   "execution_count": null,
   "id": "31ce6362",
   "metadata": {},
   "outputs": [],
   "source": [
    "instrument.alpha1.free = True\n",
    "instrument.beta0.free = True\n",
    "instrument.beta1.free = True\n",
    "instrument.sigma2.free = True"
   ]
  },
  {
   "cell_type": "markdown",
   "id": "6ae7b093",
   "metadata": {},
   "source": [
    "Print free parameters before the second fitting"
   ]
  },
  {
   "cell_type": "code",
   "execution_count": null,
   "id": "9b90b080",
   "metadata": {},
   "outputs": [],
   "source": [
    "job.show_free_parameters()"
   ]
  },
  {
   "cell_type": "markdown",
   "id": "20fc4694",
   "metadata": {},
   "source": [
    "Start the second round of minimization"
   ]
  },
  {
   "cell_type": "code",
   "execution_count": null,
   "id": "14b2dec1",
   "metadata": {},
   "outputs": [],
   "source": [
    "job.fit()"
   ]
  },
  {
   "cell_type": "markdown",
   "id": "98417ead",
   "metadata": {},
   "source": [
    "Print free parameters after the third fitting"
   ]
  },
  {
   "cell_type": "code",
   "execution_count": null,
   "id": "954eb222",
   "metadata": {},
   "outputs": [],
   "source": [
    "job.show_free_parameters()"
   ]
  },
  {
   "cell_type": "markdown",
   "id": "3aaca901",
   "metadata": {},
   "source": [
    "Display the analysis chart after the third fitting"
   ]
  },
  {
   "cell_type": "code",
   "execution_count": null,
   "id": "c78047e0",
   "metadata": {},
   "outputs": [],
   "source": [
    "job.show_analysis_chart()"
   ]
  },
  {
   "cell_type": "markdown",
   "id": "2e2ae8cf",
   "metadata": {},
   "source": [
    "Show all parameters after refinement"
   ]
  },
  {
   "cell_type": "code",
   "execution_count": null,
   "id": "bb2e6a7b",
   "metadata": {},
   "outputs": [],
   "source": [
    "job.show_parameters()"
   ]
  }
 ],
 "metadata": {
  "kernelspec": {
   "display_name": "Python 3 (ipykernel)",
   "language": "python",
   "name": "python3"
  }
 },
 "nbformat": 4,
 "nbformat_minor": 5
}
