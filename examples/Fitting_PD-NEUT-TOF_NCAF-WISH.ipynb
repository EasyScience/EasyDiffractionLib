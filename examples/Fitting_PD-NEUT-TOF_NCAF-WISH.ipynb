{
 "cells": [
  {
   "cell_type": "markdown",
   "id": "59f71e46fa01b87a",
   "metadata": {},
   "source": [
    "<a target=\"_blank\" href=\"https://colab.research.google.com/github/EasyScience/EasyDiffractionLib/blob/master/examples/Fitting_PD-NEUT-TOF_NCAF-WISH.ipynb\">\n",
    "  <img src=\"https://colab.research.google.com/assets/colab-badge.svg\" alt=\"Open In Colab\"/>\n",
    "</a>"
   ]
  },
  {
   "cell_type": "markdown",
   "id": "feabf7cfd80b7c12",
   "metadata": {},
   "source": [
    "# Fitting `PD-NEUT-TOF` NCAF-WISH"
   ]
  },
  {
   "cell_type": "markdown",
   "id": "b60c68dde8122dc",
   "metadata": {},
   "source": [
    "This example shows how to refine the crystal structure parameters of Si from neutron diffraction data in a time-of-flight experiment performed on SEPD diffractometer at Argonne."
   ]
  },
  {
   "cell_type": "markdown",
   "id": "3a9140b1172fb249",
   "metadata": {},
   "source": [
    "## Import"
   ]
  },
  {
   "cell_type": "code",
   "execution_count": null,
   "id": "77c67b33ae9b3236",
   "metadata": {
    "ExecuteTime": {
     "end_time": "2024-10-29T13:54:24.519372Z",
     "start_time": "2024-10-29T13:54:24.503795Z"
    },
    "tags": [
     "colab"
    ]
   },
   "outputs": [],
   "source": [
    "# Code related to Google Colab\n",
    "import importlib.util\n",
    "import os\n",
    "\n",
    "import pooch\n",
    "\n",
    "if os.getenv(\"COLAB_RELEASE_TAG\"):\n",
    "    print(\"Running in Google Colab\")\n",
    "    # Install the easydiffraction library if it is not installed (including charts extras)\n",
    "    if importlib.util.find_spec(\"easydiffraction\") is None:\n",
    "        !pip install 'easydiffraction[charts]'\n",
    "    # Download the data files to be read in notebook\n",
    "    for fname in ['ncaf.cif', 'wish.xye']:\n",
    "        pooch.retrieve(\n",
    "            url=f\"https://raw.githubusercontent.com/EasyScience/EasyDiffractionLib/refs/heads/master/examples/data/{fname}\",\n",
    "            known_hash=None,\n",
    "            fname=fname,\n",
    "            path=\"data\",\n",
    "        )"
   ]
  },
  {
   "cell_type": "code",
   "execution_count": null,
   "id": "33934041eaae166f",
   "metadata": {
    "ExecuteTime": {
     "end_time": "2024-10-29T13:54:27.452919Z",
     "start_time": "2024-10-29T13:54:24.528171Z"
    }
   },
   "outputs": [],
   "source": [
    "import easydiffraction as ed"
   ]
  },
  {
   "cell_type": "markdown",
   "id": "429c480a606eec4c",
   "metadata": {},
   "source": [
    "## Job"
   ]
  },
  {
   "cell_type": "markdown",
   "id": "368b2e1ce306df51",
   "metadata": {},
   "source": [
    "Create a job — the main object to store all the information"
   ]
  },
  {
   "cell_type": "code",
   "execution_count": null,
   "id": "180e216d55b3f144",
   "metadata": {
    "ExecuteTime": {
     "end_time": "2024-10-29T13:54:27.508467Z",
     "start_time": "2024-10-29T13:54:27.491660Z"
    }
   },
   "outputs": [],
   "source": [
    "job = ed.Job(type='tof')"
   ]
  },
  {
   "cell_type": "markdown",
   "id": "2bf31fe484bd0ca1",
   "metadata": {},
   "source": [
    "## Model"
   ]
  },
  {
   "cell_type": "markdown",
   "id": "2b6850d04bfdf53c",
   "metadata": {},
   "source": [
    "Load a phase from CIF file"
   ]
  },
  {
   "cell_type": "code",
   "execution_count": null,
   "id": "4c37bae8e1c19b0c",
   "metadata": {
    "ExecuteTime": {
     "end_time": "2024-10-29T13:54:27.839668Z",
     "start_time": "2024-10-29T13:54:27.632333Z"
    }
   },
   "outputs": [],
   "source": [
    "job.add_phase_from_file('data/ncaf.cif')\n",
    "print(job.phases)"
   ]
  },
  {
   "cell_type": "markdown",
   "id": "f0c42370d97dd5db",
   "metadata": {},
   "source": [
    "Show phase info in CIF format"
   ]
  },
  {
   "cell_type": "code",
   "execution_count": null,
   "id": "5184de9d741bddb4",
   "metadata": {
    "ExecuteTime": {
     "end_time": "2024-10-29T13:54:27.853677Z",
     "start_time": "2024-10-29T13:54:27.843991Z"
    }
   },
   "outputs": [],
   "source": [
    "phase = job.phases['ncaf']\n",
    "print(phase.cif)"
   ]
  },
  {
   "cell_type": "markdown",
   "id": "f2ea5dba03edb588",
   "metadata": {},
   "source": [
    "Display the crystal structure of a given model"
   ]
  },
  {
   "cell_type": "code",
   "execution_count": null,
   "id": "238c54cda578c7e7",
   "metadata": {
    "ExecuteTime": {
     "end_time": "2024-10-29T13:54:27.867415Z",
     "start_time": "2024-10-29T13:54:27.857377Z"
    }
   },
   "outputs": [],
   "source": [
    "job.show_crystal_structure(id='ncaf')"
   ]
  },
  {
   "cell_type": "markdown",
   "id": "e87af7f4c26b5209",
   "metadata": {},
   "source": [
    "## Experiment"
   ]
  },
  {
   "cell_type": "markdown",
   "id": "1f6fe2b5622240c0",
   "metadata": {},
   "source": [
    "Load experimentally measured data from a file in XYE format"
   ]
  },
  {
   "cell_type": "code",
   "execution_count": null,
   "id": "8a1823930f0346e5",
   "metadata": {
    "ExecuteTime": {
     "end_time": "2024-10-29T13:54:27.996976Z",
     "start_time": "2024-10-29T13:54:27.871875Z"
    }
   },
   "outputs": [],
   "source": [
    "job.add_experiment_from_file('data/wish.xye')"
   ]
  },
  {
   "cell_type": "markdown",
   "id": "5c276b8592833bdf",
   "metadata": {},
   "source": [
    "Display the experimentally measured data"
   ]
  },
  {
   "cell_type": "code",
   "execution_count": null,
   "id": "f1dfee8a4bee7672",
   "metadata": {
    "ExecuteTime": {
     "end_time": "2024-10-29T13:54:28.190874Z",
     "start_time": "2024-10-29T13:54:28.001227Z"
    }
   },
   "outputs": [],
   "source": [
    "job.show_experiment_chart()"
   ]
  },
  {
   "cell_type": "markdown",
   "id": "2a5285f8fbf5d6c1",
   "metadata": {},
   "source": [
    "Define a point background"
   ]
  },
  {
   "cell_type": "code",
   "execution_count": null,
   "id": "a2dda04ec053d5fe",
   "metadata": {
    "ExecuteTime": {
     "end_time": "2024-10-29T13:54:28.442085Z",
     "start_time": "2024-10-29T13:54:28.375542Z"
    }
   },
   "outputs": [],
   "source": [
    "background_points = [\n",
    "    (  9162, 465),\n",
    "    ( 11136, 593),\n",
    "    ( 13313, 497),\n",
    "    ( 14906, 546),\n",
    "    ( 16454, 533),\n",
    "    ( 17352, 496),\n",
    "    ( 18743, 428),\n",
    "    ( 20179, 452),\n",
    "    ( 21368, 397),\n",
    "    ( 22176, 468),\n",
    "    ( 22827, 477),\n",
    "    ( 24644, 380),\n",
    "    ( 26439, 381),\n",
    "    ( 28257, 378),\n",
    "    ( 31196, 343),\n",
    "    ( 34034, 328),\n",
    "    ( 37265, 310),\n",
    "    ( 41214, 323),\n",
    "    ( 44827, 283),\n",
    "    ( 49830, 273),\n",
    "    ( 52905, 257),\n",
    "    ( 58204, 260),\n",
    "    ( 62916, 261),\n",
    "    ( 70186, 262),\n",
    "    ( 74204, 262),\n",
    "    ( 82103, 268),\n",
    "    ( 91958, 268),\n",
    "    (102712, 262)\n",
    "]\n",
    "job.set_background(background_points)"
   ]
  },
  {
   "cell_type": "markdown",
   "id": "270c0fdc493fa7df",
   "metadata": {},
   "source": [
    "Display the experiment chart after setting the background"
   ]
  },
  {
   "cell_type": "code",
   "execution_count": null,
   "id": "2c2c5d3bf7eee9f4",
   "metadata": {
    "ExecuteTime": {
     "end_time": "2024-10-29T13:54:28.498904Z",
     "start_time": "2024-10-29T13:54:28.447676Z"
    }
   },
   "outputs": [],
   "source": [
    "job.show_experiment_chart()"
   ]
  },
  {
   "cell_type": "markdown",
   "id": "2051b9d1de29b0f2",
   "metadata": {},
   "source": [
    "## Analysis"
   ]
  },
  {
   "cell_type": "markdown",
   "id": "78647e09f7a64eec",
   "metadata": {},
   "source": [
    "Display the analysis chart before setting initial parameter values"
   ]
  },
  {
   "cell_type": "code",
   "execution_count": null,
   "id": "db4e8db8fe0c808b",
   "metadata": {
    "ExecuteTime": {
     "end_time": "2024-10-29T13:54:28.628804Z",
     "start_time": "2024-10-29T13:54:28.525172Z"
    }
   },
   "outputs": [],
   "source": [
    "job.show_analysis_chart()"
   ]
  },
  {
   "cell_type": "markdown",
   "id": "ac970202d77ef4b0",
   "metadata": {},
   "source": [
    "Create aliases for the two types of experimental parameters"
   ]
  },
  {
   "cell_type": "code",
   "execution_count": null,
   "id": "1ffd1e04fcb6b2a2",
   "metadata": {
    "ExecuteTime": {
     "end_time": "2024-10-29T13:54:28.673137Z",
     "start_time": "2024-10-29T13:54:28.671356Z"
    }
   },
   "outputs": [],
   "source": [
    "pattern= job.pattern\n",
    "instrument = job.instrument"
   ]
  },
  {
   "cell_type": "markdown",
   "id": "46f110fbcddd027a",
   "metadata": {},
   "source": [
    "Change the default value of some instrumental parameters and display the analysis chart again"
   ]
  },
  {
   "cell_type": "code",
   "execution_count": null,
   "id": "1bf432541735fec6",
   "metadata": {
    "ExecuteTime": {
     "end_time": "2024-10-29T13:54:29.254679Z",
     "start_time": "2024-10-29T13:54:28.677863Z"
    }
   },
   "outputs": [],
   "source": [
    "instrument.dtt1 = 20770\n",
    "instrument.dtt2 = -1.08308\n",
    "instrument.ttheta_bank = 152.827\n",
    "job.show_analysis_chart()"
   ]
  },
  {
   "cell_type": "markdown",
   "id": "a9715b42e290242e",
   "metadata": {},
   "source": [
    "Change the scale and display the analysis chart again"
   ]
  },
  {
   "cell_type": "code",
   "execution_count": null,
   "id": "edce437c4d9dcf10",
   "metadata": {
    "ExecuteTime": {
     "end_time": "2024-10-29T13:54:29.817902Z",
     "start_time": "2024-10-29T13:54:29.298116Z"
    }
   },
   "outputs": [],
   "source": [
    "phase.scale = 0.5\n",
    "job.show_analysis_chart()"
   ]
  },
  {
   "cell_type": "markdown",
   "id": "12f44a5ec9525298",
   "metadata": {},
   "source": [
    "Change the default values of the peak profile related parameters and display the analysis chart again"
   ]
  },
  {
   "cell_type": "code",
   "execution_count": null,
   "id": "936a01e25043acc0",
   "metadata": {
    "ExecuteTime": {
     "end_time": "2024-10-29T13:54:30.360332Z",
     "start_time": "2024-10-29T13:54:29.862409Z"
    }
   },
   "outputs": [],
   "source": [
    "instrument.alpha0 = 0\n",
    "instrument.alpha1 = 0.1\n",
    "instrument.beta0 = 0.01\n",
    "instrument.beta1 = 0.01\n",
    "instrument.sigma0 = 0\n",
    "instrument.sigma1 = 0\n",
    "instrument.sigma2 = 5\n",
    "job.show_analysis_chart()"
   ]
  },
  {
   "cell_type": "markdown",
   "id": "f4aa4b9ec10f8f0e",
   "metadata": {},
   "source": [
    "Select parameters to be refined in the first round"
   ]
  },
  {
   "cell_type": "code",
   "execution_count": null,
   "id": "7d7aa26a77b016ac",
   "metadata": {
    "ExecuteTime": {
     "end_time": "2024-10-29T13:54:30.405483Z",
     "start_time": "2024-10-29T13:54:30.403174Z"
    }
   },
   "outputs": [],
   "source": [
    "phase.scale.free = True\n",
    "pattern.zero_shift.free = True"
   ]
  },
  {
   "cell_type": "markdown",
   "id": "9bcf1069eed931c",
   "metadata": {},
   "source": [
    "Print parameters to be refined (free parameters) before fitting"
   ]
  },
  {
   "cell_type": "code",
   "execution_count": null,
   "id": "4d0f01cb2f0189f6",
   "metadata": {
    "ExecuteTime": {
     "end_time": "2024-10-29T13:54:30.449977Z",
     "start_time": "2024-10-29T13:54:30.409871Z"
    }
   },
   "outputs": [],
   "source": [
    "job.show_free_parameters()"
   ]
  },
  {
   "cell_type": "markdown",
   "id": "33c439459cdb3f6f",
   "metadata": {},
   "source": [
    "Start Least-Squares minimization to refine the selected parameters"
   ]
  },
  {
   "cell_type": "code",
   "execution_count": null,
   "id": "28386e59f4800bd8",
   "metadata": {
    "ExecuteTime": {
     "end_time": "2024-10-29T13:54:43.812517Z",
     "start_time": "2024-10-29T13:54:30.458090Z"
    }
   },
   "outputs": [],
   "source": [
    "job.fit()"
   ]
  },
  {
   "cell_type": "markdown",
   "id": "cac7e8d93fc64455",
   "metadata": {},
   "source": [
    "Print the refined parameters after fitting"
   ]
  },
  {
   "cell_type": "code",
   "execution_count": null,
   "id": "5b86308392753279",
   "metadata": {
    "ExecuteTime": {
     "end_time": "2024-10-29T13:54:43.826188Z",
     "start_time": "2024-10-29T13:54:43.819188Z"
    }
   },
   "outputs": [],
   "source": [
    "job.show_free_parameters()"
   ]
  },
  {
   "cell_type": "markdown",
   "id": "f49a41b704aee261",
   "metadata": {},
   "source": [
    "Display the analysis chart after the first fitting"
   ]
  },
  {
   "cell_type": "code",
   "execution_count": null,
   "id": "6883be22058101dc",
   "metadata": {
    "ExecuteTime": {
     "end_time": "2024-10-29T13:54:44.345983Z",
     "start_time": "2024-10-29T13:54:43.830981Z"
    }
   },
   "outputs": [],
   "source": [
    "job.show_analysis_chart()"
   ]
  },
  {
   "cell_type": "markdown",
   "id": "fc303c6ae0d91d1e",
   "metadata": {},
   "source": [
    "Select more parameters to be refined in the second round"
   ]
  },
  {
   "cell_type": "code",
   "execution_count": null,
   "id": "cbe2d99f4a149f0a",
   "metadata": {
    "ExecuteTime": {
     "end_time": "2024-10-29T13:54:44.452656Z",
     "start_time": "2024-10-29T13:54:44.445307Z"
    }
   },
   "outputs": [],
   "source": [
    "instrument.alpha1.free = True\n",
    "instrument.beta0.free = True\n",
    "instrument.beta1.free = True\n",
    "instrument.sigma2.free = True"
   ]
  },
  {
   "cell_type": "markdown",
   "id": "d4b2a80c976be39e",
   "metadata": {},
   "source": [
    "Print free parameters before the second fitting"
   ]
  },
  {
   "cell_type": "code",
   "execution_count": null,
   "id": "9c1088f4d76115cc",
   "metadata": {
    "ExecuteTime": {
     "end_time": "2024-10-29T13:54:44.486682Z",
     "start_time": "2024-10-29T13:54:44.476985Z"
    }
   },
   "outputs": [],
   "source": [
    "job.show_free_parameters()"
   ]
  },
  {
   "cell_type": "markdown",
   "id": "1cc5b9fdbc66e967",
   "metadata": {},
   "source": [
    "Start the second round of minimization"
   ]
  },
  {
   "cell_type": "code",
   "execution_count": null,
   "id": "7d58e98a8119d931",
   "metadata": {
    "ExecuteTime": {
     "end_time": "2024-10-29T13:55:11.776245Z",
     "start_time": "2024-10-29T13:54:44.492623Z"
    }
   },
   "outputs": [],
   "source": [
    "job.fit()"
   ]
  },
  {
   "cell_type": "markdown",
   "id": "193b23954a06ee5b",
   "metadata": {},
   "source": [
    "Print free parameters after the third fitting"
   ]
  },
  {
   "cell_type": "code",
   "execution_count": null,
   "id": "8e16d197061ea1e9",
   "metadata": {
    "ExecuteTime": {
     "end_time": "2024-10-29T13:55:11.796126Z",
     "start_time": "2024-10-29T13:55:11.782598Z"
    }
   },
   "outputs": [],
   "source": [
    "job.show_free_parameters()"
   ]
  },
  {
   "cell_type": "markdown",
   "id": "8faac60c48685775",
   "metadata": {},
   "source": [
    "Display the analysis chart after the third fitting"
   ]
  },
  {
   "cell_type": "code",
   "execution_count": null,
   "id": "6d7868c4c4d441e6",
   "metadata": {
    "ExecuteTime": {
     "end_time": "2024-10-29T13:55:12.268895Z",
     "start_time": "2024-10-29T13:55:11.801621Z"
    }
   },
   "outputs": [],
   "source": [
    "job.show_analysis_chart()"
   ]
  },
  {
   "cell_type": "markdown",
   "id": "3e5d0b6c742b334f",
   "metadata": {},
   "source": [
    "Show all parameters after refinement"
   ]
  },
  {
   "cell_type": "code",
   "execution_count": null,
   "id": "8fe454e1fffbe50",
   "metadata": {
    "ExecuteTime": {
     "end_time": "2024-10-29T13:55:12.334222Z",
     "start_time": "2024-10-29T13:55:12.315374Z"
    }
   },
   "outputs": [],
   "source": [
    "job.show_parameters()"
   ]
  }
 ],
 "metadata": {
  "kernelspec": {
   "display_name": "Python 3 (ipykernel)",
   "language": "python",
   "name": "python3"
  },
  "language_info": {
   "codemirror_mode": {
    "name": "ipython",
    "version": 3
   },
   "file_extension": ".py",
   "mimetype": "text/x-python",
   "name": "python",
   "nbconvert_exporter": "python",
   "pygments_lexer": "ipython3",
   "version": "3.11.6"
  }
 },
 "nbformat": 4,
 "nbformat_minor": 5
}
