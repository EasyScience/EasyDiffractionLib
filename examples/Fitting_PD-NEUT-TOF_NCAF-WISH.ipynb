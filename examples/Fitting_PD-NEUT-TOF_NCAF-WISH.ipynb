{
 "cells": [
  {
   "cell_type": "markdown",
   "id": "04357f6c",
   "metadata": {},
   "source": [
    "# Fitting `PD-NEUT-TOF` NCAF-WISH\n",
    "\n",
    "This example shows how to refine the crystal structure parameters of Si from neutron diffraction data in a time-of-flight experiment performed on SEPD diffractometer at Argonne."
   ]
  },
  {
   "cell_type": "code",
   "execution_count": null,
   "id": "210560e0",
   "metadata": {
    "tags": [
     "hide_in_docs"
    ]
   },
   "outputs": [],
   "source": [
    "# Install the easydiffraction library if it is not installed (including charts extras)\n",
    "import importlib.util\n",
    "\n",
    "if importlib.util.find_spec('easydiffraction') is None:\n",
    "    !pip install 'easydiffraction[charts]'"
   ]
  },
  {
   "cell_type": "markdown",
   "id": "e49945ed",
   "metadata": {},
   "source": [
    "## Import EasyDiffraction"
   ]
  },
  {
   "cell_type": "code",
   "execution_count": null,
   "id": "2ec486f7",
   "metadata": {},
   "outputs": [],
   "source": [
    "import easydiffraction as ed"
   ]
  },
  {
   "cell_type": "markdown",
   "id": "3e47465b",
   "metadata": {},
   "source": [
    "## Job"
   ]
  },
  {
   "cell_type": "markdown",
   "id": "d936bcbc",
   "metadata": {},
   "source": [
    "Create a job — the main object to store all the information"
   ]
  },
  {
   "cell_type": "code",
   "execution_count": null,
   "id": "2eae9e46",
   "metadata": {},
   "outputs": [],
   "source": [
    "job = ed.Job(type='tof')"
   ]
  },
  {
   "cell_type": "markdown",
   "id": "8929a3f6",
   "metadata": {},
   "source": [
    "## Model"
   ]
  },
  {
   "cell_type": "markdown",
   "id": "99a2540d",
   "metadata": {},
   "source": [
    "Load a phase from CIF file"
   ]
  },
  {
   "cell_type": "code",
   "execution_count": null,
   "id": "2721ff4e",
   "metadata": {},
   "outputs": [],
   "source": [
    "job.add_phase_from_file('data/ncaf.cif')\n",
    "print(job.phases)"
   ]
  },
  {
   "cell_type": "markdown",
   "id": "6ab12360",
   "metadata": {},
   "source": [
    "Show phase info in CIF format"
   ]
  },
  {
   "cell_type": "code",
   "execution_count": null,
   "id": "112846f0",
   "metadata": {},
   "outputs": [],
   "source": [
    "phase = job.phases['ncaf']\n",
    "print(phase.cif)"
   ]
  },
  {
   "cell_type": "markdown",
   "id": "373dfb50",
   "metadata": {},
   "source": [
    "Display the crystal structure of a given model"
   ]
  },
  {
   "cell_type": "code",
   "execution_count": null,
   "id": "f28cf6fd",
   "metadata": {},
   "outputs": [],
   "source": [
    "job.show_crystal_structure(id='ncaf')"
   ]
  },
  {
   "cell_type": "markdown",
   "id": "ddf06304",
   "metadata": {},
   "source": [
    "## Experiment\n",
    "\n",
    "Download the data file from the EasyDiffraction repository on GitHub"
   ]
  },
  {
   "cell_type": "code",
   "execution_count": null,
   "id": "5b58390b",
   "metadata": {},
   "outputs": [],
   "source": [
    "ed.download_from_repository('wish.xye', destination='data')"
   ]
  },
  {
   "cell_type": "markdown",
   "id": "207e9aaa",
   "metadata": {},
   "source": [
    "Show content of the downloaded file (first 5 lines)"
   ]
  },
  {
   "cell_type": "code",
   "execution_count": null,
   "id": "c7f31af9",
   "metadata": {},
   "outputs": [],
   "source": [
    "with open('data/wish.xye') as f:\n",
    "    print(''.join(f.readlines()[:5]))"
   ]
  },
  {
   "cell_type": "markdown",
   "id": "d4eace97",
   "metadata": {},
   "source": [
    "Load experimentally measured data from downloaded file in XYE format"
   ]
  },
  {
   "cell_type": "code",
   "execution_count": null,
   "id": "8048c7b9",
   "metadata": {},
   "outputs": [],
   "source": [
    "job.add_experiment_from_file('data/wish.xye')"
   ]
  },
  {
   "cell_type": "markdown",
   "id": "03707663",
   "metadata": {},
   "source": [
    "Display the experimentally measured data"
   ]
  },
  {
   "cell_type": "code",
   "execution_count": null,
   "id": "3ec391ee",
   "metadata": {},
   "outputs": [],
   "source": [
    "job.show_experiment_chart()"
   ]
  },
  {
   "cell_type": "markdown",
   "id": "7dfcac19",
   "metadata": {},
   "source": [
    "Define a point background"
   ]
  },
  {
   "cell_type": "code",
   "execution_count": null,
   "id": "34d03db6",
   "metadata": {},
   "outputs": [],
   "source": [
    "background_points = [\n",
    "    (  9162, 465),\n",
    "    ( 11136, 593),\n",
    "    ( 13313, 497),\n",
    "    ( 14906, 546),\n",
    "    ( 16454, 533),\n",
    "    ( 17352, 496),\n",
    "    ( 18743, 428),\n",
    "    ( 20179, 452),\n",
    "    ( 21368, 397),\n",
    "    ( 22176, 468),\n",
    "    ( 22827, 477),\n",
    "    ( 24644, 380),\n",
    "    ( 26439, 381),\n",
    "    ( 28257, 378),\n",
    "    ( 31196, 343),\n",
    "    ( 34034, 328),\n",
    "    ( 37265, 310),\n",
    "    ( 41214, 323),\n",
    "    ( 44827, 283),\n",
    "    ( 49830, 273),\n",
    "    ( 52905, 257),\n",
    "    ( 58204, 260),\n",
    "    ( 62916, 261),\n",
    "    ( 70186, 262),\n",
    "    ( 74204, 262),\n",
    "    ( 82103, 268),\n",
    "    ( 91958, 268),\n",
    "    (102712, 262)\n",
    "]\n",
    "job.set_background(background_points)"
   ]
  },
  {
   "cell_type": "markdown",
   "id": "573dfa29",
   "metadata": {},
   "source": [
    "Display the experiment chart after setting the background"
   ]
  },
  {
   "cell_type": "code",
   "execution_count": null,
   "id": "52fdc117",
   "metadata": {},
   "outputs": [],
   "source": [
    "job.show_experiment_chart()"
   ]
  },
  {
   "cell_type": "markdown",
   "id": "64ce2bc0",
   "metadata": {},
   "source": [
    "## Analysis"
   ]
  },
  {
   "cell_type": "markdown",
   "id": "d42d1dab",
   "metadata": {},
   "source": [
    "Display the analysis chart before setting initial parameter values"
   ]
  },
  {
   "cell_type": "code",
   "execution_count": null,
   "id": "dea3954a",
   "metadata": {},
   "outputs": [],
   "source": [
    "job.show_analysis_chart()"
   ]
  },
  {
   "cell_type": "markdown",
   "id": "b1fd6883",
   "metadata": {},
   "source": [
    "Create aliases for the two types of experimental parameters"
   ]
  },
  {
   "cell_type": "code",
   "execution_count": null,
   "id": "ab20d66f",
   "metadata": {},
   "outputs": [],
   "source": [
    "pattern= job.pattern\n",
    "instrument = job.instrument"
   ]
  },
  {
   "cell_type": "markdown",
   "id": "25f0c048",
   "metadata": {},
   "source": [
    "Change the default value of some instrumental parameters and display the analysis chart again"
   ]
  },
  {
   "cell_type": "code",
   "execution_count": null,
   "id": "285b695c",
   "metadata": {},
   "outputs": [],
   "source": [
    "instrument.dtt1 = 20770\n",
    "instrument.dtt2 = -1.08308\n",
    "instrument.ttheta_bank = 152.827\n",
    "job.show_analysis_chart()"
   ]
  },
  {
   "cell_type": "markdown",
   "id": "a91ba747",
   "metadata": {},
   "source": [
    "Change the scale and display the analysis chart again"
   ]
  },
  {
   "cell_type": "code",
   "execution_count": null,
   "id": "23aa5565",
   "metadata": {},
   "outputs": [],
   "source": [
    "phase.scale = 0.5\n",
    "job.show_analysis_chart()"
   ]
  },
  {
   "cell_type": "markdown",
   "id": "76b14795",
   "metadata": {},
   "source": [
    "Change the default values of the peak profile related parameters and display the analysis chart again"
   ]
  },
  {
   "cell_type": "code",
   "execution_count": null,
   "id": "e1ce0b82",
   "metadata": {},
   "outputs": [],
   "source": [
    "instrument.alpha0 = 0\n",
    "instrument.alpha1 = 0.1\n",
    "instrument.beta0 = 0.01\n",
    "instrument.beta1 = 0.01\n",
    "instrument.sigma0 = 0\n",
    "instrument.sigma1 = 0\n",
    "instrument.sigma2 = 5\n",
    "job.show_analysis_chart()"
   ]
  },
  {
   "cell_type": "markdown",
   "id": "0b9ba50b",
   "metadata": {},
   "source": [
    "Select parameters to be refined in the first round"
   ]
  },
  {
   "cell_type": "code",
   "execution_count": null,
   "id": "3fb44369",
   "metadata": {},
   "outputs": [],
   "source": [
    "phase.scale.free = True\n",
    "pattern.zero_shift.free = True"
   ]
  },
  {
   "cell_type": "markdown",
   "id": "40d01a4e",
   "metadata": {},
   "source": [
    "Print parameters to be refined (free parameters) before fitting"
   ]
  },
  {
   "cell_type": "code",
   "execution_count": null,
   "id": "94c12db9",
   "metadata": {},
   "outputs": [],
   "source": [
    "job.show_free_parameters()"
   ]
  },
  {
   "cell_type": "markdown",
   "id": "51778416",
   "metadata": {},
   "source": [
    "Start Least-Squares minimization to refine the selected parameters"
   ]
  },
  {
   "cell_type": "code",
   "execution_count": null,
   "id": "fe9d848c",
   "metadata": {},
   "outputs": [],
   "source": [
    "job.fit()"
   ]
  },
  {
   "cell_type": "markdown",
   "id": "fce745d3",
   "metadata": {},
   "source": [
    "Print the refined parameters after fitting"
   ]
  },
  {
   "cell_type": "code",
   "execution_count": null,
   "id": "4c6da3f9",
   "metadata": {},
   "outputs": [],
   "source": [
    "job.show_free_parameters()"
   ]
  },
  {
   "cell_type": "markdown",
   "id": "121ea9aa",
   "metadata": {},
   "source": [
    "Display the analysis chart after the first fitting"
   ]
  },
  {
   "cell_type": "code",
   "execution_count": null,
   "id": "2b15e8a3",
   "metadata": {},
   "outputs": [],
   "source": [
    "job.show_analysis_chart()"
   ]
  },
  {
   "cell_type": "markdown",
   "id": "2ca5a5bb",
   "metadata": {},
   "source": [
    "Select more parameters to be refined in the second round"
   ]
  },
  {
   "cell_type": "code",
   "execution_count": null,
   "id": "c19445ff",
   "metadata": {},
   "outputs": [],
   "source": [
    "instrument.alpha1.free = True\n",
    "instrument.beta0.free = True\n",
    "instrument.beta1.free = True\n",
    "instrument.sigma2.free = True"
   ]
  },
  {
   "cell_type": "markdown",
   "id": "42156364",
   "metadata": {},
   "source": [
    "Print free parameters before the second fitting"
   ]
  },
  {
   "cell_type": "code",
   "execution_count": null,
   "id": "7864eeb0",
   "metadata": {},
   "outputs": [],
   "source": [
    "job.show_free_parameters()"
   ]
  },
  {
   "cell_type": "markdown",
   "id": "48bfbb33",
   "metadata": {},
   "source": [
    "Start the second round of minimization"
   ]
  },
  {
   "cell_type": "code",
   "execution_count": null,
   "id": "6a8b50c4",
   "metadata": {},
   "outputs": [],
   "source": [
    "job.fit()"
   ]
  },
  {
   "cell_type": "markdown",
   "id": "599313a1",
   "metadata": {},
   "source": [
    "Print free parameters after the third fitting"
   ]
  },
  {
   "cell_type": "code",
   "execution_count": null,
   "id": "8c6a1eb5",
   "metadata": {},
   "outputs": [],
   "source": [
    "job.show_free_parameters()"
   ]
  },
  {
   "cell_type": "markdown",
   "id": "25760817",
   "metadata": {},
   "source": [
    "Display the analysis chart after the third fitting"
   ]
  },
  {
   "cell_type": "code",
   "execution_count": null,
   "id": "2e7a3ba9",
   "metadata": {},
   "outputs": [],
   "source": [
    "job.show_analysis_chart()"
   ]
  },
  {
   "cell_type": "markdown",
   "id": "23025003",
   "metadata": {},
   "source": [
    "Show all parameters after refinement"
   ]
  },
  {
   "cell_type": "code",
   "execution_count": null,
   "id": "c2d277c0",
   "metadata": {},
   "outputs": [],
   "source": [
    "job.show_parameters()"
   ]
  }
 ],
 "metadata": {
  "kernelspec": {
   "display_name": "Python 3 (ipykernel)",
   "language": "python",
   "name": "python3"
  }
 },
 "nbformat": 4,
 "nbformat_minor": 5
}
