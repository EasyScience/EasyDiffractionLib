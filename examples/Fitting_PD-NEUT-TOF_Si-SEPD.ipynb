{
 "cells": [
  {
   "cell_type": "markdown",
   "id": "3271057e",
   "metadata": {},
   "source": [
    "# Fitting `PD-NEUT-TOF` Si-SEPD\n",
    "\n",
    "This example shows how to refine the crystal structure parameters of Si from neutron diffraction data in a time-of-flight experiment performed on SEPD diffractometer at Argonne."
   ]
  },
  {
   "cell_type": "code",
   "execution_count": null,
   "id": "2ca6a003",
   "metadata": {
    "tags": [
     "hide_in_docs"
    ]
   },
   "outputs": [],
   "source": [
    "# Check if the easydiffraction library is installed\n",
    "# If not, install it including the 'charts' extras\n",
    "# This is done when running in a Jupyter notebook\n",
    "import builtins\n",
    "import importlib.util\n",
    "\n",
    "if hasattr(builtins, \"__IPYTHON__\"):\n",
    "    if importlib.util.find_spec('easydiffraction') is None:\n",
    "        print('Installing the easydiffraction library...')\n",
    "        !pip install 'easydiffraction[charts] @ git+https://github.com/EasyScience/EasyDiffractionLib@more-examples'"
   ]
  },
  {
   "cell_type": "markdown",
   "id": "ffba9704",
   "metadata": {},
   "source": [
    "## Import EasyDiffraction"
   ]
  },
  {
   "cell_type": "code",
   "execution_count": null,
   "id": "7fd1324b",
   "metadata": {},
   "outputs": [],
   "source": [
    "import easydiffraction as ed"
   ]
  },
  {
   "cell_type": "markdown",
   "id": "e9813208",
   "metadata": {},
   "source": [
    "## Job"
   ]
  },
  {
   "cell_type": "markdown",
   "id": "889b7d26",
   "metadata": {},
   "source": [
    "Create a job — the main object to store all the information"
   ]
  },
  {
   "cell_type": "code",
   "execution_count": null,
   "id": "f2d333a2",
   "metadata": {},
   "outputs": [],
   "source": [
    "job = ed.Job(type='tof')"
   ]
  },
  {
   "cell_type": "markdown",
   "id": "f6e3027e",
   "metadata": {},
   "source": [
    "## Model\n",
    "\n",
    "Create a phase object"
   ]
  },
  {
   "cell_type": "code",
   "execution_count": null,
   "id": "859eb7fa",
   "metadata": {},
   "outputs": [],
   "source": [
    "phase = ed.Phase(name='si')"
   ]
  },
  {
   "cell_type": "markdown",
   "id": "7024f3e4",
   "metadata": {},
   "source": [
    "Set space group"
   ]
  },
  {
   "cell_type": "code",
   "execution_count": null,
   "id": "4aaea14e",
   "metadata": {},
   "outputs": [],
   "source": [
    "phase.space_group.name_hm_alt = 'F d -3 m'"
   ]
  },
  {
   "cell_type": "markdown",
   "id": "e55d6d28",
   "metadata": {},
   "source": [
    "Set cell parameters"
   ]
  },
  {
   "cell_type": "code",
   "execution_count": null,
   "id": "cb99475b",
   "metadata": {},
   "outputs": [],
   "source": [
    "phase.cell.length_a = 5.43146"
   ]
  },
  {
   "cell_type": "markdown",
   "id": "ee743733",
   "metadata": {},
   "source": [
    "Add atoms"
   ]
  },
  {
   "cell_type": "code",
   "execution_count": null,
   "id": "adc21d8f",
   "metadata": {},
   "outputs": [],
   "source": [
    "phase.atom_sites.append(label='Si',\n",
    "                        type_symbol='Si',\n",
    "                        fract_x=0,\n",
    "                        fract_y=0,\n",
    "                        fract_z=0,\n",
    "                        occupancy=1,\n",
    "                        b_iso_or_equiv=0.529)"
   ]
  },
  {
   "cell_type": "markdown",
   "id": "1f96bc31",
   "metadata": {},
   "source": [
    "Add phase to the job object"
   ]
  },
  {
   "cell_type": "code",
   "execution_count": null,
   "id": "25265429",
   "metadata": {},
   "outputs": [],
   "source": [
    "job.add_phase(phase=phase)\n",
    "print(job.phases)"
   ]
  },
  {
   "cell_type": "markdown",
   "id": "95a9e876",
   "metadata": {},
   "source": [
    "Show phase info in CIF format"
   ]
  },
  {
   "cell_type": "code",
   "execution_count": null,
   "id": "7a3780d5",
   "metadata": {},
   "outputs": [],
   "source": [
    "phase = job.phases['si']\n",
    "print(phase.cif)"
   ]
  },
  {
   "cell_type": "markdown",
   "id": "1ea688c1",
   "metadata": {},
   "source": [
    "Display the crystal structure of a given model"
   ]
  },
  {
   "cell_type": "code",
   "execution_count": null,
   "id": "2e296aaf",
   "metadata": {},
   "outputs": [],
   "source": [
    "job.show_crystal_structure(id='si')"
   ]
  },
  {
   "cell_type": "markdown",
   "id": "686681e2",
   "metadata": {},
   "source": [
    "## Experiment\n",
    "\n",
    "Download the data file from the EasyDiffraction repository on GitHub"
   ]
  },
  {
   "cell_type": "code",
   "execution_count": null,
   "id": "636a737e",
   "metadata": {},
   "outputs": [],
   "source": [
    "ed.download_from_repository('sepd.xye', destination='data')"
   ]
  },
  {
   "cell_type": "markdown",
   "id": "79094159",
   "metadata": {},
   "source": [
    "Show content of the downloaded file (first 5 lines)"
   ]
  },
  {
   "cell_type": "code",
   "execution_count": null,
   "id": "f5d4bb53",
   "metadata": {},
   "outputs": [],
   "source": [
    "with open('data/sepd.xye') as f:\n",
    "    print(''.join(f.readlines()[:5]))"
   ]
  },
  {
   "cell_type": "markdown",
   "id": "406a8997",
   "metadata": {},
   "source": [
    "Load experimentally measured data from a file in XYE format"
   ]
  },
  {
   "cell_type": "code",
   "execution_count": null,
   "id": "bc67c65b",
   "metadata": {},
   "outputs": [],
   "source": [
    "job.add_experiment_from_file('data/sepd.xye')"
   ]
  },
  {
   "cell_type": "markdown",
   "id": "18a19553",
   "metadata": {},
   "source": [
    "Display the experimentally measured data"
   ]
  },
  {
   "cell_type": "code",
   "execution_count": null,
   "id": "292cecd8",
   "metadata": {},
   "outputs": [],
   "source": [
    "job.show_experiment_chart(show_legend=False)"
   ]
  },
  {
   "cell_type": "markdown",
   "id": "130d4ae7",
   "metadata": {},
   "source": [
    "Define a point background"
   ]
  },
  {
   "cell_type": "code",
   "execution_count": null,
   "id": "372406e5",
   "metadata": {},
   "outputs": [],
   "source": [
    "background_points = [(x, 200) for x in range(0, 35000, 5000)]\n",
    "print(background_points)"
   ]
  },
  {
   "cell_type": "code",
   "execution_count": null,
   "id": "58b5f625",
   "metadata": {},
   "outputs": [],
   "source": [
    "job.set_background(background_points)"
   ]
  },
  {
   "cell_type": "markdown",
   "id": "04554e50",
   "metadata": {},
   "source": [
    "Display the experiment chart after setting the background"
   ]
  },
  {
   "cell_type": "code",
   "execution_count": null,
   "id": "37d12800",
   "metadata": {},
   "outputs": [],
   "source": [
    "job.show_experiment_chart()"
   ]
  },
  {
   "cell_type": "markdown",
   "id": "40d4970c",
   "metadata": {},
   "source": [
    "## Analysis"
   ]
  },
  {
   "cell_type": "markdown",
   "id": "0387a9ee",
   "metadata": {},
   "source": [
    "Display the analysis chart before setting initial parameter values"
   ]
  },
  {
   "cell_type": "code",
   "execution_count": null,
   "id": "6cf365bb",
   "metadata": {},
   "outputs": [],
   "source": [
    "job.show_analysis_chart()"
   ]
  },
  {
   "cell_type": "markdown",
   "id": "0d754f5a",
   "metadata": {},
   "source": [
    "Create aliases for the two types of experimental parameters"
   ]
  },
  {
   "cell_type": "code",
   "execution_count": null,
   "id": "7242c961",
   "metadata": {},
   "outputs": [],
   "source": [
    "pattern_params = job.pattern\n",
    "experiment_params = job.parameters"
   ]
  },
  {
   "cell_type": "markdown",
   "id": "655467f2",
   "metadata": {},
   "source": [
    "Change the default value of some instrumental parameters and display the analysis chart again"
   ]
  },
  {
   "cell_type": "code",
   "execution_count": null,
   "id": "25511f72",
   "metadata": {},
   "outputs": [],
   "source": [
    "experiment_params.dtt1 = 7476.91\n",
    "experiment_params.dtt2 = -1.54\n",
    "experiment_params.ttheta_bank = 144.845\n",
    "job.show_analysis_chart()"
   ]
  },
  {
   "cell_type": "markdown",
   "id": "d4e4bbe4",
   "metadata": {},
   "source": [
    "Change the scale and display the analysis chart again"
   ]
  },
  {
   "cell_type": "code",
   "execution_count": null,
   "id": "ddf7333c",
   "metadata": {},
   "outputs": [],
   "source": [
    "phase.scale = 10\n",
    "job.show_analysis_chart()"
   ]
  },
  {
   "cell_type": "markdown",
   "id": "207d8c87",
   "metadata": {},
   "source": [
    "Change the default values of the peak profile related parameters and display the analysis chart again"
   ]
  },
  {
   "cell_type": "code",
   "execution_count": null,
   "id": "f3047414",
   "metadata": {},
   "outputs": [],
   "source": [
    "experiment_params.alpha0 = 0.024\n",
    "experiment_params.alpha1 = 0.204\n",
    "experiment_params.beta0 = 0.038\n",
    "experiment_params.beta1 = 0.011\n",
    "experiment_params.sigma0 = 0.0\n",
    "experiment_params.sigma1 = 0.0\n",
    "experiment_params.sigma2 = 0.0\n",
    "job.show_analysis_chart()"
   ]
  },
  {
   "cell_type": "markdown",
   "id": "3d090efb",
   "metadata": {},
   "source": [
    "Select parameters to be refined in the first round"
   ]
  },
  {
   "cell_type": "code",
   "execution_count": null,
   "id": "f9c0c1ff",
   "metadata": {},
   "outputs": [],
   "source": [
    "phase.scale.free = True\n",
    "pattern_params.zero_shift.free = True"
   ]
  },
  {
   "cell_type": "markdown",
   "id": "a4b2c2ad",
   "metadata": {},
   "source": [
    "Print parameters to be refined (free parameters) before fitting"
   ]
  },
  {
   "cell_type": "code",
   "execution_count": null,
   "id": "86023f60",
   "metadata": {},
   "outputs": [],
   "source": [
    "job.show_free_parameters()"
   ]
  },
  {
   "cell_type": "markdown",
   "id": "91c1e4c5",
   "metadata": {},
   "source": [
    "Start Least-Squares minimization to refine the selected parameters"
   ]
  },
  {
   "cell_type": "code",
   "execution_count": null,
   "id": "e043f449",
   "metadata": {},
   "outputs": [],
   "source": [
    "job.fit()"
   ]
  },
  {
   "cell_type": "markdown",
   "id": "9867f0c5",
   "metadata": {},
   "source": [
    "Print the refined parameters after fitting"
   ]
  },
  {
   "cell_type": "code",
   "execution_count": null,
   "id": "77aac34f",
   "metadata": {},
   "outputs": [],
   "source": [
    "job.show_free_parameters()"
   ]
  },
  {
   "cell_type": "markdown",
   "id": "01cefbd6",
   "metadata": {},
   "source": [
    "Display the analysis chart after the first fitting"
   ]
  },
  {
   "cell_type": "code",
   "execution_count": null,
   "id": "a36f59aa",
   "metadata": {},
   "outputs": [],
   "source": [
    "job.show_analysis_chart()"
   ]
  },
  {
   "cell_type": "markdown",
   "id": "80416050",
   "metadata": {},
   "source": [
    "Allow background parameters to be refined"
   ]
  },
  {
   "cell_type": "code",
   "execution_count": null,
   "id": "60d4868c",
   "metadata": {},
   "outputs": [],
   "source": [
    "for background_point in pattern_params.backgrounds[0]:\n",
    "    background_point.y.free = True"
   ]
  },
  {
   "cell_type": "markdown",
   "id": "3dd6aa8f",
   "metadata": {},
   "source": [
    "Print free parameters before the second fitting"
   ]
  },
  {
   "cell_type": "code",
   "execution_count": null,
   "id": "7ddcad95",
   "metadata": {},
   "outputs": [],
   "source": [
    "job.show_free_parameters()"
   ]
  },
  {
   "cell_type": "markdown",
   "id": "c2e17d73",
   "metadata": {},
   "source": [
    "Start second round of minimization"
   ]
  },
  {
   "cell_type": "code",
   "execution_count": null,
   "id": "8ae81054",
   "metadata": {},
   "outputs": [],
   "source": [
    "job.fit()"
   ]
  },
  {
   "cell_type": "markdown",
   "id": "91816523",
   "metadata": {},
   "source": [
    "Print free parameters after the second fitting"
   ]
  },
  {
   "cell_type": "code",
   "execution_count": null,
   "id": "0d44c176",
   "metadata": {},
   "outputs": [],
   "source": [
    "job.show_free_parameters()"
   ]
  },
  {
   "cell_type": "markdown",
   "id": "1174033c",
   "metadata": {},
   "source": [
    "Display the analysis chart after the second fitting"
   ]
  },
  {
   "cell_type": "code",
   "execution_count": null,
   "id": "af612a6b",
   "metadata": {},
   "outputs": [],
   "source": [
    "job.show_analysis_chart()"
   ]
  },
  {
   "cell_type": "markdown",
   "id": "730e408e",
   "metadata": {},
   "source": [
    "Select more parameters to be refined in the third round"
   ]
  },
  {
   "cell_type": "code",
   "execution_count": null,
   "id": "464b1ba7",
   "metadata": {},
   "outputs": [],
   "source": [
    "experiment_params.sigma0.free = True\n",
    "experiment_params.sigma1.free = True\n",
    "experiment_params.sigma2.free = True"
   ]
  },
  {
   "cell_type": "markdown",
   "id": "17ea8731",
   "metadata": {},
   "source": [
    "Disable refinement of background parameters"
   ]
  },
  {
   "cell_type": "code",
   "execution_count": null,
   "id": "2de00155",
   "metadata": {},
   "outputs": [],
   "source": [
    "for background_point in pattern_params.backgrounds[0]:\n",
    "    background_point.y.free = False"
   ]
  },
  {
   "cell_type": "markdown",
   "id": "2cabe701",
   "metadata": {},
   "source": [
    "Print free parameters before the third fitting"
   ]
  },
  {
   "cell_type": "code",
   "execution_count": null,
   "id": "7dffc4b5",
   "metadata": {},
   "outputs": [],
   "source": [
    "job.show_free_parameters()"
   ]
  },
  {
   "cell_type": "markdown",
   "id": "37594342",
   "metadata": {},
   "source": [
    "Start third round of minimization"
   ]
  },
  {
   "cell_type": "code",
   "execution_count": null,
   "id": "2c7b7672",
   "metadata": {},
   "outputs": [],
   "source": [
    "job.fit()"
   ]
  },
  {
   "cell_type": "markdown",
   "id": "3149c2f6",
   "metadata": {},
   "source": [
    "Print free parameters after the third fitting"
   ]
  },
  {
   "cell_type": "code",
   "execution_count": null,
   "id": "6af8e101",
   "metadata": {},
   "outputs": [],
   "source": [
    "job.show_free_parameters()"
   ]
  },
  {
   "cell_type": "markdown",
   "id": "d88af156",
   "metadata": {},
   "source": [
    "Display the analysis chart after the third fitting"
   ]
  },
  {
   "cell_type": "code",
   "execution_count": null,
   "id": "e2da3d1c",
   "metadata": {},
   "outputs": [],
   "source": [
    "job.show_analysis_chart()"
   ]
  }
 ],
 "metadata": {
  "kernelspec": {
   "display_name": "Python 3 (ipykernel)",
   "language": "python",
   "name": "python3"
  }
 },
 "nbformat": 4,
 "nbformat_minor": 5
}
