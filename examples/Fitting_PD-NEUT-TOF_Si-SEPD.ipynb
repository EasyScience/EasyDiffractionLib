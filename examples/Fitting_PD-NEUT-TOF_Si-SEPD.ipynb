{
 "cells": [
  {
   "cell_type": "markdown",
   "id": "28ac3d06",
   "metadata": {},
   "source": [
    "# Fitting `PD-NEUT-TOF` Si-SEPD\n",
    "\n",
    "This example shows how to refine the crystal structure parameters of Si from neutron diffraction data in a time-of-flight experiment performed on SEPD diffractometer at Argonne."
   ]
  },
  {
   "cell_type": "code",
   "execution_count": null,
   "id": "f1233d1f",
   "metadata": {
    "tags": [
     "hide_in_docs"
    ]
   },
   "outputs": [],
   "source": [
    "# Install the easydiffraction library if it is not installed (including charts extras)\n",
    "import importlib.util\n",
    "\n",
    "if importlib.util.find_spec('easydiffraction') is None:\n",
    "    !pip install 'easydiffraction[charts] @ git+https://github.com/EasyScience/EasyDiffractionLib@more-examples'"
   ]
  },
  {
   "cell_type": "markdown",
   "id": "55118a6c",
   "metadata": {},
   "source": [
    "## Import EasyDiffraction"
   ]
  },
  {
   "cell_type": "code",
   "execution_count": null,
   "id": "d5173d4e",
   "metadata": {},
   "outputs": [],
   "source": [
    "import easydiffraction as ed"
   ]
  },
  {
   "cell_type": "markdown",
   "id": "4aedd0cb",
   "metadata": {},
   "source": [
    "## Job"
   ]
  },
  {
   "cell_type": "markdown",
   "id": "64b3e4ee",
   "metadata": {},
   "source": [
    "Create a job — the main object to store all the information"
   ]
  },
  {
   "cell_type": "code",
   "execution_count": null,
   "id": "361f9f69",
   "metadata": {},
   "outputs": [],
   "source": [
    "job = ed.Job(type='tof')"
   ]
  },
  {
   "cell_type": "markdown",
   "id": "0b426b62",
   "metadata": {},
   "source": [
    "## Model\n",
    "\n",
    "Create a phase object"
   ]
  },
  {
   "cell_type": "code",
   "execution_count": null,
   "id": "18c42a90",
   "metadata": {},
   "outputs": [],
   "source": [
    "phase = ed.Phase(name='si')"
   ]
  },
  {
   "cell_type": "markdown",
   "id": "ab64ada9",
   "metadata": {},
   "source": [
    "Set space group"
   ]
  },
  {
   "cell_type": "code",
   "execution_count": null,
   "id": "5083da60",
   "metadata": {},
   "outputs": [],
   "source": [
    "phase.space_group.name_hm_alt = 'F d -3 m'"
   ]
  },
  {
   "cell_type": "markdown",
   "id": "bf4a991b",
   "metadata": {},
   "source": [
    "Set cell parameters"
   ]
  },
  {
   "cell_type": "code",
   "execution_count": null,
   "id": "873584b8",
   "metadata": {},
   "outputs": [],
   "source": [
    "phase.cell.length_a = 5.43146"
   ]
  },
  {
   "cell_type": "markdown",
   "id": "585e9062",
   "metadata": {},
   "source": [
    "Add atoms"
   ]
  },
  {
   "cell_type": "code",
   "execution_count": null,
   "id": "52175cbc",
   "metadata": {},
   "outputs": [],
   "source": [
    "phase.atom_sites.append(label='Si',\n",
    "                        type_symbol='Si',\n",
    "                        fract_x=0,\n",
    "                        fract_y=0,\n",
    "                        fract_z=0,\n",
    "                        occupancy=1,\n",
    "                        b_iso_or_equiv=0.529)"
   ]
  },
  {
   "cell_type": "markdown",
   "id": "1621633a",
   "metadata": {},
   "source": [
    "Add phase to the job object"
   ]
  },
  {
   "cell_type": "code",
   "execution_count": null,
   "id": "5d2e98ab",
   "metadata": {},
   "outputs": [],
   "source": [
    "job.add_phase(phase=phase)\n",
    "print(job.phases)"
   ]
  },
  {
   "cell_type": "markdown",
   "id": "b746a74a",
   "metadata": {},
   "source": [
    "Show phase info in CIF format"
   ]
  },
  {
   "cell_type": "code",
   "execution_count": null,
   "id": "76f4723d",
   "metadata": {},
   "outputs": [],
   "source": [
    "phase = job.phases['si']\n",
    "print(phase.cif)"
   ]
  },
  {
   "cell_type": "markdown",
   "id": "d9b36c3e",
   "metadata": {},
   "source": [
    "Display the crystal structure of a given model"
   ]
  },
  {
   "cell_type": "code",
   "execution_count": null,
   "id": "b411544d",
   "metadata": {},
   "outputs": [],
   "source": [
    "job.show_crystal_structure(id='si')"
   ]
  },
  {
   "cell_type": "markdown",
   "id": "b8d4e11d",
   "metadata": {},
   "source": [
    "## Experiment\n",
    "\n",
    "Download the data file from the EasyDiffraction repository on GitHub"
   ]
  },
  {
   "cell_type": "code",
   "execution_count": null,
   "id": "01644324",
   "metadata": {},
   "outputs": [],
   "source": [
    "ed.download_from_repository('sepd.xye', destination='data')"
   ]
  },
  {
   "cell_type": "markdown",
   "id": "a88afef1",
   "metadata": {},
   "source": [
    "Show content of the downloaded file (first 5 lines)"
   ]
  },
  {
   "cell_type": "code",
   "execution_count": null,
   "id": "dbad9430",
   "metadata": {},
   "outputs": [],
   "source": [
    "with open('data/sepd.xye') as f:\n",
    "    print(''.join(f.readlines()[:5]))"
   ]
  },
  {
   "cell_type": "markdown",
   "id": "7570afd8",
   "metadata": {},
   "source": [
    "Load experimentally measured data from a file in XYE format"
   ]
  },
  {
   "cell_type": "code",
   "execution_count": null,
   "id": "38f9940d",
   "metadata": {},
   "outputs": [],
   "source": [
    "job.add_experiment_from_file('data/sepd.xye')"
   ]
  },
  {
   "cell_type": "markdown",
   "id": "5e7568ec",
   "metadata": {},
   "source": [
    "Display the experimentally measured data"
   ]
  },
  {
   "cell_type": "code",
   "execution_count": null,
   "id": "22eee94d",
   "metadata": {},
   "outputs": [],
   "source": [
    "job.show_experiment_chart(show_legend=False)"
   ]
  },
  {
   "cell_type": "markdown",
   "id": "6d0913d4",
   "metadata": {},
   "source": [
    "Define a point background"
   ]
  },
  {
   "cell_type": "code",
   "execution_count": null,
   "id": "cd605471",
   "metadata": {},
   "outputs": [],
   "source": [
    "background_points = [(x, 200) for x in range(0, 35000, 5000)]\n",
    "print(background_points)"
   ]
  },
  {
   "cell_type": "code",
   "execution_count": null,
   "id": "e2005b4d",
   "metadata": {},
   "outputs": [],
   "source": [
    "job.set_background(background_points)"
   ]
  },
  {
   "cell_type": "markdown",
   "id": "90ab7afd",
   "metadata": {},
   "source": [
    "Display the experiment chart after setting the background"
   ]
  },
  {
   "cell_type": "code",
   "execution_count": null,
   "id": "5cf7f00d",
   "metadata": {},
   "outputs": [],
   "source": [
    "job.show_experiment_chart()"
   ]
  },
  {
   "cell_type": "markdown",
   "id": "8cba8ebb",
   "metadata": {},
   "source": [
    "## Analysis"
   ]
  },
  {
   "cell_type": "markdown",
   "id": "7c43d291",
   "metadata": {},
   "source": [
    "Display the analysis chart before setting initial parameter values"
   ]
  },
  {
   "cell_type": "code",
   "execution_count": null,
   "id": "245e8249",
   "metadata": {},
   "outputs": [],
   "source": [
    "job.show_analysis_chart()"
   ]
  },
  {
   "cell_type": "markdown",
   "id": "48207b31",
   "metadata": {},
   "source": [
    "Create aliases for the two types of experimental parameters"
   ]
  },
  {
   "cell_type": "code",
   "execution_count": null,
   "id": "d23c6b7d",
   "metadata": {},
   "outputs": [],
   "source": [
    "pattern_params = job.pattern\n",
    "experiment_params = job.parameters"
   ]
  },
  {
   "cell_type": "markdown",
   "id": "09d96f5c",
   "metadata": {},
   "source": [
    "Change the default value of some instrumental parameters and display the analysis chart again"
   ]
  },
  {
   "cell_type": "code",
   "execution_count": null,
   "id": "b2fc32bc",
   "metadata": {},
   "outputs": [],
   "source": [
    "experiment_params.dtt1 = 7476.91\n",
    "experiment_params.dtt2 = -1.54\n",
    "experiment_params.ttheta_bank = 144.845\n",
    "job.show_analysis_chart()"
   ]
  },
  {
   "cell_type": "markdown",
   "id": "804850f5",
   "metadata": {},
   "source": [
    "Change the scale and display the analysis chart again"
   ]
  },
  {
   "cell_type": "code",
   "execution_count": null,
   "id": "335a4f5d",
   "metadata": {},
   "outputs": [],
   "source": [
    "phase.scale = 10\n",
    "job.show_analysis_chart()"
   ]
  },
  {
   "cell_type": "markdown",
   "id": "7521a0e9",
   "metadata": {},
   "source": [
    "Change the default values of the peak profile related parameters and display the analysis chart again"
   ]
  },
  {
   "cell_type": "code",
   "execution_count": null,
   "id": "e6d8112d",
   "metadata": {},
   "outputs": [],
   "source": [
    "experiment_params.alpha0 = 0.024\n",
    "experiment_params.alpha1 = 0.204\n",
    "experiment_params.beta0 = 0.038\n",
    "experiment_params.beta1 = 0.011\n",
    "experiment_params.sigma0 = 0.0\n",
    "experiment_params.sigma1 = 0.0\n",
    "experiment_params.sigma2 = 0.0\n",
    "job.show_analysis_chart()"
   ]
  },
  {
   "cell_type": "markdown",
   "id": "ef4ebf60",
   "metadata": {},
   "source": [
    "Select parameters to be refined in the first round"
   ]
  },
  {
   "cell_type": "code",
   "execution_count": null,
   "id": "bd713748",
   "metadata": {},
   "outputs": [],
   "source": [
    "phase.scale.free = True\n",
    "pattern_params.zero_shift.free = True"
   ]
  },
  {
   "cell_type": "markdown",
   "id": "316e6998",
   "metadata": {},
   "source": [
    "Print parameters to be refined (free parameters) before fitting"
   ]
  },
  {
   "cell_type": "code",
   "execution_count": null,
   "id": "e34031b9",
   "metadata": {},
   "outputs": [],
   "source": [
    "job.show_free_parameters()"
   ]
  },
  {
   "cell_type": "markdown",
   "id": "2eb297e2",
   "metadata": {},
   "source": [
    "Start Least-Squares minimization to refine the selected parameters"
   ]
  },
  {
   "cell_type": "code",
   "execution_count": null,
   "id": "20e0d4a0",
   "metadata": {},
   "outputs": [],
   "source": [
    "job.fit()"
   ]
  },
  {
   "cell_type": "markdown",
   "id": "ff330b26",
   "metadata": {},
   "source": [
    "Print the refined parameters after fitting"
   ]
  },
  {
   "cell_type": "code",
   "execution_count": null,
   "id": "c1be37c8",
   "metadata": {},
   "outputs": [],
   "source": [
    "job.show_free_parameters()"
   ]
  },
  {
   "cell_type": "markdown",
   "id": "49a08182",
   "metadata": {},
   "source": [
    "Display the analysis chart after the first fitting"
   ]
  },
  {
   "cell_type": "code",
   "execution_count": null,
   "id": "52265950",
   "metadata": {},
   "outputs": [],
   "source": [
    "job.show_analysis_chart()"
   ]
  },
  {
   "cell_type": "markdown",
   "id": "6769d295",
   "metadata": {},
   "source": [
    "Allow background parameters to be refined"
   ]
  },
  {
   "cell_type": "code",
   "execution_count": null,
   "id": "79872364",
   "metadata": {},
   "outputs": [],
   "source": [
    "for background_point in pattern_params.backgrounds[0]:\n",
    "    background_point.y.free = True"
   ]
  },
  {
   "cell_type": "markdown",
   "id": "ea61827a",
   "metadata": {},
   "source": [
    "Print free parameters before the second fitting"
   ]
  },
  {
   "cell_type": "code",
   "execution_count": null,
   "id": "2e7d0328",
   "metadata": {},
   "outputs": [],
   "source": [
    "job.show_free_parameters()"
   ]
  },
  {
   "cell_type": "markdown",
   "id": "cc540dea",
   "metadata": {},
   "source": [
    "Start second round of minimization"
   ]
  },
  {
   "cell_type": "code",
   "execution_count": null,
   "id": "0b79c1b6",
   "metadata": {},
   "outputs": [],
   "source": [
    "job.fit()"
   ]
  },
  {
   "cell_type": "markdown",
   "id": "937cc3f6",
   "metadata": {},
   "source": [
    "Print free parameters after the second fitting"
   ]
  },
  {
   "cell_type": "code",
   "execution_count": null,
   "id": "e4110fd5",
   "metadata": {},
   "outputs": [],
   "source": [
    "job.show_free_parameters()"
   ]
  },
  {
   "cell_type": "markdown",
   "id": "0c47a9fe",
   "metadata": {},
   "source": [
    "Display the analysis chart after the second fitting"
   ]
  },
  {
   "cell_type": "code",
   "execution_count": null,
   "id": "c914fdb2",
   "metadata": {},
   "outputs": [],
   "source": [
    "job.show_analysis_chart()"
   ]
  },
  {
   "cell_type": "markdown",
   "id": "7af3a593",
   "metadata": {},
   "source": [
    "Select more parameters to be refined in the third round"
   ]
  },
  {
   "cell_type": "code",
   "execution_count": null,
   "id": "50f3240b",
   "metadata": {},
   "outputs": [],
   "source": [
    "experiment_params.sigma0.free = True\n",
    "experiment_params.sigma1.free = True\n",
    "experiment_params.sigma2.free = True"
   ]
  },
  {
   "cell_type": "markdown",
   "id": "6f53b4a0",
   "metadata": {},
   "source": [
    "Disable refinement of background parameters"
   ]
  },
  {
   "cell_type": "code",
   "execution_count": null,
   "id": "7b99837f",
   "metadata": {},
   "outputs": [],
   "source": [
    "for background_point in pattern_params.backgrounds[0]:\n",
    "    background_point.y.free = False"
   ]
  },
  {
   "cell_type": "markdown",
   "id": "72d03cb2",
   "metadata": {},
   "source": [
    "Print free parameters before the third fitting"
   ]
  },
  {
   "cell_type": "code",
   "execution_count": null,
   "id": "67559ea4",
   "metadata": {},
   "outputs": [],
   "source": [
    "job.show_free_parameters()"
   ]
  },
  {
   "cell_type": "markdown",
   "id": "32a8e918",
   "metadata": {},
   "source": [
    "Start third round of minimization"
   ]
  },
  {
   "cell_type": "code",
   "execution_count": null,
   "id": "b55cf2c3",
   "metadata": {},
   "outputs": [],
   "source": [
    "job.fit()"
   ]
  },
  {
   "cell_type": "markdown",
   "id": "2dd5e519",
   "metadata": {},
   "source": [
    "Print free parameters after the third fitting"
   ]
  },
  {
   "cell_type": "code",
   "execution_count": null,
   "id": "09c0edbc",
   "metadata": {},
   "outputs": [],
   "source": [
    "job.show_free_parameters()"
   ]
  },
  {
   "cell_type": "markdown",
   "id": "b257608d",
   "metadata": {},
   "source": [
    "Display the analysis chart after the third fitting"
   ]
  },
  {
   "cell_type": "code",
   "execution_count": null,
   "id": "3530437c",
   "metadata": {},
   "outputs": [],
   "source": [
    "job.show_analysis_chart()"
   ]
  }
 ],
 "metadata": {
  "kernelspec": {
   "display_name": "Python 3 (ipykernel)",
   "language": "python",
   "name": "python3"
  }
 },
 "nbformat": 4,
 "nbformat_minor": 5
}
