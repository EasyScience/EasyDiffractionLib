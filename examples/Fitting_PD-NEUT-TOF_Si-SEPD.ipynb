{
 "cells": [
  {
   "cell_type": "markdown",
   "id": "7caa0cc6",
   "metadata": {},
   "source": [
    "# Fitting `PD-NEUT-TOF` Si-SEPD\n",
    "\n",
    "This example shows how to refine the crystal structure parameters of Si from neutron diffraction data in a time-of-flight experiment performed on SEPD diffractometer at Argonne."
   ]
  },
  {
   "cell_type": "code",
   "execution_count": null,
   "id": "beb5cec7",
   "metadata": {
    "tags": [
     "hide_in_docs"
    ]
   },
   "outputs": [],
   "source": [
    "# Install the easydiffraction library if it is not installed (including charts extras)\n",
    "import importlib.util\n",
    "\n",
    "if importlib.util.find_spec('easydiffraction') is None:\n",
    "    !pip install 'easydiffraction[charts]'"
   ]
  },
  {
   "cell_type": "markdown",
   "id": "20315c7e",
   "metadata": {},
   "source": [
    "## Import EasyDiffraction"
   ]
  },
  {
   "cell_type": "code",
   "execution_count": null,
   "id": "51ee9138",
   "metadata": {},
   "outputs": [],
   "source": [
    "import easydiffraction as ed"
   ]
  },
  {
   "cell_type": "markdown",
   "id": "91ecacdb",
   "metadata": {},
   "source": [
    "## Job"
   ]
  },
  {
   "cell_type": "markdown",
   "id": "b7b2a7fa",
   "metadata": {},
   "source": [
    "Create a job — the main object to store all the information"
   ]
  },
  {
   "cell_type": "code",
   "execution_count": null,
   "id": "3394cbb2",
   "metadata": {},
   "outputs": [],
   "source": [
    "job = ed.Job(type='tof')"
   ]
  },
  {
   "cell_type": "markdown",
   "id": "36629689",
   "metadata": {},
   "source": [
    "## Model\n",
    "\n",
    "Create a phase object"
   ]
  },
  {
   "cell_type": "code",
   "execution_count": null,
   "id": "7462d728",
   "metadata": {},
   "outputs": [],
   "source": [
    "phase = ed.Phase(name='si')"
   ]
  },
  {
   "cell_type": "markdown",
   "id": "ff8e87ef",
   "metadata": {},
   "source": [
    "Set space group"
   ]
  },
  {
   "cell_type": "code",
   "execution_count": null,
   "id": "3b020096",
   "metadata": {},
   "outputs": [],
   "source": [
    "phase.space_group.name_hm_alt = 'F d -3 m'"
   ]
  },
  {
   "cell_type": "markdown",
   "id": "d4f0f414",
   "metadata": {},
   "source": [
    "Set cell parameters"
   ]
  },
  {
   "cell_type": "code",
   "execution_count": null,
   "id": "08308be2",
   "metadata": {},
   "outputs": [],
   "source": [
    "phase.cell.length_a = 5.43146"
   ]
  },
  {
   "cell_type": "markdown",
   "id": "13fc9b5c",
   "metadata": {},
   "source": [
    "Add atoms"
   ]
  },
  {
   "cell_type": "code",
   "execution_count": null,
   "id": "1185ab8a",
   "metadata": {},
   "outputs": [],
   "source": [
    "phase.atom_sites.append(label='Si',\n",
    "                        type_symbol='Si',\n",
    "                        fract_x=0,\n",
    "                        fract_y=0,\n",
    "                        fract_z=0,\n",
    "                        occupancy=1,\n",
    "                        b_iso_or_equiv=0.529)"
   ]
  },
  {
   "cell_type": "markdown",
   "id": "b82d9cdb",
   "metadata": {},
   "source": [
    "Add phase to the job object"
   ]
  },
  {
   "cell_type": "code",
   "execution_count": null,
   "id": "f3875acf",
   "metadata": {},
   "outputs": [],
   "source": [
    "job.add_phase(phase=phase)\n",
    "print(job.phases)"
   ]
  },
  {
   "cell_type": "markdown",
   "id": "9654457d",
   "metadata": {},
   "source": [
    "Show phase info in CIF format"
   ]
  },
  {
   "cell_type": "code",
   "execution_count": null,
   "id": "793510a5",
   "metadata": {},
   "outputs": [],
   "source": [
    "phase = job.phases['si']\n",
    "print(phase.cif)"
   ]
  },
  {
   "cell_type": "markdown",
   "id": "62030513",
   "metadata": {},
   "source": [
    "Display the crystal structure of a given model"
   ]
  },
  {
   "cell_type": "code",
   "execution_count": null,
   "id": "2091ff24",
   "metadata": {},
   "outputs": [],
   "source": [
    "job.show_crystal_structure(id='si')"
   ]
  },
  {
   "cell_type": "markdown",
   "id": "083d9af6",
   "metadata": {},
   "source": [
    "## Experiment\n",
    "\n",
    "Download the data file from the EasyDiffraction repository on GitHub"
   ]
  },
  {
   "cell_type": "code",
   "execution_count": null,
   "id": "14f0da82",
   "metadata": {},
   "outputs": [],
   "source": [
    "ed.download_from_repository('sepd.xye', destination='data')"
   ]
  },
  {
   "cell_type": "markdown",
   "id": "346d95c9",
   "metadata": {},
   "source": [
    "Show content of the downloaded file (first 5 lines)"
   ]
  },
  {
   "cell_type": "code",
   "execution_count": null,
   "id": "a5baa015",
   "metadata": {},
   "outputs": [],
   "source": [
    "with open('data/sepd.xye') as f:\n",
    "    print(''.join(f.readlines()[:5]))"
   ]
  },
  {
   "cell_type": "markdown",
   "id": "fed9c3fb",
   "metadata": {},
   "source": [
    "Load experimentally measured data from a file in XYE format"
   ]
  },
  {
   "cell_type": "code",
   "execution_count": null,
   "id": "84e9b857",
   "metadata": {},
   "outputs": [],
   "source": [
    "job.add_experiment_from_file('data/sepd.xye')"
   ]
  },
  {
   "cell_type": "markdown",
   "id": "a2e9b36f",
   "metadata": {},
   "source": [
    "Display the experimentally measured data"
   ]
  },
  {
   "cell_type": "code",
   "execution_count": null,
   "id": "f04afd3b",
   "metadata": {},
   "outputs": [],
   "source": [
    "job.show_experiment_chart(show_legend=False)"
   ]
  },
  {
   "cell_type": "markdown",
   "id": "7f2c429f",
   "metadata": {},
   "source": [
    "Define a point background"
   ]
  },
  {
   "cell_type": "code",
   "execution_count": null,
   "id": "f1c92236",
   "metadata": {},
   "outputs": [],
   "source": [
    "background_points = [(x, 200) for x in range(0, 35000, 5000)]\n",
    "print(background_points)"
   ]
  },
  {
   "cell_type": "code",
   "execution_count": null,
   "id": "2db08024",
   "metadata": {},
   "outputs": [],
   "source": [
    "job.set_background(background_points)"
   ]
  },
  {
   "cell_type": "markdown",
   "id": "a5d205eb",
   "metadata": {},
   "source": [
    "Display the experiment chart after setting the background"
   ]
  },
  {
   "cell_type": "code",
   "execution_count": null,
   "id": "15ae0cc3",
   "metadata": {},
   "outputs": [],
   "source": [
    "job.show_experiment_chart()"
   ]
  },
  {
   "cell_type": "markdown",
   "id": "ba017525",
   "metadata": {},
   "source": [
    "## Analysis"
   ]
  },
  {
   "cell_type": "markdown",
   "id": "5e7d5cc9",
   "metadata": {},
   "source": [
    "Display the analysis chart before setting initial parameter values"
   ]
  },
  {
   "cell_type": "code",
   "execution_count": null,
   "id": "5d99129b",
   "metadata": {},
   "outputs": [],
   "source": [
    "job.show_analysis_chart()"
   ]
  },
  {
   "cell_type": "markdown",
   "id": "0f9cf8c3",
   "metadata": {},
   "source": [
    "Create aliases for the two types of experimental parameters"
   ]
  },
  {
   "cell_type": "code",
   "execution_count": null,
   "id": "3c5bbbc8",
   "metadata": {},
   "outputs": [],
   "source": [
    "pattern_params = job.pattern\n",
    "experiment_params = job.parameters"
   ]
  },
  {
   "cell_type": "markdown",
   "id": "07607ec2",
   "metadata": {},
   "source": [
    "Change the default value of some instrumental parameters and display the analysis chart again"
   ]
  },
  {
   "cell_type": "code",
   "execution_count": null,
   "id": "18838822",
   "metadata": {},
   "outputs": [],
   "source": [
    "experiment_params.dtt1 = 7476.91\n",
    "experiment_params.dtt2 = -1.54\n",
    "experiment_params.ttheta_bank = 144.845\n",
    "job.show_analysis_chart()"
   ]
  },
  {
   "cell_type": "markdown",
   "id": "52e3adb5",
   "metadata": {},
   "source": [
    "Change the scale and display the analysis chart again"
   ]
  },
  {
   "cell_type": "code",
   "execution_count": null,
   "id": "9399788c",
   "metadata": {},
   "outputs": [],
   "source": [
    "phase.scale = 10\n",
    "job.show_analysis_chart()"
   ]
  },
  {
   "cell_type": "markdown",
   "id": "06623fd2",
   "metadata": {},
   "source": [
    "Change the default values of the peak profile related parameters and display the analysis chart again"
   ]
  },
  {
   "cell_type": "code",
   "execution_count": null,
   "id": "d6d28539",
   "metadata": {},
   "outputs": [],
   "source": [
    "experiment_params.alpha0 = 0.024\n",
    "experiment_params.alpha1 = 0.204\n",
    "experiment_params.beta0 = 0.038\n",
    "experiment_params.beta1 = 0.011\n",
    "experiment_params.sigma0 = 0.0\n",
    "experiment_params.sigma1 = 0.0\n",
    "experiment_params.sigma2 = 0.0\n",
    "job.show_analysis_chart()"
   ]
  },
  {
   "cell_type": "markdown",
   "id": "a05f673c",
   "metadata": {},
   "source": [
    "Select parameters to be refined in the first round"
   ]
  },
  {
   "cell_type": "code",
   "execution_count": null,
   "id": "f401bc7f",
   "metadata": {},
   "outputs": [],
   "source": [
    "phase.scale.free = True\n",
    "pattern_params.zero_shift.free = True"
   ]
  },
  {
   "cell_type": "markdown",
   "id": "d6bbcf97",
   "metadata": {},
   "source": [
    "Print parameters to be refined (free parameters) before fitting"
   ]
  },
  {
   "cell_type": "code",
   "execution_count": null,
   "id": "68084fdf",
   "metadata": {},
   "outputs": [],
   "source": [
    "job.show_free_parameters()"
   ]
  },
  {
   "cell_type": "markdown",
   "id": "d7461cda",
   "metadata": {},
   "source": [
    "Start Least-Squares minimization to refine the selected parameters"
   ]
  },
  {
   "cell_type": "code",
   "execution_count": null,
   "id": "6b669f23",
   "metadata": {},
   "outputs": [],
   "source": [
    "job.fit()"
   ]
  },
  {
   "cell_type": "markdown",
   "id": "9d9165be",
   "metadata": {},
   "source": [
    "Print the refined parameters after fitting"
   ]
  },
  {
   "cell_type": "code",
   "execution_count": null,
   "id": "69bd02cf",
   "metadata": {},
   "outputs": [],
   "source": [
    "job.show_free_parameters()"
   ]
  },
  {
   "cell_type": "markdown",
   "id": "46862664",
   "metadata": {},
   "source": [
    "Display the analysis chart after the first fitting"
   ]
  },
  {
   "cell_type": "code",
   "execution_count": null,
   "id": "ee18911d",
   "metadata": {},
   "outputs": [],
   "source": [
    "job.show_analysis_chart()"
   ]
  },
  {
   "cell_type": "markdown",
   "id": "21c53e72",
   "metadata": {},
   "source": [
    "Allow background parameters to be refined"
   ]
  },
  {
   "cell_type": "code",
   "execution_count": null,
   "id": "c018a53a",
   "metadata": {},
   "outputs": [],
   "source": [
    "for background_point in pattern_params.backgrounds[0]:\n",
    "    background_point.y.free = True"
   ]
  },
  {
   "cell_type": "markdown",
   "id": "45b22029",
   "metadata": {},
   "source": [
    "Print free parameters before the second fitting"
   ]
  },
  {
   "cell_type": "code",
   "execution_count": null,
   "id": "6170c2cd",
   "metadata": {},
   "outputs": [],
   "source": [
    "job.show_free_parameters()"
   ]
  },
  {
   "cell_type": "markdown",
   "id": "e28a28ba",
   "metadata": {},
   "source": [
    "Start second round of minimization"
   ]
  },
  {
   "cell_type": "code",
   "execution_count": null,
   "id": "b5b4048a",
   "metadata": {},
   "outputs": [],
   "source": [
    "job.fit()"
   ]
  },
  {
   "cell_type": "markdown",
   "id": "359220e9",
   "metadata": {},
   "source": [
    "Print free parameters after the second fitting"
   ]
  },
  {
   "cell_type": "code",
   "execution_count": null,
   "id": "571c567c",
   "metadata": {},
   "outputs": [],
   "source": [
    "job.show_free_parameters()"
   ]
  },
  {
   "cell_type": "markdown",
   "id": "378a9c9f",
   "metadata": {},
   "source": [
    "Display the analysis chart after the second fitting"
   ]
  },
  {
   "cell_type": "code",
   "execution_count": null,
   "id": "fe0203b1",
   "metadata": {},
   "outputs": [],
   "source": [
    "job.show_analysis_chart()"
   ]
  },
  {
   "cell_type": "markdown",
   "id": "082ef5ae",
   "metadata": {},
   "source": [
    "Select more parameters to be refined in the third round"
   ]
  },
  {
   "cell_type": "code",
   "execution_count": null,
   "id": "d8869b17",
   "metadata": {},
   "outputs": [],
   "source": [
    "experiment_params.sigma0.free = True\n",
    "experiment_params.sigma1.free = True\n",
    "experiment_params.sigma2.free = True"
   ]
  },
  {
   "cell_type": "markdown",
   "id": "35e216d2",
   "metadata": {},
   "source": [
    "Disable refinement of background parameters"
   ]
  },
  {
   "cell_type": "code",
   "execution_count": null,
   "id": "3b8b8ebe",
   "metadata": {},
   "outputs": [],
   "source": [
    "for background_point in pattern_params.backgrounds[0]:\n",
    "    background_point.y.free = False"
   ]
  },
  {
   "cell_type": "markdown",
   "id": "935ba5b1",
   "metadata": {},
   "source": [
    "Print free parameters before the third fitting"
   ]
  },
  {
   "cell_type": "code",
   "execution_count": null,
   "id": "dae31352",
   "metadata": {},
   "outputs": [],
   "source": [
    "job.show_free_parameters()"
   ]
  },
  {
   "cell_type": "markdown",
   "id": "652ecc56",
   "metadata": {},
   "source": [
    "Start third round of minimization"
   ]
  },
  {
   "cell_type": "code",
   "execution_count": null,
   "id": "c3ce7dc7",
   "metadata": {},
   "outputs": [],
   "source": [
    "job.fit()"
   ]
  },
  {
   "cell_type": "markdown",
   "id": "c026657c",
   "metadata": {},
   "source": [
    "Print free parameters after the third fitting"
   ]
  },
  {
   "cell_type": "code",
   "execution_count": null,
   "id": "d4f48882",
   "metadata": {},
   "outputs": [],
   "source": [
    "job.show_free_parameters()"
   ]
  },
  {
   "cell_type": "markdown",
   "id": "fd1647a5",
   "metadata": {},
   "source": [
    "Display the analysis chart after the third fitting"
   ]
  },
  {
   "cell_type": "code",
   "execution_count": null,
   "id": "f2bf0c6c",
   "metadata": {},
   "outputs": [],
   "source": [
    "job.show_analysis_chart()"
   ]
  }
 ],
 "metadata": {
  "kernelspec": {
   "display_name": "Python 3 (ipykernel)",
   "language": "python",
   "name": "python3"
  }
 },
 "nbformat": 4,
 "nbformat_minor": 5
}
