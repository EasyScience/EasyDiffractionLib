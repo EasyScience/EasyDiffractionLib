{
 "cells": [
  {
   "cell_type": "markdown",
   "id": "2e0380b5",
   "metadata": {},
   "source": [
    "# Fitting <a class=\"label-experiment\" href=\"https://docs.easydiffraction.org/lib/glossary/#experiment-type-labels\">pd-neut-tof</a> NCAF-WISH\n",
    "\n",
    "This example shows how to refine the crystal structure parameters of Si from neutron\n",
    "diffraction data in a time-of-flight experiment performed on WISH diffractometer at ISIS."
   ]
  },
  {
   "cell_type": "code",
   "execution_count": null,
   "id": "5015e023",
   "metadata": {
    "ExecuteTime": {
     "end_time": "2024-11-10T23:26:20.938608Z",
     "start_time": "2024-11-10T23:26:20.933331Z"
    },
    "tags": [
     "hide_in_docs"
    ]
   },
   "outputs": [],
   "source": [
    "# Check if the easydiffraction library is installed\n",
    "# If not, install it including the 'charts' extras\n",
    "# This is done when running in a Jupyter notebook\n",
    "import builtins\n",
    "import importlib.util\n",
    "\n",
    "if hasattr(builtins, \"__IPYTHON__\"):\n",
    "    if importlib.util.find_spec('easydiffraction') is None:\n",
    "        print('Installing the easydiffraction library...')\n",
    "        !pip install 'easydiffraction[charts]'"
   ]
  },
  {
   "cell_type": "markdown",
   "id": "a323ad5b",
   "metadata": {},
   "source": [
    "## Import EasyDiffraction"
   ]
  },
  {
   "cell_type": "code",
   "execution_count": null,
   "id": "a36f016c",
   "metadata": {},
   "outputs": [],
   "source": [
    "import easydiffraction as ed"
   ]
  },
  {
   "cell_type": "markdown",
   "id": "7dceee94",
   "metadata": {},
   "source": [
    "## Create a job\n",
    "\n",
    "Create a job — the main object to store all the information"
   ]
  },
  {
   "cell_type": "code",
   "execution_count": null,
   "id": "39183c3f",
   "metadata": {},
   "outputs": [],
   "source": [
    "job = ed.Job(type='tof')\n",
    "print(job.type)"
   ]
  },
  {
   "cell_type": "markdown",
   "id": "416040eb",
   "metadata": {},
   "source": [
    "## Define a model\n",
    "\n",
    "Download the CIF file from the EasyDiffraction repository on GitHub"
   ]
  },
  {
   "cell_type": "code",
   "execution_count": null,
   "id": "25a3753e-ea73-459e-b903-6bad028d4286",
   "metadata": {},
   "outputs": [],
   "source": [
    "ed.download_from_repository('ncaf.cif', destination='data')"
   ]
  },
  {
   "cell_type": "markdown",
   "id": "b3baec84",
   "metadata": {},
   "source": [
    "Load a phase from the downloaded CIF file"
   ]
  },
  {
   "cell_type": "code",
   "execution_count": null,
   "id": "d88c08ac-fde5-48ff-984c-3f91471fd0b6",
   "metadata": {},
   "outputs": [],
   "source": [
    "job.add_phase_from_file('data/ncaf.cif')\n",
    "print(job.phases)"
   ]
  },
  {
   "cell_type": "markdown",
   "id": "998c8382",
   "metadata": {},
   "source": [
    "Show phase info in CIF format"
   ]
  },
  {
   "cell_type": "code",
   "execution_count": null,
   "id": "156b56cd",
   "metadata": {},
   "outputs": [],
   "source": [
    "phase = job.phases['ncaf']\n",
    "print(phase.cif)"
   ]
  },
  {
   "cell_type": "markdown",
   "id": "d8cf548b",
   "metadata": {},
   "source": [
    "Display the crystal structure of a given model"
   ]
  },
  {
   "cell_type": "code",
   "execution_count": null,
   "id": "cec9a9f2",
   "metadata": {},
   "outputs": [],
   "source": [
    "job.show_crystal_structure(id='ncaf')"
   ]
  },
  {
   "cell_type": "markdown",
   "id": "18ae5de7",
   "metadata": {},
   "source": [
    "## Define an experiment\n",
    "\n",
    "Download the data file from the EasyDiffraction repository on GitHub"
   ]
  },
  {
   "cell_type": "code",
   "execution_count": null,
   "id": "72edf297",
   "metadata": {},
   "outputs": [],
   "source": [
    "ed.download_from_repository('wish.xye', destination='data')"
   ]
  },
  {
   "cell_type": "markdown",
   "id": "0cdf3586",
   "metadata": {},
   "source": [
    "Show content of the downloaded file (first 5 lines)"
   ]
  },
  {
   "cell_type": "code",
   "execution_count": null,
   "id": "4d9d179f",
   "metadata": {},
   "outputs": [],
   "source": [
    "with open('data/wish.xye') as f:\n",
    "    print(''.join(f.readlines()[:5]))"
   ]
  },
  {
   "cell_type": "markdown",
   "id": "2f817c17",
   "metadata": {},
   "source": [
    "Load experimentally measured data from downloaded file in XYE format"
   ]
  },
  {
   "cell_type": "code",
   "execution_count": null,
   "id": "c74e0978",
   "metadata": {},
   "outputs": [],
   "source": [
    "job.add_experiment_from_file('data/wish.xye')"
   ]
  },
  {
   "cell_type": "markdown",
   "id": "03b7d548",
   "metadata": {},
   "source": [
    "Display the experimentally measured data"
   ]
  },
  {
   "cell_type": "code",
   "execution_count": null,
   "id": "8c852c00",
   "metadata": {},
   "outputs": [],
   "source": [
    "job.show_experiment_chart()"
   ]
  },
  {
   "cell_type": "markdown",
   "id": "10ee1efc",
   "metadata": {},
   "source": [
    "Define a point background"
   ]
  },
  {
   "cell_type": "code",
   "execution_count": null,
   "id": "1d014dcd",
   "metadata": {},
   "outputs": [],
   "source": [
    "background_points = [\n",
    "    (  9162, 465),\n",
    "    ( 11136, 593),\n",
    "    ( 13313, 497),\n",
    "    ( 14906, 546),\n",
    "    ( 16454, 533),\n",
    "    ( 17352, 496),\n",
    "    ( 18743, 428),\n",
    "    ( 20179, 452),\n",
    "    ( 21368, 397),\n",
    "    ( 22176, 468),\n",
    "    ( 22827, 477),\n",
    "    ( 24644, 380),\n",
    "    ( 26439, 381),\n",
    "    ( 28257, 378),\n",
    "    ( 31196, 343),\n",
    "    ( 34034, 328),\n",
    "    ( 37265, 310),\n",
    "    ( 41214, 323),\n",
    "    ( 44827, 283),\n",
    "    ( 49830, 273),\n",
    "    ( 52905, 257),\n",
    "    ( 58204, 260),\n",
    "    ( 62916, 261),\n",
    "    ( 70186, 262),\n",
    "    ( 74204, 262),\n",
    "    ( 82103, 268),\n",
    "    ( 91958, 268),\n",
    "    (102712, 262)\n",
    "]\n",
    "job.set_background(background_points)"
   ]
  },
  {
   "cell_type": "markdown",
   "id": "07a07055",
   "metadata": {},
   "source": [
    "Display the experiment chart after setting the background"
   ]
  },
  {
   "cell_type": "code",
   "execution_count": null,
   "id": "8f4ec554",
   "metadata": {},
   "outputs": [],
   "source": [
    "job.show_experiment_chart()"
   ]
  },
  {
   "cell_type": "markdown",
   "id": "a9192ebf",
   "metadata": {},
   "source": [
    "## Perform an analysis"
   ]
  },
  {
   "cell_type": "markdown",
   "id": "f7b99316",
   "metadata": {},
   "source": [
    "Display the analysis chart before setting initial parameter values"
   ]
  },
  {
   "cell_type": "code",
   "execution_count": null,
   "id": "a5a88c4c",
   "metadata": {},
   "outputs": [],
   "source": [
    "job.show_analysis_chart()"
   ]
  },
  {
   "cell_type": "markdown",
   "id": "8d8ae4dd",
   "metadata": {},
   "source": [
    "Create aliases for the two types of experimental parameters"
   ]
  },
  {
   "cell_type": "code",
   "execution_count": null,
   "id": "ab6b83b2",
   "metadata": {},
   "outputs": [],
   "source": [
    "pattern= job.pattern\n",
    "instrument = job.instrument"
   ]
  },
  {
   "cell_type": "markdown",
   "id": "ece0d7af",
   "metadata": {},
   "source": [
    "Change the default value of some instrumental parameters and display the analysis chart again"
   ]
  },
  {
   "cell_type": "code",
   "execution_count": null,
   "id": "6cb66cd8",
   "metadata": {},
   "outputs": [],
   "source": [
    "instrument.dtt1 = 20770\n",
    "instrument.dtt2 = -1.08308\n",
    "instrument.ttheta_bank = 152.827\n",
    "job.show_analysis_chart()"
   ]
  },
  {
   "cell_type": "markdown",
   "id": "ad64c9dc",
   "metadata": {},
   "source": [
    "Change the scale and display the analysis chart again"
   ]
  },
  {
   "cell_type": "code",
   "execution_count": null,
   "id": "fcc5149f",
   "metadata": {},
   "outputs": [],
   "source": [
    "phase.scale = 0.5\n",
    "job.show_analysis_chart()"
   ]
  },
  {
   "cell_type": "markdown",
   "id": "d54ed32e",
   "metadata": {},
   "source": [
    "Change the default values of the peak profile related parameters and display the analysis chart again"
   ]
  },
  {
   "cell_type": "code",
   "execution_count": null,
   "id": "0ebc1593",
   "metadata": {},
   "outputs": [],
   "source": [
    "instrument.alpha0 = 0\n",
    "instrument.alpha1 = 0.1\n",
    "instrument.beta0 = 0.01\n",
    "instrument.beta1 = 0.01\n",
    "instrument.sigma0 = 0\n",
    "instrument.sigma1 = 0\n",
    "instrument.sigma2 = 5\n",
    "job.show_analysis_chart()"
   ]
  },
  {
   "cell_type": "markdown",
   "id": "f5ebd590",
   "metadata": {},
   "source": [
    "Select parameters to be refined in the first round"
   ]
  },
  {
   "cell_type": "code",
   "execution_count": null,
   "id": "1b6bdc2b",
   "metadata": {},
   "outputs": [],
   "source": [
    "phase.scale.free = True\n",
    "pattern.zero_shift.free = True"
   ]
  },
  {
   "cell_type": "markdown",
   "id": "ee9134a1",
   "metadata": {},
   "source": [
    "Print parameters to be refined (free parameters) before fitting"
   ]
  },
  {
   "cell_type": "code",
   "execution_count": null,
   "id": "82792b58",
   "metadata": {},
   "outputs": [],
   "source": [
    "job.show_free_parameters()"
   ]
  },
  {
   "cell_type": "markdown",
   "id": "93d4ab7c",
   "metadata": {},
   "source": [
    "Start Least-Squares minimization to refine the selected parameters"
   ]
  },
  {
   "cell_type": "code",
   "execution_count": null,
   "id": "8dce3ceb",
   "metadata": {},
   "outputs": [],
   "source": [
    "job.fit()"
   ]
  },
  {
   "cell_type": "markdown",
   "id": "9253dc8d",
   "metadata": {},
   "source": [
    "Print the refined parameters after fitting"
   ]
  },
  {
   "cell_type": "code",
   "execution_count": null,
   "id": "f9325138",
   "metadata": {},
   "outputs": [],
   "source": [
    "job.show_free_parameters()"
   ]
  },
  {
   "cell_type": "markdown",
   "id": "9d489498",
   "metadata": {},
   "source": [
    "Display the analysis chart after the first fitting"
   ]
  },
  {
   "cell_type": "code",
   "execution_count": null,
   "id": "e72e77d3",
   "metadata": {},
   "outputs": [],
   "source": [
    "job.show_analysis_chart()"
   ]
  },
  {
   "cell_type": "markdown",
   "id": "b8e7698a",
   "metadata": {},
   "source": [
    "Select more parameters to be refined in the second round"
   ]
  },
  {
   "cell_type": "code",
   "execution_count": null,
   "id": "abdb0191",
   "metadata": {},
   "outputs": [],
   "source": [
    "instrument.alpha1.free = True\n",
    "instrument.beta0.free = True\n",
    "instrument.beta1.free = True\n",
    "instrument.sigma2.free = True"
   ]
  },
  {
   "cell_type": "markdown",
   "id": "470b0031",
   "metadata": {},
   "source": [
    "Print free parameters before the second fitting"
   ]
  },
  {
   "cell_type": "code",
   "execution_count": null,
   "id": "077dbb9b",
   "metadata": {},
   "outputs": [],
   "source": [
    "job.show_free_parameters()"
   ]
  },
  {
   "cell_type": "markdown",
   "id": "f8768b45",
   "metadata": {},
   "source": [
    "Start the second round of minimization"
   ]
  },
  {
   "cell_type": "code",
   "execution_count": null,
   "id": "95d61056",
   "metadata": {},
   "outputs": [],
   "source": [
    "job.fit()"
   ]
  },
  {
   "cell_type": "markdown",
   "id": "bbe01fd2",
   "metadata": {},
   "source": [
    "Print free parameters after the third fitting"
   ]
  },
  {
   "cell_type": "code",
   "execution_count": null,
   "id": "c765fdbe",
   "metadata": {},
   "outputs": [],
   "source": [
    "job.show_free_parameters()"
   ]
  },
  {
   "cell_type": "markdown",
   "id": "17e5e799",
   "metadata": {},
   "source": [
    "Display the analysis chart after the third fitting"
   ]
  },
  {
   "cell_type": "code",
   "execution_count": null,
   "id": "29acc016",
   "metadata": {},
   "outputs": [],
   "source": [
    "job.show_analysis_chart()"
   ]
  },
  {
   "cell_type": "markdown",
   "id": "ed1ddcb0",
   "metadata": {},
   "source": [
    "Show all parameters after refinement"
   ]
  },
  {
   "cell_type": "code",
   "execution_count": null,
   "id": "00ed91c0",
   "metadata": {},
   "outputs": [],
   "source": [
    "job.show_parameters()"
   ]
  }
 ],
 "metadata": {
  "kernelspec": {
   "display_name": "Python 3 (ipykernel)",
   "language": "python",
   "name": "python3"
  },
  "language_info": {
   "codemirror_mode": {
    "name": "ipython",
    "version": 3
   },
   "file_extension": ".py",
   "mimetype": "text/x-python",
   "name": "python",
   "nbconvert_exporter": "python",
   "pygments_lexer": "ipython3",
   "version": "3.11.6"
  }
 },
 "nbformat": 4,
 "nbformat_minor": 5
}
