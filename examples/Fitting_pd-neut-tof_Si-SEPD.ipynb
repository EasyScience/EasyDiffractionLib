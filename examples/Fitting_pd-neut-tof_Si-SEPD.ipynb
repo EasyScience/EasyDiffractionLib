{
 "cells": [
  {
   "cell_type": "markdown",
   "id": "d4d7d1b2",
   "metadata": {},
   "source": [
    "# Fitting <a class=\"label-experiment\" href=\"https://docs.easydiffraction.org/lib/glossary/#experiment-type-labels\">pd-neut-tof</a> Si-SEPD\n",
    "\n",
    "This example shows how to refine the crystal structure parameters of Si from neutron\n",
    "diffraction data in a time-of-flight experiment performed on SEPD diffractometer at Argonne."
   ]
  },
  {
   "cell_type": "code",
   "execution_count": null,
   "id": "99026183",
   "metadata": {
    "tags": [
     "hide_in_docs"
    ]
   },
   "outputs": [],
   "source": [
    "# Check if the easydiffraction library is installed\n",
    "# If not, install it including the 'charts' extras\n",
    "# This is done when running in a Jupyter notebook\n",
    "import builtins\n",
    "import importlib.util\n",
    "\n",
    "if hasattr(builtins, \"__IPYTHON__\"):\n",
    "    if importlib.util.find_spec('easydiffraction') is None:\n",
    "        print('Installing the easydiffraction library...')\n",
    "        !pip install 'easydiffraction[charts]'"
   ]
  },
  {
   "cell_type": "markdown",
   "id": "5977f8df",
   "metadata": {},
   "source": [
    "## Import EasyDiffraction"
   ]
  },
  {
   "cell_type": "code",
   "execution_count": null,
   "id": "cec2a6a5",
   "metadata": {},
   "outputs": [],
   "source": [
    "import easydiffraction as ed"
   ]
  },
  {
   "cell_type": "markdown",
   "id": "72570218",
   "metadata": {},
   "source": [
    "## Create a job"
   ]
  },
  {
   "cell_type": "markdown",
   "id": "c6615d17",
   "metadata": {},
   "source": [
    "Create a job — the main object to store all the information"
   ]
  },
  {
   "cell_type": "code",
   "execution_count": null,
   "id": "3a6a92e0",
   "metadata": {},
   "outputs": [],
   "source": [
    "job = ed.Job(type='tof')\n",
    "print(job.type)"
   ]
  },
  {
   "cell_type": "markdown",
   "id": "18e3dea9",
   "metadata": {},
   "source": [
    "## Define a model\n",
    "\n",
    "Create a phase object"
   ]
  },
  {
   "cell_type": "code",
   "execution_count": null,
   "id": "d8d3d078",
   "metadata": {},
   "outputs": [],
   "source": [
    "phase = ed.Phase(name='si')"
   ]
  },
  {
   "cell_type": "markdown",
   "id": "12dd63de",
   "metadata": {},
   "source": [
    "Set space group"
   ]
  },
  {
   "cell_type": "code",
   "execution_count": null,
   "id": "784719ae",
   "metadata": {},
   "outputs": [],
   "source": [
    "phase.space_group.name_hm_alt = 'F d -3 m'"
   ]
  },
  {
   "cell_type": "markdown",
   "id": "a85e69be",
   "metadata": {},
   "source": [
    "Set cell parameters"
   ]
  },
  {
   "cell_type": "code",
   "execution_count": null,
   "id": "9d66e7dc",
   "metadata": {},
   "outputs": [],
   "source": [
    "phase.cell.length_a = 5.43146"
   ]
  },
  {
   "cell_type": "markdown",
   "id": "cdacec7c",
   "metadata": {},
   "source": [
    "Add atoms"
   ]
  },
  {
   "cell_type": "code",
   "execution_count": null,
   "id": "a180af30",
   "metadata": {},
   "outputs": [],
   "source": [
    "phase.atom_sites.append(label='Si',\n",
    "                        type_symbol='Si',\n",
    "                        fract_x=0,\n",
    "                        fract_y=0,\n",
    "                        fract_z=0,\n",
    "                        occupancy=1,\n",
    "                        b_iso_or_equiv=0.529)"
   ]
  },
  {
   "cell_type": "markdown",
   "id": "8f12795c",
   "metadata": {},
   "source": [
    "Add phase to the job object"
   ]
  },
  {
   "cell_type": "code",
   "execution_count": null,
   "id": "6b670878",
   "metadata": {},
   "outputs": [],
   "source": [
    "job.add_phase(phase=phase)\n",
    "print(job.phases)"
   ]
  },
  {
   "cell_type": "markdown",
   "id": "415fc8e3",
   "metadata": {},
   "source": [
    "Show phase info in CIF format"
   ]
  },
  {
   "cell_type": "code",
   "execution_count": null,
   "id": "08d364c1",
   "metadata": {},
   "outputs": [],
   "source": [
    "phase = job.phases['si']\n",
    "print(phase.cif)"
   ]
  },
  {
   "cell_type": "markdown",
   "id": "06b935e2",
   "metadata": {},
   "source": [
    "Display the crystal structure of a given model"
   ]
  },
  {
   "cell_type": "code",
   "execution_count": null,
   "id": "0339f8c6",
   "metadata": {},
   "outputs": [],
   "source": [
    "job.show_crystal_structure(id='si')"
   ]
  },
  {
   "cell_type": "markdown",
   "id": "dcf0c773",
   "metadata": {},
   "source": [
    "## Define an experiment\n",
    "\n",
    "Download the data file from the EasyDiffraction repository on GitHub"
   ]
  },
  {
   "cell_type": "code",
   "execution_count": null,
   "id": "008b6844",
   "metadata": {},
   "outputs": [],
   "source": [
    "ed.download_from_repository('sepd.xye', destination='data')"
   ]
  },
  {
   "cell_type": "markdown",
   "id": "fec7b3bd",
   "metadata": {},
   "source": [
    "Show content of the downloaded file (first 5 lines)"
   ]
  },
  {
   "cell_type": "code",
   "execution_count": null,
   "id": "615a112f",
   "metadata": {},
   "outputs": [],
   "source": [
    "with open('data/sepd.xye') as f:\n",
    "    print(''.join(f.readlines()[:5]))"
   ]
  },
  {
   "cell_type": "markdown",
   "id": "7e6f4fee",
   "metadata": {},
   "source": [
    "Load experimentally measured data from a file in XYE format"
   ]
  },
  {
   "cell_type": "code",
   "execution_count": null,
   "id": "30cb31e4",
   "metadata": {},
   "outputs": [],
   "source": [
    "job.add_experiment_from_file('data/sepd.xye')"
   ]
  },
  {
   "cell_type": "markdown",
   "id": "20947aee",
   "metadata": {},
   "source": [
    "Display the experimentally measured data"
   ]
  },
  {
   "cell_type": "code",
   "execution_count": null,
   "id": "35daa023",
   "metadata": {},
   "outputs": [],
   "source": [
    "job.show_experiment_chart(show_legend=False)"
   ]
  },
  {
   "cell_type": "markdown",
   "id": "ae22935a",
   "metadata": {},
   "source": [
    "Define a point background"
   ]
  },
  {
   "cell_type": "code",
   "execution_count": null,
   "id": "8fc580cc",
   "metadata": {},
   "outputs": [],
   "source": [
    "background_points = [(x, 200) for x in range(0, 35000, 5000)]\n",
    "print(background_points)"
   ]
  },
  {
   "cell_type": "code",
   "execution_count": null,
   "id": "98ae6fa7",
   "metadata": {},
   "outputs": [],
   "source": [
    "job.set_background(background_points)"
   ]
  },
  {
   "cell_type": "markdown",
   "id": "3a3466f5",
   "metadata": {},
   "source": [
    "Display the experiment chart after setting the background"
   ]
  },
  {
   "cell_type": "code",
   "execution_count": null,
   "id": "825592f8",
   "metadata": {},
   "outputs": [],
   "source": [
    "job.show_experiment_chart()"
   ]
  },
  {
   "cell_type": "markdown",
   "id": "9ea14831",
   "metadata": {},
   "source": [
    "## Perform an analysis"
   ]
  },
  {
   "cell_type": "markdown",
   "id": "05b09598",
   "metadata": {},
   "source": [
    "Display the analysis chart before setting initial parameter values"
   ]
  },
  {
   "cell_type": "code",
   "execution_count": null,
   "id": "20faa380",
   "metadata": {},
   "outputs": [],
   "source": [
    "job.show_analysis_chart()"
   ]
  },
  {
   "cell_type": "markdown",
   "id": "72748d7c",
   "metadata": {},
   "source": [
    "Create aliases for the two types of experimental parameters"
   ]
  },
  {
   "cell_type": "code",
   "execution_count": null,
   "id": "17e0a56a",
   "metadata": {},
   "outputs": [],
   "source": [
    "pattern_params = job.pattern\n",
    "experiment_params = job.parameters"
   ]
  },
  {
   "cell_type": "markdown",
   "id": "38bd9cc8",
   "metadata": {},
   "source": [
    "Change the default value of some instrumental parameters and display the analysis chart again"
   ]
  },
  {
   "cell_type": "code",
   "execution_count": null,
   "id": "117ddecb",
   "metadata": {},
   "outputs": [],
   "source": [
    "experiment_params.dtt1 = 7476.91\n",
    "experiment_params.dtt2 = -1.54\n",
    "experiment_params.ttheta_bank = 144.845\n",
    "job.show_analysis_chart()"
   ]
  },
  {
   "cell_type": "markdown",
   "id": "0707e8e1",
   "metadata": {},
   "source": [
    "Change the scale and display the analysis chart again"
   ]
  },
  {
   "cell_type": "code",
   "execution_count": null,
   "id": "ebcd54e6",
   "metadata": {},
   "outputs": [],
   "source": [
    "phase.scale = 10\n",
    "job.show_analysis_chart()"
   ]
  },
  {
   "cell_type": "markdown",
   "id": "1763ecdb",
   "metadata": {},
   "source": [
    "Change the default values of the peak profile related parameters and display the analysis chart again"
   ]
  },
  {
   "cell_type": "code",
   "execution_count": null,
   "id": "119417fb",
   "metadata": {},
   "outputs": [],
   "source": [
    "experiment_params.alpha0 = 0.024\n",
    "experiment_params.alpha1 = 0.204\n",
    "experiment_params.beta0 = 0.038\n",
    "experiment_params.beta1 = 0.011\n",
    "experiment_params.sigma0 = 0.0\n",
    "experiment_params.sigma1 = 0.0\n",
    "experiment_params.sigma2 = 0.0\n",
    "job.show_analysis_chart()"
   ]
  },
  {
   "cell_type": "markdown",
   "id": "ed986871",
   "metadata": {},
   "source": [
    "Select parameters to be refined in the first round"
   ]
  },
  {
   "cell_type": "code",
   "execution_count": null,
   "id": "bdf7b6ca",
   "metadata": {},
   "outputs": [],
   "source": [
    "phase.scale.free = True\n",
    "pattern_params.zero_shift.free = True"
   ]
  },
  {
   "cell_type": "markdown",
   "id": "f9353ca0",
   "metadata": {},
   "source": [
    "Print parameters to be refined (free parameters) before fitting"
   ]
  },
  {
   "cell_type": "code",
   "execution_count": null,
   "id": "95bafcea",
   "metadata": {},
   "outputs": [],
   "source": [
    "job.show_free_parameters()"
   ]
  },
  {
   "cell_type": "markdown",
   "id": "f6dae3db",
   "metadata": {},
   "source": [
    "Start Least-Squares minimization to refine the selected parameters"
   ]
  },
  {
   "cell_type": "code",
   "execution_count": null,
   "id": "4b5e21a7",
   "metadata": {},
   "outputs": [],
   "source": [
    "job.fit()"
   ]
  },
  {
   "cell_type": "markdown",
   "id": "6b58a39a",
   "metadata": {},
   "source": [
    "Print the refined parameters after fitting"
   ]
  },
  {
   "cell_type": "code",
   "execution_count": null,
   "id": "050c6bd9",
   "metadata": {},
   "outputs": [],
   "source": [
    "job.show_free_parameters()"
   ]
  },
  {
   "cell_type": "markdown",
   "id": "796b620f",
   "metadata": {},
   "source": [
    "Display the analysis chart after the first fitting"
   ]
  },
  {
   "cell_type": "code",
   "execution_count": null,
   "id": "131e47e6",
   "metadata": {},
   "outputs": [],
   "source": [
    "job.show_analysis_chart()"
   ]
  },
  {
   "cell_type": "markdown",
   "id": "ee8fbfac",
   "metadata": {},
   "source": [
    "Allow background parameters to be refined"
   ]
  },
  {
   "cell_type": "code",
   "execution_count": null,
   "id": "21c37665",
   "metadata": {},
   "outputs": [],
   "source": [
    "for background_point in pattern_params.backgrounds[0]:\n",
    "    background_point.y.free = True"
   ]
  },
  {
   "cell_type": "markdown",
   "id": "bcd9bab3",
   "metadata": {},
   "source": [
    "Print free parameters before the second fitting"
   ]
  },
  {
   "cell_type": "code",
   "execution_count": null,
   "id": "9ad2de56",
   "metadata": {},
   "outputs": [],
   "source": [
    "job.show_free_parameters()"
   ]
  },
  {
   "cell_type": "markdown",
   "id": "9fb57bb3",
   "metadata": {},
   "source": [
    "Start second round of minimization"
   ]
  },
  {
   "cell_type": "code",
   "execution_count": null,
   "id": "5f71d9a9",
   "metadata": {},
   "outputs": [],
   "source": [
    "job.fit()"
   ]
  },
  {
   "cell_type": "markdown",
   "id": "cc357d2e",
   "metadata": {},
   "source": [
    "Print free parameters after the second fitting"
   ]
  },
  {
   "cell_type": "code",
   "execution_count": null,
   "id": "be12cf69",
   "metadata": {},
   "outputs": [],
   "source": [
    "job.show_free_parameters()"
   ]
  },
  {
   "cell_type": "markdown",
   "id": "868e960d",
   "metadata": {},
   "source": [
    "Display the analysis chart after the second fitting"
   ]
  },
  {
   "cell_type": "code",
   "execution_count": null,
   "id": "6288fbc7",
   "metadata": {},
   "outputs": [],
   "source": [
    "job.show_analysis_chart()"
   ]
  },
  {
   "cell_type": "markdown",
   "id": "acc7fa97",
   "metadata": {},
   "source": [
    "Select more parameters to be refined in the third round"
   ]
  },
  {
   "cell_type": "code",
   "execution_count": null,
   "id": "8e94c526",
   "metadata": {},
   "outputs": [],
   "source": [
    "experiment_params.sigma0.free = True\n",
    "experiment_params.sigma1.free = True\n",
    "experiment_params.sigma2.free = True"
   ]
  },
  {
   "cell_type": "markdown",
   "id": "4114974c",
   "metadata": {},
   "source": [
    "Disable refinement of background parameters"
   ]
  },
  {
   "cell_type": "code",
   "execution_count": null,
   "id": "0c2e839b",
   "metadata": {},
   "outputs": [],
   "source": [
    "for background_point in pattern_params.backgrounds[0]:\n",
    "    background_point.y.free = False"
   ]
  },
  {
   "cell_type": "markdown",
   "id": "c7a29b4c",
   "metadata": {},
   "source": [
    "Print free parameters before the third fitting"
   ]
  },
  {
   "cell_type": "code",
   "execution_count": null,
   "id": "8ec068a3",
   "metadata": {},
   "outputs": [],
   "source": [
    "job.show_free_parameters()"
   ]
  },
  {
   "cell_type": "markdown",
   "id": "1df487ee",
   "metadata": {},
   "source": [
    "Start third round of minimization"
   ]
  },
  {
   "cell_type": "code",
   "execution_count": null,
   "id": "7ea43a58",
   "metadata": {},
   "outputs": [],
   "source": [
    "job.fit()"
   ]
  },
  {
   "cell_type": "markdown",
   "id": "3f19d93f",
   "metadata": {},
   "source": [
    "Print free parameters after the third fitting"
   ]
  },
  {
   "cell_type": "code",
   "execution_count": null,
   "id": "c00fcbbe",
   "metadata": {},
   "outputs": [],
   "source": [
    "job.show_free_parameters()"
   ]
  },
  {
   "cell_type": "markdown",
   "id": "37c03b07",
   "metadata": {},
   "source": [
    "Display the analysis chart after the third fitting"
   ]
  },
  {
   "cell_type": "code",
   "execution_count": null,
   "id": "efb3b460",
   "metadata": {},
   "outputs": [],
   "source": [
    "job.show_analysis_chart()"
   ]
  }
 ],
 "metadata": {
  "kernelspec": {
   "display_name": "Python 3 (ipykernel)",
   "language": "python",
   "name": "python3"
  }
 },
 "nbformat": 4,
 "nbformat_minor": 5
}
