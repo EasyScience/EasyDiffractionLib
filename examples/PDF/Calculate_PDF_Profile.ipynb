{
 "cells": [
  {
   "cell_type": "code",
   "execution_count": null,
   "metadata": {},
   "outputs": [],
   "source": [
    "import os\n",
    "\n",
    "from easyCore.Fitting.Fitting import Fitter\n",
    "from easyDiffractionLib import Phases\n",
    "from easyDiffractionLib.interface import InterfaceFactory as Calculator\n",
    "from easyDiffractionLib.Profiles.P1D import PDFParameters\n",
    "from easyDiffractionLib.Jobs import Powder1DCW\n",
    "from easyDiffractionLib.Interfaces.pdffit2 import readGRData"
   ]
  },
  {
   "cell_type": "code",
   "execution_count": null,
   "metadata": {},
   "outputs": [],
   "source": [
    "# data_fname = os.path.realpath('examples\\\\PDF\\\\Ni-xray.gr')\n",
    "data_fname = os.path.realpath('Ni-xray.gr')\n",
    "data = readGRData(data_fname)"
   ]
  },
  {
   "cell_type": "code",
   "execution_count": null,
   "metadata": {},
   "outputs": [],
   "source": [
    "cif_fname = os.path.realpath('Ni.cif')\n",
    "phases = Phases.from_cif_file(cif_fname)"
   ]
  },
  {
   "cell_type": "code",
   "execution_count": null,
   "metadata": {},
   "outputs": [],
   "source": [
    "calculator = Calculator()\n",
    "calculator.switch(\"Pdffit2\")"
   ]
  },
  {
   "cell_type": "code",
   "execution_count": null,
   "metadata": {},
   "outputs": [],
   "source": [
    "parameters = PDFParameters()\n",
    "job = Powder1DCW('Ni', parameters=parameters, phases=phases, interface=calculator)\n",
    "\n",
    "fitter = Fitter(job, calculator.fit_func)"
   ]
  },
  {
   "cell_type": "code",
   "execution_count": null,
   "metadata": {},
   "outputs": [],
   "source": [
    "parameters = job.parameters\n",
    "parameters.qmax = 70\n",
    "parameters.qdamp = 0.01\n",
    "parameters.qbroad = 0.0\n",
    "parameters.wavelength = 1.9122\n",
    "\n",
    "pattern = job.pattern\n",
    "pattern.zero_shift = 0.16\n",
    "pattern.scale = 1.4473"
   ]
  },
  {
   "cell_type": "code",
   "execution_count": null,
   "metadata": {},
   "outputs": [],
   "source": [
    "x_data = data[:, 0]\n",
    "\n",
    "y_data = job.create_simulation(x_data)"
   ]
  },
  {
   "cell_type": "code",
   "execution_count": null,
   "metadata": {},
   "outputs": [],
   "source": [
    "# plotting\n",
    "# plotting\n",
    "from bokeh.io import show, output_notebook\n",
    "from bokeh.plotting import figure\n",
    "output_notebook()\n",
    "FIGURE_WIDTH = 900\n",
    "FIGURE_HEIGHT = 300\n",
    "\n",
    "Gobs = data[:, 1]\n",
    "Gfit = y_data\n",
    "\n",
    "Gdiff = Gobs - Gfit\n",
    "Gdiff_baseline = -10\n",
    "\n",
    "Gdiff_show = Gdiff/5.0 + Gdiff_baseline\n",
    "\n",
    "fig = figure()\n",
    "fig.xaxis.axis_label = 'r (Å)'\n",
    "fig.yaxis.axis_label = r\"$$G (Å^{-2})\\$$\"\n",
    "fig.title.text = 'Fit of nickel to x-ray experimental PDF'\n",
    "\n",
    "fig.line(x_data, Gobs, legend_label='G(r) Data', color='steelblue', line_width=2)\n",
    "fig.line(x_data, Gfit, legend_label='G(r) Fit', color='orangered', line_width=2)\n",
    "fig.line(x_data, Gdiff_show, legend_label='G(r) Diff', color='grey', line_width=2)\n",
    "show(fig)"
   ]
  },
  {
   "cell_type": "code",
   "execution_count": null,
   "metadata": {},
   "outputs": [],
   "source": []
  }
 ],
 "metadata": {
  "kernelspec": {
   "display_name": "easy_pdf",
   "language": "python",
   "name": "easy_pdf"
  },
  "language_info": {
   "codemirror_mode": {
    "name": "ipython",
    "version": 3
   },
   "file_extension": ".py",
   "mimetype": "text/x-python",
   "name": "python",
   "nbconvert_exporter": "python",
   "pygments_lexer": "ipython3",
   "version": "3.8.15"
  }
 },
 "nbformat": 4,
 "nbformat_minor": 2
}
