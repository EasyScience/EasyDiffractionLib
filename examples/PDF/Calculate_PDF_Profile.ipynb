{
 "cells": [
  {
   "cell_type": "code",
   "execution_count": null,
   "metadata": {},
   "outputs": [],
   "source": [
    "import os\n",
    "\n",
    "from easyCore.Fitting.Fitting import Fitter\n",
    "from easyDiffractionLib.sample import Sample\n",
    "from easyDiffractionLib import Phases\n",
    "from easyDiffractionLib.interface import InterfaceFactory as Calculator\n",
    "from easyDiffractionLib.Profiles.P1D import Powder1DParameters, PDFParameters\n",
    "from easyDiffractionLib.Interfaces.pdffit2 import readGRData"
   ]
  },
  {
   "cell_type": "code",
   "execution_count": null,
   "metadata": {},
   "outputs": [],
   "source": [
    "calculator = Calculator()\n",
    "calculator.switch(\"Pdffit2\")"
   ]
  },
  {
   "cell_type": "code",
   "execution_count": null,
   "metadata": {},
   "outputs": [],
   "source": [
    "# data_fname = os.path.realpath('examples\\\\PDF\\\\Ni-xray.gr')\n",
    "data_fname = os.path.realpath('Ni-xray.gr')\n",
    "data = readGRData(data_fname)"
   ]
  },
  {
   "cell_type": "code",
   "execution_count": null,
   "metadata": {},
   "outputs": [],
   "source": [
    "cif_fname = os.path.realpath('Ni.cif')\n",
    "phases = Phases.from_cif_file(cif_fname)"
   ]
  },
  {
   "cell_type": "code",
   "execution_count": null,
   "metadata": {},
   "outputs": [],
   "source": [
    "parameters = PDFParameters()\n",
    "\n",
    "# PDF parameters\n",
    "parameters.qmax = 70\n",
    "parameters.qdamp = 0.01\n",
    "\n",
    "pattern = Powder1DParameters()\n",
    "\n",
    "S = Sample(phases=phases, parameters=parameters, pattern=pattern)\n",
    "S.interface = calculator"
   ]
  },
  {
   "cell_type": "code",
   "execution_count": null,
   "metadata": {},
   "outputs": [],
   "source": [
    "x_data = data[:, 0]\n",
    "\n",
    "# profile calculation\n",
    "y_data = calculator.fit_func(x_data)"
   ]
  },
  {
   "cell_type": "code",
   "execution_count": null,
   "metadata": {},
   "outputs": [],
   "source": [
    "import pylab\n",
    "# obtain data from PdfFit calculator object\n",
    "r = x_data\n",
    "Gobs = data[:, 1]\n",
    "Gfit = y_data\n",
    "\n",
    "Gdiff = pylab.array(Gobs) - pylab.array(Gfit)\n",
    "Gdiff_baseline = -10\n",
    "\n",
    "# pylab.plot(r, Gobs, 'ko')\n",
    "pylab.plot(r, Gobs, '.')\n",
    "pylab.plot(r, Gfit, 'b-')\n",
    "pylab.plot(r, Gdiff + Gdiff_baseline, 'r-')\n",
    "\n",
    "pylab.xlabel(u'r (Å)')\n",
    "pylab.ylabel(u'G (Å$^{-2}$)')\n",
    "pylab.title('Fit of nickel to x-ray experimental PDF')\n",
    "\n",
    "# display plot window, this must be the last command in the script\n",
    "pylab.show()"
   ]
  },
  {
   "cell_type": "code",
   "execution_count": null,
   "metadata": {},
   "outputs": [],
   "source": []
  }
 ],
 "metadata": {
  "kernelspec": {
   "display_name": "easy_pdf",
   "language": "python",
   "name": "easy_pdf"
  },
  "language_info": {
   "codemirror_mode": {
    "name": "ipython",
    "version": 3
   },
   "file_extension": ".py",
   "mimetype": "text/x-python",
   "name": "python",
   "nbconvert_exporter": "python",
   "pygments_lexer": "ipython3",
   "version": "3.8.15"
  }
 },
 "nbformat": 4,
 "nbformat_minor": 2
}
