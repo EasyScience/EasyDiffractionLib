{
 "cells": [
  {
   "cell_type": "markdown",
   "metadata": {},
   "source": [
    "# Fit PDF profile\n",
    "\n",
    "This notebook illustrates how to fit 1D PDF profile in EasyDiffraction for X-ray experimental data and Ni sample using PDFfit2 (J. Phys, Condens. Matter **19**, 335219 (2007). doi: https://doi.org/10.1088/0953-8984/19/33/3352190)."
   ]
  },
  {
   "cell_type": "code",
   "execution_count": null,
   "metadata": {},
   "outputs": [],
   "source": [
    "import os\n",
    "\n",
    "from easyCore.Fitting.Fitting import Fitter\n",
    "from easyDiffractionLib import Phases\n",
    "from easyDiffractionLib.Jobs import Powder1DCW\n",
    "from easyDiffractionLib.interface import InterfaceFactory as Calculator\n",
    "from easyDiffractionLib.Profiles.P1D import PDFParameters\n",
    "from easyDiffractionLib.Interfaces.pdffit2 import readGRData\n",
    "\n",
    "# for plotting\n",
    "from bokeh.io import show, output_notebook\n",
    "from bokeh.plotting import figure\n",
    "output_notebook()\n",
    "FIGURE_WIDTH = 900\n",
    "FIGURE_HEIGHT = 300"
   ]
  },
  {
   "cell_type": "markdown",
   "metadata": {},
   "source": [
    "## Define calculator"
   ]
  },
  {
   "cell_type": "code",
   "execution_count": null,
   "metadata": {},
   "outputs": [],
   "source": [
    "calculator = Calculator()\n",
    "calculator.switch(\"Pdffit2\")"
   ]
  },
  {
   "cell_type": "markdown",
   "metadata": {},
   "source": [
    "## Load experimental and reference data\n",
    "\n",
    "`Ni-xray.gr` contains reduced X-ray data with Ni sample. Its structure is a a header with metadata and then an array of 4 columns: $r$, $G(r)$, and the error related to these 2 quantities.  \n",
    "The reduction was done with `pdfgetx2`."
   ]
  },
  {
   "cell_type": "code",
   "execution_count": null,
   "metadata": {},
   "outputs": [],
   "source": [
    "data_fname = os.path.realpath('Ni-xray.gr')\n",
    "data = readGRData(data_fname)\n",
    "cif_fname = os.path.realpath('Ni.cif')\n",
    "phases = Phases.from_cif_file(cif_fname)"
   ]
  },
  {
   "cell_type": "markdown",
   "metadata": {},
   "source": [
    "## Define job "
   ]
  },
  {
   "cell_type": "code",
   "execution_count": null,
   "metadata": {},
   "outputs": [],
   "source": [
    "parameters = PDFParameters()"
   ]
  },
  {
   "cell_type": "code",
   "execution_count": null,
   "metadata": {},
   "outputs": [],
   "source": [
    "job = Powder1DCW('Ni', parameters=parameters, phases=phases, interface=calculator)\n",
    "\n",
    "fitter = Fitter(job, calculator.fit_func)"
   ]
  },
  {
   "cell_type": "markdown",
   "metadata": {},
   "source": [
    "## Set parameters\n",
    "### Global parameters"
   ]
  },
  {
   "cell_type": "code",
   "execution_count": null,
   "metadata": {
    "tags": []
   },
   "outputs": [],
   "source": [
    "parameters = job.parameters\n",
    "parameters.get_parameters()"
   ]
  },
  {
   "cell_type": "code",
   "execution_count": null,
   "metadata": {},
   "outputs": [],
   "source": [
    "parameters.qmax = 30\n",
    "parameters.qdamp = 0.063043\n",
    "parameters.wavelength = 0.126514\n",
    "parameters.delta2 = 2.253193\n",
    "parameters.delta1 = 0.0\n",
    "parameters.qbroad = 0.1\n",
    "# let's limit the range of qbroad\n",
    "parameters.qbroad.min = 0.0\n",
    "parameters.qbroad.max = 0.5\n",
    "parameters.spdiameter = 0.0"
   ]
  },
  {
   "cell_type": "markdown",
   "metadata": {},
   "source": [
    "Here is a short description for some of these parameters:\n",
    "- Q_damp: PDF Gaussian dampening envelope due to limited $Q$-resolution. The Gaussian envelope is of the form $\\exp(-\\frac{(r Q_{damp})^2}{2})$\n",
    "- Q_broad: PDF peak broadening from increased intensity noise at high $Q$\n",
    "- delta1: coefficient for $(1/r)$ contribution to the peak sharpening.\n",
    "- delta2: coefficient for $(1/r^2)$ contribution to the peak sharpening.\n",
    "\n",
    "Using these notations, the PDF peak width is expressed as \n",
    "\n",
    "$$ \\sigma_{ij} \\sqrt{1-\\frac{\\delta_1}{r_{ij}}-\\frac{\\delta_2}{r_{ij}^2}+Q_{broad}^2 r_{ij}^2},$$ where $i$, $j$ correspond to two different atoms.  \n",
    "\n",
    "It contains contributions from thermal and zero point displacements and static disorder. $\\sigma_{ij}'$ is the peak width without correlation.   \n",
    "The first two terms correct for the effects of correlated motion. The term $\\delta_2/r^2$ describes the low temperature behavior, and $\\delta_1/r$ describes the high temperature case. Since the two parameters are highly correlated, one will in practice choose which one to refine.  \n",
    "\n",
    "The last term models the PDF peak broadening as a result of the Q-resolution of the diffractometer. In many cases this term will only be significant for refinements over wider r -ranges. Note that the Q resolution also results in an exponentialdampening of the PDF peaks which is modeled using the parameter Q_damp."
   ]
  },
  {
   "cell_type": "markdown",
   "metadata": {},
   "source": [
    "### Parameters for each phase\n",
    "\n",
    "Here we only have one phase."
   ]
  },
  {
   "cell_type": "code",
   "execution_count": null,
   "metadata": {
    "tags": []
   },
   "outputs": [],
   "source": [
    "phases"
   ]
  },
  {
   "cell_type": "markdown",
   "metadata": {},
   "source": [
    "#### Print some phase settings "
   ]
  },
  {
   "cell_type": "code",
   "execution_count": null,
   "metadata": {
    "tags": []
   },
   "outputs": [],
   "source": [
    "print(job.phases[0].cell)\n",
    "print(job.phases[0].center)\n",
    "print(job.phases[0].spacegroup)\n",
    "print(job.phases[0].scale)"
   ]
  },
  {
   "cell_type": "code",
   "execution_count": null,
   "metadata": {
    "tags": []
   },
   "outputs": [],
   "source": [
    "job.phases[0].get_parameters()"
   ]
  },
  {
   "cell_type": "markdown",
   "metadata": {},
   "source": [
    "#### Modify some of settings"
   ]
  },
  {
   "cell_type": "code",
   "execution_count": null,
   "metadata": {
    "tags": []
   },
   "outputs": [],
   "source": [
    "job.phases[0].atoms[0].adp.Uiso = 0.005445\n",
    "job.phases[0].scale = 0.366013\n",
    "job.phases[0].cell.length_a = 3.52"
   ]
  },
  {
   "cell_type": "markdown",
   "metadata": {},
   "source": [
    "## Calculate profile"
   ]
  },
  {
   "cell_type": "code",
   "execution_count": null,
   "metadata": {},
   "outputs": [],
   "source": [
    "x_data = data[:, 0]\n",
    "\n",
    "y_data = job.create_simulation(x_data)"
   ]
  },
  {
   "cell_type": "markdown",
   "metadata": {},
   "source": [
    "## Select parameters to optimize"
   ]
  },
  {
   "cell_type": "code",
   "execution_count": null,
   "metadata": {},
   "outputs": [],
   "source": [
    "job.phases[0].cell.length_a.fixed = False\n",
    "job.phases[0].scale.fixed = False\n",
    "parameters.qdamp.fixed = False\n",
    "parameters.qbroad.fixed = False\n",
    "parameters.delta1.fixed = False\n",
    "parameters.delta2.fixed = False\n"
   ]
  },
  {
   "cell_type": "markdown",
   "metadata": {},
   "source": [
    "## Run the fit"
   ]
  },
  {
   "cell_type": "code",
   "execution_count": null,
   "metadata": {},
   "outputs": [],
   "source": [
    "result = fitter.fit(x_data, data[:, 1], \n",
    "                    method='least_squares', minimizer_kwargs={'diff_step': 1e-5, 'verbose': 2})"
   ]
  },
  {
   "cell_type": "markdown",
   "metadata": {},
   "source": [
    "## Print fitting results"
   ]
  },
  {
   "cell_type": "code",
   "execution_count": null,
   "metadata": {},
   "outputs": [],
   "source": [
    "print(f\"The fit has been successful: {result.success}\")  \n",
    "print(f\"The goodness of fit (chi2) is: {result.reduced_chi}\")\n",
    "print(\"The optimized parameters are:\")\n",
    "for param in job.get_fit_parameters():\n",
    "    print(f\"{param.name}: {param.raw_value} +\\- {param.error} {param.unit}\") "
   ]
  },
  {
   "cell_type": "markdown",
   "metadata": {},
   "source": [
    "## Plot"
   ]
  },
  {
   "cell_type": "code",
   "execution_count": null,
   "metadata": {},
   "outputs": [],
   "source": [
    "y_data = calculator.fit_func(x_data)"
   ]
  },
  {
   "cell_type": "code",
   "execution_count": null,
   "metadata": {},
   "outputs": [],
   "source": [
    "# obtain data from PdfFit calculator object\n",
    "Gobs = data[:, 1]\n",
    "Gfit = y_data\n",
    "Gdiff = Gobs - Gfit\n",
    "Gdiff_baseline = -10\n",
    "\n",
    "Gdiff_show = Gdiff + Gdiff_baseline"
   ]
  },
  {
   "cell_type": "code",
   "execution_count": null,
   "metadata": {},
   "outputs": [],
   "source": [
    "fig = figure()\n",
    "fig.xaxis.axis_label = 'r (Å)'\n",
    "fig.yaxis.axis_label = r\"$$G (Å^{-2})\\$$\"\n",
    "fig.title.text = 'Fit of nickel to x-ray experimental PDF'\n",
    "\n",
    "fig.scatter(x_data, Gobs, legend_label='G(r) Data', fill_alpha=0., line_color='steelblue', marker='circle')\n",
    "fig.line(x_data, Gfit, legend_label='G(r) Fit', color='orangered', line_width=2)\n",
    "fig.line(x_data, Gdiff_show, legend_label='G(r) Diff', color='grey', line_width=2)\n",
    "show(fig)\n"
   ]
  },
  {
   "cell_type": "code",
   "execution_count": null,
   "metadata": {},
   "outputs": [],
   "source": []
  }
 ],
 "metadata": {
  "kernelspec": {
   "display_name": "Python 3 (ipykernel)",
   "language": "python",
   "name": "python3"
  },
  "language_info": {
   "codemirror_mode": {
    "name": "ipython",
    "version": 3
   },
   "file_extension": ".py",
   "mimetype": "text/x-python",
   "name": "python",
   "nbconvert_exporter": "python",
   "pygments_lexer": "ipython3",
   "version": "3.8.9"
  }
 },
 "nbformat": 4,
 "nbformat_minor": 4
}
