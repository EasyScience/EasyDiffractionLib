{
 "cells": [
  {
   "cell_type": "code",
   "execution_count": null,
   "metadata": {},
   "outputs": [],
   "source": [
    "import os\n",
    "\n",
    "from easyCore.Fitting.Fitting import Fitter\n",
    "from easyDiffractionLib import Phases\n",
    "from easyDiffractionLib.Jobs import Powder1DCW\n",
    "from easyDiffractionLib.interface import InterfaceFactory as Calculator\n",
    "from easyDiffractionLib.Profiles.P1D import PDFParameters\n",
    "from easyDiffractionLib.Interfaces.pdffit2 import readGRData"
   ]
  },
  {
   "cell_type": "code",
   "execution_count": null,
   "metadata": {},
   "outputs": [],
   "source": [
    "# plotting\n",
    "from bokeh.io import show, output_notebook\n",
    "from bokeh.plotting import figure\n",
    "output_notebook()\n",
    "FIGURE_WIDTH = 900\n",
    "FIGURE_HEIGHT = 300"
   ]
  },
  {
   "cell_type": "code",
   "execution_count": null,
   "metadata": {},
   "outputs": [],
   "source": [
    "calculator = Calculator()\n",
    "calculator.switch(\"Pdffit2\")\n"
   ]
  },
  {
   "cell_type": "code",
   "execution_count": null,
   "metadata": {},
   "outputs": [],
   "source": [
    "data_fname = os.path.realpath('Ni-xray.gr')\n",
    "data = readGRData(data_fname)\n",
    "cif_fname = os.path.realpath('Ni.cif')\n",
    "phases = Phases.from_cif_file(cif_fname)"
   ]
  },
  {
   "cell_type": "code",
   "execution_count": null,
   "metadata": {},
   "outputs": [],
   "source": [
    "parameters = PDFParameters()"
   ]
  },
  {
   "cell_type": "code",
   "execution_count": null,
   "metadata": {},
   "outputs": [],
   "source": [
    "job = Powder1DCW('Ni', parameters=parameters, phases=phases, interface=calculator)\n",
    "\n",
    "fitter = Fitter(job, calculator.fit_func)"
   ]
  },
  {
   "cell_type": "code",
   "execution_count": null,
   "metadata": {},
   "outputs": [],
   "source": [
    "parameters = job.parameters\n",
    "parameters.qmax = 30\n",
    "parameters.qdamp = 0.063043\n",
    "parameters.wavelength = 1.9122\n",
    "parameters.delta2 = 2.253193\n",
    "parameters.delta1 = 0.0\n",
    "parameters.qbroad = 0.1\n",
    "# let's limit the range of qbroad\n",
    "parameters.qbroad.min = 0.0\n",
    "parameters.qbroad.max = 0.5\n",
    "\n",
    "pattern = job.pattern\n",
    "job.phases[0].atoms[0].adp.Uiso = 0.005445\n",
    "job.phases[0].scale = 0.366013\n",
    "job.phases[0].cell.length_a = 3.52"
   ]
  },
  {
   "cell_type": "code",
   "execution_count": null,
   "metadata": {},
   "outputs": [],
   "source": [
    "x_data = data[:, 0]\n",
    "\n",
    "# profile calculation\n",
    "y_data = job.create_simulation(x_data)"
   ]
  },
  {
   "cell_type": "code",
   "execution_count": null,
   "metadata": {},
   "outputs": [],
   "source": [
    "# params to optimize\n",
    "job.phases[0].cell.length_a.fixed = False\n",
    "job.phases[0].scale.fixed = False\n",
    "parameters.qdamp.fixed = False\n",
    "parameters.qbroad.fixed = False\n",
    "parameters.delta1.fixed = False\n",
    "parameters.delta2.fixed = False"
   ]
  },
  {
   "cell_type": "code",
   "execution_count": null,
   "metadata": {},
   "outputs": [],
   "source": [
    "result = fitter.fit(x_data, data[:, 1], \n",
    "                    method='least_squares', minimizer_kwargs={'diff_step': 1e-5})"
   ]
  },
  {
   "cell_type": "code",
   "execution_count": null,
   "metadata": {},
   "outputs": [],
   "source": [
    "print(\"The fit has been successful: {}\".format(result.success))  \n",
    "print(\"The gooodness of fit (chi2) is: {}\".format(result.reduced_chi))\n",
    "print(\"The optimized parameters are:\")\n",
    "for param in job.get_fit_parameters():\n",
    "    print(\"{}: {}\".format(param.name, param.raw_value))"
   ]
  },
  {
   "cell_type": "code",
   "execution_count": null,
   "metadata": {},
   "outputs": [],
   "source": [
    "y_data = calculator.fit_func(x_data)"
   ]
  },
  {
   "cell_type": "code",
   "execution_count": null,
   "metadata": {},
   "outputs": [],
   "source": [
    "\n",
    "# obtain data from PdfFit calculator object\n",
    "Gobs = data[:, 1]\n",
    "Gfit = y_data\n",
    "Gdiff = Gobs - Gfit\n",
    "Gdiff_baseline = -10\n",
    "\n",
    "Gdiff_show = Gdiff/5.0 + Gdiff_baseline"
   ]
  },
  {
   "cell_type": "code",
   "execution_count": null,
   "metadata": {},
   "outputs": [],
   "source": [
    "fig = figure()\n",
    "fig.xaxis.axis_label = 'r (Å)'\n",
    "fig.yaxis.axis_label = r\"$$G (Å^{-2})\\$$\"\n",
    "fig.title.text = 'Fit of nickel to x-ray experimental PDF'\n",
    "\n",
    "fig.line(x_data, Gobs, legend_label='G(r) Data', color='steelblue', line_width=2)\n",
    "fig.line(x_data, Gfit, legend_label='G(r) Fit', color='orangered', line_width=2)\n",
    "fig.line(x_data, Gdiff_show, legend_label='G(r) Diff', color='grey', line_width=2)\n",
    "show(fig)\n"
   ]
  }
 ],
 "metadata": {
  "kernelspec": {
   "display_name": "easy_pdf",
   "language": "python",
   "name": "easy_pdf"
  },
  "language_info": {
   "codemirror_mode": {
    "name": "ipython",
    "version": 3
   },
   "file_extension": ".py",
   "mimetype": "text/x-python",
   "name": "python",
   "nbconvert_exporter": "python",
   "pygments_lexer": "ipython3",
   "version": "3.8.15"
  }
 },
 "nbformat": 4,
 "nbformat_minor": 2
}
