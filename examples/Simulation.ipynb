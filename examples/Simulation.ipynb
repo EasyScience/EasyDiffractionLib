{
 "cells": [
  {
   "cell_type": "markdown",
   "id": "8a365a14",
   "metadata": {
    "pycharm": {
     "name": "#%% md\n"
    }
   },
   "source": [
    "# Simulation of the diffraction pattern\n",
    "This notebook shows how we can create a sample (phase) from atoms and calculate diffraction profiles using both constant wavelength and time-of-flight experiment types."
   ]
  },
  {
   "cell_type": "code",
   "execution_count": 1,
   "id": "9ecc4733",
   "metadata": {
    "pycharm": {
     "name": "#%%\n"
    }
   },
   "outputs": [
    {
     "name": "stdout",
     "output_type": "stream",
     "text": [
      "GSAS-II binary directory: /Users/asazonov/Developing/CrossPlatform/easyScience/easyDiffraction/.venv/lib/python3.7/site-packages/GSASII/bindist\n",
      "ImportError for wx/mpl in GSASIIctrlGUI: ignore if docs build\n"
     ]
    }
   ],
   "source": [
    "# esyScience, technique-independent\n",
    "from easyCore import np\n",
    "from easyCore.Fitting.Fitting import Fitter\n",
    "# esyScience, diffraction\n",
    "from easyDiffractionLib import Site, Phase, Phases\n",
    "from easyDiffractionLib.sample import Sample as Job\n",
    "from easyDiffractionLib.interface import InterfaceFactory as Calculator\n",
    "from easyDiffractionLib.Elements.Experiments.Pattern import Pattern1D\n",
    "from easyDiffractionLib.Profiles.P1D import Instrument1DCWParameters as CWParams\n",
    "from easyDiffractionLib.Profiles.P1D import Instrument1DTOFParameters as TOFParams\n",
    "from easyDiffractionLib.Profiles.P1D import Powder1DParameters\n",
    "\n",
    "# Vizualization\n",
    "import py3Dmol\n",
    "from bokeh.io import show, output_notebook\n",
    "from bokeh.plotting import figure"
   ]
  },
  {
   "cell_type": "code",
   "execution_count": 2,
   "id": "d76d50fc",
   "metadata": {
    "pycharm": {
     "name": "#%%\n"
    }
   },
   "outputs": [
    {
     "data": {
      "text/html": [
       "\n",
       "    <div class=\"bk-root\">\n",
       "        <a href=\"https://bokeh.org\" target=\"_blank\" class=\"bk-logo bk-logo-small bk-logo-notebook\"></a>\n",
       "        <span id=\"1002\">Loading BokehJS ...</span>\n",
       "    </div>"
      ]
     },
     "metadata": {},
     "output_type": "display_data"
    },
    {
     "data": {
      "application/javascript": [
       "\n",
       "(function(root) {\n",
       "  function now() {\n",
       "    return new Date();\n",
       "  }\n",
       "\n",
       "  const force = true;\n",
       "\n",
       "  if (typeof root._bokeh_onload_callbacks === \"undefined\" || force === true) {\n",
       "    root._bokeh_onload_callbacks = [];\n",
       "    root._bokeh_is_loading = undefined;\n",
       "  }\n",
       "\n",
       "  const JS_MIME_TYPE = 'application/javascript';\n",
       "  const HTML_MIME_TYPE = 'text/html';\n",
       "  const EXEC_MIME_TYPE = 'application/vnd.bokehjs_exec.v0+json';\n",
       "  const CLASS_NAME = 'output_bokeh rendered_html';\n",
       "\n",
       "  /**\n",
       "   * Render data to the DOM node\n",
       "   */\n",
       "  function render(props, node) {\n",
       "    const script = document.createElement(\"script\");\n",
       "    node.appendChild(script);\n",
       "  }\n",
       "\n",
       "  /**\n",
       "   * Handle when an output is cleared or removed\n",
       "   */\n",
       "  function handleClearOutput(event, handle) {\n",
       "    const cell = handle.cell;\n",
       "\n",
       "    const id = cell.output_area._bokeh_element_id;\n",
       "    const server_id = cell.output_area._bokeh_server_id;\n",
       "    // Clean up Bokeh references\n",
       "    if (id != null && id in Bokeh.index) {\n",
       "      Bokeh.index[id].model.document.clear();\n",
       "      delete Bokeh.index[id];\n",
       "    }\n",
       "\n",
       "    if (server_id !== undefined) {\n",
       "      // Clean up Bokeh references\n",
       "      const cmd_clean = \"from bokeh.io.state import curstate; print(curstate().uuid_to_server['\" + server_id + \"'].get_sessions()[0].document.roots[0]._id)\";\n",
       "      cell.notebook.kernel.execute(cmd_clean, {\n",
       "        iopub: {\n",
       "          output: function(msg) {\n",
       "            const id = msg.content.text.trim();\n",
       "            if (id in Bokeh.index) {\n",
       "              Bokeh.index[id].model.document.clear();\n",
       "              delete Bokeh.index[id];\n",
       "            }\n",
       "          }\n",
       "        }\n",
       "      });\n",
       "      // Destroy server and session\n",
       "      const cmd_destroy = \"import bokeh.io.notebook as ion; ion.destroy_server('\" + server_id + \"')\";\n",
       "      cell.notebook.kernel.execute(cmd_destroy);\n",
       "    }\n",
       "  }\n",
       "\n",
       "  /**\n",
       "   * Handle when a new output is added\n",
       "   */\n",
       "  function handleAddOutput(event, handle) {\n",
       "    const output_area = handle.output_area;\n",
       "    const output = handle.output;\n",
       "\n",
       "    // limit handleAddOutput to display_data with EXEC_MIME_TYPE content only\n",
       "    if ((output.output_type != \"display_data\") || (!Object.prototype.hasOwnProperty.call(output.data, EXEC_MIME_TYPE))) {\n",
       "      return\n",
       "    }\n",
       "\n",
       "    const toinsert = output_area.element.find(\".\" + CLASS_NAME.split(' ')[0]);\n",
       "\n",
       "    if (output.metadata[EXEC_MIME_TYPE][\"id\"] !== undefined) {\n",
       "      toinsert[toinsert.length - 1].firstChild.textContent = output.data[JS_MIME_TYPE];\n",
       "      // store reference to embed id on output_area\n",
       "      output_area._bokeh_element_id = output.metadata[EXEC_MIME_TYPE][\"id\"];\n",
       "    }\n",
       "    if (output.metadata[EXEC_MIME_TYPE][\"server_id\"] !== undefined) {\n",
       "      const bk_div = document.createElement(\"div\");\n",
       "      bk_div.innerHTML = output.data[HTML_MIME_TYPE];\n",
       "      const script_attrs = bk_div.children[0].attributes;\n",
       "      for (let i = 0; i < script_attrs.length; i++) {\n",
       "        toinsert[toinsert.length - 1].firstChild.setAttribute(script_attrs[i].name, script_attrs[i].value);\n",
       "        toinsert[toinsert.length - 1].firstChild.textContent = bk_div.children[0].textContent\n",
       "      }\n",
       "      // store reference to server id on output_area\n",
       "      output_area._bokeh_server_id = output.metadata[EXEC_MIME_TYPE][\"server_id\"];\n",
       "    }\n",
       "  }\n",
       "\n",
       "  function register_renderer(events, OutputArea) {\n",
       "\n",
       "    function append_mime(data, metadata, element) {\n",
       "      // create a DOM node to render to\n",
       "      const toinsert = this.create_output_subarea(\n",
       "        metadata,\n",
       "        CLASS_NAME,\n",
       "        EXEC_MIME_TYPE\n",
       "      );\n",
       "      this.keyboard_manager.register_events(toinsert);\n",
       "      // Render to node\n",
       "      const props = {data: data, metadata: metadata[EXEC_MIME_TYPE]};\n",
       "      render(props, toinsert[toinsert.length - 1]);\n",
       "      element.append(toinsert);\n",
       "      return toinsert\n",
       "    }\n",
       "\n",
       "    /* Handle when an output is cleared or removed */\n",
       "    events.on('clear_output.CodeCell', handleClearOutput);\n",
       "    events.on('delete.Cell', handleClearOutput);\n",
       "\n",
       "    /* Handle when a new output is added */\n",
       "    events.on('output_added.OutputArea', handleAddOutput);\n",
       "\n",
       "    /**\n",
       "     * Register the mime type and append_mime function with output_area\n",
       "     */\n",
       "    OutputArea.prototype.register_mime_type(EXEC_MIME_TYPE, append_mime, {\n",
       "      /* Is output safe? */\n",
       "      safe: true,\n",
       "      /* Index of renderer in `output_area.display_order` */\n",
       "      index: 0\n",
       "    });\n",
       "  }\n",
       "\n",
       "  // register the mime type if in Jupyter Notebook environment and previously unregistered\n",
       "  if (root.Jupyter !== undefined) {\n",
       "    const events = require('base/js/events');\n",
       "    const OutputArea = require('notebook/js/outputarea').OutputArea;\n",
       "\n",
       "    if (OutputArea.prototype.mime_types().indexOf(EXEC_MIME_TYPE) == -1) {\n",
       "      register_renderer(events, OutputArea);\n",
       "    }\n",
       "  }\n",
       "\n",
       "  \n",
       "  if (typeof (root._bokeh_timeout) === \"undefined\" || force === true) {\n",
       "    root._bokeh_timeout = Date.now() + 5000;\n",
       "    root._bokeh_failed_load = false;\n",
       "  }\n",
       "\n",
       "  const NB_LOAD_WARNING = {'data': {'text/html':\n",
       "     \"<div style='background-color: #fdd'>\\n\"+\n",
       "     \"<p>\\n\"+\n",
       "     \"BokehJS does not appear to have successfully loaded. If loading BokehJS from CDN, this \\n\"+\n",
       "     \"may be due to a slow or bad network connection. Possible fixes:\\n\"+\n",
       "     \"</p>\\n\"+\n",
       "     \"<ul>\\n\"+\n",
       "     \"<li>re-rerun `output_notebook()` to attempt to load from CDN again, or</li>\\n\"+\n",
       "     \"<li>use INLINE resources instead, as so:</li>\\n\"+\n",
       "     \"</ul>\\n\"+\n",
       "     \"<code>\\n\"+\n",
       "     \"from bokeh.resources import INLINE\\n\"+\n",
       "     \"output_notebook(resources=INLINE)\\n\"+\n",
       "     \"</code>\\n\"+\n",
       "     \"</div>\"}};\n",
       "\n",
       "  function display_loaded() {\n",
       "    const el = document.getElementById(\"1002\");\n",
       "    if (el != null) {\n",
       "      el.textContent = \"BokehJS is loading...\";\n",
       "    }\n",
       "    if (root.Bokeh !== undefined) {\n",
       "      if (el != null) {\n",
       "        el.textContent = \"BokehJS \" + root.Bokeh.version + \" successfully loaded.\";\n",
       "      }\n",
       "    } else if (Date.now() < root._bokeh_timeout) {\n",
       "      setTimeout(display_loaded, 100)\n",
       "    }\n",
       "  }\n",
       "\n",
       "\n",
       "  function run_callbacks() {\n",
       "    try {\n",
       "      root._bokeh_onload_callbacks.forEach(function(callback) {\n",
       "        if (callback != null)\n",
       "          callback();\n",
       "      });\n",
       "    } finally {\n",
       "      delete root._bokeh_onload_callbacks\n",
       "    }\n",
       "    console.debug(\"Bokeh: all callbacks have finished\");\n",
       "  }\n",
       "\n",
       "  function load_libs(css_urls, js_urls, callback) {\n",
       "    if (css_urls == null) css_urls = [];\n",
       "    if (js_urls == null) js_urls = [];\n",
       "\n",
       "    root._bokeh_onload_callbacks.push(callback);\n",
       "    if (root._bokeh_is_loading > 0) {\n",
       "      console.debug(\"Bokeh: BokehJS is being loaded, scheduling callback at\", now());\n",
       "      return null;\n",
       "    }\n",
       "    if (js_urls == null || js_urls.length === 0) {\n",
       "      run_callbacks();\n",
       "      return null;\n",
       "    }\n",
       "    console.debug(\"Bokeh: BokehJS not loaded, scheduling load and callback at\", now());\n",
       "    root._bokeh_is_loading = css_urls.length + js_urls.length;\n",
       "\n",
       "    function on_load() {\n",
       "      root._bokeh_is_loading--;\n",
       "      if (root._bokeh_is_loading === 0) {\n",
       "        console.debug(\"Bokeh: all BokehJS libraries/stylesheets loaded\");\n",
       "        run_callbacks()\n",
       "      }\n",
       "    }\n",
       "\n",
       "    function on_error(url) {\n",
       "      console.error(\"failed to load \" + url);\n",
       "    }\n",
       "\n",
       "    for (let i = 0; i < css_urls.length; i++) {\n",
       "      const url = css_urls[i];\n",
       "      const element = document.createElement(\"link\");\n",
       "      element.onload = on_load;\n",
       "      element.onerror = on_error.bind(null, url);\n",
       "      element.rel = \"stylesheet\";\n",
       "      element.type = \"text/css\";\n",
       "      element.href = url;\n",
       "      console.debug(\"Bokeh: injecting link tag for BokehJS stylesheet: \", url);\n",
       "      document.body.appendChild(element);\n",
       "    }\n",
       "\n",
       "    for (let i = 0; i < js_urls.length; i++) {\n",
       "      const url = js_urls[i];\n",
       "      const element = document.createElement('script');\n",
       "      element.onload = on_load;\n",
       "      element.onerror = on_error.bind(null, url);\n",
       "      element.async = false;\n",
       "      element.src = url;\n",
       "      console.debug(\"Bokeh: injecting script tag for BokehJS library: \", url);\n",
       "      document.head.appendChild(element);\n",
       "    }\n",
       "  };\n",
       "\n",
       "  function inject_raw_css(css) {\n",
       "    const element = document.createElement(\"style\");\n",
       "    element.appendChild(document.createTextNode(css));\n",
       "    document.body.appendChild(element);\n",
       "  }\n",
       "\n",
       "  \n",
       "  const js_urls = [\"https://cdn.bokeh.org/bokeh/release/bokeh-2.4.0.min.js\", \"https://cdn.bokeh.org/bokeh/release/bokeh-gl-2.4.0.min.js\", \"https://cdn.bokeh.org/bokeh/release/bokeh-widgets-2.4.0.min.js\", \"https://cdn.bokeh.org/bokeh/release/bokeh-tables-2.4.0.min.js\", \"https://cdn.bokeh.org/bokeh/release/bokeh-mathjax-2.4.0.min.js\"];\n",
       "  const css_urls = [];\n",
       "  \n",
       "\n",
       "  const inline_js = [\n",
       "    function(Bokeh) {\n",
       "      Bokeh.set_log_level(\"info\");\n",
       "    },\n",
       "    function(Bokeh) {\n",
       "    \n",
       "    \n",
       "    }\n",
       "  ];\n",
       "\n",
       "  function run_inline_js() {\n",
       "    \n",
       "    if (root.Bokeh !== undefined || force === true) {\n",
       "      \n",
       "    for (let i = 0; i < inline_js.length; i++) {\n",
       "      inline_js[i].call(root, root.Bokeh);\n",
       "    }\n",
       "    if (force === true) {\n",
       "        display_loaded();\n",
       "      }} else if (Date.now() < root._bokeh_timeout) {\n",
       "      setTimeout(run_inline_js, 100);\n",
       "    } else if (!root._bokeh_failed_load) {\n",
       "      console.log(\"Bokeh: BokehJS failed to load within specified timeout.\");\n",
       "      root._bokeh_failed_load = true;\n",
       "    } else if (force !== true) {\n",
       "      const cell = $(document.getElementById(\"1002\")).parents('.cell').data().cell;\n",
       "      cell.output_area.append_execute_result(NB_LOAD_WARNING)\n",
       "    }\n",
       "\n",
       "  }\n",
       "\n",
       "  if (root._bokeh_is_loading === 0) {\n",
       "    console.debug(\"Bokeh: BokehJS loaded, going straight to plotting\");\n",
       "    run_inline_js();\n",
       "  } else {\n",
       "    load_libs(css_urls, js_urls, function() {\n",
       "      console.debug(\"Bokeh: BokehJS plotting callback run at\", now());\n",
       "      run_inline_js();\n",
       "    });\n",
       "  }\n",
       "}(window));"
      ],
      "application/vnd.bokehjs_load.v0+json": "\n(function(root) {\n  function now() {\n    return new Date();\n  }\n\n  const force = true;\n\n  if (typeof root._bokeh_onload_callbacks === \"undefined\" || force === true) {\n    root._bokeh_onload_callbacks = [];\n    root._bokeh_is_loading = undefined;\n  }\n\n  \n\n  \n  if (typeof (root._bokeh_timeout) === \"undefined\" || force === true) {\n    root._bokeh_timeout = Date.now() + 5000;\n    root._bokeh_failed_load = false;\n  }\n\n  const NB_LOAD_WARNING = {'data': {'text/html':\n     \"<div style='background-color: #fdd'>\\n\"+\n     \"<p>\\n\"+\n     \"BokehJS does not appear to have successfully loaded. If loading BokehJS from CDN, this \\n\"+\n     \"may be due to a slow or bad network connection. Possible fixes:\\n\"+\n     \"</p>\\n\"+\n     \"<ul>\\n\"+\n     \"<li>re-rerun `output_notebook()` to attempt to load from CDN again, or</li>\\n\"+\n     \"<li>use INLINE resources instead, as so:</li>\\n\"+\n     \"</ul>\\n\"+\n     \"<code>\\n\"+\n     \"from bokeh.resources import INLINE\\n\"+\n     \"output_notebook(resources=INLINE)\\n\"+\n     \"</code>\\n\"+\n     \"</div>\"}};\n\n  function display_loaded() {\n    const el = document.getElementById(\"1002\");\n    if (el != null) {\n      el.textContent = \"BokehJS is loading...\";\n    }\n    if (root.Bokeh !== undefined) {\n      if (el != null) {\n        el.textContent = \"BokehJS \" + root.Bokeh.version + \" successfully loaded.\";\n      }\n    } else if (Date.now() < root._bokeh_timeout) {\n      setTimeout(display_loaded, 100)\n    }\n  }\n\n\n  function run_callbacks() {\n    try {\n      root._bokeh_onload_callbacks.forEach(function(callback) {\n        if (callback != null)\n          callback();\n      });\n    } finally {\n      delete root._bokeh_onload_callbacks\n    }\n    console.debug(\"Bokeh: all callbacks have finished\");\n  }\n\n  function load_libs(css_urls, js_urls, callback) {\n    if (css_urls == null) css_urls = [];\n    if (js_urls == null) js_urls = [];\n\n    root._bokeh_onload_callbacks.push(callback);\n    if (root._bokeh_is_loading > 0) {\n      console.debug(\"Bokeh: BokehJS is being loaded, scheduling callback at\", now());\n      return null;\n    }\n    if (js_urls == null || js_urls.length === 0) {\n      run_callbacks();\n      return null;\n    }\n    console.debug(\"Bokeh: BokehJS not loaded, scheduling load and callback at\", now());\n    root._bokeh_is_loading = css_urls.length + js_urls.length;\n\n    function on_load() {\n      root._bokeh_is_loading--;\n      if (root._bokeh_is_loading === 0) {\n        console.debug(\"Bokeh: all BokehJS libraries/stylesheets loaded\");\n        run_callbacks()\n      }\n    }\n\n    function on_error(url) {\n      console.error(\"failed to load \" + url);\n    }\n\n    for (let i = 0; i < css_urls.length; i++) {\n      const url = css_urls[i];\n      const element = document.createElement(\"link\");\n      element.onload = on_load;\n      element.onerror = on_error.bind(null, url);\n      element.rel = \"stylesheet\";\n      element.type = \"text/css\";\n      element.href = url;\n      console.debug(\"Bokeh: injecting link tag for BokehJS stylesheet: \", url);\n      document.body.appendChild(element);\n    }\n\n    for (let i = 0; i < js_urls.length; i++) {\n      const url = js_urls[i];\n      const element = document.createElement('script');\n      element.onload = on_load;\n      element.onerror = on_error.bind(null, url);\n      element.async = false;\n      element.src = url;\n      console.debug(\"Bokeh: injecting script tag for BokehJS library: \", url);\n      document.head.appendChild(element);\n    }\n  };\n\n  function inject_raw_css(css) {\n    const element = document.createElement(\"style\");\n    element.appendChild(document.createTextNode(css));\n    document.body.appendChild(element);\n  }\n\n  \n  const js_urls = [\"https://cdn.bokeh.org/bokeh/release/bokeh-2.4.0.min.js\", \"https://cdn.bokeh.org/bokeh/release/bokeh-gl-2.4.0.min.js\", \"https://cdn.bokeh.org/bokeh/release/bokeh-widgets-2.4.0.min.js\", \"https://cdn.bokeh.org/bokeh/release/bokeh-tables-2.4.0.min.js\", \"https://cdn.bokeh.org/bokeh/release/bokeh-mathjax-2.4.0.min.js\"];\n  const css_urls = [];\n  \n\n  const inline_js = [\n    function(Bokeh) {\n      Bokeh.set_log_level(\"info\");\n    },\n    function(Bokeh) {\n    \n    \n    }\n  ];\n\n  function run_inline_js() {\n    \n    if (root.Bokeh !== undefined || force === true) {\n      \n    for (let i = 0; i < inline_js.length; i++) {\n      inline_js[i].call(root, root.Bokeh);\n    }\n    if (force === true) {\n        display_loaded();\n      }} else if (Date.now() < root._bokeh_timeout) {\n      setTimeout(run_inline_js, 100);\n    } else if (!root._bokeh_failed_load) {\n      console.log(\"Bokeh: BokehJS failed to load within specified timeout.\");\n      root._bokeh_failed_load = true;\n    } else if (force !== true) {\n      const cell = $(document.getElementById(\"1002\")).parents('.cell').data().cell;\n      cell.output_area.append_execute_result(NB_LOAD_WARNING)\n    }\n\n  }\n\n  if (root._bokeh_is_loading === 0) {\n    console.debug(\"Bokeh: BokehJS loaded, going straight to plotting\");\n    run_inline_js();\n  } else {\n    load_libs(css_urls, js_urls, function() {\n      console.debug(\"Bokeh: BokehJS plotting callback run at\", now());\n      run_inline_js();\n    });\n  }\n}(window));"
     },
     "metadata": {},
     "output_type": "display_data"
    }
   ],
   "source": [
    "output_notebook()\n",
    "FIGURE_WIDTH = 990\n",
    "FIGURE_HEIGHT = 300"
   ]
  },
  {
   "cell_type": "markdown",
   "id": "283767f9",
   "metadata": {
    "pycharm": {
     "name": "#%% md\n"
    }
   },
   "source": [
    "## Sample"
   ]
  },
  {
   "cell_type": "markdown",
   "id": "19a39b25",
   "metadata": {
    "pycharm": {
     "name": "#%% md\n"
    }
   },
   "source": [
    "#### Create an atom using `Site` interface"
   ]
  },
  {
   "cell_type": "code",
   "execution_count": 3,
   "id": "41020330",
   "metadata": {
    "pycharm": {
     "name": "#%%\n"
    }
   },
   "outputs": [],
   "source": [
    "atom = Site.from_pars(label=\"Cl\",\n",
    "                      specie=\"Cl\",\n",
    "                      fract_x=0.0,\n",
    "                      fract_y=0.0,\n",
    "                      fract_z=0.0)"
   ]
  },
  {
   "cell_type": "markdown",
   "id": "910aed87",
   "metadata": {
    "pycharm": {
     "name": "#%% md\n"
    }
   },
   "source": [
    "#### Create a phase, set space group, add atom"
   ]
  },
  {
   "cell_type": "code",
   "execution_count": 4,
   "id": "1e2f3193",
   "metadata": {
    "pycharm": {
     "name": "#%%\n"
    }
   },
   "outputs": [],
   "source": [
    "phase = Phase(name=\"salt\")\n",
    "\n",
    "phase.spacegroup.space_group_HM_name = \"F m -3 m\"\n",
    "\n",
    "phase.add_atom(atom)"
   ]
  },
  {
   "cell_type": "markdown",
   "id": "d4532d8b",
   "metadata": {
    "pycharm": {
     "name": "#%% md\n"
    }
   },
   "source": [
    "#### Add another atom (using `Phase` interface)"
   ]
  },
  {
   "cell_type": "code",
   "execution_count": 5,
   "id": "4231d16a",
   "metadata": {
    "pycharm": {
     "name": "#%%\n"
    }
   },
   "outputs": [],
   "source": [
    "phase.add_atom('Na', 'Na', 0.5, 0.5, 0.5)"
   ]
  },
  {
   "cell_type": "markdown",
   "id": "81ace320",
   "metadata": {
    "pycharm": {
     "name": "#%% md\n"
    }
   },
   "source": [
    "#### Visualise the structure"
   ]
  },
  {
   "cell_type": "code",
   "execution_count": 6,
   "id": "e68ddbea",
   "metadata": {
    "pycharm": {
     "name": "#%%\n"
    }
   },
   "outputs": [
    {
     "data": {
      "application/3dmoljs_load.v0": "<div id=\"3dmolviewer_1633593064026904\"  style=\"position: relative; width: 640px; height: 480px\">\n        <p id=\"3dmolwarning_1633593064026904\" style=\"background-color:#ffcccc;color:black\">You appear to be running in JupyterLab (or JavaScript failed to load for some other reason).  You need to install the 3dmol extension: <br>\n        <tt>jupyter labextension install jupyterlab_3dmol</tt></p>\n        </div>\n<script>\n\nvar loadScriptAsync = function(uri){\n  return new Promise((resolve, reject) => {\n    var tag = document.createElement('script');\n    tag.src = uri;\n    tag.async = true;\n    tag.onload = () => {\n      resolve();\n    };\n  var firstScriptTag = document.getElementsByTagName('script')[0];\n  firstScriptTag.parentNode.insertBefore(tag, firstScriptTag);\n});\n};\n\nif(typeof $3Dmolpromise === 'undefined') {\n$3Dmolpromise = null;\n  $3Dmolpromise = loadScriptAsync('https://3dmol.org/build/3Dmol.js');\n}\n\nvar viewer_1633593064026904 = null;\nvar warn = document.getElementById(\"3dmolwarning_1633593064026904\");\nif(warn) {\n    warn.parentNode.removeChild(warn);\n}\n$3Dmolpromise.then(function() {\nviewer_1633593064026904 = $3Dmol.createViewer($(\"#3dmolviewer_1633593064026904\"),{backgroundColor:\"white\"});\nviewer_1633593064026904.zoomTo();\n\tviewer_1633593064026904.addModel(\"data_salt\\n\\n_cell_length_a   3.0\\n_cell_length_b   3.0\\n_cell_length_c   3.0\\n_cell_angle_alpha   90.0\\n_cell_angle_beta   90.0\\n_cell_angle_gamma   90.0\\n_space_group_name_H-M_alt   'F m -3 m'\\n\\nloop_\\n _atom_site_label\\n _atom_site_type_symbol\\n _atom_site_occupancy\\n _atom_site_fract_x\\n _atom_site_fract_y\\n _atom_site_fract_z\\n  Cl  Cl  1.0  0.0  0.0  0.0\\n  Na  Na  0.5  0.5  0.5  0.0\\n\\n\",\"cif\",{\"doAssembly\": true, \"duplicateAssemblyAtoms\": true, \"normalizeAssembly\": true});\n\tviewer_1633593064026904.setStyle({\"sphere\": {\"colorscheme\": \"Jmol\", \"scale\": 0.2}, \"stick\": {\"colorscheme\": \"Jmol\", \"radius\": 0.1}});\n\tviewer_1633593064026904.addUnitCell();\n\tviewer_1633593064026904.replicateUnitCell(2,2,2);\n\tviewer_1633593064026904.zoomTo();\nviewer_1633593064026904.render();\n});\n</script>",
      "text/html": [
       "<div id=\"3dmolviewer_1633593064026904\"  style=\"position: relative; width: 640px; height: 480px\">\n",
       "        <p id=\"3dmolwarning_1633593064026904\" style=\"background-color:#ffcccc;color:black\">You appear to be running in JupyterLab (or JavaScript failed to load for some other reason).  You need to install the 3dmol extension: <br>\n",
       "        <tt>jupyter labextension install jupyterlab_3dmol</tt></p>\n",
       "        </div>\n",
       "<script>\n",
       "\n",
       "var loadScriptAsync = function(uri){\n",
       "  return new Promise((resolve, reject) => {\n",
       "    var tag = document.createElement('script');\n",
       "    tag.src = uri;\n",
       "    tag.async = true;\n",
       "    tag.onload = () => {\n",
       "      resolve();\n",
       "    };\n",
       "  var firstScriptTag = document.getElementsByTagName('script')[0];\n",
       "  firstScriptTag.parentNode.insertBefore(tag, firstScriptTag);\n",
       "});\n",
       "};\n",
       "\n",
       "if(typeof $3Dmolpromise === 'undefined') {\n",
       "$3Dmolpromise = null;\n",
       "  $3Dmolpromise = loadScriptAsync('https://3dmol.org/build/3Dmol.js');\n",
       "}\n",
       "\n",
       "var viewer_1633593064026904 = null;\n",
       "var warn = document.getElementById(\"3dmolwarning_1633593064026904\");\n",
       "if(warn) {\n",
       "    warn.parentNode.removeChild(warn);\n",
       "}\n",
       "$3Dmolpromise.then(function() {\n",
       "viewer_1633593064026904 = $3Dmol.createViewer($(\"#3dmolviewer_1633593064026904\"),{backgroundColor:\"white\"});\n",
       "viewer_1633593064026904.zoomTo();\n",
       "\tviewer_1633593064026904.addModel(\"data_salt\\n\\n_cell_length_a   3.0\\n_cell_length_b   3.0\\n_cell_length_c   3.0\\n_cell_angle_alpha   90.0\\n_cell_angle_beta   90.0\\n_cell_angle_gamma   90.0\\n_space_group_name_H-M_alt   'F m -3 m'\\n\\nloop_\\n _atom_site_label\\n _atom_site_type_symbol\\n _atom_site_occupancy\\n _atom_site_fract_x\\n _atom_site_fract_y\\n _atom_site_fract_z\\n  Cl  Cl  1.0  0.0  0.0  0.0\\n  Na  Na  0.5  0.5  0.5  0.0\\n\\n\",\"cif\",{\"doAssembly\": true, \"duplicateAssemblyAtoms\": true, \"normalizeAssembly\": true});\n",
       "\tviewer_1633593064026904.setStyle({\"sphere\": {\"colorscheme\": \"Jmol\", \"scale\": 0.2}, \"stick\": {\"colorscheme\": \"Jmol\", \"radius\": 0.1}});\n",
       "\tviewer_1633593064026904.addUnitCell();\n",
       "\tviewer_1633593064026904.replicateUnitCell(2,2,2);\n",
       "\tviewer_1633593064026904.zoomTo();\n",
       "viewer_1633593064026904.render();\n",
       "});\n",
       "</script>"
      ]
     },
     "metadata": {},
     "output_type": "display_data"
    },
    {
     "data": {
      "text/plain": [
       "<py3Dmol.view at 0x12b150890>"
      ]
     },
     "execution_count": 6,
     "metadata": {},
     "output_type": "execute_result"
    }
   ],
   "source": [
    "viewer = py3Dmol.view()\n",
    "viewer.addModel(phase.to_cif_str(),'cif',{'doAssembly':True,'duplicateAssemblyAtoms':True,'normalizeAssembly':True})\n",
    "viewer.setStyle({'sphere':{'colorscheme':'Jmol','scale':.2},'stick':{'colorscheme':'Jmol', 'radius': 0.1}})\n",
    "viewer.addUnitCell()\n",
    "viewer.replicateUnitCell(2,2,2)\n",
    "viewer.zoomTo()"
   ]
  },
  {
   "cell_type": "markdown",
   "id": "ebe0e0ee",
   "metadata": {
    "pycharm": {
     "name": "#%% md\n"
    }
   },
   "source": [
    "#### Create Phases object"
   ]
  },
  {
   "cell_type": "code",
   "execution_count": 7,
   "id": "29071aa2",
   "metadata": {
    "pycharm": {
     "name": "#%%\n"
    }
   },
   "outputs": [],
   "source": [
    "phases = Phases()\n",
    "phases.append(phase)"
   ]
  },
  {
   "cell_type": "markdown",
   "id": "07db27b5",
   "metadata": {
    "pycharm": {
     "name": "#%% md\n"
    }
   },
   "source": [
    "## Experiment"
   ]
  },
  {
   "cell_type": "markdown",
   "id": "e93c42b9",
   "metadata": {
    "pycharm": {
     "name": "#%% md\n"
    }
   },
   "source": [
    "#### Create and modify a `Parameters` object"
   ]
  },
  {
   "cell_type": "code",
   "execution_count": 8,
   "id": "83e3845f",
   "metadata": {
    "pycharm": {
     "name": "#%%\n"
    }
   },
   "outputs": [],
   "source": [
    "parameters = CWParams.default()\n",
    "\n",
    "parameters.resolution_u = 0.1447\n",
    "parameters.resolution_v = -0.4252\n",
    "parameters.resolution_w = 0.3864\n",
    "parameters.resolution_x = 0.0\n",
    "parameters.resolution_y = 0.0"
   ]
  },
  {
   "cell_type": "markdown",
   "id": "370f0baa",
   "metadata": {
    "pycharm": {
     "name": "#%% md\n"
    }
   },
   "source": [
    "#### Create and modify a Pattern object"
   ]
  },
  {
   "cell_type": "code",
   "execution_count": 9,
   "id": "70fa1571",
   "metadata": {
    "pycharm": {
     "name": "#%%\n"
    }
   },
   "outputs": [],
   "source": [
    "pattern = Powder1DParameters.default()\n",
    "\n",
    "pattern.zero_shift = 0.0\n",
    "pattern.scale = 100.0"
   ]
  },
  {
   "cell_type": "code",
   "execution_count": 10,
   "id": "1ed88f8e",
   "metadata": {
    "pycharm": {
     "name": "#%%\n"
    }
   },
   "outputs": [],
   "source": [
    "calculator = Calculator(interface_name='CrysPy') # this is the default"
   ]
  },
  {
   "cell_type": "code",
   "execution_count": 11,
   "id": "784fb8e5",
   "metadata": {
    "pycharm": {
     "name": "#%%\n"
    }
   },
   "outputs": [
    {
     "name": "stdout",
     "output_type": "stream",
     "text": [
      "Current calculator engine: CrysPy\n"
     ]
    }
   ],
   "source": [
    "print(f\"Current calculator engine: {calculator.current_interface_name}\")"
   ]
  },
  {
   "cell_type": "markdown",
   "id": "42da041a",
   "metadata": {
    "pycharm": {
     "name": "#%% md\n"
    }
   },
   "source": [
    "#### Finally, create the job"
   ]
  },
  {
   "cell_type": "code",
   "execution_count": 12,
   "id": "c90662f7",
   "metadata": {
    "pycharm": {
     "name": "#%%\n"
    }
   },
   "outputs": [
    {
     "name": "stdout",
     "output_type": "stream",
     "text": [
      "Temp CIF: /var/folders/5q/6x3b8ryn5cn9hkg4lmlcpjyh0000gn/T/easydiffraction_temp.cif\n"
     ]
    }
   ],
   "source": [
    "job_cw = Job(phases=phases, parameters=parameters, calculator=calculator)"
   ]
  },
  {
   "cell_type": "code",
   "execution_count": 13,
   "id": "210bc79d",
   "metadata": {
    "pycharm": {
     "name": "#%%\n"
    }
   },
   "outputs": [
    {
     "name": "stdout",
     "output_type": "stream",
     "text": [
      "Available calculator engines: ['CrysPy', 'CrysFML', 'GSASII']\n",
      "Available calculators for CW: ['CrysPy', 'CrysFML', 'GSASII']\n"
     ]
    }
   ],
   "source": [
    "print(f\"Available calculator engines: {calculator.available_interfaces}\")\n",
    "print(f\"Available calculators for CW: {calculator.interface_compatability('Npowder1DCW')}\")"
   ]
  },
  {
   "cell_type": "markdown",
   "id": "eb234f76",
   "metadata": {
    "pycharm": {
     "name": "#%% md\n"
    }
   },
   "source": [
    "## Analysis"
   ]
  },
  {
   "cell_type": "markdown",
   "id": "00e24eab",
   "metadata": {
    "pycharm": {
     "name": "#%% md\n"
    }
   },
   "source": [
    "#### Calculate the profile using the calculator we defined previously.\n",
    "Note that we don't run anything on the `Sample` object but on a separate `Calculator` instance"
   ]
  },
  {
   "cell_type": "code",
   "execution_count": 14,
   "id": "f556cc94",
   "metadata": {
    "pycharm": {
     "name": "#%%\n"
    }
   },
   "outputs": [
    {
     "data": {
      "text/html": [
       "\n",
       "\n",
       "\n",
       "\n",
       "\n",
       "\n",
       "  <div class=\"bk-root\" id=\"f513bb61-7505-4314-b09f-89e47c08d8b1\" data-root-id=\"1003\"></div>\n"
      ]
     },
     "metadata": {},
     "output_type": "display_data"
    },
    {
     "data": {
      "application/javascript": [
       "(function(root) {\n",
       "  function embed_document(root) {\n",
       "    \n",
       "  const docs_json = {\"83cbabd3-e48f-44be-8746-1e3b42c9584d\":{\"defs\":[],\"roots\":{\"references\":[{\"attributes\":{\"below\":[{\"id\":\"1012\"}],\"center\":[{\"id\":\"1015\"},{\"id\":\"1019\"},{\"id\":\"1051\"}],\"height\":300,\"left\":[{\"id\":\"1016\"}],\"renderers\":[{\"id\":\"1038\"}],\"title\":{\"id\":\"1040\"},\"toolbar\":{\"id\":\"1027\"},\"width\":990,\"x_range\":{\"id\":\"1004\"},\"x_scale\":{\"id\":\"1008\"},\"y_range\":{\"id\":\"1006\"},\"y_scale\":{\"id\":\"1010\"}},\"id\":\"1003\",\"subtype\":\"Figure\",\"type\":\"Plot\"},{\"attributes\":{},\"id\":\"1020\",\"type\":\"PanTool\"},{\"attributes\":{},\"id\":\"1004\",\"type\":\"DataRange1d\"},{\"attributes\":{},\"id\":\"1021\",\"type\":\"WheelZoomTool\"},{\"attributes\":{\"bottom_units\":\"screen\",\"coordinates\":null,\"fill_alpha\":0.5,\"fill_color\":\"lightgrey\",\"group\":null,\"left_units\":\"screen\",\"level\":\"overlay\",\"line_alpha\":1.0,\"line_color\":\"black\",\"line_dash\":[4,4],\"line_width\":2,\"right_units\":\"screen\",\"syncable\":false,\"top_units\":\"screen\"},\"id\":\"1026\",\"type\":\"BoxAnnotation\"},{\"attributes\":{\"overlay\":{\"id\":\"1026\"}},\"id\":\"1022\",\"type\":\"BoxZoomTool\"},{\"attributes\":{},\"id\":\"1023\",\"type\":\"SaveTool\"},{\"attributes\":{},\"id\":\"1006\",\"type\":\"DataRange1d\"},{\"attributes\":{},\"id\":\"1024\",\"type\":\"ResetTool\"},{\"attributes\":{},\"id\":\"1025\",\"type\":\"HelpTool\"},{\"attributes\":{\"coordinates\":null,\"formatter\":{\"id\":\"1043\"},\"group\":null,\"major_label_policy\":{\"id\":\"1044\"},\"ticker\":{\"id\":\"1017\"}},\"id\":\"1016\",\"type\":\"LinearAxis\"},{\"attributes\":{\"axis\":{\"id\":\"1016\"},\"coordinates\":null,\"dimension\":1,\"group\":null,\"ticker\":null},\"id\":\"1019\",\"type\":\"Grid\"},{\"attributes\":{},\"id\":\"1008\",\"type\":\"LinearScale\"},{\"attributes\":{\"coordinates\":null,\"formatter\":{\"id\":\"1046\"},\"group\":null,\"major_label_policy\":{\"id\":\"1047\"},\"ticker\":{\"id\":\"1013\"}},\"id\":\"1012\",\"type\":\"LinearAxis\"},{\"attributes\":{\"tools\":[{\"id\":\"1020\"},{\"id\":\"1021\"},{\"id\":\"1022\"},{\"id\":\"1023\"},{\"id\":\"1024\"},{\"id\":\"1025\"}]},\"id\":\"1027\",\"type\":\"Toolbar\"},{\"attributes\":{},\"id\":\"1010\",\"type\":\"LinearScale\"},{\"attributes\":{},\"id\":\"1046\",\"type\":\"BasicTickFormatter\"},{\"attributes\":{},\"id\":\"1048\",\"type\":\"UnionRenderers\"},{\"attributes\":{},\"id\":\"1013\",\"type\":\"BasicTicker\"},{\"attributes\":{\"coordinates\":null,\"group\":null},\"id\":\"1040\",\"type\":\"Title\"},{\"attributes\":{},\"id\":\"1017\",\"type\":\"BasicTicker\"},{\"attributes\":{\"axis\":{\"id\":\"1012\"},\"coordinates\":null,\"group\":null,\"ticker\":null},\"id\":\"1015\",\"type\":\"Grid\"},{\"attributes\":{\"line_alpha\":0.1,\"line_color\":\"orangered\",\"line_width\":2,\"x\":{\"field\":\"x\"},\"y\":{\"field\":\"y\"}},\"id\":\"1036\",\"type\":\"Line\"},{\"attributes\":{\"data\":{\"x\":{\"__ndarray__\":\"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\",\"dtype\":\"float64\",\"order\":\"little\",\"shape\":[500]},\"y\":{\"__ndarray__\":\"AAAAAAAAAAAAAAAAAAAAAAAAAAAAAAAAAAAAAAAAAAAAAAAAAAAAAAAAAAAAAAAAAAAAAAAAAAAAAAAAAAAAAAAAAAAAAAAAAAAAAAAAAAAAAAAAAAAAAAAAAAAAAAAAAAAAAAAAAAAAAAAAAAAAAAAAAAAAAAAAAAAAAAAAAAAAAAAAAAAAAAAAAAAAAAAAAAAAAAAAAAAAAAAAAAAAAAAAAAAAAAAAAAAAAAAAAAAAAAAAAAAAAAAAAAAAAAAAAAAAAAAAAAAAAAAAAAAAAAAAAAAAAAAAAAAAAAAAAAAAAAAAAAAAAAAAAAAAAAAAAAAAAAAAAAAAAAAAAAAAAAAAAAAAAAAAAAAAAAAAAAAAAAAAAAAAAAAAAAAAAAAAAAAAAAAAAAAAAAAAAAAAAAAAAAAAAAAAAAAAAAAAAAAAAAAAAAAAAAAAAAAAAAAAAAAAAAAAAAAAAAAAAAAAAAAAAAAAAAAAAAAAAAAAAAAAAAAAAAAAAAAAAAAAAAAAAAAAAAAAAAAAAAAAAAAAAAAAAAAAAAAAAAAAAAAAAAAAAAAAAAAAAAAAAAAAAAAAAAAAAAAAAAAAAAAAAAAAAAAAAAAAAAAAAAAAAAAAAAAAAAAAAAAAAAAAAAAAAAAAAAAAAAAAAAAAAAAAAAAAAAAAAAAAAAAAAAAAAAAAAAAAAAAAAAAAAAAAAAAAAAAAAAAAAAAAAAAAAAAAAAAAAAAAAAAAAAAAAAAAAAAAAAAAAAAAAAAAAAAAAAAAAAAAAAAAAAAAAAAAAAAAAAAAAAAAAAAAAAAAAAAAAAAAAAAAAAAAAAAAAAAAAAAAAAAAAAAAAAAAAAAAAAAAAAAAAAAAAAAAAAAAAAAAAAAAAAAAAAAAAAAAAAAAAAAAAAAAAAAAAAAAAAAAAAAAAAAAAAAAAAAAAAAAAAAAAAAAAAAAAAAAAAAAAAAAAAAAAAAAAAAAAAAAAAAAAAAAAAAAAAAAAAAAAAAAAAAAAAAAAAAAAAAAAAAAAAAAAAAAAAAAAAAAAAAAAAAAAAAAAAAAAAAAAAAAAAAAAAAAAAAAAAAAAAAAAAAAAAAAAAAAAAAAAAAAAAAAAAAAAAAAAAAAAAAAAAAAAAAAAAAAAAAAAAAAAAAAAAAAAAAAAAAAAAAA4PXGYM2z2T8fcJdvRej9PxPMl6nq4+k/1HNfWKmsoD8AAAAAAAAAAAAAAAAAAAAAAAAAAAAAAAAAAAAAAAAAAAAAAAAAAAAAAAAAAAAAAAAAAAAAAAAAAAAAAAAAAAAAAAAAAAAAAAAAAAAAAAAAAAAAAAAAAAAAAAAAAAAAAAAAAAAAAAAAAAAAAAAAAAAAAAAAAAAAAAAAAAAAAAAAAAAAAAAAAAAAAAAAAAAAAAAAAAAAAAAAAAAAAAAAAAAAAAAAAAAAAAAAAAAAAAAAAAAAAAAAAAAAAAAAAAAAAAAAAAAAAAAAAAAAAAAAAAAAdLadmZyL0T+2feDjKELzP7rkpnDKIdY/AAAAAAAAAAAAAAAAAAAAAAAAAAAAAAAAAAAAAAAAAAAAAAAAAAAAAAAAAAAAAAAAAAAAAAAAAAAAAAAAAAAAAAAAAAAAAAAAAAAAAAAAAAAAAAAAAAAAAAAAAAAAAAAAAAAAAAAAAAAAAAAAAAAAAAAAAAAAAAAAAAAAAAAAAAAAAAAAAAAAAAAAAAAAAAAAAAAAAAAAAAAAAAAAAAAAAAAAAAAAAAAAAAAAAAAAAAAAAAAAAAAAAAAAAAAAAAAAAAAAAAAAAAAAAAAAAAAAAAAAAAAAAAAAAAAAAAAAAAAAAAAAAAAAAAAAAAAAAAAAAAAAAAAAAAAAAAAAAAAAAAAAAAAAAAAAAAAAAAAAAAAAAAAAAAAAAAAAAAAAAAAAAAAAAAAAAAAAAAAAAAAAAAAAAAAAAAAAAAAAAAAAAAAAAAAAAAAAAAAAAAAAAAAAAAAAAAAAAAAAAAAAAAAAAAAAAAAAAAAAAAAAAAAAAAAAAAAAAAAAAAAAAAAAAAAAAAAAAAAAAAAAAAAAAAAAAAAAAAAAAAAAAAAAAAAAAAAAAAAAAAAAAAAAAAAAAAAAAAAAAAAAAAAAAAAAAAAAAAAAAAAAAAAAAAAAAAAAAAAAAAAAAAAAAAAAAAAAAAAAAAAAAAAAAAAAAAAAAAAAAAAAAAAAAAAAAAAAAAAAAAAAAAAAAAAAAAAAAAAAAAAAAAAAAAAAAAAAAAAAAAAAAAAAAAAAAAAAAAAAAAAAAAAAAAAAAAAAAAAAAAAAAAAAAAAAAAAAAAAAAAAAAAAAAAAAAAAAAAAAAAAAAAAAAAAAAAAAAAAAAAAAAAAAAAAAAAAAAAAAAAAAAAAAAAAAAAAAAAAAAAAAAAAAAAAAAAAAAAAAAAAAAAAAAAAAAAAAAAAAAAAAAAAAAAAAAAAAAAAAAAAAAAAAAAAAAAAAAAAAAAAAAAAAAAAAAAAAAAAAAAAAAAAAAAAAAAAAAAAAAAAAAAAAAAAAAAAAAAAAAAAAAAAAAAAAAAAAAAAAAAAAAAAAAAAAAAAAAAAAAAAAAAAAAAAAAAAAAAAAAAAAAAAAAAAAAAAAAGehThclepk/56Q1M4Fo+T+JQdIURT7kPwAAAAAAAAAAAAAAAAAAAAAAAAAAAAAAAAAAAAAAAAAAAAAAAAAAAAAAAAAAAAAAAAAAAAAAAAAAAAAAAAAAAAAAAAAAAAAAAAAAAAAAAAAAAAAAAAAAAAAAAAAAAAAAAAAAAAAAAAAAAAAAAAAAAAAAAAAAAAAAAAAAAAAAAAAAAAAAAAAAAAAAAAAAAAAAAAAAAAAAAAAAAAAAAAAAAAAAAAAAAAAAAAAAAAAAAAAAAAAAAAAAAAAAAAAAAAAAAAAAAAAAAAAAAAAAAAAAAAAAAAAAAAAAAAAAAAAAAAAAAAAAAAAAAAAAAAAAAAAAAAAAAAAAAAAAAAAAAAAAAAAAAAAAAAAAAAAAAAAAAAAAAAAAAAAAAAAAAAAAAAAAAAAAAAAAAAAAAAAAAAAAAAAAAAAAAAAAAAAAAAAAAAAAAAAAAAAAAAAAAAAAAAAAAAAAAAAAAAAAAAAAAAAAAAAAAAAAAAAAAAAAAAAAAAAAAAAAAAAAAAAAAAAAAAAAAAAAAAAAAAAAAAAAAAAAAAAAAAAAAAAAAAAAAAAAAAAAAAAAAAAAAAAAAAAAAAAAAAAAAAAAAAAAAAAAAAAAAAAAAAAAAAAAAAAAAAAAAAAAAAAAAAAAAAAAAAAAAAAAAAAAAAAAAAAAAAAAAAAAAAAAAAAAAAAAAAAAAAAAAAAAAAAAAAAAAAAAAAAAAAAAAAAAAAAAAAAAAAAAAAAAAAAAAAAAAAAAAAAAAAAAAAAAAAAAAAAAAAAAAAAAAAAAAAAAAAAAAAAAAAAAAAAAAAAAAAAAAAAAAAAAAAAAAAAA7oh5wy490z/4UlnFhUERQBLNKX//trg/AAAAAAAAAAAAAAAAAAAAAAAAAAAAAAAAAAAAAAAAAAAAAAAAAAAAAAAAAAAAAAAAAAAAAAAAAAAAAAAAAAAAAAAAAAAAAAAAAAAAAAAAAAAAAAAAAAAAAAAAAAAAAAAAAAAAAAAAAAAAAAAAAAAAAAAAAAAAAAAAAAAAAAAAAAAAAAAAAAAAAAAAAAAAAAAAAAAAAAAAAAAAAAAAAAAAAAAAAAAAAAAAAAAAAAAAAAAAAAAAAAAAAAAAAAAAAAAAAAAAAAAAAAAAAAAAAAAAAO/7g/f1A5c/Udv0pISm8D8Zh/gpKHTcPwAAAAAAAAAAAAAAAAAAAAAAAAAAAAAAAAAAAAAAAAAAAAAAAAAAAAAAAAAAAAAAAAAAAAAAAAAAAAAAAAAAAAAAAAAAAAAAAAAAAAAAAAAAAAAAAAAAAAAAAAAAAAAAAAAAAAAAAAAAAAAAAAAAAAAAAAAAAAAAAAAAAAAAAAAAAAAAAAAAAAAAAAAAAAAAAAAAAAAAAAAAAAAAAAAAAAAAAAAAAAAAAAAAAAAAAAAAAAAAAAAAAAAAAAAAAAAAAAAAAAAAAAAAAAAAAAAAAAAAAAAAAAAAAAAAAAAAAAAAAAAAAAAAAAAAAAAAAAAAAAAAAAAAAAAAAAAAAAAAAAAAAAAAAAAAAAAAAAAAAAAAAAAAAAAAAAAAAAAAAAAAAAAAAAAAAAAAAAAAAAAAAAAAAAAAAAAAAAAAAAAAAAAAAAAAAAAAAAAAAAAAAAAAAAAAAAAAAAAAAAAAAAAAAAAAAAAAAAAAAAAAAAAAAAAAAAAAAAAAAAAAAAAAAAAAAAAAAAAAAAAAAAAAAAAAAAAAAAAAAAAAAAAAAAAAAAAAAAAAAAAAAAAAAAAAAAAAAAAAAAAAAAAAAAAAAAAAAAAAAAAAAAAAAAAAAAAAAAAAAAAAAAAAAAAAAAAAAAAAAAAAAAAAAAAAAAAAAAAAAAAAAAAAAAAAAAAAAAAAAAAAAAAAAAAAAAAAAAAAAAAAAAAAAAAAAAAAAAAAAAAAAAAAAAAAAAAAAAAAAAAAAAAAAAAAAAAAAAAAAAAAAAAAAAAAAAAAAAAAAAAAAAAAAAAAAAAAAAAAAAAAAAAAAAAAAAAAAAAAAAAAAAAAAAAAAAAAAAAAAAAAAAAAAAAAAAAAAAAAAAAAAAAAAAAAAAAAAAAAAAAAAAAAAAAAAAAAAAAAAAAAAAAAAAAAAAAAAAAAAAAAAAAAAAAAAAAAAAAAAAAAAAAAAAAAAAAAAAAAAAAAAAAAAAAAAAAAAAAAAAAAAAAAAAAAAAAAAAAAAAAAAAAAAAAAAAAAAAAAAAAAAAAAAAAAAAAAAAAAAAAAAAAAAAAAAAAAAAAAAAAAAAAAAAAAAAAAAAAAAAAAAAAAAAAAAAAAAAAAAAAAAAAAAAAAAAAAAAAAAAAAAAAAAAAAAAAAAAAAAAAAAAAAAAAAAAAAAAAAAAAAAAAAAAAAAAAAAAAAAAAAAAAAAAAAAAAAAAAAAAAAAAAAAAAAAAAAAAAAAAAAAAAAAAAAAAAAAAAAAAAAAAAAAAAAAAAAAAAAAAAAAAAAAAAAAAAAAAAAAAAAAAAAAAAAAAAAAAAAAAAAAAAAAAAAAAAAAAAAAAAAAAAAAAAAAAAAAAAAAAAAAAAAAAAAAAAAAAAAAAAAAAAAAAAAAAAAAAAAAAAAAAAAAAAAAAAAAAAAAAAAAAAAAAAAAAAAAAAAAAAAAAAAAAAAAAAAAAAAAAAAAAAAAAAAAAAAAAAAAAAAAAAAAAAAAAAAAAAAAAAAAAAAAAAAAAAAAAAAAAAAAAAAAAAAAAAAAAAAAAAAAAAAAAAAAAAAAAAAAAAAAAAAAAAAAAAAAAAAAAAAAAAAAA==\",\"dtype\":\"float64\",\"order\":\"little\",\"shape\":[500]}},\"selected\":{\"id\":\"1049\"},\"selection_policy\":{\"id\":\"1048\"}},\"id\":\"1034\",\"type\":\"ColumnDataSource\"},{\"attributes\":{\"coordinates\":null,\"data_source\":{\"id\":\"1034\"},\"glyph\":{\"id\":\"1035\"},\"group\":null,\"hover_glyph\":null,\"muted_glyph\":{\"id\":\"1037\"},\"nonselection_glyph\":{\"id\":\"1036\"},\"view\":{\"id\":\"1039\"}},\"id\":\"1038\",\"type\":\"GlyphRenderer\"},{\"attributes\":{\"line_alpha\":0.2,\"line_color\":\"orangered\",\"line_width\":2,\"x\":{\"field\":\"x\"},\"y\":{\"field\":\"y\"}},\"id\":\"1037\",\"type\":\"Line\"},{\"attributes\":{\"source\":{\"id\":\"1034\"}},\"id\":\"1039\",\"type\":\"CDSView\"},{\"attributes\":{},\"id\":\"1043\",\"type\":\"BasicTickFormatter\"},{\"attributes\":{\"label\":{\"value\":\"CW Simulation\"},\"renderers\":[{\"id\":\"1038\"}]},\"id\":\"1052\",\"type\":\"LegendItem\"},{\"attributes\":{},\"id\":\"1049\",\"type\":\"Selection\"},{\"attributes\":{\"line_color\":\"orangered\",\"line_width\":2,\"x\":{\"field\":\"x\"},\"y\":{\"field\":\"y\"}},\"id\":\"1035\",\"type\":\"Line\"},{\"attributes\":{},\"id\":\"1044\",\"type\":\"AllLabels\"},{\"attributes\":{\"coordinates\":null,\"group\":null,\"items\":[{\"id\":\"1052\"}]},\"id\":\"1051\",\"type\":\"Legend\"},{\"attributes\":{},\"id\":\"1047\",\"type\":\"AllLabels\"}],\"root_ids\":[\"1003\"]},\"title\":\"Bokeh Application\",\"version\":\"2.4.0\"}};\n",
       "  const render_items = [{\"docid\":\"83cbabd3-e48f-44be-8746-1e3b42c9584d\",\"root_ids\":[\"1003\"],\"roots\":{\"1003\":\"f513bb61-7505-4314-b09f-89e47c08d8b1\"}}];\n",
       "  root.Bokeh.embed.embed_items_notebook(docs_json, render_items);\n",
       "\n",
       "  }\n",
       "  if (root.Bokeh !== undefined) {\n",
       "    embed_document(root);\n",
       "  } else {\n",
       "    let attempts = 0;\n",
       "    const timer = setInterval(function(root) {\n",
       "      if (root.Bokeh !== undefined) {\n",
       "        clearInterval(timer);\n",
       "        embed_document(root);\n",
       "      } else {\n",
       "        attempts++;\n",
       "        if (attempts > 100) {\n",
       "          clearInterval(timer);\n",
       "          console.log(\"Bokeh: ERROR: Unable to run BokehJS code because BokehJS library is missing\");\n",
       "        }\n",
       "      }\n",
       "    }, 10, root)\n",
       "  }\n",
       "})(window);"
      ],
      "application/vnd.bokehjs_exec.v0+json": ""
     },
     "metadata": {
      "application/vnd.bokehjs_exec.v0+json": {
       "id": "1003"
      }
     },
     "output_type": "display_data"
    }
   ],
   "source": [
    "x_data = np.linspace(20, 170, 500)\n",
    "y_data = calculator.fit_func(x_data)\n",
    "\n",
    "fig = figure(width=FIGURE_WIDTH, height=FIGURE_HEIGHT)\n",
    "fig.line(x_data, y_data, legend_label='CW Simulation', color='orangered', line_width=2)\n",
    "show(fig)"
   ]
  },
  {
   "cell_type": "markdown",
   "id": "0f2cb72f",
   "metadata": {
    "pycharm": {
     "name": "#%% md\n"
    }
   },
   "source": [
    "## Experiment"
   ]
  },
  {
   "cell_type": "markdown",
   "id": "161efebd",
   "metadata": {
    "pycharm": {
     "name": "#%% md\n"
    }
   },
   "source": [
    "#### Modify the parameters to correspond to a TOF experiment"
   ]
  },
  {
   "cell_type": "code",
   "execution_count": 15,
   "id": "59381e83",
   "metadata": {
    "pycharm": {
     "name": "#%%\n"
    }
   },
   "outputs": [],
   "source": [
    "parameters = TOFParams.default()\n",
    "\n",
    "parameters.dtt1 = 6167.24700\n",
    "parameters.dtt2 = -2.28000\n",
    "parameters.ttheta_bank = 145.00"
   ]
  },
  {
   "cell_type": "markdown",
   "id": "ea998649",
   "metadata": {
    "pycharm": {
     "name": "#%% md\n"
    }
   },
   "source": [
    "#### Create new job (TOF) with new parameters, but old phase and calculator objects"
   ]
  },
  {
   "cell_type": "code",
   "execution_count": 16,
   "id": "2aa1648d",
   "metadata": {
    "pycharm": {
     "name": "#%%\n"
    }
   },
   "outputs": [
    {
     "name": "stdout",
     "output_type": "stream",
     "text": [
      "Temp CIF: /var/folders/5q/6x3b8ryn5cn9hkg4lmlcpjyh0000gn/T/easydiffraction_temp.cif\n"
     ]
    }
   ],
   "source": [
    "job_tof = Job(phases=phases, parameters=parameters, calculator=calculator)"
   ]
  },
  {
   "cell_type": "code",
   "execution_count": 17,
   "id": "9d612a23",
   "metadata": {
    "pycharm": {
     "name": "#%%\n"
    }
   },
   "outputs": [
    {
     "name": "stdout",
     "output_type": "stream",
     "text": [
      "Available calculator engines: ['CrysPy', 'CrysFML', 'GSASII']\n",
      "Available calculators for TOF: ['CrysPy']\n"
     ]
    }
   ],
   "source": [
    "print(f\"Available calculator engines: {calculator.available_interfaces}\")\n",
    "print(f\"Available calculators for TOF: {calculator.interface_compatability('Npowder1DTOF')}\")"
   ]
  },
  {
   "cell_type": "markdown",
   "id": "2245224b",
   "metadata": {
    "pycharm": {
     "name": "#%% md\n"
    }
   },
   "source": [
    "## Analysis"
   ]
  },
  {
   "cell_type": "markdown",
   "id": "f6676f54",
   "metadata": {
    "pycharm": {
     "name": "#%% md\n"
    }
   },
   "source": [
    "#### Calculate the profile again, this time based on the TOF parameters"
   ]
  },
  {
   "cell_type": "code",
   "execution_count": 18,
   "id": "eac224b9",
   "metadata": {
    "pycharm": {
     "name": "#%%\n"
    }
   },
   "outputs": [
    {
     "data": {
      "text/html": [
       "\n",
       "\n",
       "\n",
       "\n",
       "\n",
       "\n",
       "  <div class=\"bk-root\" id=\"61ac9981-dcb7-4887-b768-4ecec10bc3f8\" data-root-id=\"1119\"></div>\n"
      ]
     },
     "metadata": {},
     "output_type": "display_data"
    },
    {
     "data": {
      "application/javascript": [
       "(function(root) {\n",
       "  function embed_document(root) {\n",
       "    \n",
       "  const docs_json = {\"c9f6111c-7da2-44da-98fe-a9f91823dc2f\":{\"defs\":[],\"roots\":{\"references\":[{\"attributes\":{\"below\":[{\"id\":\"1128\"}],\"center\":[{\"id\":\"1131\"},{\"id\":\"1135\"},{\"id\":\"1167\"}],\"height\":300,\"left\":[{\"id\":\"1132\"}],\"renderers\":[{\"id\":\"1154\"}],\"title\":{\"id\":\"1156\"},\"toolbar\":{\"id\":\"1143\"},\"width\":990,\"x_range\":{\"id\":\"1120\"},\"x_scale\":{\"id\":\"1124\"},\"y_range\":{\"id\":\"1122\"},\"y_scale\":{\"id\":\"1126\"}},\"id\":\"1119\",\"subtype\":\"Figure\",\"type\":\"Plot\"},{\"attributes\":{\"coordinates\":null,\"formatter\":{\"id\":\"1162\"},\"group\":null,\"major_label_policy\":{\"id\":\"1163\"},\"ticker\":{\"id\":\"1129\"}},\"id\":\"1128\",\"type\":\"LinearAxis\"},{\"attributes\":{\"coordinates\":null,\"formatter\":{\"id\":\"1159\"},\"group\":null,\"major_label_policy\":{\"id\":\"1160\"},\"ticker\":{\"id\":\"1133\"}},\"id\":\"1132\",\"type\":\"LinearAxis\"},{\"attributes\":{},\"id\":\"1129\",\"type\":\"BasicTicker\"},{\"attributes\":{},\"id\":\"1124\",\"type\":\"LinearScale\"},{\"attributes\":{\"axis\":{\"id\":\"1132\"},\"coordinates\":null,\"dimension\":1,\"group\":null,\"ticker\":null},\"id\":\"1135\",\"type\":\"Grid\"},{\"attributes\":{\"line_alpha\":0.1,\"line_color\":\"orange\",\"line_width\":2,\"x\":{\"field\":\"x\"},\"y\":{\"field\":\"y\"}},\"id\":\"1152\",\"type\":\"Line\"},{\"attributes\":{},\"id\":\"1141\",\"type\":\"HelpTool\"},{\"attributes\":{\"coordinates\":null,\"group\":null,\"items\":[{\"id\":\"1168\"}]},\"id\":\"1167\",\"type\":\"Legend\"},{\"attributes\":{},\"id\":\"1136\",\"type\":\"PanTool\"},{\"attributes\":{\"overlay\":{\"id\":\"1142\"}},\"id\":\"1138\",\"type\":\"BoxZoomTool\"},{\"attributes\":{\"axis\":{\"id\":\"1128\"},\"coordinates\":null,\"group\":null,\"ticker\":null},\"id\":\"1131\",\"type\":\"Grid\"},{\"attributes\":{},\"id\":\"1160\",\"type\":\"AllLabels\"},{\"attributes\":{\"label\":{\"value\":\"TOF Simulation\"},\"renderers\":[{\"id\":\"1154\"}]},\"id\":\"1168\",\"type\":\"LegendItem\"},{\"attributes\":{},\"id\":\"1122\",\"type\":\"DataRange1d\"},{\"attributes\":{\"bottom_units\":\"screen\",\"coordinates\":null,\"fill_alpha\":0.5,\"fill_color\":\"lightgrey\",\"group\":null,\"left_units\":\"screen\",\"level\":\"overlay\",\"line_alpha\":1.0,\"line_color\":\"black\",\"line_dash\":[4,4],\"line_width\":2,\"right_units\":\"screen\",\"syncable\":false,\"top_units\":\"screen\"},\"id\":\"1142\",\"type\":\"BoxAnnotation\"},{\"attributes\":{},\"id\":\"1139\",\"type\":\"SaveTool\"},{\"attributes\":{\"coordinates\":null,\"group\":null},\"id\":\"1156\",\"type\":\"Title\"},{\"attributes\":{},\"id\":\"1159\",\"type\":\"BasicTickFormatter\"},{\"attributes\":{\"source\":{\"id\":\"1150\"}},\"id\":\"1155\",\"type\":\"CDSView\"},{\"attributes\":{\"line_color\":\"orange\",\"line_width\":2,\"x\":{\"field\":\"x\"},\"y\":{\"field\":\"y\"}},\"id\":\"1151\",\"type\":\"Line\"},{\"attributes\":{},\"id\":\"1164\",\"type\":\"UnionRenderers\"},{\"attributes\":{},\"id\":\"1137\",\"type\":\"WheelZoomTool\"},{\"attributes\":{},\"id\":\"1133\",\"type\":\"BasicTicker\"},{\"attributes\":{},\"id\":\"1163\",\"type\":\"AllLabels\"},{\"attributes\":{\"line_alpha\":0.2,\"line_color\":\"orange\",\"line_width\":2,\"x\":{\"field\":\"x\"},\"y\":{\"field\":\"y\"}},\"id\":\"1153\",\"type\":\"Line\"},{\"attributes\":{},\"id\":\"1162\",\"type\":\"BasicTickFormatter\"},{\"attributes\":{\"coordinates\":null,\"data_source\":{\"id\":\"1150\"},\"glyph\":{\"id\":\"1151\"},\"group\":null,\"hover_glyph\":null,\"muted_glyph\":{\"id\":\"1153\"},\"nonselection_glyph\":{\"id\":\"1152\"},\"view\":{\"id\":\"1155\"}},\"id\":\"1154\",\"type\":\"GlyphRenderer\"},{\"attributes\":{},\"id\":\"1120\",\"type\":\"DataRange1d\"},{\"attributes\":{},\"id\":\"1165\",\"type\":\"Selection\"},{\"attributes\":{\"data\":{\"x\":{\"__ndarray__\":\"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\",\"dtype\":\"float64\",\"order\":\"little\",\"shape\":[500]},\"y\":{\"__ndarray__\":\"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\",\"dtype\":\"float64\",\"order\":\"little\",\"shape\":[500]}},\"selected\":{\"id\":\"1165\"},\"selection_policy\":{\"id\":\"1164\"}},\"id\":\"1150\",\"type\":\"ColumnDataSource\"},{\"attributes\":{\"tools\":[{\"id\":\"1136\"},{\"id\":\"1137\"},{\"id\":\"1138\"},{\"id\":\"1139\"},{\"id\":\"1140\"},{\"id\":\"1141\"}]},\"id\":\"1143\",\"type\":\"Toolbar\"},{\"attributes\":{},\"id\":\"1126\",\"type\":\"LinearScale\"},{\"attributes\":{},\"id\":\"1140\",\"type\":\"ResetTool\"}],\"root_ids\":[\"1119\"]},\"title\":\"Bokeh Application\",\"version\":\"2.4.0\"}};\n",
       "  const render_items = [{\"docid\":\"c9f6111c-7da2-44da-98fe-a9f91823dc2f\",\"root_ids\":[\"1119\"],\"roots\":{\"1119\":\"61ac9981-dcb7-4887-b768-4ecec10bc3f8\"}}];\n",
       "  root.Bokeh.embed.embed_items_notebook(docs_json, render_items);\n",
       "\n",
       "  }\n",
       "  if (root.Bokeh !== undefined) {\n",
       "    embed_document(root);\n",
       "  } else {\n",
       "    let attempts = 0;\n",
       "    const timer = setInterval(function(root) {\n",
       "      if (root.Bokeh !== undefined) {\n",
       "        clearInterval(timer);\n",
       "        embed_document(root);\n",
       "      } else {\n",
       "        attempts++;\n",
       "        if (attempts > 100) {\n",
       "          clearInterval(timer);\n",
       "          console.log(\"Bokeh: ERROR: Unable to run BokehJS code because BokehJS library is missing\");\n",
       "        }\n",
       "      }\n",
       "    }, 10, root)\n",
       "  }\n",
       "})(window);"
      ],
      "application/vnd.bokehjs_exec.v0+json": ""
     },
     "metadata": {
      "application/vnd.bokehjs_exec.v0+json": {
       "id": "1119"
      }
     },
     "output_type": "display_data"
    }
   ],
   "source": [
    "x_data = np.linspace(3000, 15000, 500)\n",
    "y_data = calculator.fit_func(x_data)\n",
    "\n",
    "fig = figure(width=FIGURE_WIDTH, height=FIGURE_HEIGHT)\n",
    "fig.line(x_data, y_data, legend_label='TOF Simulation', color='orange', line_width=2)\n",
    "show(fig)"
   ]
  },
  {
   "cell_type": "code",
   "execution_count": null,
   "id": "088510c2",
   "metadata": {
    "pycharm": {
     "name": "#%%\n"
    }
   },
   "outputs": [],
   "source": []
  }
 ],
 "metadata": {
  "kernelspec": {
   "display_name": "Python 3 (ipykernel)",
   "language": "python",
   "name": "python3"
  },
  "language_info": {
   "codemirror_mode": {
    "name": "ipython",
    "version": 3
   },
   "file_extension": ".py",
   "mimetype": "text/x-python",
   "name": "python",
   "nbconvert_exporter": "python",
   "pygments_lexer": "ipython3",
   "version": "3.7.10"
  }
 },
 "nbformat": 4,
 "nbformat_minor": 5
}