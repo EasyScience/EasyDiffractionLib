{
 "cells": [
  {
   "cell_type": "markdown",
   "id": "f2d2ffac",
   "metadata": {},
   "source": [
    "# Simulation `PD-XRAY` NaCl\n",
    "\n",
    "This example shows how to simulate the diffraction pattern of NaCl for the X-ray experiment."
   ]
  },
  {
   "cell_type": "code",
   "execution_count": null,
   "id": "fc17bdcdca494ac7",
   "metadata": {
    "ExecuteTime": {
     "end_time": "2024-11-10T18:41:36.689356Z",
     "start_time": "2024-11-10T18:41:36.685553Z"
    }
   },
   "outputs": [],
   "source": [
    "# Check if the easydiffraction library is installed\n",
    "# If not, install it including the 'charts' extras\n",
    "# This is done when running in a Jupyter notebook\n",
    "import builtins\n",
    "import importlib.util\n",
    "\n",
    "if hasattr(builtins, \"__IPYTHON__\"):\n",
    "    if importlib.util.find_spec('easydiffraction') is None:\n",
    "        print('Installing the easydiffraction library...')\n",
    "        !pip install 'easydiffraction[charts] @ git+https://github.com/EasyScience/EasyDiffractionLib@more-examples'"
   ]
  },
  {
   "cell_type": "markdown",
   "id": "d6079577c0ed58d7",
   "metadata": {},
   "source": [
    "## Import EasyDiffraction"
   ]
  },
  {
   "cell_type": "code",
   "execution_count": null,
   "id": "0bd3183f",
   "metadata": {
    "ExecuteTime": {
     "end_time": "2024-11-10T18:41:36.697742Z",
     "start_time": "2024-11-10T18:41:36.695915Z"
    }
   },
   "outputs": [],
   "source": [
    "import easydiffraction as ed"
   ]
  },
  {
   "cell_type": "markdown",
   "id": "5e5e97de",
   "metadata": {},
   "source": [
    "## Job\n",
    "\n",
    "Create a job — the main object to store all the information"
   ]
  },
  {
   "cell_type": "code",
   "execution_count": null,
   "id": "2210bb354108845a",
   "metadata": {
    "ExecuteTime": {
     "end_time": "2024-11-10T18:41:37.206649Z",
     "start_time": "2024-11-10T18:41:37.193686Z"
    }
   },
   "outputs": [],
   "source": [
    "job = ed.Job(type='xray')\n",
    "print(job.type)"
   ]
  },
  {
   "cell_type": "markdown",
   "id": "6fde63c7",
   "metadata": {},
   "source": [
    "## Model\n",
    "\n",
    "Create a phase object"
   ]
  },
  {
   "cell_type": "code",
   "execution_count": null,
   "id": "46b9ea49",
   "metadata": {
    "ExecuteTime": {
     "end_time": "2024-11-10T18:41:37.224611Z",
     "start_time": "2024-11-10T18:41:37.213170Z"
    }
   },
   "outputs": [],
   "source": [
    "phase = ed.Phase(name='nacl')"
   ]
  },
  {
   "cell_type": "markdown",
   "id": "0cfade1b",
   "metadata": {},
   "source": [
    "Set space group"
   ]
  },
  {
   "cell_type": "code",
   "execution_count": null,
   "id": "7e61c7d3",
   "metadata": {
    "ExecuteTime": {
     "end_time": "2024-11-10T18:41:37.246868Z",
     "start_time": "2024-11-10T18:41:37.229072Z"
    }
   },
   "outputs": [],
   "source": [
    "phase.space_group.name_hm_alt = 'F m -3 m'"
   ]
  },
  {
   "cell_type": "markdown",
   "id": "6179bae6",
   "metadata": {},
   "source": [
    "Set cell parameters"
   ]
  },
  {
   "cell_type": "code",
   "execution_count": null,
   "id": "9e51c0bc",
   "metadata": {
    "ExecuteTime": {
     "end_time": "2024-11-10T18:41:37.253101Z",
     "start_time": "2024-11-10T18:41:37.250883Z"
    }
   },
   "outputs": [],
   "source": [
    "phase.cell.length_a = 5.691694"
   ]
  },
  {
   "cell_type": "markdown",
   "id": "6fbd2a86",
   "metadata": {},
   "source": [
    "Add atoms"
   ]
  },
  {
   "cell_type": "code",
   "execution_count": null,
   "id": "753a0eb63262b871",
   "metadata": {
    "ExecuteTime": {
     "end_time": "2024-11-10T18:41:37.263640Z",
     "start_time": "2024-11-10T18:41:37.257696Z"
    }
   },
   "outputs": [],
   "source": [
    "phase.atom_sites.append(label='Na',\n",
    "                        type_symbol='Na',\n",
    "                        fract_x=0,\n",
    "                        fract_y=0,\n",
    "                        fract_z=0,\n",
    "                        occupancy=1,\n",
    "                        u_iso_or_equiv=0.01)\n",
    "phase.atom_sites.append(label='Cl',\n",
    "                        type_symbol='Cl',\n",
    "                        fract_x=0,\n",
    "                        fract_y=0,\n",
    "                        fract_z=0.5,\n",
    "                        occupancy=1,\n",
    "                        u_iso_or_equiv=0.01)"
   ]
  },
  {
   "cell_type": "markdown",
   "id": "66c908d43be525c4",
   "metadata": {},
   "source": [
    "Add phase to the job object"
   ]
  },
  {
   "cell_type": "code",
   "execution_count": null,
   "id": "5413921aca1d5fa3",
   "metadata": {
    "ExecuteTime": {
     "end_time": "2024-11-10T18:41:37.571975Z",
     "start_time": "2024-11-10T18:41:37.268064Z"
    }
   },
   "outputs": [],
   "source": [
    "job.add_phase(phase=phase)\n",
    "print(job.phases)"
   ]
  },
  {
   "cell_type": "markdown",
   "id": "b2267b535d65c110",
   "metadata": {},
   "source": [
    "Show phase info in CIF format"
   ]
  },
  {
   "cell_type": "code",
   "execution_count": null,
   "id": "27e08217ebeac170",
   "metadata": {
    "ExecuteTime": {
     "end_time": "2024-11-10T18:41:37.582893Z",
     "start_time": "2024-11-10T18:41:37.576235Z"
    }
   },
   "outputs": [],
   "source": [
    "phase = job.phases['nacl']\n",
    "print(phase.cif)"
   ]
  },
  {
   "cell_type": "markdown",
   "id": "dcb3d2af4b36c474",
   "metadata": {},
   "source": [
    "Display the crystal structure of a given model"
   ]
  },
  {
   "cell_type": "code",
   "execution_count": null,
   "id": "4c94c62e05861f35",
   "metadata": {
    "ExecuteTime": {
     "end_time": "2024-11-10T18:41:37.594426Z",
     "start_time": "2024-11-10T18:41:37.587109Z"
    }
   },
   "outputs": [],
   "source": [
    "job.show_crystal_structure(id='nacl')"
   ]
  },
  {
   "cell_type": "markdown",
   "id": "a2411203724dae47",
   "metadata": {},
   "source": [
    "## Experiment\n",
    "\n",
    "Although in this example we only simulate the diffraction pattern, some parameters for the ‘virtual experiment’ still need to be set. For example, the wavelength of the X-ray beam, the range of 2-theta angles, etc.\n",
    "\n",
    "Let's start by setting the range and step of the 2-theta angles. The other parameters will be set later."
   ]
  },
  {
   "cell_type": "code",
   "execution_count": null,
   "id": "d8c8beaf56205878",
   "metadata": {
    "ExecuteTime": {
     "end_time": "2024-11-10T18:41:37.601088Z",
     "start_time": "2024-11-10T18:41:37.598475Z"
    }
   },
   "outputs": [],
   "source": [
    "job.instrument.twotheta_range_min = 20\n",
    "job.instrument.twotheta_range_max = 160\n",
    "job.instrument.twotheta_range_inc = 0.05"
   ]
  },
  {
   "cell_type": "markdown",
   "id": "c6e7e3e11cfbdb1e",
   "metadata": {},
   "source": [
    "## Analysis\n",
    "\n",
    "Display the analysis chart before changing the values of other parameters from their default values."
   ]
  },
  {
   "cell_type": "code",
   "execution_count": null,
   "id": "de28d3ad58b5e750",
   "metadata": {
    "ExecuteTime": {
     "end_time": "2024-11-10T18:41:37.658837Z",
     "start_time": "2024-11-10T18:41:37.630405Z"
    }
   },
   "outputs": [],
   "source": [
    "job.show_simulation_chart()"
   ]
  },
  {
   "cell_type": "markdown",
   "id": "57970e6d885c6c83",
   "metadata": {},
   "source": [
    "Show the names of all parameters, their values, etc. Parameter names can be used to access the parameter and change its value."
   ]
  },
  {
   "cell_type": "code",
   "execution_count": null,
   "id": "f7fc914de91f4f58",
   "metadata": {
    "ExecuteTime": {
     "end_time": "2024-11-10T18:41:37.676412Z",
     "start_time": "2024-11-10T18:41:37.671904Z"
    }
   },
   "outputs": [],
   "source": [
    "job.show_parameters()"
   ]
  },
  {
   "cell_type": "markdown",
   "id": "d0b8f17a2e1bac69",
   "metadata": {},
   "source": [
    "Change the default value of the wavelength used in the experiment and display the analysis chart again"
   ]
  },
  {
   "cell_type": "code",
   "execution_count": null,
   "id": "80dfdd1f68f1249d",
   "metadata": {
    "ExecuteTime": {
     "end_time": "2024-11-10T18:41:37.706396Z",
     "start_time": "2024-11-10T18:41:37.680397Z"
    }
   },
   "outputs": [],
   "source": [
    "job.instrument.wavelength = 1.5\n",
    "job.show_simulation_chart()"
   ]
  },
  {
   "cell_type": "markdown",
   "id": "9c40b353ffbabb3d",
   "metadata": {},
   "source": [
    "Change the default values of the peak profile related parameters and display the analysis chart again"
   ]
  },
  {
   "cell_type": "code",
   "execution_count": null,
   "id": "d082056acc4987f6",
   "metadata": {
    "ExecuteTime": {
     "end_time": "2024-11-10T18:41:37.739216Z",
     "start_time": "2024-11-10T18:41:37.712053Z"
    }
   },
   "outputs": [],
   "source": [
    "job.instrument.resolution_u = 0.1\n",
    "job.instrument.resolution_v = -0.1\n",
    "job.instrument.resolution_w = 0.2\n",
    "job.show_simulation_chart()"
   ]
  }
 ],
 "metadata": {
  "kernelspec": {
   "display_name": "Python 3 (ipykernel)",
   "language": "python",
   "name": "python3"
  }
 },
 "nbformat": 4,
 "nbformat_minor": 5
}
