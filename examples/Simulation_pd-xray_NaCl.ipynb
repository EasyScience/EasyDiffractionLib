{
 "cells": [
  {
   "cell_type": "markdown",
   "id": "f2d2ffac",
   "metadata": {},
   "source": [
    "# Simulation <a class=\"label-experiment\" href=\"https://docs.easydiffraction.org/lib/glossary/#experiment-type-labels\">pd-xray</a> NaCl\n",
    "\n",
    "This example demonstrates how to simulate a powder diffraction pattern of NaCl for the X-ray case.\n"
   ]
  },
  {
   "cell_type": "code",
   "execution_count": null,
   "id": "fc17bdcdca494ac7",
   "metadata": {
    "ExecuteTime": {
     "end_time": "2024-11-11T16:13:59.111587Z",
     "start_time": "2024-11-11T16:13:59.104663Z"
    },
    "tags": [
     "hide_in_docs"
    ]
   },
   "outputs": [],
   "source": [
    "# Check if the easydiffraction library is installed\n",
    "# If not, install it including the 'charts' extras\n",
    "# This is done when running in a Jupyter notebook\n",
    "import builtins\n",
    "import importlib.util\n",
    "\n",
    "if hasattr(builtins, \"__IPYTHON__\"):\n",
    "    if importlib.util.find_spec('easydiffraction') is None:\n",
    "        print('Installing the easydiffraction library...')\n",
    "        !pip install 'easydiffraction[charts]'"
   ]
  },
  {
   "cell_type": "markdown",
   "id": "d6079577c0ed58d7",
   "metadata": {},
   "source": [
    "## Import EasyDiffraction"
   ]
  },
  {
   "cell_type": "code",
   "execution_count": null,
   "id": "0bd3183f",
   "metadata": {
    "ExecuteTime": {
     "end_time": "2024-11-11T16:14:01.559830Z",
     "start_time": "2024-11-11T16:13:59.114575Z"
    }
   },
   "outputs": [],
   "source": [
    "import easydiffraction as ed"
   ]
  },
  {
   "cell_type": "markdown",
   "id": "47892eeeec263024",
   "metadata": {},
   "source": [
    "## Create a job\n",
    "\n",
    "Create a job — the main object to store all the information"
   ]
  },
  {
   "cell_type": "code",
   "execution_count": null,
   "id": "9e310724e580f47c",
   "metadata": {
    "ExecuteTime": {
     "end_time": "2024-11-11T16:14:01.714345Z",
     "start_time": "2024-11-11T16:14:01.703345Z"
    }
   },
   "outputs": [],
   "source": [
    "job = ed.Job(type='pd-xray')\n",
    "print(job.type)"
   ]
  },
  {
   "cell_type": "markdown",
   "id": "afdc32d4a6000163",
   "metadata": {},
   "source": [
    "## Define a model\n",
    "\n",
    "Create a phase object"
   ]
  },
  {
   "cell_type": "code",
   "execution_count": null,
   "id": "2080db534a44e560",
   "metadata": {
    "ExecuteTime": {
     "end_time": "2024-11-11T16:14:01.847272Z",
     "start_time": "2024-11-11T16:14:01.838112Z"
    }
   },
   "outputs": [],
   "source": [
    "phase = ed.Phase(name='nacl')"
   ]
  },
  {
   "cell_type": "markdown",
   "id": "a49a935946f9462b",
   "metadata": {},
   "source": [
    "Set space group"
   ]
  },
  {
   "cell_type": "code",
   "execution_count": null,
   "id": "cbb140b3f73b6d11",
   "metadata": {
    "ExecuteTime": {
     "end_time": "2024-11-11T16:14:01.868853Z",
     "start_time": "2024-11-11T16:14:01.851391Z"
    }
   },
   "outputs": [],
   "source": [
    "phase.space_group.name_hm_alt = 'F m -3 m'"
   ]
  },
  {
   "cell_type": "markdown",
   "id": "a61defe556e3e606",
   "metadata": {},
   "source": [
    "Set cell parameters"
   ]
  },
  {
   "cell_type": "code",
   "execution_count": null,
   "id": "2770847f46382618",
   "metadata": {
    "ExecuteTime": {
     "end_time": "2024-11-11T16:14:01.875646Z",
     "start_time": "2024-11-11T16:14:01.873400Z"
    }
   },
   "outputs": [],
   "source": [
    "phase.cell.length_a = 5.691694"
   ]
  },
  {
   "cell_type": "markdown",
   "id": "7b898a087835600",
   "metadata": {},
   "source": [
    "Add atoms"
   ]
  },
  {
   "cell_type": "code",
   "execution_count": null,
   "id": "1c9e083f946bf8cb",
   "metadata": {
    "ExecuteTime": {
     "end_time": "2024-11-11T16:14:01.893304Z",
     "start_time": "2024-11-11T16:14:01.880312Z"
    }
   },
   "outputs": [],
   "source": [
    "phase.atom_sites.append(label='Na',\n",
    "                        type_symbol='Na',\n",
    "                        fract_x=0,\n",
    "                        fract_y=0,\n",
    "                        fract_z=0,\n",
    "                        occupancy=1,\n",
    "                        u_iso_or_equiv=0.01)\n",
    "phase.atom_sites.append(label='Cl',\n",
    "                        type_symbol='Cl',\n",
    "                        fract_x=0,\n",
    "                        fract_y=0,\n",
    "                        fract_z=0.5,\n",
    "                        occupancy=1,\n",
    "                        u_iso_or_equiv=0.01)"
   ]
  },
  {
   "cell_type": "markdown",
   "id": "5cfbfbedc2df342c",
   "metadata": {},
   "source": [
    "Add phase to the job object"
   ]
  },
  {
   "cell_type": "code",
   "execution_count": null,
   "id": "565a7bb8b094440",
   "metadata": {
    "ExecuteTime": {
     "end_time": "2024-11-11T16:14:02.203369Z",
     "start_time": "2024-11-11T16:14:01.900232Z"
    }
   },
   "outputs": [],
   "source": [
    "job.add_phase(phase=phase)\n",
    "print(job.phases)"
   ]
  },
  {
   "cell_type": "markdown",
   "id": "d5ee8ef28e86c8c6",
   "metadata": {},
   "source": [
    "Show phase info in CIF format"
   ]
  },
  {
   "cell_type": "code",
   "execution_count": null,
   "id": "4f1ee6ae2623238c",
   "metadata": {
    "ExecuteTime": {
     "end_time": "2024-11-11T16:14:02.216539Z",
     "start_time": "2024-11-11T16:14:02.211088Z"
    }
   },
   "outputs": [],
   "source": [
    "phase = job.phases['nacl']\n",
    "print(phase.cif)"
   ]
  },
  {
   "cell_type": "markdown",
   "id": "81fbdd22b8603938",
   "metadata": {},
   "source": [
    "Display the crystal structure of a given model"
   ]
  },
  {
   "cell_type": "code",
   "execution_count": null,
   "id": "d725608c49ec2dab",
   "metadata": {
    "ExecuteTime": {
     "end_time": "2024-11-11T16:14:02.241532Z",
     "start_time": "2024-11-11T16:14:02.225519Z"
    }
   },
   "outputs": [],
   "source": [
    "job.show_crystal_structure(id='nacl')"
   ]
  },
  {
   "cell_type": "markdown",
   "id": "d3c83c0a443f8381",
   "metadata": {},
   "source": [
    "## Define an experiment\n",
    "\n",
    "Although in this example we only simulate the diffraction pattern, some parameters for the\n",
    "‘virtual experiment’ still need to be set. For example, the wavelength of the X-ray beam, the\n",
    "range of 2-theta angles, etc.\n",
    "\n",
    "Let's start by setting the range and step of the 2-theta angles. The other parameters will be set later."
   ]
  },
  {
   "cell_type": "code",
   "execution_count": null,
   "id": "268ede011e50813",
   "metadata": {
    "ExecuteTime": {
     "end_time": "2024-11-11T16:14:02.258293Z",
     "start_time": "2024-11-11T16:14:02.254852Z"
    }
   },
   "outputs": [],
   "source": [
    "job.instrument.twotheta_range_min = 20\n",
    "job.instrument.twotheta_range_max = 160\n",
    "job.instrument.twotheta_range_inc = 0.05"
   ]
  },
  {
   "cell_type": "markdown",
   "id": "40df21b1ee8b52f3",
   "metadata": {},
   "source": [
    "## Perform an analysis\n",
    "\n",
    "Display the analysis chart before changing the values of other parameters from their default values."
   ]
  },
  {
   "cell_type": "code",
   "execution_count": null,
   "id": "b3fce461808803b7",
   "metadata": {
    "ExecuteTime": {
     "end_time": "2024-11-11T16:14:02.465065Z",
     "start_time": "2024-11-11T16:14:02.272282Z"
    }
   },
   "outputs": [],
   "source": [
    "job.show_simulation_chart()"
   ]
  },
  {
   "cell_type": "markdown",
   "id": "a21cb097901bdb7",
   "metadata": {},
   "source": [
    "Show the names of all parameters, their values, etc. Parameter names can be used to access\n",
    "the parameter and change its value."
   ]
  },
  {
   "cell_type": "code",
   "execution_count": null,
   "id": "f7fc914de91f4f58",
   "metadata": {
    "ExecuteTime": {
     "end_time": "2024-11-11T16:14:02.607890Z",
     "start_time": "2024-11-11T16:14:02.600369Z"
    }
   },
   "outputs": [],
   "source": [
    "job.show_parameters()"
   ]
  },
  {
   "cell_type": "markdown",
   "id": "d0b8f17a2e1bac69",
   "metadata": {},
   "source": [
    "Change the default value of the wavelength used in the experiment and display the analysis chart again"
   ]
  },
  {
   "cell_type": "code",
   "execution_count": null,
   "id": "80dfdd1f68f1249d",
   "metadata": {
    "ExecuteTime": {
     "end_time": "2024-11-11T16:14:02.676399Z",
     "start_time": "2024-11-11T16:14:02.644309Z"
    }
   },
   "outputs": [],
   "source": [
    "job.instrument.wavelength = 1.5\n",
    "job.show_simulation_chart()"
   ]
  },
  {
   "cell_type": "markdown",
   "id": "9c40b353ffbabb3d",
   "metadata": {},
   "source": [
    "Change the default values of the peak profile related parameters and display the analysis chart again"
   ]
  },
  {
   "cell_type": "code",
   "execution_count": null,
   "id": "577a91ca5ea0534a",
   "metadata": {
    "ExecuteTime": {
     "end_time": "2024-11-11T16:14:02.889229Z",
     "start_time": "2024-11-11T16:14:02.835817Z"
    }
   },
   "outputs": [],
   "source": [
    "job.instrument.resolution_u = 0.1\n",
    "job.instrument.resolution_v = -0.1\n",
    "job.instrument.resolution_w = 0.2\n",
    "job.show_simulation_chart()"
   ]
  },
  {
   "cell_type": "markdown",
   "id": "3e935fde03864906",
   "metadata": {},
   "source": [
    "Change the value of the unit cell parameter and display the analysis chart again"
   ]
  },
  {
   "cell_type": "code",
   "execution_count": null,
   "id": "99497d2ffad8675b",
   "metadata": {
    "ExecuteTime": {
     "end_time": "2024-11-11T16:14:02.944435Z",
     "start_time": "2024-11-11T16:14:02.907377Z"
    }
   },
   "outputs": [],
   "source": [
    "job.phases['nacl'].cell.length_a = 5.0\n",
    "job.show_simulation_chart()"
   ]
  }
 ],
 "metadata": {
  "kernelspec": {
   "display_name": "Python 3 (ipykernel)",
   "language": "python",
   "name": "python3"
  }
 },
 "nbformat": 4,
 "nbformat_minor": 5
}
