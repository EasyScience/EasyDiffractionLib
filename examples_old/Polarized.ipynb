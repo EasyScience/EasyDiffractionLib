{
 "cells": [
  {
   "cell_type": "markdown",
   "id": "450a9058",
   "metadata": {
    "pycharm": {
     "name": "#%% md\n"
    }
   },
   "source": [
    "# Simulation of the polarized neutron diffraction pattern\n",
    "This notebook shows how we can create a sample (phase) from atoms and calculate diffraction profiles. The results are optimized to match the experimental data."
   ]
  },
  {
   "cell_type": "code",
   "execution_count": null,
   "id": "9ecc4733",
   "metadata": {
    "pycharm": {
     "name": "#%%\n"
    }
   },
   "outputs": [],
   "source": [
    "# esyScience, technique-independent\n",
    "import numpy as np\n",
    "from easyscience.fitting.fitter import Fitter\n",
    "# esyScience, diffraction\n",
    "from easyDiffractionLib import Site, Phase, Phases\n",
    "from easycrystallography.Components.Susceptibility import MagneticSusceptibility\n",
    "from easyDiffractionLib.Jobs import PolPowder1DCW\n",
    "from easyDiffractionLib.elements.Backgrounds.Point import PointBackground, BackgroundPoint\n",
    "import xarray as xr\n",
    "\n",
    "# Vizualization\n",
    "import py3Dmol\n",
    "from bokeh.layouts import gridplot\n",
    "from bokeh.plotting import figure, show\n",
    "try:\n",
    "    import hvplot.xarray  # noqa\n",
    "except ImportError:\n",
    "    ! pip install hvplot\n",
    "    import hvplot.xarray  # noqa\n",
    "from hvplot import hvPlot\n",
    "hvplot.extension('bokeh')\n",
    "from bokeh.io import push_notebook, show, output_notebook\n",
    "from bokeh.layouts import column\n",
    "from bokeh.plotting import figure\n",
    "output_notebook()\n",
    "from bokeh.palettes import Spectral6"
   ]
  },
  {
   "cell_type": "code",
   "execution_count": null,
   "id": "d76d50fc",
   "metadata": {
    "pycharm": {
     "name": "#%%\n"
    }
   },
   "outputs": [],
   "source": [
    "FIGURE_WIDTH = 990\n",
    "FIGURE_HEIGHT = 300\n",
    "opts = dict(width=FIGURE_WIDTH, height=FIGURE_HEIGHT, min_border=0)\n",
    "ds = xr.Dataset()"
   ]
  },
  {
   "cell_type": "markdown",
   "id": "283767f9",
   "metadata": {
    "pycharm": {
     "name": "#%% md\n"
    }
   },
   "source": [
    "## Fe3O4 Sample\n",
    "\n",
    "In this example we use constructors to build a sample, starting with atoms, space-group and lattice parameters.\n",
    "\n",
    "####  Create  atoms using `Site` methods"
   ]
  },
  {
   "cell_type": "code",
   "execution_count": null,
   "id": "41020330",
   "metadata": {
    "pycharm": {
     "name": "#%%\n"
    }
   },
   "outputs": [],
   "source": [
    "Fe3A = Site(label=\"Fe3A\",\n",
    "            specie=\"Fe3+\",\n",
    "            fract_x=0.125,\n",
    "            fract_y=0.125,\n",
    "            fract_z=0.125,\n",
    "            msp=MagneticSusceptibility('Cani', chi_11=-4.0380, chi_22=-4.0380, chi_33=-4.0380))\n",
    "Fe3B = Site(label=\"Fe3B\",\n",
    "            specie=\"Fe3+\",\n",
    "            fract_x=0.5,\n",
    "            fract_y=0.5,\n",
    "            fract_z=0.5,\n",
    "            msp=MagneticSusceptibility('Cani', chi_11=3.9318, chi_22=3.9318, chi_33=3.9318))\n",
    "O = Site(label=\"O\",\n",
    "        specie=\"O2-\",\n",
    "        fract_x=0.25521,\n",
    "        fract_y=0.25521,\n",
    "        fract_z=0.25521)"
   ]
  },
  {
   "cell_type": "markdown",
   "id": "910aed87",
   "metadata": {
    "pycharm": {
     "name": "#%% md\n"
    }
   },
   "source": [
    "#### Creating a `Phase`\n",
    "\n",
    "We create a phase and set space-group and previously created atoms. Space-group information can also be set by calling the `SpaceGroup` constructor."
   ]
  },
  {
   "cell_type": "code",
   "execution_count": null,
   "id": "1e2f3193",
   "metadata": {
    "pycharm": {
     "name": "#%%\n"
    }
   },
   "outputs": [],
   "source": [
    "phase = Phase(name=\"Fe3O4\")\n",
    "phase.spacegroup.space_group_HM_name = \"F d -3 m:2\"\n",
    "phase.add_atom(Fe3A)\n",
    "phase.add_atom(Fe3B)\n",
    "phase.add_atom(O)"
   ]
  },
  {
   "cell_type": "markdown",
   "metadata": {
    "collapsed": false,
    "pycharm": {
     "name": "#%% md\n"
    }
   },
   "source": [
    "The unit-cell parameters can be set by modifying the cell attributes."
   ]
  },
  {
   "cell_type": "code",
   "execution_count": null,
   "metadata": {
    "collapsed": false,
    "pycharm": {
     "name": "#%%\n"
    }
   },
   "outputs": [],
   "source": [
    "phase.cell.a = 8.56212"
   ]
  },
  {
   "cell_type": "markdown",
   "metadata": {
    "collapsed": false,
    "pycharm": {
     "name": "#%% md\n"
    }
   },
   "source": [
    "Because the unit-cell is a cubic, the lattice parameters are the same. This should be automatically applied."
   ]
  },
  {
   "cell_type": "code",
   "execution_count": null,
   "metadata": {
    "collapsed": false,
    "pycharm": {
     "name": "#%%\n"
    }
   },
   "outputs": [],
   "source": [
    "print(phase.cell.length_b)\n",
    "print(phase.cell.length_c)"
   ]
  },
  {
   "cell_type": "markdown",
   "id": "81ace320",
   "metadata": {
    "pycharm": {
     "name": "#%% md\n"
    }
   },
   "source": [
    "#### Visualise the structure\n",
    "\n",
    "Using `py3Dmol` we can visualise the phases structure."
   ]
  },
  {
   "cell_type": "code",
   "execution_count": null,
   "id": "e68ddbea",
   "metadata": {
    "pycharm": {
     "name": "#%%\n"
    }
   },
   "outputs": [],
   "source": [
    "viewer = py3Dmol.view()\n",
    "viewer.addModel(phase.cif,'cif',{'doAssembly':True,'duplicateAssemblyAtoms':True,'normalizeAssembly':True})\n",
    "viewer.setStyle({'sphere':{'colorscheme':'Jmol','scale':.2},'stick':{'colorscheme':'Jmol', 'radius': 0.1}})\n",
    "viewer.addUnitCell()\n",
    "viewer.replicateUnitCell(2,2,2)\n",
    "viewer.zoomTo()"
   ]
  },
  {
   "cell_type": "markdown",
   "id": "ebe0e0ee",
   "metadata": {
    "pycharm": {
     "name": "#%% md\n"
    }
   },
   "source": [
    "#### Create Phases object\n",
    "\n",
    "The created phase is wrapped in a phases object."
   ]
  },
  {
   "cell_type": "code",
   "execution_count": null,
   "id": "29071aa2",
   "metadata": {
    "pycharm": {
     "name": "#%%\n"
    }
   },
   "outputs": [],
   "source": [
    "phases = Phases()\n",
    "phases.append(phase)"
   ]
  },
  {
   "cell_type": "markdown",
   "id": "07db27b5",
   "metadata": {
    "pycharm": {
     "name": "#%% md\n"
    }
   },
   "source": [
    "## Simulating the polarized diffraction pattern\n",
    "\n",
    "The easiest way of simulating a diffraction pattern is to use the `PolPowder1DCW` class. In this case we call the job `Fe3O4_test` and modify the experimental resolution parameters"
   ]
  },
  {
   "cell_type": "code",
   "execution_count": null,
   "id": "83e3845f",
   "metadata": {
    "pycharm": {
     "name": "#%%\n"
    }
   },
   "outputs": [],
   "source": [
    "j1 = PolPowder1DCW('Fe3O4_test', ds, phases=phases)\n",
    "parameters = j1.parameters\n",
    "parameters.resolution_u = 0.447\n",
    "parameters.resolution_v = -0.4252\n",
    "parameters.resolution_w = 0.3864\n",
    "parameters.resolution_x = 0.0\n",
    "parameters.resolution_y = 0.0"
   ]
  },
  {
   "cell_type": "markdown",
   "id": "370f0baa",
   "metadata": {
    "pycharm": {
     "name": "#%% md\n"
    }
   },
   "source": [
    "There are also pattern parameters, we can set them."
   ]
  },
  {
   "cell_type": "code",
   "execution_count": null,
   "id": "70fa1571",
   "metadata": {
    "pycharm": {
     "name": "#%%\n"
    }
   },
   "outputs": [],
   "source": [
    "pattern = j1.pattern\n",
    "pattern.zero_shift = 0.0\n",
    "pattern.scale = 10.0\n",
    "pattern.field = 4.0"
   ]
  },
  {
   "cell_type": "markdown",
   "metadata": {
    "collapsed": false,
    "pycharm": {
     "name": "#%% md\n"
    }
   },
   "source": [
    "By default the job interface uses the `CrysPy` calculator. This is a wrapper around the `CrysPy` library. It can be verified by calling the `interface` property."
   ]
  },
  {
   "cell_type": "code",
   "execution_count": null,
   "id": "1ed88f8e",
   "metadata": {
    "pycharm": {
     "name": "#%%\n"
    }
   },
   "outputs": [],
   "source": [
    "calculator = j1.interface"
   ]
  },
  {
   "cell_type": "code",
   "execution_count": null,
   "id": "784fb8e5",
   "metadata": {
    "pycharm": {
     "name": "#%%\n"
    }
   },
   "outputs": [],
   "source": [
    "print(f\"Current calculator engine: {calculator.current_interface_name}\")"
   ]
  },
  {
   "cell_type": "markdown",
   "id": "00e24eab",
   "metadata": {
    "pycharm": {
     "name": "#%% md\n"
    }
   },
   "source": [
    "#### Calculating the profiles\n",
    "We create a simulation range and calculate the diffraction pattern for three cases; Spin up, Spin down and the Spin difference."
   ]
  },
  {
   "cell_type": "code",
   "execution_count": null,
   "id": "f556cc94",
   "metadata": {
    "pycharm": {
     "name": "#%%\n"
    }
   },
   "outputs": [],
   "source": [
    "x_data = np.linspace(20, 120, 800)\n",
    "a = j1.create_simulation(x_data, 'up', pol_fn=lambda up, down: up)\n",
    "b = j1.create_simulation(x_data, 'down', pol_fn=lambda up, down: down)\n",
    "c = j1.create_simulation(x_data, 'diff', pol_fn=lambda up, down: up - down)"
   ]
  },
  {
   "cell_type": "markdown",
   "metadata": {
    "collapsed": false,
    "pycharm": {
     "name": "#%% md\n"
    }
   },
   "source": [
    "These profiles can be plotted"
   ]
  },
  {
   "cell_type": "code",
   "execution_count": null,
   "id": "758b92d5",
   "metadata": {
    "pycharm": {
     "name": "#%%\n"
    }
   },
   "outputs": [],
   "source": [
    "p1 = figure(**opts, title='Fe3O4 Polarization')\n",
    "p1.line(x_data, np.array(ds['sim_Fe3O4_test_up']), legend='Spin Up', line_width=2, color=Spectral6[0])\n",
    "p1.line(x_data, np.array(ds['sim_Fe3O4_test_down']),  legend='Spin Down', line_width=2, color=Spectral6[1])\n",
    "p1.line(x_data, np.array(ds['sim_Fe3O4_test_diff']),  legend='Difference', line_width=2, color=Spectral6[2])\n",
    "p1.yaxis.axis_label = 'Intensity'\n",
    "p1.legend.location = 'top_right'\n",
    "p1.xaxis.axis_label = '2theta'\n",
    "show(p1)"
   ]
  },
  {
   "cell_type": "markdown",
   "id": "b3937208",
   "metadata": {
    "pycharm": {
     "name": "#%% md\n"
    }
   },
   "source": [
    "# Fitting a polarized powder profile\n",
    "\n",
    "In this example we load a sample from a cif file and modify some parameters to be more physically meaningful.\n",
    "\n",
    "Load the phase from a cif file:"
   ]
  },
  {
   "cell_type": "code",
   "execution_count": null,
   "metadata": {
    "collapsed": false,
    "pycharm": {
     "name": "#%%\n"
    }
   },
   "outputs": [],
   "source": [
    "p2 = Phases.from_cif_file('structure_polarized.cif')\n",
    "p2[0].cell.length_a.fixed = False # Optimum value of the lattice parameter `a` is: 10.26594(88)"
   ]
  },
  {
   "cell_type": "markdown",
   "metadata": {
    "collapsed": false,
    "pycharm": {
     "name": "#%% md\n"
    }
   },
   "source": [
    "Create a new job and set the phase and vaguely acceptable experimental parameters."
   ]
  },
  {
   "cell_type": "code",
   "execution_count": null,
   "metadata": {
    "collapsed": false,
    "pycharm": {
     "name": "#%%\n"
    }
   },
   "outputs": [],
   "source": [
    "j2 = PolPowder1DCW('pol2', ds, phases=p2)\n",
    "j2.phases[0].scale = 0.025\n",
    "j2.phases[0].scale.fixed = False\n",
    "j2.parameters.wavelength = 0.84\n",
    "j2.parameters.resolution_u = 15\n",
    "j2.parameters.resolution_u.fixed = False\n",
    "j2.parameters.resolution_v = -2.5\n",
    "j2.parameters.resolution_v.fixed = False\n",
    "j2.parameters.resolution_w = 0.375\n",
    "j2.parameters.resolution_w.fixed = False\n",
    "j2.parameters.resolution_x = 0.0\n",
    "j2.parameters.resolution_y = 0.225\n",
    "j2.parameters.resolution_y.fixed = False\n",
    "j2.pattern.zero_shift = 0.35\n",
    "j2.pattern.zero_shift.fixed = False\n",
    "j2.pattern.beam.polarization = 0.6909"
   ]
  },
  {
   "cell_type": "markdown",
   "metadata": {
    "collapsed": false,
    "pycharm": {
     "name": "#%% md\n"
    }
   },
   "source": [
    "Perform an initial simulation to verify that the parameters make a meaningful pattern."
   ]
  },
  {
   "cell_type": "code",
   "execution_count": null,
   "metadata": {
    "collapsed": false,
    "pycharm": {
     "name": "#%%\n"
    }
   },
   "outputs": [],
   "source": [
    "j2.create_simulation(x_data, 'up', pol_fn=lambda up, down: up)\n",
    "j2.create_simulation(x_data, 'down', pol_fn=lambda up, down: down)\n",
    "j2.create_simulation(x_data, 'difference', pol_fn=lambda up, down: up - down)\n",
    "\n",
    "\n",
    "p1 = figure(**opts, title='Ho2Ti2O7 Polarization')\n",
    "x_data = np.array(ds['sim_pol2_tth'])\n",
    "p1.line(x_data, np.array(ds['sim_pol2_up']), legend='Spin Up', line_width=2, color=Spectral6[0])\n",
    "p1.line(x_data, np.array(ds['sim_pol2_down']),  legend='Spin Down', line_width=2, color=Spectral6[1])\n",
    "p1.line(x_data, np.array(ds['sim_pol2_difference']),  legend='Difference', line_width=2, color=Spectral6[2])\n",
    "p1.yaxis.axis_label = 'Intensity'\n",
    "p1.legend.location = 'top_right'\n",
    "p1.xaxis.axis_label = '2theta'\n",
    "show(p1)"
   ]
  },
  {
   "cell_type": "markdown",
   "metadata": {
    "collapsed": false,
    "pycharm": {
     "name": "#%% md\n"
    }
   },
   "source": [
    "### Load experimental data\n",
    "\n",
    "The data file contains the following columns; `tth`, `up`, `d_up`, `down`, `d_down`. The `d_` prefixes denote the uncertainty of the data. The data can be loaded with the `add_experimnent` method."
   ]
  },
  {
   "cell_type": "code",
   "execution_count": null,
   "metadata": {
    "collapsed": false,
    "pycharm": {
     "name": "#%%\n"
    }
   },
   "outputs": [],
   "source": [
    "j2.add_experiment('pol_exp','experiment_polarized.xye')"
   ]
  },
  {
   "cell_type": "markdown",
   "metadata": {
    "collapsed": false,
    "pycharm": {
     "name": "#%% md\n"
    }
   },
   "source": [
    "This experimental data can then be used for simulation."
   ]
  },
  {
   "cell_type": "code",
   "execution_count": null,
   "metadata": {
    "collapsed": false,
    "pycharm": {
     "name": "#%%\n"
    }
   },
   "outputs": [],
   "source": [
    "j2.simulate_experiment('pol_exp', 'up', pol_fn=lambda up, down: up)\n",
    "\n",
    "p1 = figure(**opts, title='Ho2Ti2O7 Polarization')\n",
    "x_data = np.array(ds['pol2_pol_exp_tth'])\n",
    "p1.line(x_data, np.array(ds['pol2_pol_exp_I0']), legend='Experimental Spin Up', line_width=2, color=Spectral6[0])\n",
    "p1.line(x_data, np.array(ds['sim_pol2_pol2_pol_expup']),  legend='Simulated Spin Up', line_width=2, color=Spectral6[-1])\n",
    "p1.yaxis.axis_label = 'Intensity'\n",
    "p1.legend.location = 'top_right'\n",
    "p1.xaxis.axis_label = '2theta'\n",
    "show(p1)"
   ]
  },
  {
   "cell_type": "markdown",
   "metadata": {
    "collapsed": false,
    "pycharm": {
     "name": "#%% md\n"
    }
   },
   "source": [
    "#### Adding a background\n",
    "The simulation is missing a background. We can add a background to the simulation and allow the points to vary in the optimization."
   ]
  },
  {
   "cell_type": "code",
   "execution_count": null,
   "metadata": {
    "collapsed": false,
    "pycharm": {
     "name": "#%%\n"
    }
   },
   "outputs": [],
   "source": [
    "bkg = PointBackground(linked_experiment='pol2')\n",
    "bkg.append(BackgroundPoint.from_pars(5.0, 480.0))\n",
    "bkg.append(BackgroundPoint.from_pars(10.0, 420.0))\n",
    "bkg.append(BackgroundPoint.from_pars(15.0, 360.0))\n",
    "bkg.append(BackgroundPoint.from_pars(20.0, 360.0))\n",
    "bkg.append(BackgroundPoint.from_pars(25.0, 325.0))\n",
    "bkg.append(BackgroundPoint.from_pars(30.0, 325.0))\n",
    "bkg.append(BackgroundPoint.from_pars(35.0, 325.0))\n",
    "bkg.append(BackgroundPoint.from_pars(40.0, 250.0))\n",
    "bkg.append(BackgroundPoint.from_pars(45.0, 275.0))\n",
    "bkg.append(BackgroundPoint.from_pars(50.0, 245.0))\n",
    "bkg.append(BackgroundPoint.from_pars(55.0, 270.0))\n",
    "bkg.append(BackgroundPoint.from_pars(60.0, 215.0))\n",
    "bkg.append(BackgroundPoint.from_pars(65.0, 260.0))\n",
    "bkg.append(BackgroundPoint.from_pars(70.0, 250.0))\n",
    "bkg.append(BackgroundPoint.from_pars(75.0, 230.0))\n",
    "bkg.append(BackgroundPoint.from_pars(80.0, 225.0))\n",
    "bkg.append(BackgroundPoint.from_pars(85.0, 250.0))\n",
    "j2.set_background(bkg)\n",
    "\n",
    "for point in bkg:\n",
    "    point.y.fixed = False"
   ]
  },
  {
   "cell_type": "markdown",
   "metadata": {
    "collapsed": false,
    "pycharm": {
     "name": "#%% md\n"
    }
   },
   "source": [
    "Perform another simulation to verify that the background is now included in the simulation."
   ]
  },
  {
   "cell_type": "code",
   "execution_count": null,
   "metadata": {
    "collapsed": false,
    "pycharm": {
     "name": "#%%\n"
    }
   },
   "outputs": [],
   "source": [
    "j2.simulate_experiment('pol_exp', 'up', pol_fn=lambda up, down: up)\n",
    "\n",
    "p1 = figure(**opts, title='Ho2Ti2O7 Polarization')\n",
    "x_data = np.array(ds['pol2_pol_exp_tth'])\n",
    "p1.line(x_data, np.array(ds['pol2_pol_exp_I0']), legend='Experimental Spin Up', line_width=2, color=Spectral6[0])\n",
    "p1.line(x_data, np.array(ds['sim_pol2_pol2_pol_expup']),  legend='Simulated Spin Up', line_width=2, color=Spectral6[-1])\n",
    "p1.yaxis.axis_label = 'Intensity'\n",
    "p1.legend.location = 'top_right'\n",
    "p1.xaxis.axis_label = '2theta'\n",
    "show(p1)"
   ]
  },
  {
   "cell_type": "markdown",
   "metadata": {
    "collapsed": false,
    "pycharm": {
     "name": "#%% md\n"
    }
   },
   "source": [
    "### Optimization\n",
    "\n",
    "We can now optimize the model. To do this we need to specify what pattern components to optimize. In this case we want to optimize both the `Spin Up + spin Down` and `Spin Up - spin Down` components.  Luckily there are helper functions to do this."
   ]
  },
  {
   "cell_type": "code",
   "execution_count": null,
   "metadata": {
    "collapsed": false,
    "pycharm": {
     "name": "#%%\n"
    }
   },
   "outputs": [],
   "source": [
    "# Experimental data\n",
    "xx = np.array(ds['pol2_pol_exp_tth'])\n",
    "ups = np.array(ds['pol2_pol_exp_I0'])\n",
    "downs = np.array(ds['pol2_pol_exp_I1'])"
   ]
  },
  {
   "cell_type": "code",
   "execution_count": null,
   "metadata": {
    "collapsed": false,
    "pycharm": {
     "name": "#%%\n"
    }
   },
   "outputs": [],
   "source": [
    "targets = [lambda u, d: u+d , lambda u, d: u-d]\n",
    "x_ = xx\n",
    "y_ = ups+downs\n",
    "x_, y_, f = j2.interface().generate_pol_fit_func(xx, ups, downs, targets)\n"
   ]
  },
  {
   "cell_type": "markdown",
   "metadata": {
    "collapsed": false,
    "pycharm": {
     "name": "#%% md\n"
    }
   },
   "source": [
    "The optimization can now be performed."
   ]
  },
  {
   "cell_type": "code",
   "execution_count": null,
   "metadata": {
    "collapsed": false,
    "pycharm": {
     "name": "#%%\n"
    }
   },
   "outputs": [],
   "source": [
    "fit = Fitter(j2, f)\n",
    "res = fit.fit(x_, y_)"
   ]
  },
  {
   "cell_type": "markdown",
   "metadata": {
    "collapsed": false,
    "pycharm": {
     "name": "#%% md\n"
    }
   },
   "source": [
    "It is easier to visualize the results of the optimization."
   ]
  },
  {
   "cell_type": "code",
   "execution_count": null,
   "metadata": {
    "collapsed": false,
    "pycharm": {
     "name": "#%%\n"
    }
   },
   "outputs": [],
   "source": [
    "p1 = figure(**opts, title='Polarization, U + D')\n",
    "p1.scatter(x_[0::2], res.y_obs[0::2], legend='U + D', color=Spectral6[0])\n",
    "p1.line(x_[0::2], res.y_calc[0::2],  legend='Sim', line_width=2, color=Spectral6[-1])\n",
    "p1.yaxis.axis_label = 'Intensity'\n",
    "p1.legend.location = 'top_right'\n",
    "p11 = figure(width=FIGURE_WIDTH, height=int(FIGURE_HEIGHT/2), min_border=0, title='Difference')\n",
    "p11.line(x_[0::2], res.y_obs[0::2] - res.y_calc[0::2], line_width=2, color=Spectral6[1])\n",
    "p11.xaxis.axis_label = '2theta'\n",
    "show(column(p1, p11))"
   ]
  },
  {
   "cell_type": "code",
   "execution_count": null,
   "metadata": {
    "collapsed": false,
    "pycharm": {
     "name": "#%%\n"
    }
   },
   "outputs": [],
   "source": [
    "p2 = figure(**opts, title='Polarization, U - D')\n",
    "p2.scatter(x_[1::2], res.y_obs[1::2], legend='U - D', color=Spectral6[0])\n",
    "p2.line(x_[1::2], res.y_calc[1::2],  legend='Sim', line_width=2, color=Spectral6[-1])\n",
    "p2.yaxis.axis_label = 'Intensity'\n",
    "p2.legend.location = 'top_right'\n",
    "p22 = figure(width=FIGURE_WIDTH, height=int(FIGURE_HEIGHT/2), min_border=0, title='Difference')\n",
    "p22.line(x_[1::2], res.y_obs[1::2] - res.y_calc[1::2], line_width=2, color=Spectral6[1])\n",
    "p22.xaxis.axis_label = '2theta'\n",
    "show(column(p2, p22))"
   ]
  },
  {
   "cell_type": "markdown",
   "metadata": {
    "collapsed": false,
    "pycharm": {
     "name": "#%% md\n"
    }
   },
   "source": [
    "The optimization results are shown below."
   ]
  },
  {
   "cell_type": "code",
   "execution_count": null,
   "metadata": {
    "collapsed": false,
    "pycharm": {
     "name": "#%%\n"
    }
   },
   "outputs": [],
   "source": [
    "parameters = j2.get_fit_parameters()\n",
    "for parameter in parameters:\n",
    "    print(parameter)"
   ]
  },
  {
   "cell_type": "markdown",
   "metadata": {
    "collapsed": false,
    "pycharm": {
     "name": "#%% md\n"
    }
   },
   "source": [
    "#### Varying Magnetic Susceptibility"
   ]
  },
  {
   "cell_type": "markdown",
   "metadata": {
    "collapsed": false,
    "pycharm": {
     "name": "#%% md\n"
    }
   },
   "source": [
    "It looks like the magnetic susceptibility also needs to be optimized. We need to apply some constraints for optimization."
   ]
  },
  {
   "cell_type": "code",
   "execution_count": null,
   "metadata": {
    "collapsed": false,
    "pycharm": {
     "name": "#%%\n"
    }
   },
   "outputs": [],
   "source": [
    "from easyscience.Fitting.Constraints import ObjConstraint\n",
    "c1 = ObjConstraint(j2.phases[0].atoms[0].msp.chi_22, '', j2.phases[0].atoms[0].msp.chi_11)\n",
    "c2 = ObjConstraint(j2.phases[0].atoms[0].msp.chi_33, '', j2.phases[0].atoms[0].msp.chi_11)\n",
    "c3 = ObjConstraint(j2.phases[0].atoms[0].msp.chi_13, '', j2.phases[0].atoms[0].msp.chi_12)\n",
    "c4 = ObjConstraint(j2.phases[0].atoms[0].msp.chi_23, '', j2.phases[0].atoms[0].msp.chi_12)\n",
    "\n",
    "j2.phases[0].atoms[0].msp.chi_11.user_constraints['chi_22'] = c1\n",
    "j2.phases[0].atoms[0].msp.chi_11.user_constraints['chi_33'] = c2\n",
    "j2.phases[0].atoms[0].msp.chi_11.fixed = False\n",
    "j2.phases[0].atoms[0].msp.chi_12.user_constraints['chi_13'] = c3\n",
    "j2.phases[0].atoms[0].msp.chi_12.user_constraints['chi_23'] = c4\n",
    "j2.phases[0].atoms[0].msp.chi_12.fixed = False"
   ]
  },
  {
   "cell_type": "code",
   "execution_count": null,
   "metadata": {
    "collapsed": false,
    "pycharm": {
     "name": "#%%\n"
    }
   },
   "outputs": [],
   "source": [
    "res = fit.fit(x_, y_)"
   ]
  },
  {
   "cell_type": "markdown",
   "metadata": {
    "collapsed": false,
    "pycharm": {
     "name": "#%% md\n"
    }
   },
   "source": [
    "Visualize the results of the optimization."
   ]
  },
  {
   "cell_type": "code",
   "execution_count": null,
   "metadata": {
    "collapsed": false,
    "pycharm": {
     "name": "#%%\n"
    }
   },
   "outputs": [],
   "source": [
    "p1 = figure(**opts, title='Polarization, U + D')\n",
    "p1.scatter(x_[0::2], res.y_obs[0::2], legend='U + D', color=Spectral6[0])\n",
    "p1.line(x_[0::2], res.y_calc[0::2], legend='Sim', line_width=2, color=Spectral6[-1])\n",
    "p1.yaxis.axis_label = 'Intensity'\n",
    "p1.legend.location = 'top_right'\n",
    "p11 = figure(width=FIGURE_WIDTH, height=int(FIGURE_HEIGHT / 2), min_border=0, title='Difference')\n",
    "p11.line(x_[0::2], res.y_obs[0::2] - res.y_calc[0::2], line_width=2, color=Spectral6[1])\n",
    "p11.xaxis.axis_label = '2theta'\n",
    "show(column(p1, p11))"
   ]
  },
  {
   "cell_type": "code",
   "execution_count": null,
   "metadata": {
    "collapsed": false,
    "pycharm": {
     "name": "#%%\n"
    }
   },
   "outputs": [],
   "source": [
    "p2 = figure(**opts, title='Polarization, U - D')\n",
    "p2.scatter(x_[1::2], res.y_obs[1::2], legend='U - D', color=Spectral6[0])\n",
    "p2.line(x_[1::2], res.y_calc[1::2], legend='Sim', line_width=2, color=Spectral6[-1])\n",
    "p2.yaxis.axis_label = 'Intensity'\n",
    "p2.legend.location = 'top_right'\n",
    "p22 = figure(width=FIGURE_WIDTH, height=int(FIGURE_HEIGHT / 2), min_border=0, title='Difference')\n",
    "p22.line(x_[1::2], res.y_obs[1::2] - res.y_calc[1::2], line_width=2, color=Spectral6[1])\n",
    "p22.xaxis.axis_label = '2theta'\n",
    "show(column(p2, p22))"
   ]
  },
  {
   "cell_type": "markdown",
   "metadata": {
    "collapsed": false,
    "pycharm": {
     "name": "#%% md\n"
    }
   },
   "source": [
    "The optimization results are shown below."
   ]
  },
  {
   "cell_type": "code",
   "execution_count": null,
   "metadata": {
    "collapsed": false,
    "pycharm": {
     "name": "#%%\n"
    }
   },
   "outputs": [],
   "source": [
    "parameters = j2.get_fit_parameters()\n",
    "for parameter in parameters:\n",
    "    print(parameter)"
   ]
  }
 ],
 "metadata": {
  "kernelspec": {
   "display_name": "Python 3 (ipykernel)",
   "language": "python",
   "name": "python3"
  },
  "language_info": {
   "codemirror_mode": {
    "name": "ipython",
    "version": 3
   },
   "file_extension": ".py",
   "mimetype": "text/x-python",
   "name": "python",
   "nbconvert_exporter": "python",
   "pygments_lexer": "ipython3",
   "version": "3.8.15"
  }
 },
 "nbformat": 4,
 "nbformat_minor": 5
}
