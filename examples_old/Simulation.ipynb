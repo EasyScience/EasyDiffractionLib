{
 "cells": [
  {
   "cell_type": "markdown",
   "id": "8a365a14",
   "metadata": {
    "pycharm": {
     "name": "#%% md\n"
    }
   },
   "source": [
    "# Simulation of the diffraction pattern\n",
    "This notebook shows how we can create a sample (phase) from atoms and calculate diffraction profiles using both constant wavelength and time-of-flight experiment types."
   ]
  },
  {
   "cell_type": "code",
   "execution_count": null,
   "id": "9ecc4733",
   "metadata": {
    "pycharm": {
     "name": "#%%\n"
    }
   },
   "outputs": [],
   "source": [
    "import numpy as np\n",
    "\n",
    "# Vizualization\n",
    "import py3Dmol\n",
    "from bokeh.io import output_notebook\n",
    "from bokeh.io import show\n",
    "from bokeh.plotting import figure\n",
    "\n",
    "import easydiffraction as ed\n"
   ]
  },
  {
   "cell_type": "code",
   "execution_count": null,
   "id": "d76d50fc",
   "metadata": {
    "pycharm": {
     "name": "#%%\n"
    }
   },
   "outputs": [],
   "source": [
    "output_notebook()\n",
    "FIGURE_WIDTH = 990\n",
    "FIGURE_HEIGHT = 300"
   ]
  },
  {
   "cell_type": "markdown",
   "id": "283767f9",
   "metadata": {
    "pycharm": {
     "name": "#%% md\n"
    }
   },
   "source": [
    "## Job"
   ]
  },
  {
   "cell_type": "markdown",
   "id": "19a39b25",
   "metadata": {
    "pycharm": {
     "name": "#%% md\n"
    }
   },
   "source": [
    "#### Create a job\n",
    "\n",
    "Job is the main object, which can be used to define all required components."
   ]
  },
  {
   "cell_type": "code",
   "execution_count": null,
   "id": "d2cc80ff",
   "metadata": {},
   "outputs": [],
   "source": [
    "job = ed.Job()"
   ]
  },
  {
   "cell_type": "markdown",
   "id": "53b9eab0",
   "metadata": {},
   "source": [
    "This assignment will create the default Job instance. Its type is:"
   ]
  },
  {
   "cell_type": "code",
   "execution_count": null,
   "id": "3752d741",
   "metadata": {},
   "outputs": [],
   "source": [
    "print(job.type)"
   ]
  },
  {
   "cell_type": "markdown",
   "id": "f0cc8cf9",
   "metadata": {},
   "source": [
    "The type descriptors are taken from the CIF dictionary entries:\n",
    "\n",
    "*pd* - powder diffraction\n",
    "\n",
    "*cwl* - constant wavelength\n",
    "\n",
    "*unp* - unpolarized beam\n",
    "\n",
    "*1d* - 1D profile\n",
    "\n",
    "*neut* - neutron beam"
   ]
  },
  {
   "cell_type": "markdown",
   "id": "9ff80ddd",
   "metadata": {},
   "source": [
    "We can create other job types, passing required specification as relevant description, modifying the default settings, e.g."
   ]
  },
  {
   "cell_type": "code",
   "execution_count": null,
   "id": "80f17cdc",
   "metadata": {},
   "outputs": [],
   "source": [
    "job_polarized_tof = ed.Job(type='pol-tof')"
   ]
  },
  {
   "cell_type": "markdown",
   "id": "dd4e3af5",
   "metadata": {},
   "source": [
    "### Add Phase"
   ]
  },
  {
   "cell_type": "markdown",
   "id": "61e5207c",
   "metadata": {},
   "source": [
    "Now, we can add the phase and define the space group."
   ]
  },
  {
   "cell_type": "code",
   "execution_count": null,
   "id": "c1787f29",
   "metadata": {},
   "outputs": [],
   "source": [
    "phase = ed.Phase('NaCl')\n",
    "phase.space_group.space_group_HM_name = 'F m - 3m'\n"
   ]
  },
  {
   "cell_type": "markdown",
   "id": "451036c0",
   "metadata": {},
   "source": [
    "Note that methods used for setting phase properties are equivalent to the CIF standard names described on the IUCr webpage\n",
    "https://www.iucr.org/resources/cif/dictionaries/cif_core"
   ]
  },
  {
   "cell_type": "markdown",
   "id": "79947084",
   "metadata": {},
   "source": [
    "Let us add atoms to the phase now."
   ]
  },
  {
   "cell_type": "code",
   "execution_count": null,
   "id": "950ea27e",
   "metadata": {},
   "outputs": [],
   "source": [
    "phase.atom_sites.append(label=\"Cl\",\n",
    "            specie=\"Cl\",\n",
    "            fract_x=0.0,\n",
    "            fract_y=0.0,\n",
    "            fract_z=0.0)\n",
    "\n",
    "phase.atom_sites.append(label=\"Na\",\n",
    "            specie=\"Na\",\n",
    "            fract_x=0.5,\n",
    "            fract_y=0.5,\n",
    "            fract_z=0.5)"
   ]
  },
  {
   "cell_type": "markdown",
   "id": "8b0a140a",
   "metadata": {},
   "source": [
    "With the `Phase` defined, we can assign it to our Job."
   ]
  },
  {
   "cell_type": "code",
   "execution_count": null,
   "id": "79bfebf5",
   "metadata": {},
   "outputs": [],
   "source": [
    "job.add_phase(phase=phase)"
   ]
  },
  {
   "cell_type": "markdown",
   "id": "70b8bb65",
   "metadata": {},
   "source": [
    "Let's see if we have access to the phase properties by querying the Y coordinate of the sodium atom."
   ]
  },
  {
   "cell_type": "code",
   "execution_count": null,
   "id": "3faeda74",
   "metadata": {},
   "outputs": [],
   "source": [
    "y = job.phases[0].atom_sites[1].fract_y\n",
    "print(y)"
   ]
  },
  {
   "cell_type": "markdown",
   "id": "81ace320",
   "metadata": {
    "pycharm": {
     "name": "#%% md\n"
    }
   },
   "source": [
    "#### Visualise the structure"
   ]
  },
  {
   "cell_type": "code",
   "execution_count": null,
   "id": "e68ddbea",
   "metadata": {
    "pycharm": {
     "name": "#%%\n"
    }
   },
   "outputs": [],
   "source": [
    "viewer = py3Dmol.view()\n",
    "viewer.addModel(phase.cif,'cif',{'doAssembly':True,'duplicateAssemblyAtoms':True,'normalizeAssembly':True})\n",
    "viewer.setStyle({'sphere':{'colorscheme':'Jmol','scale':.2},'stick':{'colorscheme':'Jmol', 'radius': 0.1}})\n",
    "viewer.addUnitCell()\n",
    "viewer.replicateUnitCell(2,2,2)\n",
    "viewer.zoomTo()"
   ]
  },
  {
   "cell_type": "markdown",
   "id": "07db27b5",
   "metadata": {
    "pycharm": {
     "name": "#%% md\n"
    }
   },
   "source": [
    "## Experiment"
   ]
  },
  {
   "cell_type": "markdown",
   "id": "e93c42b9",
   "metadata": {
    "pycharm": {
     "name": "#%% md\n"
    }
   },
   "source": [
    "#### Modify default experimental parameters."
   ]
  },
  {
   "cell_type": "code",
   "execution_count": null,
   "id": "83e3845f",
   "metadata": {
    "pycharm": {
     "name": "#%%\n"
    }
   },
   "outputs": [],
   "source": [
    "parameters = job.parameters\n",
    "\n",
    "parameters.resolution_u = 0.1447\n",
    "parameters.resolution_v = -0.4252\n",
    "parameters.resolution_w = 0.3864\n",
    "parameters.resolution_x = 0.0\n",
    "parameters.resolution_y = 0.0"
   ]
  },
  {
   "cell_type": "markdown",
   "id": "370f0baa",
   "metadata": {
    "pycharm": {
     "name": "#%% md\n"
    }
   },
   "source": [
    "#### Modify default pattern"
   ]
  },
  {
   "cell_type": "code",
   "execution_count": null,
   "id": "70fa1571",
   "metadata": {
    "pycharm": {
     "name": "#%%\n"
    }
   },
   "outputs": [],
   "source": [
    "pattern = job.pattern\n",
    "\n",
    "pattern.zero_shift = 0.0\n",
    "pattern.scale = 100.0"
   ]
  },
  {
   "cell_type": "markdown",
   "id": "eb234f76",
   "metadata": {
    "pycharm": {
     "name": "#%% md\n"
    }
   },
   "source": [
    "## Analysis"
   ]
  },
  {
   "cell_type": "markdown",
   "id": "00e24eab",
   "metadata": {
    "pycharm": {
     "name": "#%% md\n"
    }
   },
   "source": [
    "#### Calculate the profile using the default calculator."
   ]
  },
  {
   "cell_type": "code",
   "execution_count": null,
   "id": "f556cc94",
   "metadata": {
    "pycharm": {
     "name": "#%%\n"
    }
   },
   "outputs": [],
   "source": [
    "x_data = np.linspace(20, 170, 500)\n",
    "y_data = job.calculate_profile(x_data)\n",
    "\n",
    "fig = figure(width=FIGURE_WIDTH, height=FIGURE_HEIGHT)\n",
    "fig.line(x_data, y_data, legend_label='CW Simulation', color='orangered', line_width=2)\n",
    "show(fig)"
   ]
  },
  {
   "cell_type": "markdown",
   "id": "0f2cb72f",
   "metadata": {
    "pycharm": {
     "name": "#%% md\n"
    }
   },
   "source": [
    "## Experiment"
   ]
  },
  {
   "cell_type": "markdown",
   "id": "161efebd",
   "metadata": {
    "pycharm": {
     "name": "#%% md\n"
    }
   },
   "source": [
    "#### Switch the job type to ToF and modify the parameters to correspond to a TOF experiment"
   ]
  },
  {
   "cell_type": "code",
   "execution_count": null,
   "id": "59381e83",
   "metadata": {
    "pycharm": {
     "name": "#%%\n"
    }
   },
   "outputs": [],
   "source": [
    "job.type = 'tof'\n",
    "\n",
    "# Define min and max of ToF\n",
    "tof_min = 3000\n",
    "tof_max = 15000\n",
    "\n",
    "parameters = job.parameters\n",
    "\n",
    "parameters.dtt1 = 6167.24700\n",
    "parameters.dtt2 = -2.28000\n",
    "parameters.ttheta_bank = 145.00\n",
    "\n",
    "# Add background\n",
    "p1 = (tof_min, 15)\n",
    "p2 = (tof_max, 15)\n",
    "points = [p1, p2]\n",
    "job.set_background(points)"
   ]
  },
  {
   "cell_type": "markdown",
   "id": "2245224b",
   "metadata": {
    "pycharm": {
     "name": "#%% md\n"
    }
   },
   "source": [
    "## Analysis"
   ]
  },
  {
   "cell_type": "markdown",
   "id": "f6676f54",
   "metadata": {
    "pycharm": {
     "name": "#%% md\n"
    }
   },
   "source": [
    "#### Calculate the profile again, this time based on the TOF parameters"
   ]
  },
  {
   "cell_type": "code",
   "execution_count": null,
   "id": "eac224b9",
   "metadata": {
    "pycharm": {
     "name": "#%%\n"
    }
   },
   "outputs": [],
   "source": [
    "x_data = np.linspace(tof_min, tof_max, 500)\n",
    "y_data = job.calculate_profile(x_data)\n",
    "\n",
    "fig = figure(width=FIGURE_WIDTH, height=FIGURE_HEIGHT)\n",
    "fig.line(x_data, y_data, legend_label='TOF Simulation', color='orange', line_width=2)\n",
    "show(fig)"
   ]
  },
  {
   "cell_type": "code",
   "execution_count": null,
   "id": "088510c2",
   "metadata": {
    "pycharm": {
     "name": "#%%\n"
    }
   },
   "outputs": [],
   "source": []
  }
 ],
 "metadata": {
  "kernelspec": {
   "display_name": "Python 3 (ipykernel)",
   "language": "python",
   "name": "python3"
  },
  "language_info": {
   "codemirror_mode": {
    "name": "ipython",
    "version": 3
   },
   "file_extension": ".py",
   "mimetype": "text/x-python",
   "name": "python",
   "nbconvert_exporter": "python",
   "pygments_lexer": "ipython3",
   "version": "3.12.4"
  }
 },
 "nbformat": 4,
 "nbformat_minor": 5
}
