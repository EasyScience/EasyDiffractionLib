{
 "cells": [
  {
   "cell_type": "markdown",
   "metadata": {
    "pycharm": {
     "name": "#%% md\n"
    }
   },
   "source": [
    "# Fitting to the experimental .xye Time-Of-Flight data"
   ]
  },
  {
   "cell_type": "markdown",
   "metadata": {
    "pycharm": {
     "name": "#%% md\n"
    }
   },
   "source": [
    "In this notebook we will show how to load a xye file with experimental TOF profile and how to perform a parameter fit.\n"
   ]
  },
  {
   "cell_type": "markdown",
   "metadata": {
    "pycharm": {
     "name": "#%% md\n"
    }
   },
   "source": [
    "#### Import Python packages"
   ]
  },
  {
   "cell_type": "code",
   "execution_count": 44,
   "metadata": {
    "pycharm": {
     "name": "#%%\n"
    }
   },
   "outputs": [],
   "source": [
    "import numpy as np\n",
    "\n",
    "import easydiffraction as ed\n",
    "\n",
    "# Vizualization\n",
    "import py3Dmol\n",
    "from bokeh.io import show, output_notebook\n",
    "from bokeh.plotting import figure"
   ]
  },
  {
   "cell_type": "code",
   "execution_count": null,
   "metadata": {
    "pycharm": {
     "name": "#%%\n"
    }
   },
   "outputs": [],
   "source": [
    "output_notebook()\n",
    "FIGURE_WIDTH = 990\n",
    "FIGURE_HEIGHT = 300"
   ]
  },
  {
   "cell_type": "markdown",
   "metadata": {
    "pycharm": {
     "name": "#%% md\n"
    }
   },
   "source": [
    "## Sample"
   ]
  },
  {
   "cell_type": "markdown",
   "metadata": {
    "pycharm": {
     "name": "#%% md\n"
    }
   },
   "source": [
    "#### Show a CIF file content"
   ]
  },
  {
   "cell_type": "code",
   "execution_count": null,
   "metadata": {
    "pycharm": {
     "name": "#%%\n"
    }
   },
   "outputs": [],
   "source": [
    "cif_fname = 'diamond_phase.cif'\n",
    "\n",
    "with open(cif_fname, 'r') as f:\n",
    "    content = f.read()\n",
    "    \n",
    "print(content)"
   ]
  },
  {
   "cell_type": "markdown",
   "metadata": {
    "pycharm": {
     "name": "#%% md\n"
    }
   },
   "source": [
    "#### Create a new TOF job based on the CIF file"
   ]
  },
  {
   "cell_type": "code",
   "execution_count": null,
   "metadata": {},
   "outputs": [],
   "source": [
    "job = ed.Job(type='tof')\n",
    "job.add_sample_from_file(cif_fname)"
   ]
  },
  {
   "cell_type": "markdown",
   "metadata": {},
   "source": [
    "Default job type is `pd-cwl-unp-1d-neut` for Powder, Constant Wavelength, Unpolarized, 1D, Neutrons\n",
    "To switch the job to TOF, we can set it in the constructor, or assing afterwards.\n",
    "The string could also be `type='pd-tof-unp-1d-neut'` or any susbset of these, like `type='tof-unp-neut'`"
   ]
  },
  {
   "cell_type": "code",
   "execution_count": null,
   "metadata": {
    "pycharm": {
     "name": "#%%\n"
    }
   },
   "outputs": [],
   "source": [
    "phases = job.phases\n",
    "phase = phases[0]\n",
    "\n",
    "print(phases)\n",
    "print(phase)"
   ]
  },
  {
   "cell_type": "markdown",
   "metadata": {
    "pycharm": {
     "name": "#%% md\n"
    }
   },
   "source": [
    "#### Visualise the structure"
   ]
  },
  {
   "cell_type": "code",
   "execution_count": null,
   "metadata": {
    "pycharm": {
     "name": "#%%\n"
    }
   },
   "outputs": [],
   "source": [
    "structure = py3Dmol.view()\n",
    "structure.addModel(phase.cif, 'cif')\n",
    "structure.setStyle({'sphere':{'colorscheme':'Jmol','scale':.2},'stick':{'colorscheme':'Jmol','radius': 0.1}})\n",
    "structure.addUnitCell()\n",
    "structure.replicateUnitCell(2,2,1)\n",
    "structure.zoomTo()"
   ]
  },
  {
   "cell_type": "markdown",
   "metadata": {
    "pycharm": {
     "name": "#%% md\n"
    }
   },
   "source": [
    "## Experiment"
   ]
  },
  {
   "cell_type": "markdown",
   "metadata": {
    "pycharm": {
     "name": "#%% md\n"
    }
   },
   "source": [
    "#### Read in the data xye file"
   ]
  },
  {
   "cell_type": "code",
   "execution_count": 50,
   "metadata": {
    "pycharm": {
     "name": "#%%\n"
    }
   },
   "outputs": [],
   "source": [
    "meas_fname = 'diamond_exp.xye'\n",
    "job.add_experiment_from_file(meas_fname)"
   ]
  },
  {
   "cell_type": "markdown",
   "metadata": {
    "pycharm": {
     "name": "#%% md\n"
    }
   },
   "source": [
    "#### Extract the measured data"
   ]
  },
  {
   "cell_type": "code",
   "execution_count": 51,
   "metadata": {
    "pycharm": {
     "name": "#%%\n"
    }
   },
   "outputs": [],
   "source": [
    "meas_x = job.experiment.x\n",
    "meas_y = job.experiment.y"
   ]
  },
  {
   "cell_type": "markdown",
   "metadata": {
    "pycharm": {
     "name": "#%% md\n"
    }
   },
   "source": [
    "#### Visualize the measured data"
   ]
  },
  {
   "cell_type": "code",
   "execution_count": null,
   "metadata": {
    "pycharm": {
     "name": "#%%\n"
    },
    "tags": []
   },
   "outputs": [],
   "source": [
    "fig = figure(width=FIGURE_WIDTH, height=FIGURE_HEIGHT)\n",
    "fig.line(meas_x, meas_y, legend_label='Imeas', color='steelblue', line_width=2)\n",
    "show(fig)"
   ]
  },
  {
   "cell_type": "markdown",
   "metadata": {
    "pycharm": {
     "name": "#%% md\n"
    }
   },
   "source": [
    "## Analysis"
   ]
  },
  {
   "cell_type": "markdown",
   "metadata": {
    "pycharm": {
     "name": "#%% md\n"
    }
   },
   "source": [
    "#### The default job is of 1D powder neutron diffraction with time-of-flight type."
   ]
  },
  {
   "cell_type": "code",
   "execution_count": null,
   "metadata": {
    "pycharm": {
     "name": "#%%\n"
    }
   },
   "outputs": [],
   "source": [
    "print(f\"Job type: {job.type}\")"
   ]
  },
  {
   "cell_type": "code",
   "execution_count": null,
   "metadata": {
    "pycharm": {
     "name": "#%%\n"
    }
   },
   "outputs": [],
   "source": [
    "print(f\"Current calculator engine: {job.calculator}\")"
   ]
  },
  {
   "cell_type": "markdown",
   "metadata": {
    "pycharm": {
     "name": "#%% md\n"
    }
   },
   "source": [
    "#### Generate the calculated data\n",
    "\n",
    "Note that we do not need to pass the `x` values, since they are already known."
   ]
  },
  {
   "cell_type": "code",
   "execution_count": 55,
   "metadata": {
    "pycharm": {
     "name": "#%%\n"
    }
   },
   "outputs": [],
   "source": [
    "calc_y_cryspy = job.calculate_profile()"
   ]
  },
  {
   "cell_type": "markdown",
   "metadata": {
    "pycharm": {
     "name": "#%% md\n"
    }
   },
   "source": [
    "#### Visualize both the measured and calculated data"
   ]
  },
  {
   "cell_type": "code",
   "execution_count": null,
   "metadata": {
    "pycharm": {
     "name": "#%%\n"
    },
    "tags": []
   },
   "outputs": [],
   "source": [
    "fig = figure(width=FIGURE_WIDTH, height=FIGURE_HEIGHT)\n",
    "fig.line(meas_x, meas_y, legend_label='Imeas', color='steelblue', line_width=2)\n",
    "fig.line(meas_x, calc_y_cryspy, legend_label='Icalc (CrysPy)', color='orangered', line_width=2)\n",
    "show(fig)"
   ]
  },
  {
   "cell_type": "markdown",
   "metadata": {
    "pycharm": {
     "name": "#%% md\n"
    }
   },
   "source": [
    "#### Set zero shift manually"
   ]
  },
  {
   "cell_type": "code",
   "execution_count": 57,
   "metadata": {
    "pycharm": {
     "name": "#%%\n"
    }
   },
   "outputs": [],
   "source": [
    "job.sample.parameters.zero = -18.7"
   ]
  },
  {
   "cell_type": "markdown",
   "metadata": {
    "pycharm": {
     "name": "#%% md\n"
    }
   },
   "source": [
    "#### Set background points manually"
   ]
  },
  {
   "cell_type": "code",
   "execution_count": 58,
   "metadata": {
    "pycharm": {
     "name": "#%%\n"
    }
   },
   "outputs": [],
   "source": [
    "p1 = (meas_x[0], 126)\n",
    "p2 = (meas_x[-1], 15)\n",
    "points = [p1, p2]\n",
    "\n",
    "job.set_background(points)"
   ]
  },
  {
   "cell_type": "code",
   "execution_count": null,
   "metadata": {
    "pycharm": {
     "name": "#%%\n"
    }
   },
   "outputs": [],
   "source": [
    "calc_y_cryspy = job.calculate_profile(meas_x)\n",
    "\n",
    "fig = figure(width=FIGURE_WIDTH, height=FIGURE_HEIGHT)\n",
    "fig.line(meas_x, meas_y, legend_label='Imeas', color='steelblue', line_width=2)\n",
    "fig.line(meas_x, calc_y_cryspy, legend_label='Icalc (CrysPy)', color='orangered', line_width=2)\n",
    "show(fig)"
   ]
  },
  {
   "cell_type": "markdown",
   "metadata": {},
   "source": [
    "#### Redefine default parameters to get closer to the experimental profile"
   ]
  },
  {
   "cell_type": "code",
   "execution_count": 60,
   "metadata": {},
   "outputs": [],
   "source": [
    "job.phases[0].scale = 10.0\n",
    "job.parameters.zero_shift = -18.76\n",
    "job.parameters.dtt1 = 22602\n",
    "job.parameters.dtt2 = -8.3\n",
    "job.parameters.alpha0 = 0.13\n",
    "job.parameters.beta0 = 0.083\n",
    "job.parameters.sigma1 = 1.0\n",
    "job.parameters.ttheta_bank = 90.0"
   ]
  },
  {
   "cell_type": "markdown",
   "metadata": {
    "pycharm": {
     "name": "#%% md\n"
    }
   },
   "source": [
    "#### Define parameters to optimize"
   ]
  },
  {
   "cell_type": "code",
   "execution_count": 61,
   "metadata": {
    "pycharm": {
     "name": "#%%\n"
    }
   },
   "outputs": [],
   "source": [
    "job.phases[0].scale = 10.0\n",
    "job.phases[0].cell.length_a.fixed = False\n",
    "job.phases[0].cell.length_b.fixed = False\n",
    "job.phases[0].cell.length_c.fixed = False\n",
    "job.pattern.zero_shift.fixed = False\n",
    "job.parameters.dtt1.fixed = False\n",
    "job.parameters.dtt2.fixed = False\n",
    "job.parameters.alpha0.fixed = True\n",
    "job.parameters.beta0.fixed = True\n"
   ]
  },
  {
   "cell_type": "code",
   "execution_count": null,
   "metadata": {},
   "outputs": [],
   "source": [
    "calc_y_cryspy = job.calculate_profile(meas_x)\n",
    "\n",
    "fig = figure(width=FIGURE_WIDTH, height=FIGURE_HEIGHT)\n",
    "fig.line(meas_x, meas_y, legend_label='Imeas', color='steelblue', line_width=2)\n",
    "fig.line(meas_x, calc_y_cryspy, legend_label='Icalc (CrysPy)', color='orangered', line_width=2)\n",
    "show(fig)"
   ]
  },
  {
   "cell_type": "markdown",
   "metadata": {
    "pycharm": {
     "name": "#%% md\n"
    }
   },
   "source": [
    "#### Perform the fit with Bumps Simplex method"
   ]
  },
  {
   "cell_type": "code",
   "execution_count": null,
   "metadata": {
    "pycharm": {
     "name": "#%%\n"
    }
   },
   "outputs": [],
   "source": [
    "print(f\"Available minimizers: {job.analysis.available_minimizers}\")\n",
    "print(f\"Current minimizer: {job.analysis.current_minimizer}\")\n",
    "job.analysis.current_minimizer = 'Bumps_simplex'\n",
    "print(f\"Current minimizer: {job.analysis.current_minimizer}\")"
   ]
  },
  {
   "cell_type": "code",
   "execution_count": null,
   "metadata": {
    "pycharm": {
     "name": "#%%\n"
    }
   },
   "outputs": [],
   "source": [
    "%%time\n",
    "job.fit()"
   ]
  },
  {
   "cell_type": "markdown",
   "metadata": {},
   "source": [
    "Please be aware that this is a long fit, it can take about 15-20 min."
   ]
  },
  {
   "cell_type": "code",
   "execution_count": null,
   "metadata": {
    "pycharm": {
     "name": "#%%\n"
    }
   },
   "outputs": [],
   "source": [
    "print(\"The fit has been successful: {}\".format(job.fitting_results.success))\n",
    "if job.fitting_results.success:    \n",
    "    print(\"The gooodness of fit (chi2) is: {}\".format(job.fitting_results.reduced_chi))\n",
    "    print(job.phases[0].scale)\n",
    "    print(job.pattern.zero_shift)\n",
    "    print(job.parameters.dtt1)\n",
    "    print(job.parameters.dtt2)"
   ]
  },
  {
   "cell_type": "code",
   "execution_count": null,
   "metadata": {
    "pycharm": {
     "name": "#%%\n"
    }
   },
   "outputs": [],
   "source": [
    "calc_y_cryspy = job.calculate_profile(meas_x)\n",
    "\n",
    "fig = figure(width=FIGURE_WIDTH, height=FIGURE_HEIGHT)\n",
    "fig.line(meas_x, meas_y, legend_label='Imeas', color='steelblue', line_width=2)\n",
    "fig.line(meas_x, calc_y_cryspy, legend_label='Icalc (CrysPy)', color='orangered', line_width=2)\n",
    "fig.line(meas_x, meas_y-calc_y_cryspy, legend_label='Imeas - Icalc (CrysPy)', color='olivedrab', line_width=2)\n",
    "show(fig)"
   ]
  }
 ],
 "metadata": {
  "kernelspec": {
   "display_name": "newjob",
   "language": "python",
   "name": "python3"
  },
  "language_info": {
   "codemirror_mode": {
    "name": "ipython",
    "version": 3
   },
   "file_extension": ".py",
   "mimetype": "text/x-python",
   "name": "python",
   "nbconvert_exporter": "python",
   "pygments_lexer": "ipython3",
   "version": "3.10.14"
  }
 },
 "nbformat": 4,
 "nbformat_minor": 4
}
