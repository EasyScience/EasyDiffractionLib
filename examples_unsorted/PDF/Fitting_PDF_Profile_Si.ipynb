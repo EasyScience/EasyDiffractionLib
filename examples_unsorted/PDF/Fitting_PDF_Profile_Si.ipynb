{
 "cells": [
  {
   "cell_type": "markdown",
   "metadata": {},
   "source": [
    "# Fit PDF profile - Si standard from NOMAD\n",
    "\n",
    "The input datafiles were extracted from `2017A_Cryostat_Calibration.ddp` (from NOMAD at SNS) using pdfgui: five .fgr files corresponding to different r-ranges and different sets of refined parameters.  \n",
    "\n",
    "The objective is to compare the values of the fitted parameters with those from pdfgui. For the parameters to be refined, we chose to use the same initial guesses as in pdfgui.  \n",
    "\n",
    "Note that the CIF file used to refine the data in the notebook is different from the one used in pdfgui. That's why the initial model might not correspond to the best initial guess to match the observed $G(r)$ in some cases."
   ]
  },
  {
   "cell_type": "code",
   "execution_count": null,
   "metadata": {},
   "outputs": [],
   "source": [
    "import os\n",
    "\n",
    "import pandas as pd\n",
    "\n",
    "from easyscience.fitting.fitter import Fitter\n",
    "from easyDiffractionLib import Phases\n",
    "from easyDiffractionLib.interface import InterfaceFactory as Calculator\n",
    "from easyDiffractionLib.Profiles.P1D import PDFParameters\n",
    "from easyDiffractionLib.Interfaces.pdffit2 import readGRData\n",
    "from easyDiffractionLib.Jobs import Powder1DTOF\n",
    "from easyscience.Fitting.Constraints import ObjConstraint\n",
    "\n",
    "import matplotlib.pyplot as plt\n",
    "import py3Dmol\n",
    "\n",
    "%matplotlib widget"
   ]
  },
  {
   "cell_type": "markdown",
   "metadata": {},
   "source": [
    "## Define functions for plotting"
   ]
  },
  {
   "cell_type": "code",
   "execution_count": null,
   "metadata": {},
   "outputs": [],
   "source": [
    "def plot_ini_config(x, Gobs, Gsim, title):\n",
    "    \"\"\"\n",
    "    Plots of the observed data and initial model\n",
    "    The top plot displays the observed and simulated curves\n",
    "    The bottom plot displays the difference between observed \n",
    "    and simulated curves.\n",
    "\n",
    "    Parameters\n",
    "    ----------\n",
    "\n",
    "    x: 1D numpy.array, x-values for the plot.\n",
    "       We assume that both curves use the same x-values.\n",
    "        \n",
    "    Gobs: 1D numpy.array, y-values of the observed / measured \n",
    "           and reduced data\n",
    "\n",
    "    Gsim: 1D numpy.array, y-values of the initial model \n",
    "\n",
    "    title: string, Title of the plot\n",
    "    \n",
    "    Returns\n",
    "    ----------\n",
    "    None\n",
    "\n",
    "    \"\"\"\n",
    "    Gdiff = Gobs - Gsim\n",
    "    \n",
    "    fig, ax = plt.subplots(2, 1, \n",
    "                           sharex=True, \n",
    "                           figsize=(12, 12), \n",
    "                           gridspec_kw={'height_ratios': [2, 1]})\n",
    "    fig.suptitle(title)\n",
    "    ax[0].plot(x, Gobs, label='G(r) Data', color='steelblue', marker='o')\n",
    "    ax[0].plot(x, Gsim, label='G(r) Sim', color='orangered', linewidth=1.2)\n",
    "\n",
    "    ax[1].plot(x, Gdiff, color='grey', linewidth=1.2)\n",
    "    ax[1].set_xlabel('r (Å)')\n",
    "    ax[0].set_ylabel(r\"$G(r)\\ (Å^{-2})$\")\n",
    "    ax[1].set_ylabel(r\"$G(r)\\ Diff\\ (Å^{-2})$\")\n",
    "\n",
    "    ax[0].legend()\n",
    "    ax[0].grid(); ax[1].grid()\n",
    "\n",
    "    return\n",
    "\n",
    "\n",
    "def plot_final_config(x, Gobs, Gsim, Gfit, title):\n",
    "    \"\"\"\n",
    "    Plot of the observed data, initial model and fitting results\n",
    "\n",
    "    Parameters\n",
    "    ----------\n",
    "\n",
    "    x: 1D numpy.array, x-values for the plot.\n",
    "       We assume that all 3 curves use the same x-values.\n",
    "        \n",
    "    Gobs: 1D numpy.array, y-values of the observed / measured \n",
    "           and reduced data\n",
    "\n",
    "    Gsim: 1D numpy.array, y-values of the initial model \n",
    "\n",
    "    Gfit: 1D numpy.array, y-values of the fitting result\n",
    "\n",
    "    title: string, Title of the plot\n",
    "    \n",
    "    Returns\n",
    "    ----------\n",
    "    None\n",
    "\n",
    "    \"\"\"\n",
    "    fig, ax = plt.subplots(2, 1, \n",
    "                         sharex=True, \n",
    "                         figsize=(12, 12), \n",
    "                         gridspec_kw={'height_ratios': [2, 1]})\n",
    "    fig.suptitle(title)\n",
    "\n",
    "    Gdiff = Gobs - Gfit\n",
    "\n",
    "    ax[0].plot(x, Gobs, label='G(r) Data', \n",
    "               linestyle='', marker='o', markeredgecolor='steelblue', markerfacecolor='none')\n",
    "    ax[0].plot(x, Gsim, label='G(r) Sim', linestyle='dashed', color='green', linewidth=1.2)\n",
    "    ax[0].plot(x, Gfit, label='G(r) Fit', color='orangered', linewidth=1.2)\n",
    "\n",
    "    ax[1].plot(x, Gdiff, color='grey', linewidth=1.2)\n",
    "    ax[1].set_xlabel('r (Å)')\n",
    "    ax[0].set_ylabel(r\"$G(r)\\ (Å^{-2})$\")\n",
    "    ax[1].set_ylabel(r\"$G(r)\\ Diff\\ (Å^{-2})$\")\n",
    "\n",
    "    ax[0].legend()\n",
    "    ax[0].grid(); ax[1].grid()\n",
    "    \n",
    "    return\n",
    "\n",
    "\n",
    "def plot_comparison_refined_params(df, title):\n",
    "    \"\"\"\n",
    "    Plot relative difference of refined values between pdfgui and EasyDiffraction\n",
    "\n",
    "    Parameters\n",
    "    ----------\n",
    "\n",
    "    df: pandas.DataFrame, contains initial and refined parameters for pdfgui and EasyDiffraction\n",
    "    \n",
    "    title: string, Title of the plot\n",
    "    \n",
    "    Returns\n",
    "    ----------\n",
    "    None\n",
    "    \n",
    "    \"\"\"\n",
    "    comparison_params = {}\n",
    "    for param in df_case1.index:\n",
    "        comparison_params[param] =  abs(df_case1.at[param,'pdfgui_fit'] - df_case1.at[param,'ezd_fit']) / df_case1.at[param,'pdfgui_fit']\n",
    "\n",
    "    names = list(comparison_params.keys())\n",
    "    values = list(comparison_params.values())\n",
    "\n",
    "    fig, ax = plt.subplots()\n",
    "    ax.scatter(names, values , marker='x')\n",
    "    ax.set_xticklabels(names, rotation = 45)\n",
    "    ax.set_ylabel(r\"$\\frac{|param_{pdfgui}- param_{ezd}|}{param_{pdfgui}}$\", fontsize=16)\n",
    "    fig.suptitle(f'{title}:\\nrelative difference of refined parameters\\n between pdfgui and EasyDiffraction (ezd)');\n",
    "    ax.grid()\n",
    "    plt.tight_layout()\n",
    "    \n",
    "    return"
   ]
  },
  {
   "cell_type": "markdown",
   "metadata": {},
   "source": [
    "## Path to CIF file\n",
    "It will be loaded for each case in order to create the corresponding `Phases` component."
   ]
  },
  {
   "cell_type": "code",
   "execution_count": null,
   "metadata": {},
   "outputs": [],
   "source": [
    "cif_fname_Si = os.path.realpath('./data/4507226.cif')"
   ]
  },
  {
   "cell_type": "markdown",
   "metadata": {},
   "source": [
    "## Check difference between .fgr files\n",
    "These files contain reduced data in the format `r(A) G(r) d_r d_Gr Gdiff`."
   ]
  },
  {
   "cell_type": "code",
   "execution_count": null,
   "metadata": {},
   "outputs": [],
   "source": [
    "path2files = './data/'\n",
    "\n",
    "data_Si_100A = readGRData(path2files+'Si_calibration_cryostat_100A.fgr')\n",
    "\n",
    "data_Si_20A = readGRData(path2files+'Si_calibration_cryostat_20A.fgr')\n",
    "\n",
    "data_Si_20A_01Rmin = readGRData(path2files+'Si_calibration_cryostat_20A_01Rmin.fgr')\n",
    "\n",
    "data_Si_50A = readGRData(path2files+'Si_calibration_cryostat_50A.fgr')\n",
    "\n",
    "data_Si_50A_01Rmin = readGRData(path2files+'Si_calibration_cryostat_50A_01Rmin.fgr')"
   ]
  },
  {
   "cell_type": "code",
   "execution_count": null,
   "metadata": {},
   "outputs": [],
   "source": [
    "fig = plt.figure(figsize=(10,10))\n",
    "\n",
    "plt.plot(data_Si_100A[:, 0], \n",
    "         data_Si_100A[:, 1], \n",
    "         linestyle='', \n",
    "         marker='.', \n",
    "         label=r'100 Å', \n",
    "         markersize=2)\n",
    "\n",
    "plt.plot(data_Si_50A[:, 0], \n",
    "         data_Si_50A[:, 1], \n",
    "         label=r'50 Å', \n",
    "         linewidth=2)\n",
    "\n",
    "plt.plot(data_Si_50A_01Rmin[:, 0], \n",
    "         data_Si_50A_01Rmin[:, 1], \n",
    "         linestyle='', \n",
    "         marker='.', \n",
    "         label=r'50 Å 01$R_{min}$', \n",
    "         markersize=2)\n",
    "\n",
    "plt.plot(data_Si_20A[:, 0], \n",
    "         data_Si_20A[:, 1], \n",
    "         label=r'20 Å', \n",
    "         linewidth=2)\n",
    "\n",
    "plt.plot(data_Si_20A_01Rmin[:, 0], \n",
    "         data_Si_20A_01Rmin[:, 1], \n",
    "         linestyle='', \n",
    "         marker='.', \n",
    "         label=r'20 Å 01$R_{min}$', \n",
    "         markersize=2)\n",
    "\n",
    "plt.xlabel(r\"$r (Å)$\")\n",
    "plt.ylabel(r\"$G (Å^{-2})$\")\n",
    "plt.title('Fit of nickel to x-ray experimental PDF')\n",
    "plt.legend()\n",
    "plt.grid()"
   ]
  },
  {
   "cell_type": "markdown",
   "metadata": {},
   "source": [
    "## Case 1\n",
    "Information from pdfgui:\n",
    "\n",
    "- File: `Si_Calibration_Cryostat_50A`   \n",
    "- Fit range: 1.5 - 49.99 Angstrom\n",
    "- Refined parameters with initial and refined values\n",
    "\n",
    "| Name         | Initial value    | Refined value    |\n",
    "|--------------|------------------|------------------|\n",
    "| scale factor | 1.64773047742    | 1.64774086138    |\n",
    "| delta2       | 3.83386044222    | 3.83389797886    |\n",
    "| a=b=c        | 5.43323762429    | 5.43323744088    |\n",
    "| uii          | 0.00817005319337 | 0.00817032613268 |\n",
    "| Qdamp        | 0.0239248233329  | 0.0239255367627  |\n",
    "| Qbroad       | 0.0195652517637  | 0.0195630501755  |\n",
    "\n",
    "### Store results from pdfgui in pandas DataFrame"
   ]
  },
  {
   "cell_type": "code",
   "execution_count": null,
   "metadata": {},
   "outputs": [],
   "source": [
    "df_case1 = pd.DataFrame(\n",
    "    [['scale', 1.64773047742, 1.64774086138], \n",
    "     ['delta2', 3.83386044222, 3.83389797886], \n",
    "     ['length_a', 5.43323762429, 5.43323744088],\n",
    "     ['Uiso', 0.00817005319337, 0.00817032613268], \n",
    "     ['Q_damp', 0.0239248233329, 0.0239255367627],\n",
    "     ['Q_broad', 0.0195652517637, 0.0195630501755]],\n",
    "    columns=['Parameters', 'pdfgui_ini', 'pdfgui_fit']).set_index('Parameters')\n",
    "df_case1"
   ]
  },
  {
   "cell_type": "markdown",
   "metadata": {},
   "source": [
    "### Define Phases for Case 1"
   ]
  },
  {
   "cell_type": "code",
   "execution_count": null,
   "metadata": {},
   "outputs": [],
   "source": [
    "phases_Si1 = Phases.from_cif_file(cif_fname_Si)\n",
    "phases_Si1"
   ]
  },
  {
   "cell_type": "markdown",
   "metadata": {},
   "source": [
    "#### Visualize structure"
   ]
  },
  {
   "cell_type": "code",
   "execution_count": null,
   "metadata": {},
   "outputs": [],
   "source": [
    "viewer = py3Dmol.view()\n",
    "\n",
    "viewer.addModel(phases_Si1[0].cif,\n",
    "                'cif',\n",
    "                {'doAssembly': True,\n",
    "                 'duplicateAssemblyAtoms': True,\n",
    "                 'normalizeAssembly': True})\n",
    "\n",
    "viewer.setStyle({'sphere': {'colorscheme': 'Jmol', 'scale': .2}, \n",
    "                 'stick': {'colorscheme': 'Jmol', 'radius': 0.1}})\n",
    "viewer.addUnitCell()\n",
    "viewer.replicateUnitCell(2, 2, 2)\n",
    "viewer.zoomTo()"
   ]
  },
  {
   "cell_type": "markdown",
   "metadata": {},
   "source": [
    "### Define Calculator for Case 1"
   ]
  },
  {
   "cell_type": "code",
   "execution_count": null,
   "metadata": {},
   "outputs": [],
   "source": [
    "calculator_Si1 = Calculator()\n",
    "calculator_Si1.switch(\"Pdffit2\")"
   ]
  },
  {
   "cell_type": "markdown",
   "metadata": {},
   "source": [
    "### Create Job"
   ]
  },
  {
   "cell_type": "code",
   "execution_count": null,
   "metadata": {},
   "outputs": [],
   "source": [
    "job_Si1 = Powder1DTOF(\n",
    "    'Si_Calibration_Cryostat_50A_simulated', \n",
    "    parameters=PDFParameters(), \n",
    "    phases=phases_Si1, \n",
    "    interface=calculator_Si1\n",
    ")\n",
    "\n",
    "fitter_Si1 = Fitter(job_Si1, calculator_Si1.fit_func)"
   ]
  },
  {
   "cell_type": "markdown",
   "metadata": {},
   "source": [
    "#### Set parameters"
   ]
  },
  {
   "cell_type": "code",
   "execution_count": null,
   "metadata": {
    "tags": []
   },
   "outputs": [],
   "source": [
    "parameters1 = job_Si1.parameters\n",
    "\n",
    "parameters1.get_parameters()"
   ]
  },
  {
   "cell_type": "code",
   "execution_count": null,
   "metadata": {
    "tags": []
   },
   "outputs": [],
   "source": [
    "# parameters to be refined\n",
    "parameters1.delta2 = df_case1['pdfgui_ini']['delta2'] \n",
    "parameters1.qdamp = df_case1['pdfgui_ini']['Q_damp']  \n",
    "parameters1.qbroad = df_case1['pdfgui_ini']['Q_broad'] \n",
    "\n",
    "# set values for fixed parameters using metadata in header of .fgr file\n",
    "parameters1.qmax = 31.4 \n",
    "\n",
    "parameters1.delta1 = 0.0\n",
    "\n",
    "# check modified parameters\n",
    "parameters1.get_parameters()"
   ]
  },
  {
   "cell_type": "code",
   "execution_count": null,
   "metadata": {
    "tags": []
   },
   "outputs": [],
   "source": [
    "phase1_patterns1 = job_Si1.phases[0]\n",
    "phase1_patterns1.get_parameters()"
   ]
  },
  {
   "cell_type": "code",
   "execution_count": null,
   "metadata": {},
   "outputs": [],
   "source": [
    "phases_Si1[0].spacegroup"
   ]
  },
  {
   "cell_type": "code",
   "execution_count": null,
   "metadata": {
    "tags": []
   },
   "outputs": [],
   "source": [
    "phase1_patterns1.cell.length_a = df_case1['pdfgui_ini']['length_a']  \n",
    "\n",
    "phase1_patterns1.atoms[0].adp.Uiso = df_case1['pdfgui_ini']['Uiso']\n",
    "\n",
    "phases_Si1[0].scale = df_case1['pdfgui_ini']['scale']\n",
    "\n",
    "# Check modified parameters\n",
    "phase1_patterns1.get_parameters()"
   ]
  },
  {
   "cell_type": "code",
   "execution_count": null,
   "metadata": {},
   "outputs": [],
   "source": [
    "# Add initial data used in EasyDiffraction to pandas DataFrame\n",
    "df_case1['ezd_ini'] = [phases_Si1[0].scale.raw_value, \n",
    "                       parameters1.delta2.raw_value, \n",
    "                       phase1_patterns1.cell.length_a.raw_value, \n",
    "                       phase1_patterns1.atoms[0].adp.Uiso.raw_value, \n",
    "                       parameters1.qdamp.raw_value, \n",
    "                       parameters1.qbroad.raw_value]"
   ]
  },
  {
   "cell_type": "markdown",
   "metadata": {},
   "source": [
    "#### Plot initial profile and compare with observed data"
   ]
  },
  {
   "cell_type": "code",
   "execution_count": null,
   "metadata": {},
   "outputs": [],
   "source": [
    "x_data_Si_50A = data_Si_50A[:, 0]\n",
    "Gobs_Si_50A = data_Si_50A[:, 1]\n",
    "Gsim_Si_50A = calculator_Si1.fit_func(x_data_Si_50A)\n",
    "\n",
    "plot_ini_config(x_data_Si_50A, \n",
    "                Gobs_Si_50A, \n",
    "                Gsim_Si_50A, \n",
    "                r'Si 50 Å to neutron experimental PDF')"
   ]
  },
  {
   "cell_type": "markdown",
   "metadata": {},
   "source": [
    "#### Select parameters to optimize\n",
    "\n",
    "For case 1, they are\n",
    "- scale factor\n",
    "- delta2\n",
    "- a=b=c\n",
    "- uii\n",
    "- Qdamp\n",
    "- Qbroad"
   ]
  },
  {
   "cell_type": "code",
   "execution_count": null,
   "metadata": {
    "tags": []
   },
   "outputs": [],
   "source": [
    "phase1_patterns1.cell.length_a.fixed = False\n",
    "\n",
    "phase1_patterns1.atoms[0].adp.Uiso.fixed = False\n",
    "\n",
    "phases_Si1[0].scale.fixed = False\n",
    "\n",
    "parameters1.qdamp.fixed = False\n",
    "parameters1.qbroad.fixed = False\n",
    "parameters1.delta2.fixed = False"
   ]
  },
  {
   "cell_type": "markdown",
   "metadata": {},
   "source": [
    "#### Fit"
   ]
  },
  {
   "cell_type": "code",
   "execution_count": null,
   "metadata": {
    "tags": []
   },
   "outputs": [],
   "source": [
    "result_Si1 = fitter_Si1.fit(x_data_Si_50A, data_Si_50A[:, 1], \n",
    "                    method='least_squares', \n",
    "                    minimizer_kwargs={'diff_step': 1e-5, \n",
    "                                      'verbose': 2})"
   ]
  },
  {
   "cell_type": "markdown",
   "metadata": {},
   "source": [
    "#### Print and plot results"
   ]
  },
  {
   "cell_type": "code",
   "execution_count": null,
   "metadata": {},
   "outputs": [],
   "source": [
    "# Add refined values to pandas DataFrame\n",
    "df_case1['ezd_fit'] = pd.Series(dtype='float64')\n",
    "\n",
    "for i in range(len(job_Si1.get_fit_parameters())):\n",
    "    df_case1['ezd_fit'][job_Si1.get_fit_parameters()[i].name] = job_Si1.get_fit_parameters()[i].raw_value\n",
    "df_case1"
   ]
  },
  {
   "cell_type": "code",
   "execution_count": null,
   "metadata": {},
   "outputs": [],
   "source": [
    "# Plot relative difference of refined values between pdfgui and EasyDiffraction\n",
    "plot_comparison_refined_params(df_case1, 'Case 1')"
   ]
  },
  {
   "cell_type": "code",
   "execution_count": null,
   "metadata": {
    "tags": []
   },
   "outputs": [],
   "source": [
    "print(f\"The fit has been successful: {result_Si1.success}\")  \n",
    "print(f\"The goodness of fit (chi2) is: {result_Si1.reduced_chi}\")\n",
    "print(\"The optimized parameters are:\")\n",
    "\n",
    "for param in job_Si1.get_fit_parameters():\n",
    "    print(f\"{param.name}: {param.raw_value} +\\- {param.error} {param.unit}\") "
   ]
  },
  {
   "cell_type": "code",
   "execution_count": null,
   "metadata": {
    "tags": []
   },
   "outputs": [],
   "source": [
    "# obtain data from PdfFit calculator object\n",
    "Gfit_Si_50A = calculator_Si1.fit_func(x_data_Si_50A)\n",
    "\n",
    "plot_final_config(x_data_Si_50A, \n",
    "                  Gobs_Si_50A, \n",
    "                  Gsim_Si_50A, \n",
    "                  Gfit_Si_50A, \n",
    "                  r'Si 50 Å to neutron experimental PDF')"
   ]
  },
  {
   "cell_type": "markdown",
   "metadata": {},
   "source": [
    "## Case 2\n",
    "- File: Si_Calibration_Cryostat_20A\n",
    "- Fit range: 1.5 - 20 Angstrom\n",
    "- Refined parameters with initial and refined values\n",
    "\n",
    "| Name         | Initial value    | Refined value   |\n",
    "|--------------|------------------|-----------------|\n",
    "| scale factor | 1.66361225617    | 1.66360976627   |\n",
    "| delta2       | 3.68122318362    | 3.68123080818   |\n",
    "| a=b=c        | 5.43487259837    | 5.43487255753   |\n",
    "| uii          | 0.00788328880945 | 0.0078832632553 |\n",
    "\n",
    "### Store results from pdfgui in pandas DataFrame"
   ]
  },
  {
   "cell_type": "code",
   "execution_count": null,
   "metadata": {},
   "outputs": [],
   "source": [
    "df_case2 = pd.DataFrame(\n",
    "    [['scale', 1.66361225617, 1.66360976627], \n",
    "     ['delta2', 3.68122318362, 3.68123080818], \n",
    "     ['length_a', 5.43487259837, 5.43487255753],\n",
    "     ['Uiso', 0.00788328880945, 0.0078832632553]], \n",
    "    columns=['Parameters', 'pdfgui_ini', 'pdfgui_fit']).set_index('Parameters')\n",
    "df_case2"
   ]
  },
  {
   "cell_type": "markdown",
   "metadata": {},
   "source": [
    "### Define Phases for Case 2"
   ]
  },
  {
   "cell_type": "code",
   "execution_count": null,
   "metadata": {},
   "outputs": [],
   "source": [
    "phases_Si2 = Phases.from_cif_file(cif_fname_Si)\n",
    "phases_Si2"
   ]
  },
  {
   "cell_type": "markdown",
   "metadata": {},
   "source": [
    "### Define Calculator for Case 2"
   ]
  },
  {
   "cell_type": "code",
   "execution_count": null,
   "metadata": {},
   "outputs": [],
   "source": [
    "calculator_Si2 = Calculator()\n",
    "calculator_Si2.switch(\"Pdffit2\")"
   ]
  },
  {
   "cell_type": "markdown",
   "metadata": {},
   "source": [
    "### Create Job"
   ]
  },
  {
   "cell_type": "code",
   "execution_count": null,
   "metadata": {},
   "outputs": [],
   "source": [
    "job_Si2 = Powder1DTOF(\n",
    "    'Si_Calibration_Cryostat_20A_simulated', \n",
    "    parameters=PDFParameters(), \n",
    "    phases=phases_Si2, \n",
    "    interface=calculator_Si2\n",
    ")\n",
    "\n",
    "fitter_Si2 = Fitter(job_Si2, calculator_Si2.fit_func)"
   ]
  },
  {
   "cell_type": "markdown",
   "metadata": {},
   "source": [
    "#### Set parameters"
   ]
  },
  {
   "cell_type": "code",
   "execution_count": null,
   "metadata": {
    "tags": []
   },
   "outputs": [],
   "source": [
    "parameters2 = job_Si2.parameters\n",
    "\n",
    "parameters2.get_parameters()"
   ]
  },
  {
   "cell_type": "code",
   "execution_count": null,
   "metadata": {
    "tags": []
   },
   "outputs": [],
   "source": [
    "# parameters to be refined\n",
    "parameters2.delta2 = df_case2['pdfgui_ini']['delta2']\n",
    "\n",
    "# set values for fixed parameters using metadata in header of .fgr file\n",
    "parameters2.qdamp = 0.024  \n",
    "parameters2.qbroad = 0.02  \n",
    "parameters2.qmax =  31.4 \n",
    "\n",
    "parameters2.delta1 = 0.0"
   ]
  },
  {
   "cell_type": "code",
   "execution_count": null,
   "metadata": {
    "tags": []
   },
   "outputs": [],
   "source": [
    "phase1_patterns2 = job_Si2.phases[0]"
   ]
  },
  {
   "cell_type": "code",
   "execution_count": null,
   "metadata": {
    "tags": []
   },
   "outputs": [],
   "source": [
    "phase1_patterns2.cell.length_a = df_case2['pdfgui_ini']['length_a'] \n",
    "\n",
    "phase1_patterns2.atoms[0].adp.Uiso = df_case2['pdfgui_ini']['Uiso']\n",
    "\n",
    "phases_Si2[0].scale =  df_case2['pdfgui_ini']['scale']"
   ]
  },
  {
   "cell_type": "code",
   "execution_count": null,
   "metadata": {
    "tags": []
   },
   "outputs": [],
   "source": [
    "# Check modified parameters\n",
    "phase1_patterns2.get_parameters()"
   ]
  },
  {
   "cell_type": "code",
   "execution_count": null,
   "metadata": {},
   "outputs": [],
   "source": [
    "# Add initial data used in EasyDiffraction to pandas DataFrame\n",
    "df_case2['ezd_ini'] = [phases_Si2[0].scale.raw_value, \n",
    "                       parameters2.delta2.raw_value, \n",
    "                       phase1_patterns2.cell.length_a.raw_value, \n",
    "                       phase1_patterns2.atoms[0].adp.Uiso.raw_value]"
   ]
  },
  {
   "cell_type": "markdown",
   "metadata": {},
   "source": [
    "#### Calculate and plot initial profile and compare with observed data"
   ]
  },
  {
   "cell_type": "code",
   "execution_count": null,
   "metadata": {},
   "outputs": [],
   "source": [
    "x_data_Si_20A = data_Si_20A[:, 0]\n",
    "Gobs_Si_20A = data_Si_20A[:, 1]\n",
    "Gsim_Si_20A = calculator_Si2.fit_func(x_data_Si_20A)\n",
    "\n",
    "plot_ini_config(x_data_Si_20A, \n",
    "                Gobs_Si_20A, \n",
    "                Gsim_Si_20A, \n",
    "                r'Si 20 Å to neutron experimental PDF')"
   ]
  },
  {
   "cell_type": "markdown",
   "metadata": {},
   "source": [
    "#### Select parameters to optimize\n",
    "\n",
    "For case 2, they are\n",
    "\n",
    "- scale factor\n",
    "- a=b=c\n",
    "- uii\n",
    "- delta2"
   ]
  },
  {
   "cell_type": "code",
   "execution_count": null,
   "metadata": {
    "tags": []
   },
   "outputs": [],
   "source": [
    "phase1_patterns2.atoms[0].adp.Uiso.fixed = False\n",
    "\n",
    "phases_Si2[0].scale.fixed = False\n",
    "\n",
    "phase1_patterns2.cell.length_a.fixed = False\n",
    "\n",
    "parameters2.delta2.fixed = False"
   ]
  },
  {
   "cell_type": "code",
   "execution_count": null,
   "metadata": {},
   "outputs": [],
   "source": [
    "df_case2['ezd_ini'] = [phases_Si2[0].scale.raw_value, \n",
    "                       parameters2.delta2.raw_value, \n",
    "                       phase1_patterns2.cell.length_a.raw_value, \n",
    "                       phase1_patterns2.atoms[0].adp.Uiso.raw_value\n",
    "                      ]\n",
    "df_case2"
   ]
  },
  {
   "cell_type": "markdown",
   "metadata": {},
   "source": [
    "#### Fit"
   ]
  },
  {
   "cell_type": "code",
   "execution_count": null,
   "metadata": {
    "tags": []
   },
   "outputs": [],
   "source": [
    "result_Si2 = fitter_Si2.fit(x_data_Si_20A, data_Si_20A[:, 1], \n",
    "                    method='least_squares', \n",
    "                    minimizer_kwargs={'diff_step': 1e-5, 'verbose': 2})"
   ]
  },
  {
   "cell_type": "markdown",
   "metadata": {},
   "source": [
    "#### Print and plot results"
   ]
  },
  {
   "cell_type": "code",
   "execution_count": null,
   "metadata": {},
   "outputs": [],
   "source": [
    "# Add refined values to pandas DataFrame\n",
    "df_case2['ezd_fit'] = pd.Series(dtype='float64')\n",
    "\n",
    "for i in range(len(job_Si2.get_fit_parameters())):\n",
    "    df_case2['ezd_fit'][job_Si2.get_fit_parameters()[i].name] = job_Si2.get_fit_parameters()[i].raw_value\n",
    "df_case2"
   ]
  },
  {
   "cell_type": "code",
   "execution_count": null,
   "metadata": {},
   "outputs": [],
   "source": [
    "# Plot relative difference of refined values between pdfgui and EasyDiffraction\n",
    "plot_comparison_refined_params(df_case2, 'Case 2')"
   ]
  },
  {
   "cell_type": "code",
   "execution_count": null,
   "metadata": {
    "tags": []
   },
   "outputs": [],
   "source": [
    "print(f\"The fit has been successful: {result_Si2.success}\")  \n",
    "print(f\"The goodness of fit (chi2) is: {result_Si2.reduced_chi}\")\n",
    "print(\"The optimized parameters are:\")\n",
    "for param in job_Si2.get_fit_parameters():\n",
    "    print(f\"{param.name}: {param.raw_value} +\\- {param.error} {param.unit}\") "
   ]
  },
  {
   "cell_type": "markdown",
   "metadata": {},
   "source": [
    "| Symbol | Name         | Initial value    | Refined value   |\n",
    "|--------|--------------|------------------|-----------------|\n",
    "| @1     | scale factor | 1.66361225617    | 1.66360976627   |\n",
    "| @2     | delta2       | 3.68122318362    | 3.68123080818   |\n",
    "| @11    | a=b=c        | 5.43487259837    | 5.43487255753   |\n",
    "| @21    | uii          | 0.00788328880945 | 0.0078832632553 |"
   ]
  },
  {
   "cell_type": "code",
   "execution_count": null,
   "metadata": {
    "tags": []
   },
   "outputs": [],
   "source": [
    "# obtain data from PdfFit calculator object\n",
    "Gobs_Si_20A = data_Si_20A[:, 1]\n",
    "Gfit_Si_20A = calculator_Si2.fit_func(x_data_Si_20A)\n",
    "\n",
    "plot_final_config(x_data_Si_20A, \n",
    "                  Gobs_Si_20A, \n",
    "                  Gsim_Si_20A, \n",
    "                  Gfit_Si_20A, \n",
    "                  r'Si 20 Å to neutron experimental PDF')"
   ]
  },
  {
   "cell_type": "markdown",
   "metadata": {},
   "source": [
    "## Case 3\n",
    "\n",
    "- Si_Calibration_Cryostat_100A\n",
    "- Fit range: 1.5-99.99 Angstrom\n",
    "- Refined parameters with initial and refined values\n",
    "\n",
    "| Name         | Initial value    | Refined value    |\n",
    "|--------------|------------------|------------------|\n",
    "| scale factor | 1.64773047742    | 1.59645132741    |\n",
    "| delta2       | 3.83386044222    | 4.21474232159    |\n",
    "| a=b=c        | 5.43323762429    | 5.43253113317    |\n",
    "| uii          | 0.00817005319337 | 0.00927016592601 |\n",
    "| Qdamp        | 0.024            | 0.021822511225   |\n",
    "| Qbroad       | 0.02             | 0.0120657361893  |\n",
    "\n",
    "### Store results from pdfgui in pandas DataFrame"
   ]
  },
  {
   "cell_type": "code",
   "execution_count": null,
   "metadata": {},
   "outputs": [],
   "source": [
    "df_case3 = pd.DataFrame(\n",
    "    [['scale', 1.64773047742, 1.59645132741], \n",
    "     ['delta2', 3.83386044222, 4.21474232159], \n",
    "     ['length_a', 5.43323762429, 5.43253113317],\n",
    "     ['Uiso', 0.00817005319337, 0.00927016592601], \n",
    "     ['Q_damp', 0.024, 0.021822511225],\n",
    "     ['Q_broad', 0.02, 0.0120657361893]],\n",
    "    columns=['Parameters', 'pdfgui_ini', 'pdfgui_fit']).set_index('Parameters')\n",
    "df_case3"
   ]
  },
  {
   "cell_type": "markdown",
   "metadata": {},
   "source": [
    "### Define Phases for Case 3"
   ]
  },
  {
   "cell_type": "code",
   "execution_count": null,
   "metadata": {},
   "outputs": [],
   "source": [
    "phases_Si3 = Phases.from_cif_file(cif_fname_Si)\n",
    "phases_Si3"
   ]
  },
  {
   "cell_type": "markdown",
   "metadata": {},
   "source": [
    "### Define Calculator for Case 1"
   ]
  },
  {
   "cell_type": "code",
   "execution_count": null,
   "metadata": {},
   "outputs": [],
   "source": [
    "calculator_Si3 = Calculator()\n",
    "calculator_Si3.switch(\"Pdffit2\")"
   ]
  },
  {
   "cell_type": "markdown",
   "metadata": {},
   "source": [
    "### Create Job"
   ]
  },
  {
   "cell_type": "code",
   "execution_count": null,
   "metadata": {},
   "outputs": [],
   "source": [
    "job_Si3 = Powder1DTOF(\n",
    "    'Si_Calibration_Cryostat_100A_simulated', \n",
    "    parameters=PDFParameters(), \n",
    "    phases=phases_Si3, \n",
    "    interface=calculator_Si3\n",
    ")\n",
    "\n",
    "fitter_Si3 = Fitter(job_Si3, calculator_Si3.fit_func)"
   ]
  },
  {
   "cell_type": "markdown",
   "metadata": {},
   "source": [
    "#### Set parameters"
   ]
  },
  {
   "cell_type": "code",
   "execution_count": null,
   "metadata": {},
   "outputs": [],
   "source": [
    "parameters3 = job_Si3.parameters\n",
    "\n",
    "parameters3.get_parameters()"
   ]
  },
  {
   "cell_type": "code",
   "execution_count": null,
   "metadata": {},
   "outputs": [],
   "source": [
    "# parameters to be refined\n",
    "parameters3.delta2 = df_case3['pdfgui_ini']['delta2'] \n",
    "parameters3.qdamp = df_case3['pdfgui_ini']['Q_damp']\n",
    "parameters3.qbroad = df_case3['pdfgui_ini']['Q_broad']\n",
    "\n",
    "# set values for fixed parameters using metadata in header of .fgr file\n",
    "parameters3.qmax = 31.4  \n",
    "\n",
    "parameters3.delta1 = 0.0"
   ]
  },
  {
   "cell_type": "code",
   "execution_count": null,
   "metadata": {},
   "outputs": [],
   "source": [
    "phase1_patterns3 = job_Si3.phases[0]\n",
    "phase1_patterns3.get_parameters()"
   ]
  },
  {
   "cell_type": "code",
   "execution_count": null,
   "metadata": {},
   "outputs": [],
   "source": [
    "phase1_patterns3.cell.length_a = df_case3['pdfgui_ini']['length_a'] \n",
    "\n",
    "phase1_patterns3.atoms[0].adp.Uiso = df_case3['pdfgui_ini']['Uiso'] \n",
    "\n",
    "phases_Si3[0].scale = df_case3['pdfgui_ini']['scale']"
   ]
  },
  {
   "cell_type": "code",
   "execution_count": null,
   "metadata": {},
   "outputs": [],
   "source": [
    "# Add initial data used in EasyDiffraction to pandas DataFrame\n",
    "df_case3['ezd_ini'] = [phases_Si3[0].scale.raw_value, \n",
    "                       parameters3.delta2.raw_value, \n",
    "                       phase1_patterns3.cell.length_a.raw_value, \n",
    "                       phase1_patterns3.atoms[0].adp.Uiso.raw_value, \n",
    "                       parameters3.qdamp.raw_value, \n",
    "                       parameters3.qbroad.raw_value]"
   ]
  },
  {
   "cell_type": "markdown",
   "metadata": {},
   "source": [
    "#### Plot initial profile and compare with observed data"
   ]
  },
  {
   "cell_type": "code",
   "execution_count": null,
   "metadata": {},
   "outputs": [],
   "source": [
    "x_data_Si_100A = data_Si_100A[:, 0]\n",
    "Gobs_Si_100A = data_Si_100A[:, 1]\n",
    "Gsim_Si_100A = calculator_Si1.fit_func(x_data_Si_100A)\n",
    "\n",
    "plot_ini_config(x_data_Si_100A, Gobs_Si_100A, Gsim_Si_100A, r'Si 100 Å to neutron experimental PDF')"
   ]
  },
  {
   "cell_type": "markdown",
   "metadata": {},
   "source": [
    "#### Select parameters to optimize\n",
    "\n",
    "For case 3, they are\n",
    "- scale factor\n",
    "- delta2\n",
    "- a=b=c\n",
    "- uii\n",
    "- Qdamp\n",
    "- Qbroad"
   ]
  },
  {
   "cell_type": "code",
   "execution_count": null,
   "metadata": {},
   "outputs": [],
   "source": [
    "phase1_patterns3.cell.length_a.fixed = False\n",
    "\n",
    "phase1_patterns3.atoms[0].adp.Uiso.fixed = False\n",
    "\n",
    "phases_Si3[0].scale.fixed = False\n",
    "\n",
    "parameters3.qdamp.fixed = False\n",
    "parameters3.qbroad.fixed = False\n",
    "parameters3.delta2.fixed = False"
   ]
  },
  {
   "cell_type": "markdown",
   "metadata": {},
   "source": [
    "#### Fit"
   ]
  },
  {
   "cell_type": "code",
   "execution_count": null,
   "metadata": {},
   "outputs": [],
   "source": [
    "result_Si3 = fitter_Si3.fit(x_data_Si_100A, \n",
    "                            data_Si_100A[:, 1], \n",
    "                            method='least_squares', \n",
    "                            minimizer_kwargs={'diff_step': 1e-5, \n",
    "                                              'verbose': 2})"
   ]
  },
  {
   "cell_type": "markdown",
   "metadata": {},
   "source": [
    "#### Print and plot results"
   ]
  },
  {
   "cell_type": "code",
   "execution_count": null,
   "metadata": {},
   "outputs": [],
   "source": [
    "# Add refined values to pandas DataFrame\n",
    "df_case3['ezd_fit'] = pd.Series(dtype='float64')\n",
    "\n",
    "for i in range(len(job_Si3.get_fit_parameters())):\n",
    "    df_case3['ezd_fit'][job_Si3.get_fit_parameters()[i].name] = job_Si3.get_fit_parameters()[i].raw_value\n",
    "df_case3"
   ]
  },
  {
   "cell_type": "code",
   "execution_count": null,
   "metadata": {},
   "outputs": [],
   "source": [
    "# Plot relative difference of refined values between pdfgui and EasyDiffraction\n",
    "plot_comparison_refined_params(df_case3, 'Case 3')"
   ]
  },
  {
   "cell_type": "code",
   "execution_count": null,
   "metadata": {},
   "outputs": [],
   "source": [
    "print(f\"The fit has been successful: {result_Si3.success}\")  \n",
    "print(f\"The goodness of fit (chi2) is: {result_Si3.reduced_chi}\")\n",
    "print(\"The optimized parameters are:\")\n",
    "\n",
    "for param in job_Si3.get_fit_parameters():\n",
    "    print(f\"{param.name}: {param.raw_value} +\\- {param.error} {param.unit}\") "
   ]
  },
  {
   "cell_type": "code",
   "execution_count": null,
   "metadata": {},
   "outputs": [],
   "source": [
    "# obtain data from PdfFit calculator object\n",
    "Gfit_Si_100A = calculator_Si3.fit_func(x_data_Si_100A)\n",
    "\n",
    "plot_final_config(x_data_Si_100A,\n",
    "                  Gobs_Si_100A,\n",
    "                  Gsim_Si_100A,\n",
    "                  Gfit_Si_100A,\n",
    "                  r'Si 100 Å to neutron experimental PDF')"
   ]
  },
  {
   "cell_type": "markdown",
   "metadata": {},
   "source": [
    "## Case 4\n",
    "\n",
    "- Si_Calibration_Cryostat_50A_01Rmin\n",
    "- Fit range: 0.1 - 49.99 Angstrom\n",
    "- Refined parameters with initial and refined values\n",
    "\n",
    "| Name         | Initial value    | Refined value    |\n",
    "|--------------|------------------|------------------|\n",
    "| scale factor | 1.64654880799    | 1.64654880799    |\n",
    "| delta2       | 3.8378816337     | 3.8378816337     |\n",
    "| a=b=c        | 5.43323692356    | 5.43323692356    |\n",
    "| uii          | 0.00816331599398 | 0.00816331599398 |\n",
    "| Qdamp        | 0.023900280307   | 0.023900280307   |\n",
    "| Qbroad       | 0.0195887880295  | 0.0195887880296  |\n",
    "\n",
    "### Store results from pdfgui in pandas DataFrame"
   ]
  },
  {
   "cell_type": "code",
   "execution_count": null,
   "metadata": {},
   "outputs": [],
   "source": [
    "df_case4 = pd.DataFrame(\n",
    "    [['scale', 1.64654880799, 1.64654880799], \n",
    "     ['delta2', 3.8378816337, 3.8378816337], \n",
    "     ['length_a', 5.43323692356, 5.43323692356],\n",
    "     ['Uiso', 0.00816331599398, 0.00816331599398], \n",
    "     ['Q_damp', 0.023900280307, 0.023900280307],\n",
    "     ['Q_broad', 0.0195887880295, 0.0195887880296]],\n",
    "    columns=['Parameters', 'pdfgui_ini', 'pdfgui_fit']).set_index('Parameters')\n",
    "df_case4"
   ]
  },
  {
   "cell_type": "markdown",
   "metadata": {},
   "source": [
    "### Define Phases for Case 4"
   ]
  },
  {
   "cell_type": "code",
   "execution_count": null,
   "metadata": {},
   "outputs": [],
   "source": [
    "phases_Si4 = Phases.from_cif_file(cif_fname_Si)\n",
    "phases_Si4"
   ]
  },
  {
   "cell_type": "markdown",
   "metadata": {},
   "source": [
    "### Define Calculator for Case 4"
   ]
  },
  {
   "cell_type": "code",
   "execution_count": null,
   "metadata": {},
   "outputs": [],
   "source": [
    "calculator_Si4 = Calculator()\n",
    "calculator_Si4.switch(\"Pdffit2\")"
   ]
  },
  {
   "cell_type": "markdown",
   "metadata": {},
   "source": [
    "### Create Job"
   ]
  },
  {
   "cell_type": "code",
   "execution_count": null,
   "metadata": {},
   "outputs": [],
   "source": [
    "job_Si4 = Powder1DTOF(\n",
    "    'Si_Calibration_Cryostat_100A_01Rmin_simulated', \n",
    "    parameters=PDFParameters(), \n",
    "    phases=phases_Si4, \n",
    "    interface=calculator_Si4\n",
    ")\n",
    "\n",
    "fitter_Si4 = Fitter(job_Si4, calculator_Si4.fit_func)"
   ]
  },
  {
   "cell_type": "markdown",
   "metadata": {},
   "source": [
    "#### Set parameters"
   ]
  },
  {
   "cell_type": "code",
   "execution_count": null,
   "metadata": {},
   "outputs": [],
   "source": [
    "parameters4 = job_Si4.parameters\n",
    "\n",
    "parameters4.get_parameters()"
   ]
  },
  {
   "cell_type": "code",
   "execution_count": null,
   "metadata": {},
   "outputs": [],
   "source": [
    "# parameters to be refined\n",
    "parameters4.delta2 = df_case4['pdfgui_ini']['delta2']\n",
    "parameters4.qdamp = df_case4['pdfgui_ini']['Q_damp'] \n",
    "parameters4.qbroad = df_case4['pdfgui_ini']['Q_broad']\n",
    "\n",
    "# set values for fixed parameters using metadata in header of .fgr file\n",
    "parameters4.qmax =  31.4\n",
    "\n",
    "parameters4.delta1 = 0.0"
   ]
  },
  {
   "cell_type": "code",
   "execution_count": null,
   "metadata": {},
   "outputs": [],
   "source": [
    "phase1_patterns4 = job_Si4.phases[0]\n",
    "phase1_patterns4.get_parameters()"
   ]
  },
  {
   "cell_type": "code",
   "execution_count": null,
   "metadata": {},
   "outputs": [],
   "source": [
    "phase1_patterns4.cell.length_a = df_case4['pdfgui_ini']['length_a'] \n",
    "\n",
    "phase1_patterns4.atoms[0].adp.Uiso = df_case4['pdfgui_ini']['Uiso'] \n",
    "\n",
    "phases_Si4[0].scale = df_case4['pdfgui_ini']['scale']"
   ]
  },
  {
   "cell_type": "code",
   "execution_count": null,
   "metadata": {},
   "outputs": [],
   "source": [
    "# Add initial data used in EasyDiffraction to pandas DataFrame\n",
    "df_case4['ezd_ini'] = [phases_Si4[0].scale.raw_value, \n",
    "                       parameters4.delta2.raw_value, \n",
    "                       phase1_patterns4.cell.length_a.raw_value, \n",
    "                       phase1_patterns4.atoms[0].adp.Uiso.raw_value, \n",
    "                       parameters4.qdamp.raw_value, \n",
    "                       parameters4.qbroad.raw_value]"
   ]
  },
  {
   "cell_type": "markdown",
   "metadata": {},
   "source": [
    "#### Plot initial profile and compare with observed data"
   ]
  },
  {
   "cell_type": "code",
   "execution_count": null,
   "metadata": {},
   "outputs": [],
   "source": [
    "x_data_Si_50A_01Rmin = data_Si_50A_01Rmin[:, 0]\n",
    "Gobs_Si_50A_01Rmin = data_Si_50A_01Rmin[:, 1]\n",
    "Gsim_Si_50A_01Rmin = calculator_Si4.fit_func(x_data_Si_50A_01Rmin)\n",
    "\n",
    "plot_ini_config(x_data_Si_50A_01Rmin,\n",
    "                Gobs_Si_50A_01Rmin,\n",
    "                Gsim_Si_50A_01Rmin,\n",
    "                r'Si 50 Å 01Rmin to neutron experimental PDF'\n",
    "                )"
   ]
  },
  {
   "cell_type": "markdown",
   "metadata": {},
   "source": [
    "#### Select parameters to optimize\n",
    "\n",
    "For case 1, they are\n",
    "- scale factor\n",
    "- delta2\n",
    "- a=b=c\n",
    "- uii\n",
    "- Qdamp\n",
    "- Qbroad"
   ]
  },
  {
   "cell_type": "code",
   "execution_count": null,
   "metadata": {},
   "outputs": [],
   "source": [
    "phase1_patterns4.cell.length_a.fixed = False\n",
    "\n",
    "phase1_patterns4.atoms[0].adp.Uiso.fixed = False\n",
    "\n",
    "phases_Si4[0].scale.fixed = False\n",
    "\n",
    "parameters4.qdamp.fixed = False\n",
    "parameters4.qbroad.fixed = False\n",
    "parameters4.delta2.fixed = False"
   ]
  },
  {
   "cell_type": "markdown",
   "metadata": {},
   "source": [
    "#### Fit"
   ]
  },
  {
   "cell_type": "code",
   "execution_count": null,
   "metadata": {},
   "outputs": [],
   "source": [
    "result_Si4 = fitter_Si4.fit(x_data_Si_50A_01Rmin, data_Si_50A_01Rmin[:, 1], \n",
    "                    method='least_squares', \n",
    "                    minimizer_kwargs={'diff_step': 1e-5, \n",
    "                                      'verbose': 2})"
   ]
  },
  {
   "cell_type": "markdown",
   "metadata": {},
   "source": [
    "#### Print and plot results"
   ]
  },
  {
   "cell_type": "code",
   "execution_count": null,
   "metadata": {},
   "outputs": [],
   "source": [
    "# Add refined values to pandas DataFrame\n",
    "df_case4['ezd_fit'] = pd.Series(dtype='float64')\n",
    "\n",
    "for i in range(len(job_Si4.get_fit_parameters())):\n",
    "    df_case4['ezd_fit'][job_Si4.get_fit_parameters()[i].name] = job_Si4.get_fit_parameters()[i].raw_value\n",
    "df_case4"
   ]
  },
  {
   "cell_type": "code",
   "execution_count": null,
   "metadata": {},
   "outputs": [],
   "source": [
    "# Plot relative difference of refined values between pdfgui and EasyDiffraction\n",
    "plot_comparison_refined_params(df_case4, 'Case 4')"
   ]
  },
  {
   "cell_type": "code",
   "execution_count": null,
   "metadata": {},
   "outputs": [],
   "source": [
    "print(f\"The fit has been successful: {result_Si4.success}\")  \n",
    "print(f\"The goodness of fit (chi2) is: {result_Si4.reduced_chi}\")\n",
    "print(\"The optimized parameters are:\")\n",
    "\n",
    "for param in job_Si4.get_fit_parameters():\n",
    "    print(f\"{param.name}: {param.raw_value} +\\- {param.error} {param.unit}\") "
   ]
  },
  {
   "cell_type": "code",
   "execution_count": null,
   "metadata": {},
   "outputs": [],
   "source": [
    "# obtain data from PdfFit calculator object\n",
    "Gfit_Si_50A_01Rmin = calculator_Si4.fit_func(x_data_Si_50A_01Rmin)\n",
    "\n",
    "plot_final_config(x_data_Si_50A_01Rmin, \n",
    "                  Gobs_Si_50A_01Rmin,\n",
    "                  Gsim_Si_50A_01Rmin,\n",
    "                  Gfit_Si_50A_01Rmin,\n",
    "                  r'Si 50 Å 01Rmin to neutron experimental PDF'\n",
    "                 )"
   ]
  },
  {
   "cell_type": "markdown",
   "metadata": {},
   "source": [
    "## Case 5\n",
    "- Si_Calibation_Cryostat_20A_01Rmin\n",
    "- Fit range: 0.1 - 20 Angstrom\n",
    "- Refined parameters with initial and refined values\n",
    "\n",
    "| Name         | Initial value    | Refined value    |\n",
    "|--------------|------------------|------------------|\n",
    "| scale factor | 1.66238320925    | 1.66238296494    |\n",
    "| delta2       | 3.68476007538    | 3.68476092869    |\n",
    "| a=b=c        | 5.43487069166    | 5.43487068759    |\n",
    "| uii          | 0.00787662883607 | 0.00787662635073 |\n",
    "\n",
    "### Store results from pdfgui in pandas DataFrame"
   ]
  },
  {
   "cell_type": "code",
   "execution_count": null,
   "metadata": {},
   "outputs": [],
   "source": [
    "df_case5 = pd.DataFrame(\n",
    "    [['scale', 1.66238320925, 1.66238296494], \n",
    "     ['delta2', 3.68476007538, 3.68476092869], \n",
    "     ['length_a', 5.43487069166, 5.43487068759],\n",
    "     ['Uiso', 0.00787662883607, 0.00787662635073]],\n",
    "    columns=['Parameters', 'pdfgui_ini', 'pdfgui_fit']).set_index('Parameters')\n",
    "df_case5"
   ]
  },
  {
   "cell_type": "markdown",
   "metadata": {},
   "source": [
    "### Create Phases and efine Calculator for Case 5"
   ]
  },
  {
   "cell_type": "code",
   "execution_count": null,
   "metadata": {},
   "outputs": [],
   "source": [
    "phases_Si5 = Phases.from_cif_file(cif_fname_Si)\n",
    "phases_Si5"
   ]
  },
  {
   "cell_type": "code",
   "execution_count": null,
   "metadata": {},
   "outputs": [],
   "source": [
    "calculator_Si5 = Calculator()\n",
    "calculator_Si5.switch(\"Pdffit2\")"
   ]
  },
  {
   "cell_type": "markdown",
   "metadata": {},
   "source": [
    "### Create Job"
   ]
  },
  {
   "cell_type": "code",
   "execution_count": null,
   "metadata": {},
   "outputs": [],
   "source": [
    "job_Si5 = Powder1DTOF(\n",
    "    'Si_Calibration_Cryostat_20A_01Rmin_simulated', \n",
    "    parameters=PDFParameters(), \n",
    "    phases=phases_Si5, \n",
    "    interface=calculator_Si5\n",
    ")\n",
    "\n",
    "fitter_Si5 = Fitter(job_Si5, calculator_Si5.fit_func)"
   ]
  },
  {
   "cell_type": "markdown",
   "metadata": {},
   "source": [
    "#### Set parameters"
   ]
  },
  {
   "cell_type": "code",
   "execution_count": null,
   "metadata": {},
   "outputs": [],
   "source": [
    "parameters5 = job_Si5.parameters\n",
    "\n",
    "parameters5.get_parameters()"
   ]
  },
  {
   "cell_type": "code",
   "execution_count": null,
   "metadata": {},
   "outputs": [],
   "source": [
    "# parameters to be refined\n",
    "parameters5.delta2 = df_case5['pdfgui_ini']['delta2'] \n",
    "\n",
    "# set values for fixed parameters using metadata in header of .fgr file\n",
    "parameters5.qmax =  31.4\n",
    "parameters5.qdamp = 0.024\n",
    "parameters5.qbroad = 0.02\n",
    "\n",
    "parameters5.delta1 = 0.0"
   ]
  },
  {
   "cell_type": "code",
   "execution_count": null,
   "metadata": {},
   "outputs": [],
   "source": [
    "phase1_patterns5 = job_Si5.phases[0]\n",
    "phase1_patterns5.get_parameters()"
   ]
  },
  {
   "cell_type": "code",
   "execution_count": null,
   "metadata": {},
   "outputs": [],
   "source": [
    "phase1_patterns5.cell.length_a = df_case5['pdfgui_ini']['length_a'] \n",
    "\n",
    "phase1_patterns5.atoms[0].adp.Uiso = df_case5['pdfgui_ini']['Uiso']\n",
    "\n",
    "phases_Si5[0].scale = df_case5['pdfgui_ini']['scale']"
   ]
  },
  {
   "cell_type": "code",
   "execution_count": null,
   "metadata": {},
   "outputs": [],
   "source": [
    "# Add initial data used in EasyDiffraction to pandas DataFrame\n",
    "df_case5['ezd_ini'] = [phases_Si5[0].scale.raw_value, \n",
    "                       parameters5.delta2.raw_value, \n",
    "                       phase1_patterns5.cell.length_a.raw_value, \n",
    "                       phase1_patterns5.atoms[0].adp.Uiso.raw_value]"
   ]
  },
  {
   "cell_type": "markdown",
   "metadata": {},
   "source": [
    "#### Plot initial profile and compare with observed data"
   ]
  },
  {
   "cell_type": "code",
   "execution_count": null,
   "metadata": {},
   "outputs": [],
   "source": [
    "x_data_Si_20A_01Rmin = data_Si_20A_01Rmin[:, 0]\n",
    "Gobs_Si_20A_01Rmin = data_Si_20A_01Rmin[:, 1]\n",
    "Gsim_Si_20A_01Rmin = calculator_Si5.fit_func(x_data_Si_20A_01Rmin)\n",
    "\n",
    "plot_ini_config(x_data_Si_20A_01Rmin, \n",
    "                Gobs_Si_20A_01Rmin, \n",
    "                Gsim_Si_20A_01Rmin, \n",
    "                r'Si 20 Å 01Rmin to neutron experimental PDF')"
   ]
  },
  {
   "cell_type": "markdown",
   "metadata": {},
   "source": [
    "#### Select parameters to optimize\n",
    "\n",
    "For case 5, they are\n",
    "- scale factor\n",
    "- delta2\n",
    "- a=b=c\n",
    "- uii"
   ]
  },
  {
   "cell_type": "code",
   "execution_count": null,
   "metadata": {},
   "outputs": [],
   "source": [
    "phase1_patterns5.cell.length_a.fixed = False\n",
    "\n",
    "phase1_patterns5.atoms[0].adp.Uiso.fixed = False\n",
    "\n",
    "phases_Si5[0].scale.fixed = False\n",
    "\n",
    "parameters5.delta2.fixed = False"
   ]
  },
  {
   "cell_type": "markdown",
   "metadata": {},
   "source": [
    "#### Fit"
   ]
  },
  {
   "cell_type": "code",
   "execution_count": null,
   "metadata": {},
   "outputs": [],
   "source": [
    "result_Si5 = fitter_Si5.fit(x_data_Si_20A_01Rmin, \n",
    "                            data_Si_20A_01Rmin[:, 1],\n",
    "                            method='least_squares', \n",
    "                            minimizer_kwargs={'diff_step': 1e-5, 'verbose': 2})"
   ]
  },
  {
   "cell_type": "markdown",
   "metadata": {},
   "source": [
    "#### Print and plot results"
   ]
  },
  {
   "cell_type": "code",
   "execution_count": null,
   "metadata": {},
   "outputs": [],
   "source": [
    "# Add refined values to pandas DataFrame\n",
    "df_case5['ezd_fit'] = pd.Series(dtype='float64')\n",
    "\n",
    "for i in range(len(job_Si5.get_fit_parameters())):\n",
    "    df_case5['ezd_fit'][job_Si5.get_fit_parameters()[i].name] = job_Si5.get_fit_parameters()[i].raw_value\n",
    "df_case5"
   ]
  },
  {
   "cell_type": "code",
   "execution_count": null,
   "metadata": {},
   "outputs": [],
   "source": [
    "# Plot relative difference of refined values between pdfgui and EasyDiffraction\n",
    "plot_comparison_refined_params(df_case5, 'Case 5')"
   ]
  },
  {
   "cell_type": "code",
   "execution_count": null,
   "metadata": {},
   "outputs": [],
   "source": [
    "print(f\"The fit has been successful: {result_Si5.success}\")  \n",
    "print(f\"The goodness of fit (chi2) is: {result_Si5.reduced_chi}\")\n",
    "print(\"The optimized parameters are:\")\n",
    "\n",
    "for param in job_Si5.get_fit_parameters():\n",
    "    print(f\"{param.name}: {param.raw_value} +\\- {param.error} {param.unit}\") "
   ]
  },
  {
   "cell_type": "code",
   "execution_count": null,
   "metadata": {},
   "outputs": [],
   "source": [
    "# obtain data from PdfFit calculator object\n",
    "Gfit_Si_20A_01Rmin = calculator_Si1.fit_func(x_data_Si_20A_01Rmin)\n",
    "Gdiff_Si_20A_01Rmin = Gobs_Si_20A_01Rmin - Gfit_Si_20A_01Rmin\n",
    "\n",
    "plot_final_config(x_data_Si_20A_01Rmin, \n",
    "                  Gobs_Si_20A_01Rmin, \n",
    "                  Gsim_Si_20A_01Rmin, \n",
    "                  Gfit_Si_20A_01Rmin, \n",
    "                  r'Si 20 Å 01Rmin to neutron experimental PDF')"
   ]
  },
  {
   "cell_type": "code",
   "execution_count": null,
   "metadata": {},
   "outputs": [],
   "source": []
  }
 ],
 "metadata": {
  "hide_input": false,
  "kernelspec": {
   "display_name": "Python 3 (ipykernel)",
   "language": "python",
   "name": "python3"
  },
  "language_info": {
   "codemirror_mode": {
    "name": "ipython",
    "version": 3
   },
   "file_extension": ".py",
   "mimetype": "text/x-python",
   "name": "python",
   "nbconvert_exporter": "python",
   "pygments_lexer": "ipython3",
   "version": "3.9.16"
  },
  "toc": {
   "base_numbering": 1,
   "nav_menu": {},
   "number_sections": true,
   "sideBar": true,
   "skip_h1_title": false,
   "title_cell": "Table of Contents",
   "title_sidebar": "Contents",
   "toc_cell": false,
   "toc_position": {},
   "toc_section_display": true,
   "toc_window_display": false
  },
  "varInspector": {
   "cols": {
    "lenName": 16,
    "lenType": 16,
    "lenVar": 40
   },
   "kernels_config": {
    "python": {
     "delete_cmd_postfix": "",
     "delete_cmd_prefix": "del ",
     "library": "var_list.py",
     "varRefreshCmd": "print(var_dic_list())"
    },
    "r": {
     "delete_cmd_postfix": ") ",
     "delete_cmd_prefix": "rm(",
     "library": "var_list.r",
     "varRefreshCmd": "cat(var_dic_list()) "
    }
   },
   "types_to_exclude": [
    "module",
    "function",
    "builtin_function_or_method",
    "instance",
    "_Feature"
   ],
   "window_display": false
  }
 },
 "nbformat": 4,
 "nbformat_minor": 4
}
