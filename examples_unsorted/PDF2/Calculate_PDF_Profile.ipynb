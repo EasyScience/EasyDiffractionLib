{
 "cells": [
  {
   "cell_type": "markdown",
   "metadata": {},
   "source": [
    "# Calculate PDF profile\n",
    "\n",
    "This notebook illustrates how to calculate $G(r)$ in EasyDiffraction using `pdffit2` library (J. Phys, Condens. Matter **19**, 335219 (2007). doi: https://doi.org/10.1088/0953-8984/19/33/3352190).  \n",
    "The result of the calculation is qualitatively compared with experimental X-ray data."
   ]
  },
  {
   "cell_type": "code",
   "execution_count": null,
   "metadata": {
    "tags": []
   },
   "outputs": [],
   "source": [
    "import os\n",
    "\n",
    "from easyCore.Fitting.Fitting import Fitter\n",
    "from easyDiffractionLib import Phases\n",
    "from easyDiffractionLib.interface import InterfaceFactory as Calculator\n",
    "from easyDiffractionLib.Profiles.P1D import PDFParameters\n",
    "from easyDiffractionLib.Jobs import Powder1DCW\n",
    "from easyDiffractionLib.Interfaces.pdffit2 import readGRData\n",
    "\n",
    "# for plotting\n",
    "from bokeh.io import show, output_notebook\n",
    "from bokeh.plotting import figure\n",
    "output_notebook()\n",
    "FIGURE_WIDTH = 900\n",
    "FIGURE_HEIGHT = 300"
   ]
  },
  {
   "cell_type": "markdown",
   "metadata": {},
   "source": [
    "## Load reduced experimental data\n",
    "\n",
    "`Ni-xray.gr` contains reduced X-ray data with Ni sample. Its structure is a a header with metadata and then an array of 4 columns: $r$, $G(r)$, and the error related to these 2 quantities.  \n",
    "The reduction was done with `pdfgetx2`.\n"
   ]
  },
  {
   "cell_type": "code",
   "execution_count": null,
   "metadata": {
    "tags": []
   },
   "outputs": [],
   "source": [
    "# data_fname = os.path.realpath('examples\\\\PDF\\\\Ni-xray.gr')\n",
    "data_fname = os.path.realpath('Ni-xray.gr')\n",
    "data = readGRData(data_fname)"
   ]
  },
  {
   "cell_type": "markdown",
   "metadata": {},
   "source": [
    "## Load crystallographic reference data"
   ]
  },
  {
   "cell_type": "code",
   "execution_count": null,
   "metadata": {
    "tags": []
   },
   "outputs": [],
   "source": [
    "cif_fname = os.path.realpath('Ni.cif')\n",
    "phases = Phases.from_cif_file(cif_fname)\n",
    "phases"
   ]
  },
  {
   "cell_type": "code",
   "execution_count": null,
   "metadata": {
    "tags": []
   },
   "outputs": [],
   "source": [
    "phases.phase_names"
   ]
  },
  {
   "cell_type": "markdown",
   "metadata": {},
   "source": [
    "We get the information about the phase from the reference cif file:"
   ]
  },
  {
   "cell_type": "code",
   "execution_count": null,
   "metadata": {
    "tags": []
   },
   "outputs": [],
   "source": [
    "phases.get_parameters()"
   ]
  },
  {
   "cell_type": "markdown",
   "metadata": {},
   "source": [
    "## Define G(r)\n",
    "\n",
    "- Select `pdffit2` as Calculator\n",
    "- Create a \"continuous 1D powder\"-type job named `Ni_simulated` for Ni sample using the phases from the loaded cif and `PDF` parameters (set below)\n",
    "- Associate this job and the calculator"
   ]
  },
  {
   "cell_type": "code",
   "execution_count": null,
   "metadata": {
    "tags": []
   },
   "outputs": [],
   "source": [
    "calculator = Calculator()\n",
    "calculator.switch(\"Pdffit2\")"
   ]
  },
  {
   "cell_type": "code",
   "execution_count": null,
   "metadata": {
    "tags": []
   },
   "outputs": [],
   "source": [
    "parameters = PDFParameters()\n",
    "\n",
    "job = Powder1DCW('Ni_simulated', \n",
    "                 parameters=parameters, \n",
    "                 phases=phases, \n",
    "                 interface=calculator)\n",
    "\n",
    "fitter = Fitter(job, \n",
    "                calculator.fit_func)"
   ]
  },
  {
   "cell_type": "markdown",
   "metadata": {},
   "source": [
    "### Set job parameters "
   ]
  },
  {
   "cell_type": "code",
   "execution_count": null,
   "metadata": {
    "tags": []
   },
   "outputs": [],
   "source": [
    "parameters = job.parameters"
   ]
  },
  {
   "cell_type": "markdown",
   "metadata": {},
   "source": [
    "List of available parameters with their default values, units, status (i.e., to be refined or fixed) and possible constraints"
   ]
  },
  {
   "cell_type": "code",
   "execution_count": null,
   "metadata": {
    "tags": []
   },
   "outputs": [],
   "source": [
    "parameters.get_parameters()"
   ]
  },
  {
   "cell_type": "markdown",
   "metadata": {},
   "source": [
    "Here is a short description for some of them:\n",
    "- Q_damp: PDF Gaussian dampening envelope due to limited $Q$-resolution. The Gaussian envelope is of the form $\\exp(-\\frac{(r Q_{damp})^2}{2})$\n",
    "- Q_broad: PDF peak broadening from increased intensity noise at high $Q$\n",
    "- delta1: coefficient for $(1/r)$ contribution to the peak sharpening.\n",
    "- delta2: coefficient for $(1/r^2)$ contribution to the peak sharpening.\n",
    "\n",
    "Using these notations, the PDF peak width is expressed as \n",
    "\n",
    "$$ \\sigma_{ij} \\sqrt{1-\\frac{\\delta_1}{r_{ij}}-\\frac{\\delta_2}{r_{ij}^2}+Q_{broad}^2 r_{ij}^2},$$ where $i$, $j$ correspond to two different atoms.  \n",
    "\n",
    "It contains contributions from thermal and zero point displacements and static disorder. $\\sigma_{ij}'$ is the peak width without correlation.   \n",
    "The first two terms correct for the effects of correlated motion. The term $\\delta_2/r^2$ describes the low temperature behavior, and $\\delta_1/r$ describes the high temperature case. Since the two parameters are highly correlated, one will in practice choose which one to refine.  \n",
    "\n",
    "The last term models the PDF peak broadening as a result of\n",
    "the Q-resolution of the diffractometer. In many cases this term will only be significant for refinements over wider r -ranges. Note that the Q resolution also results in an exponentialdampening of the PDF peaks which is modeled using the parameter Q_damp.\n"
   ]
  },
  {
   "cell_type": "markdown",
   "metadata": {},
   "source": [
    "Specify $Q_{max}$, $Q_{damp}$, $Q_{broad}$ and wavelength values used to calculate PDF. "
   ]
  },
  {
   "cell_type": "code",
   "execution_count": null,
   "metadata": {
    "tags": []
   },
   "outputs": [],
   "source": [
    "parameters.qmax = 70 #30\n",
    "parameters.qdamp = 0.03\n",
    "parameters.qbroad = 0.0 #0.024\n",
    "parameters.wavelength = 0.126514\n",
    "parameters.delta2 = 1\n",
    "#parameters.delta1 = 0.9\n",
    "parameters.spdiameter = 0.0"
   ]
  },
  {
   "cell_type": "code",
   "execution_count": null,
   "metadata": {
    "tags": []
   },
   "outputs": [],
   "source": [
    "# Check update of set parameter values\n",
    "parameters.get_parameters()"
   ]
  },
  {
   "cell_type": "markdown",
   "metadata": {},
   "source": [
    "### Set pattern parameters \n",
    "#### Patterns related to all phases"
   ]
  },
  {
   "cell_type": "code",
   "execution_count": null,
   "metadata": {
    "tags": []
   },
   "outputs": [],
   "source": [
    "global_patterns = job.pattern"
   ]
  },
  {
   "cell_type": "code",
   "execution_count": null,
   "metadata": {
    "tags": []
   },
   "outputs": [],
   "source": [
    "global_patterns.get_parameters()"
   ]
  },
  {
   "cell_type": "code",
   "execution_count": null,
   "metadata": {
    "tags": []
   },
   "outputs": [],
   "source": [
    "global_patterns.zero_shift = 0.16"
   ]
  },
  {
   "cell_type": "markdown",
   "metadata": {},
   "source": [
    "#### Patterns related to phase 1"
   ]
  },
  {
   "cell_type": "code",
   "execution_count": null,
   "metadata": {
    "tags": []
   },
   "outputs": [],
   "source": [
    "phase1_patterns = job.phases[0]"
   ]
  },
  {
   "cell_type": "code",
   "execution_count": null,
   "metadata": {
    "tags": []
   },
   "outputs": [],
   "source": [
    "phase1_patterns.get_parameters()"
   ]
  },
  {
   "cell_type": "code",
   "execution_count": null,
   "metadata": {
    "tags": []
   },
   "outputs": [],
   "source": [
    "# Modify the scale for pattern 1\n",
    "job.phases[0].scale = 1"
   ]
  },
  {
   "cell_type": "code",
   "execution_count": null,
   "metadata": {
    "tags": []
   },
   "outputs": [],
   "source": [
    "# Check modified value\n",
    "phase1_patterns.scale"
   ]
  },
  {
   "cell_type": "markdown",
   "metadata": {},
   "source": [
    "### Select r from experimental data and create the simulated G(r)"
   ]
  },
  {
   "cell_type": "code",
   "execution_count": null,
   "metadata": {
    "tags": []
   },
   "outputs": [],
   "source": [
    "x_data = data[:, 0]\n",
    "\n",
    "y_data = job.create_simulation(x_data)"
   ]
  },
  {
   "cell_type": "markdown",
   "metadata": {},
   "source": [
    "## Plot"
   ]
  },
  {
   "cell_type": "code",
   "execution_count": null,
   "metadata": {
    "tags": []
   },
   "outputs": [],
   "source": [
    "Gobs = data[:, 1]\n",
    "Gfit = y_data\n",
    "\n",
    "Gdiff = Gobs - Gfit\n",
    "Gdiff_baseline = -15  # Offset difference curve for plotting\n",
    "\n",
    "Gdiff_show = Gdiff + Gdiff_baseline\n",
    "\n",
    "fig = figure()\n",
    "fig.xaxis.axis_label = 'r (Å)'\n",
    "fig.yaxis.axis_label = r\"$$G (Å^{-2})\\$$\"\n",
    "fig.title.text = 'Fit of nickel to x-ray experimental PDF'\n",
    "\n",
    "fig.scatter(x_data, Gobs, legend_label='G(r) Data', fill_alpha=0., line_color='steelblue', marker='circle')\n",
    "fig.line(x_data, Gfit, legend_label='G(r) Fit', color='orangered', line_width=2)\n",
    "fig.line(x_data, Gdiff_show, legend_label='G(r) Diff', color='grey', line_width=2)\n",
    "show(fig)"
   ]
  },
  {
   "cell_type": "markdown",
   "metadata": {},
   "source": [
    "Note that the experimental and calculated curves can be quite different. But the aim of this notebook was to detail how to simulate a 1D PDF pattern in EasyDiffraction using `pdffit2` library.  \n",
    "Please refer to `Fitting_PDF_Profile.ipynb` in order to see how to fot this type of curve."
   ]
  },
  {
   "cell_type": "code",
   "execution_count": null,
   "metadata": {},
   "outputs": [],
   "source": []
  }
 ],
 "metadata": {
  "kernelspec": {
   "display_name": "Python 3 (ipykernel)",
   "language": "python",
   "name": "python3"
  },
  "language_info": {
   "codemirror_mode": {
    "name": "ipython",
    "version": 3
   },
   "file_extension": ".py",
   "mimetype": "text/x-python",
   "name": "python",
   "nbconvert_exporter": "python",
   "pygments_lexer": "ipython3",
   "version": "3.8.9"
  }
 },
 "nbformat": 4,
 "nbformat_minor": 4
}
