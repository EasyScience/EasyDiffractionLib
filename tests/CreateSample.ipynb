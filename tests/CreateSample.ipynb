{
 "cells": [
  {
   "cell_type": "markdown",
   "id": "8a365a14",
   "metadata": {},
   "source": [
    "# Creating sample"
   ]
  },
  {
   "cell_type": "code",
   "execution_count": null,
   "id": "9ecc4733",
   "metadata": {},
   "outputs": [],
   "source": [
    "from easyCore import np\n",
    "from easyDiffractionLib.sample import Sample\n",
    "from easyDiffractionLib import Site, Phase, Phases\n",
    "from easyDiffractionLib.interface import InterfaceFactory as Calculator\n",
    "\n",
    "from easyDiffractionLib.Elements.Experiments.Pattern import Pattern1D\n",
    "from easyDiffractionLib.Profiles.P1D import Instrument1DCWParameters as CWParams\n",
    "from easyDiffractionLib.Profiles.P1D import Instrument1DTOFParameters as TOFParams\n",
    "\n",
    "from easyCore.Fitting.Fitting import Fitter\n",
    "\n",
    "import matplotlib.pyplot as plt"
   ]
  },
  {
   "cell_type": "markdown",
   "id": "283767f9",
   "metadata": {},
   "source": [
    "**Preparing the sample and data**"
   ]
  },
  {
   "cell_type": "code",
   "execution_count": null,
   "id": "1ed88f8e",
   "metadata": {},
   "outputs": [],
   "source": [
    "calculator = Calculator()\n",
    "calculator.switch('CrysPy') # this is the default"
   ]
  },
  {
   "cell_type": "markdown",
   "id": "19a39b25",
   "metadata": {},
   "source": [
    "Create an atom"
   ]
  },
  {
   "cell_type": "code",
   "execution_count": null,
   "id": "41020330",
   "metadata": {},
   "outputs": [],
   "source": [
    "atom = Site.from_pars(label=\"Cl1\",\n",
    "                      specie='Cl',\n",
    "                      fract_x=0.0,\n",
    "                      fract_y=0.0,\n",
    "                      fract_z=0.0)"
   ]
  },
  {
   "cell_type": "markdown",
   "id": "910aed87",
   "metadata": {},
   "source": [
    "Create a phase"
   ]
  },
  {
   "cell_type": "code",
   "execution_count": null,
   "id": "1e2f3193",
   "metadata": {},
   "outputs": [],
   "source": [
    "phase = Phase(name=\"salt\")\n",
    "\n",
    "# set the space group\n",
    "phase.spacegroup.space_group_HM_name = \"F m -3 m\"\n",
    "\n",
    "# add the atom\n",
    "phase.add_atom(atom)"
   ]
  },
  {
   "cell_type": "markdown",
   "id": "d4532d8b",
   "metadata": {},
   "source": [
    "Add another atom"
   ]
  },
  {
   "cell_type": "code",
   "execution_count": null,
   "id": "4231d16a",
   "metadata": {},
   "outputs": [],
   "source": [
    "phase.add_atom('Na1', 'Na', 0.5, 0.5, 0.5)"
   ]
  },
  {
   "cell_type": "markdown",
   "id": "81ace320",
   "metadata": {},
   "source": [
    "Visualise the structure"
   ]
  },
  {
   "cell_type": "code",
   "execution_count": null,
   "id": "e68ddbea",
   "metadata": {},
   "outputs": [],
   "source": [
    "import py3Dmol\n",
    "viewer2 = py3Dmol.view()\n",
    "viewer2.addModel(phase.to_cif_str(),'cif',{'doAssembly':True,'duplicateAssemblyAtoms':True,'normalizeAssembly':True})\n",
    "viewer2.setStyle({'sphere':{'colorscheme':'Jmol','scale':.2},'stick':{'colorscheme':'Jmol', 'radius': 0.1}})\n",
    "viewer2.addUnitCell()\n",
    "viewer2.replicateUnitCell(2,2,2)\n",
    "#viewer2.setStyle({'sym':2},{'sphere':{'scale':.5,'color':'blue'},'stick':{'color':'cyan'}})\n",
    "viewer2.zoomTo()"
   ]
  },
  {
   "cell_type": "markdown",
   "id": "ebe0e0ee",
   "metadata": {},
   "source": [
    "Create Phases object"
   ]
  },
  {
   "cell_type": "code",
   "execution_count": null,
   "id": "29071aa2",
   "metadata": {},
   "outputs": [],
   "source": [
    "phases = Phases()\n",
    "phases.append(phase)"
   ]
  },
  {
   "cell_type": "markdown",
   "id": "e93c42b9",
   "metadata": {},
   "source": [
    "Create and modify a Parameters object"
   ]
  },
  {
   "cell_type": "code",
   "execution_count": null,
   "id": "83e3845f",
   "metadata": {},
   "outputs": [],
   "source": [
    "parameters = CWParams.default()\n",
    "#parameters.length_a = 8.56\n",
    "#parameters.length_c = 6.12\n",
    "#parameters.length_b = 8.56\n",
    "parameters.length_a = 5.6402"
   ]
  },
  {
   "cell_type": "markdown",
   "id": "42da041a",
   "metadata": {},
   "source": [
    "Finally, create a Sample"
   ]
  },
  {
   "cell_type": "code",
   "execution_count": null,
   "id": "c90662f7",
   "metadata": {},
   "outputs": [],
   "source": [
    "S = Sample(phases=phases, parameters=parameters, calculator=calculator)"
   ]
  },
  {
   "cell_type": "markdown",
   "id": "00e24eab",
   "metadata": {},
   "source": [
    "Calculate the profile"
   ]
  },
  {
   "cell_type": "code",
   "execution_count": null,
   "id": "398bbb91",
   "metadata": {},
   "outputs": [],
   "source": [
    "x_data = np.linspace(1, 120, 500)\n",
    "y_data = calculator.fit_func(x_data)\n",
    "\n",
    "%matplotlib notebook\n",
    "\n",
    "plt.plot(x_data, y_data, label='CW Simulation')\n",
    "plt.legend()"
   ]
  },
  {
   "cell_type": "markdown",
   "id": "cee54608",
   "metadata": {},
   "source": [
    "## Switch to TOF"
   ]
  },
  {
   "cell_type": "code",
   "execution_count": null,
   "id": "59381e83",
   "metadata": {},
   "outputs": [],
   "source": [
    "parameters = TOFParams.default()\n",
    "parameters.length_a = 5.6402\n",
    "parameters.dtt1 = 6167.24700\n",
    "parameters.dtt2 = -2.28000\n",
    "parameters.ttheta_bank = 145.00\n",
    "\n",
    "tof_str = 'Npowder1DTOF'\n",
    "interfaces = calculator.interface_compatability(tof_str)\n",
    "print(interfaces[0])\n",
    "calculator.switch(interfaces[0])\n",
    "\n",
    "S = Sample(phases=phases, parameters=parameters, calculator=calculator)\n"
   ]
  },
  {
   "cell_type": "code",
   "execution_count": null,
   "id": "eac224b9",
   "metadata": {},
   "outputs": [],
   "source": [
    "x_data = np.linspace(1, 120, 5)\n",
    "y_data = calculator.fit_func(x_data)\n",
    "\n",
    "%matplotlib notebook\n",
    "\n",
    "plt.plot(x_data, y_data, label='TOF Simulation')\n",
    "plt.legend()"
   ]
  },
  {
   "cell_type": "code",
   "execution_count": null,
   "id": "3647d5ab",
   "metadata": {},
   "outputs": [],
   "source": []
  }
 ],
 "metadata": {
  "kernelspec": {
   "display_name": "Python 3 (ipykernel)",
   "language": "python",
   "name": "python3"
  },
  "language_info": {
   "codemirror_mode": {
    "name": "ipython",
    "version": 3
   },
   "file_extension": ".py",
   "mimetype": "text/x-python",
   "name": "python",
   "nbconvert_exporter": "python",
   "pygments_lexer": "ipython3",
   "version": "3.7.10"
  }
 },
 "nbformat": 4,
 "nbformat_minor": 5
}
