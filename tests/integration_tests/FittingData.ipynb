{
 "cells": [
  {
   "cell_type": "markdown",
   "metadata": {},
   "source": [
    "# Fitting"
   ]
  },
  {
   "cell_type": "markdown",
   "metadata": {},
   "source": [
    "There are two built in fitting engines, `lmfit` and `bumps`."
   ]
  },
  {
   "cell_type": "code",
   "execution_count": null,
   "metadata": {},
   "outputs": [],
   "source": [
    "# Import all the packages\n",
    "import numpy as np\n",
    "from easyDiffractionLib.sample import Sample\n",
    "from easyDiffractionLib import Phases\n",
    "from easyDiffractionLib.interface import InterfaceFactory as Calculator\n",
    "\n",
    "from easyDiffractionLib.Elements.Experiments.Pattern import Pattern1D\n",
    "from easyDiffractionLib.Profiles.P1D import Instrument1DCWParameters\n",
    "\n",
    "from easyscience.fitting.fitter import Fitter\n",
    "\n",
    "import matplotlib.pyplot as plt"
   ]
  },
  {
   "cell_type": "markdown",
   "metadata": {},
   "source": [
    "## Preparing the sample and data"
   ]
  },
  {
   "cell_type": "markdown",
   "metadata": {},
   "source": [
    "Load structure from a CIF file"
   ]
  },
  {
   "cell_type": "code",
   "execution_count": null,
   "metadata": {},
   "outputs": [],
   "source": [
    "calculator = Calculator()\n",
    "phase = Phases.from_cif_file('PbSO4.cif')\n",
    "sample = Sample(phases=phase, parameters=Instrument1DCWParameters.default(), calculator=calculator)"
   ]
  },
  {
   "cell_type": "markdown",
   "metadata": {},
   "source": [
    "Visualise the structure"
   ]
  },
  {
   "cell_type": "code",
   "execution_count": null,
   "metadata": {},
   "outputs": [],
   "source": [
    "import py3Dmol\n",
    "viewer = py3Dmol.view()\n",
    "viewer.addModel(phase[0].to_cif_str(),'cif')\n",
    "viewer.setStyle({'sphere':{'colorscheme':'Jmol','scale':.2},'stick':{'colorscheme':'Jmol', 'radius': 0.1}})\n",
    "viewer.addUnitCell()\n",
    "viewer.replicateUnitCell(2,2,1)\n",
    "viewer.zoomTo()"
   ]
  },
  {
   "cell_type": "markdown",
   "metadata": {},
   "source": [
    "Load experimental data from a file"
   ]
  },
  {
   "cell_type": "code",
   "execution_count": null,
   "metadata": {},
   "outputs": [],
   "source": [
    "file_path = 'PbSO4_neutrons_short.xye'\n",
    "data_x, data_y, data_e = np.loadtxt(file_path, unpack=True)\n",
    "\n",
    "data_y = data_y/100.0\n",
    "\n",
    "# Generate the simulation y-data\n",
    "sim_y_data = calculator.fit_func(data_x)\n"
   ]
  },
  {
   "cell_type": "code",
   "execution_count": null,
   "metadata": {},
   "outputs": [],
   "source": [
    "%matplotlib notebook\n",
    "plt.plot(data_x, data_y, label='Experimental')\n",
    "plt.plot(data_x, sim_y_data, label='Starting point')\n",
    "plt.legend()"
   ]
  },
  {
   "cell_type": "markdown",
   "metadata": {},
   "source": [
    "The charts do not match very well, because our simulation did not include any parameters related to the experiment.\n",
    "Let's assign some decent values then."
   ]
  },
  {
   "cell_type": "code",
   "execution_count": null,
   "metadata": {},
   "outputs": [],
   "source": [
    "sample.parameters.wavelength = 1.912\n",
    "sample.parameters.u_resolution = 1.4\n",
    "sample.parameters.v_resolution = -0.42\n",
    "sample.parameters.w_resolution = 0.38\n",
    "sample.parameters.x_resolution = 0.0\n",
    "sample.parameters.y_resolution = 0.0\n",
    "\n",
    "sim_y_data = calculator.fit_func(data_x)\n",
    "\n",
    "%matplotlib notebook\n",
    "plt.plot(data_x, data_y, label='Experimental')\n",
    "plt.plot(data_x, sim_y_data, label='Starting point')\n",
    "plt.legend()"
   ]
  },
  {
   "cell_type": "markdown",
   "metadata": {},
   "source": [
    "This looks much better now - experimental and theoretical peaks seem to be very close but there is no background included in our simulation."
   ]
  },
  {
   "cell_type": "code",
   "execution_count": null,
   "metadata": {},
   "outputs": [],
   "source": [
    "from easyDiffractionLib.Elements.Backgrounds.Point import PointBackground, BackgroundPoint\n",
    "\n",
    "bg = PointBackground(linked_experiment='PbSO4')\n",
    "bg.append(BackgroundPoint.from_pars(data_x[0], 2))\n",
    "bg.append(BackgroundPoint.from_pars(data_x[-1], 2))\n",
    "\n",
    "sample.set_background(bg)"
   ]
  },
  {
   "cell_type": "code",
   "execution_count": null,
   "metadata": {},
   "outputs": [],
   "source": [
    "sim_y_data = calculator.fit_func(data_x)\n",
    "%matplotlib notebook\n",
    "plt.plot(data_x, data_y, label='Experimental')\n",
    "plt.plot(data_x, sim_y_data, label='Starting point')\n",
    "plt.legend()"
   ]
  },
  {
   "cell_type": "markdown",
   "metadata": {},
   "source": [
    "These two charts look close enough to attempt fitting."
   ]
  },
  {
   "cell_type": "markdown",
   "metadata": {},
   "source": [
    "## Fitting to the data"
   ]
  },
  {
   "cell_type": "markdown",
   "metadata": {},
   "source": [
    "Initalize the fitting engine and define parameters to optimize"
   ]
  },
  {
   "cell_type": "code",
   "execution_count": null,
   "metadata": {},
   "outputs": [],
   "source": [
    "f = Fitter(sample, calculator.fit_func)\n",
    "\n",
    "# Vary the scale and the BG points\n",
    "sample.pattern.scale.fixed = False\n",
    "sample.parameters.resolution_u.fixed = False\n",
    "sample.parameters.resolution_v.fixed = False\n",
    "sample.parameters.resolution_w.fixed = False\n",
    "sample.backgrounds[0][0].y.fixed = False\n",
    "sample.backgrounds[0][1].y.fixed = False"
   ]
  },
  {
   "cell_type": "markdown",
   "metadata": {},
   "source": [
    "Perform the fit"
   ]
  },
  {
   "cell_type": "code",
   "execution_count": null,
   "metadata": {},
   "outputs": [],
   "source": [
    "result = f.fit(data_x, data_y, weights=1/data_e)\n",
    "\n",
    "if result.success:\n",
    "    print(\"The fit has been successful: {}\".format(result.success))\n",
    "    print(\"The gooodness of fit is: {}\".format(result.goodness_of_fit))\n",
    "    \n",
    "sim_y_data = calculator.fit_func(data_x)"
   ]
  },
  {
   "cell_type": "code",
   "execution_count": null,
   "metadata": {},
   "outputs": [],
   "source": [
    "%matplotlib notebook\n",
    "plt.plot(data_x, data_y, label='Experimental')\n",
    "plt.plot(data_x, sim_y_data, label='Best Fit')\n",
    "plt.legend()"
   ]
  },
  {
   "cell_type": "markdown",
   "metadata": {},
   "source": [
    "## Fitted parameters"
   ]
  },
  {
   "cell_type": "code",
   "execution_count": null,
   "metadata": {},
   "outputs": [],
   "source": [
    "print(f'Scale: {sample.pattern.scale}')\n",
    "print(f'BG 0: {sample.backgrounds[0][0]}')\n",
    "print(f'BG 1: {sample.backgrounds[0][1]}')"
   ]
  },
  {
   "cell_type": "markdown",
   "metadata": {},
   "source": [
    "**Parameter object with varying accessors**"
   ]
  },
  {
   "cell_type": "code",
   "execution_count": null,
   "metadata": {},
   "outputs": [],
   "source": [
    "print(f'Scale: {sample.pattern.scale}')\n",
    "print(f'Scale: {sample.pattern.scale.value}')\n",
    "print(f'Scale: {sample.pattern.scale.raw_value}')"
   ]
  },
  {
   "cell_type": "markdown",
   "metadata": {},
   "source": [
    "The fit is quite good, but let's see if we can do better with a different optimizer."
   ]
  },
  {
   "cell_type": "markdown",
   "metadata": {},
   "source": [
    "## Change the optimizer to `bumps`"
   ]
  },
  {
   "cell_type": "code",
   "execution_count": null,
   "metadata": {},
   "outputs": [],
   "source": [
    "print(\"available minimizers:\", f.available_engines)\n",
    "print()\n",
    "print(\"current minimizer:\", f.current_engine.name)\n",
    "print(\"available methods of current minimizer:\", f.available_methods())"
   ]
  },
  {
   "cell_type": "code",
   "execution_count": null,
   "metadata": {},
   "outputs": [],
   "source": [
    "print(\"switch minimizer\")\n",
    "f.switch_engine('bumps')\n",
    "f_method = 'lm'\n",
    "print(\"current minimizer:\", f.current_engine.name)\n",
    "print(\"available methods of current minimizer:\", f.available_methods())"
   ]
  },
  {
   "cell_type": "markdown",
   "metadata": {},
   "source": [
    "**Rerun fitting** (takes a while!)\n",
    "\n",
    "This seems completely broken and needs fixing. The fitting just hangs."
   ]
  },
  {
   "cell_type": "code",
   "execution_count": null,
   "metadata": {},
   "outputs": [],
   "source": [
    "result = f.fit(data_x, data_y, weights=1/data_e, method=f_method)\n",
    "\n",
    "if result.success:\n",
    "    print(\"The fit has been successful: {}\".format(result.success))\n",
    "    print(\"The gooodness of fit is: {}\".format(result.goodness_of_fit))\n",
    "    \n",
    "sim_y_data = calculator.fit_func(data_x)"
   ]
  },
  {
   "cell_type": "code",
   "execution_count": null,
   "metadata": {},
   "outputs": [],
   "source": [
    "%matplotlib notebook\n",
    "plt.plot(data_x, data_y, label='Experimental')\n",
    "plt.plot(data_x, sim_y_data, label='Best Fit')\n",
    "plt.legend()"
   ]
  },
  {
   "cell_type": "code",
   "execution_count": null,
   "metadata": {},
   "outputs": [],
   "source": [
    "print(f'Scale: {sample.pattern.scale}')\n",
    "print(f'BG 0: {sample.backgrounds[0][0]}')\n",
    "print(f'BG 1: {sample.backgrounds[0][1]}')\n",
    "#print(f'Res U: {sample.parameters.resolution_u}')\n",
    "#print(f'Res V: {sample.parameters.resolution_v}')\n",
    "#print(f'Res W: {sample.parameters.resolution_w}')"
   ]
  },
  {
   "cell_type": "code",
   "execution_count": null,
   "metadata": {},
   "outputs": [],
   "source": []
  }
 ],
 "metadata": {
  "kernelspec": {
   "display_name": "Python 3 (ipykernel)",
   "language": "python",
   "name": "python3"
  },
  "language_info": {
   "codemirror_mode": {
    "name": "ipython",
    "version": 3
   },
   "file_extension": ".py",
   "mimetype": "text/x-python",
   "name": "python",
   "nbconvert_exporter": "python",
   "pygments_lexer": "ipython3",
   "version": "3.7.10"
  }
 },
 "nbformat": 4,
 "nbformat_minor": 4
}
