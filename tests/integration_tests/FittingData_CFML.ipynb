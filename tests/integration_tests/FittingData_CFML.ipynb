{
 "cells": [
  {
   "cell_type": "markdown",
   "metadata": {},
   "source": [
    "# Fitting"
   ]
  },
  {
   "cell_type": "markdown",
   "metadata": {},
   "source": [
    "There are two built in fitting engines, `lmfit` and `bumps`."
   ]
  },
  {
   "cell_type": "markdown",
   "metadata": {
    "pycharm": {
     "name": "#%% md\n"
    }
   },
   "source": [
    "Import all the packages."
   ]
  },
  {
   "cell_type": "code",
   "execution_count": 1,
   "metadata": {
    "pycharm": {
     "name": "#%%\n"
    }
   },
   "outputs": [
    {
     "name": "stdout",
     "output_type": "stream",
     "text": [
      "Warning: CrysFML is not installed\n",
      "GSAS-II binary directory: /home/simonward/.cache/pypoetry/virtualenvs/easydiffractionlib-jQmFKVli-py3.7/lib/python3.7/site-packages/GSASII/bindist\n",
      "ImportError for wx/mpl in GSASIIctrlGUI: ignore if docs build\n"
     ]
    }
   ],
   "source": [
    "# Import all the packages\n",
    "import numpy as np\n",
    "from easyDiffractionLib.sample import Sample\n",
    "from easyDiffractionLib import Phases\n",
    "from easyDiffractionLib.interface import InterfaceFactory as Calculator\n",
    "from easyDiffractionLib.Profiles.P1D import Instrument1DCWParameters\n",
    "from easyDiffractionLib.Elements.Experiments.Pattern import Pattern1D\n",
    "\n",
    "from easyscience.fitting.fitter import Fitter\n",
    "\n",
    "import matplotlib.pyplot as plt\n"
   ]
  },
  {
   "cell_type": "markdown",
   "metadata": {
    "pycharm": {
     "name": "#%% md\n"
    }
   },
   "source": [
    "## Preparing the sample and data"
   ]
  },
  {
   "cell_type": "markdown",
   "metadata": {
    "pycharm": {
     "name": "#%% md\n"
    }
   },
   "source": [
    "We load up a cif file and then set the experimental parameters."
   ]
  },
  {
   "cell_type": "code",
   "execution_count": 2,
   "metadata": {
    "pycharm": {
     "name": "#%%\n"
    }
   },
   "outputs": [
    {
     "name": "stdout",
     "output_type": "stream",
     "text": [
      "Temp CIF: /tmp/easydiffraction_temp.cif\n"
     ]
    }
   ],
   "source": [
    "calculator = Calculator()\n",
    "c = Phases.from_cif_file('PbSO4.cif')\n",
    "S = Sample(phases=c, parameters=Instrument1DCWParameters.default(), calculator=calculator)"
   ]
  },
  {
   "cell_type": "markdown",
   "metadata": {
    "pycharm": {
     "name": "#%% md\n"
    }
   },
   "source": [
    "Load up experimental data"
   ]
  },
  {
   "cell_type": "code",
   "execution_count": 3,
   "metadata": {
    "pycharm": {
     "name": "#%%\n"
    }
   },
   "outputs": [],
   "source": [
    "data_x, data_y, data_e = np.loadtxt('PbSO4_xrays_short.xye', unpack=True)\n",
    "data_y = data_y/100.0"
   ]
  },
  {
   "cell_type": "markdown",
   "metadata": {},
   "source": [
    "Generate the simulation y-data"
   ]
  },
  {
   "cell_type": "code",
   "execution_count": 4,
   "metadata": {
    "pycharm": {
     "name": "#%%\n"
    }
   },
   "outputs": [
    {
     "ename": "NameError",
     "evalue": "name 'interface' is not defined",
     "output_type": "error",
     "traceback": [
      "\u001B[0;31m---------------------------------------------------------------------------\u001B[0m",
      "\u001B[0;31mNameError\u001B[0m                                 Traceback (most recent call last)",
      "\u001B[0;32m/tmp/ipykernel_1919065/4195641480.py\u001B[0m in \u001B[0;36m<module>\u001B[0;34m\u001B[0m\n\u001B[0;32m----> 1\u001B[0;31m \u001B[0msim_y_data\u001B[0m \u001B[0;34m=\u001B[0m \u001B[0minterface\u001B[0m\u001B[0;34m.\u001B[0m\u001B[0mfit_func\u001B[0m\u001B[0;34m(\u001B[0m\u001B[0mdata_x\u001B[0m\u001B[0;34m)\u001B[0m\u001B[0;34m\u001B[0m\u001B[0;34m\u001B[0m\u001B[0m\n\u001B[0m\u001B[1;32m      2\u001B[0m \u001B[0;34m\u001B[0m\u001B[0m\n",
      "\u001B[0;31mNameError\u001B[0m: name 'interface' is not defined"
     ]
    }
   ],
   "source": [
    "sim_y_data = interface.fit_func(data_x)"
   ]
  },
  {
   "cell_type": "code",
   "execution_count": null,
   "metadata": {
    "pycharm": {
     "name": "#%%\n"
    }
   },
   "outputs": [],
   "source": [
    "%matplotlib notebook\n",
    "plt.plot(data_x, data_y, label='Experiment (X-rays)')\n",
    "plt.plot(data_x, sim_y_data, label=f'Calculations ({interface.current_interface_name})')\n",
    "plt.legend()"
   ]
  },
  {
   "cell_type": "markdown",
   "metadata": {},
   "source": [
    "We do not have the correct experimental parameters.."
   ]
  },
  {
   "cell_type": "code",
   "execution_count": null,
   "metadata": {},
   "outputs": [],
   "source": [
    "S.parameters.wavelength = 1.54\n",
    "S.parameters.u_resolution = 0.031\n",
    "S.parameters.v_resolution = -0.052\n",
    "S.parameters.w_resolution = 0.032\n",
    "S.parameters.x_resolution = 0.015\n",
    "S.parameters.y_resolution = 0.0\n",
    "\n",
    "#sim_y_data = interface.fit_func(data_x)\n",
    "\n",
    "%matplotlib notebook\n",
    "plt.plot(data_x, data_y, label='Experiment (X-rays)')\n",
    "plt.plot(data_x, sim_y_data, label=f'Calculations ({interface.current_interface_name})')\n",
    "plt.legend()"
   ]
  },
  {
   "cell_type": "markdown",
   "metadata": {},
   "source": [
    "Now we need to set the background"
   ]
  },
  {
   "cell_type": "code",
   "execution_count": null,
   "metadata": {},
   "outputs": [],
   "source": [
    "from easyDiffractionLib.Elements.Backgrounds.Point import PointBackground, BackgroundPoint\n",
    "\n",
    "bg = PointBackground(linked_experiment='PbSO4')\n",
    "\n",
    "#bg.append(BackgroundPoint.from_pars(data_x[0], 166))\n",
    "#bg.append(BackgroundPoint.from_pars(16, 36))\n",
    "#bg.append(BackgroundPoint.from_pars(50, 120))\n",
    "#bg.append(BackgroundPoint.from_pars(100, 100))\n",
    "#bg.append(BackgroundPoint.from_pars(data_x[-1], 164))\n",
    "\n",
    "bg.append(BackgroundPoint.from_pars(data_x[0], 1.66))\n",
    "bg.append(BackgroundPoint.from_pars(16, 0.36))\n",
    "bg.append(BackgroundPoint.from_pars(50, 1.20))\n",
    "bg.append(BackgroundPoint.from_pars(100, 1.00))\n",
    "bg.append(BackgroundPoint.from_pars(data_x[-1], 1.64))\n",
    "\n",
    "S.set_background(bg)\n"
   ]
  },
  {
   "cell_type": "code",
   "execution_count": null,
   "metadata": {},
   "outputs": [],
   "source": [
    "sim_y_data = interface.fit_func(data_x)\n",
    "\n",
    "%matplotlib notebook\n",
    "plt.plot(data_x, data_y, label='Experiment (X-rays)')\n",
    "plt.plot(data_x, sim_y_data, label=f'Calculations ({interface.current_interface_name})')\n",
    "plt.legend()"
   ]
  },
  {
   "cell_type": "markdown",
   "metadata": {},
   "source": [
    "Select CrysFML calculator"
   ]
  },
  {
   "cell_type": "code",
   "execution_count": null,
   "metadata": {},
   "outputs": [],
   "source": [
    "print(interface.available_interfaces)\n",
    "print(interface.current_interface_name)\n",
    "interface.switch('CrysFML')\n",
    "print(interface.current_interface_name)"
   ]
  },
  {
   "cell_type": "code",
   "execution_count": null,
   "metadata": {},
   "outputs": [],
   "source": [
    "sim_y_data = interface.fit_func(data_x)\n",
    "\n",
    "%matplotlib notebook\n",
    "plt.plot(data_x, data_y, label='Experiment (X-rays)')\n",
    "plt.plot(data_x, sim_y_data, label=f'Calculations ({interface.current_interface_name})')\n",
    "plt.legend()"
   ]
  },
  {
   "cell_type": "markdown",
   "metadata": {},
   "source": [
    "Change scale manually"
   ]
  },
  {
   "cell_type": "code",
   "execution_count": null,
   "metadata": {},
   "outputs": [],
   "source": [
    "S.pattern.scale = 0.1\n",
    "sim_y_data = interface.fit_func(data_x)\n",
    "\n",
    "%matplotlib notebook\n",
    "plt.plot(data_x, data_y, label='Experiment (X-rays)')\n",
    "plt.plot(data_x, sim_y_data, label=f'Calculations ({interface.current_interface_name})')\n",
    "plt.legend()"
   ]
  },
  {
   "cell_type": "markdown",
   "metadata": {},
   "source": [
    "## Fitting to the data"
   ]
  },
  {
   "cell_type": "markdown",
   "metadata": {},
   "source": [
    "Initalize the fitting engine and apply a few constraints"
   ]
  },
  {
   "cell_type": "code",
   "execution_count": null,
   "metadata": {},
   "outputs": [],
   "source": [
    "f = Fitter(S, interface.fit_func)\n",
    "\n",
    "# Vary the scale and the BG points\n",
    "S.pattern.scale.fixed = False\n",
    "S.pattern.zero_shift.fixed = False\n",
    "#S.parameters.resolution_u.fixed = False\n",
    "#S.parameters.resolution_v.fixed = False\n",
    "#S.parameters.resolution_w.fixed = False\n",
    "#S.parameters.resolution_x.fixed = False\n",
    "#S.backgrounds[0][0].y.fixed = False\n",
    "#S.backgrounds[0][1].y.fixed = False\n",
    "#S.backgrounds[0][2].y.fixed = False\n",
    "#S.backgrounds[0][3].y.fixed = False\n",
    "#S.backgrounds[0][4].y.fixed = False"
   ]
  },
  {
   "cell_type": "markdown",
   "metadata": {},
   "source": [
    "Select bumps minimizer"
   ]
  },
  {
   "cell_type": "code",
   "execution_count": null,
   "metadata": {},
   "outputs": [],
   "source": [
    "print(\"available minimizers:\", f.available_engines)\n",
    "print()\n",
    "print(\"current minimizer:\", f.current_engine.name)\n",
    "print(\"available methods of current minimizer:\", f.available_methods())\n",
    "print()\n",
    "print(\"switch minimizer\")\n",
    "f.switch_engine('bumps')\n",
    "f_method = 'lm'\n",
    "print(\"current minimizer:\", f.current_engine.name)\n",
    "print(\"available methods of current minimizer:\", f.available_methods())"
   ]
  },
  {
   "cell_type": "markdown",
   "metadata": {},
   "source": [
    "Perform the fit"
   ]
  },
  {
   "cell_type": "code",
   "execution_count": null,
   "metadata": {},
   "outputs": [],
   "source": [
    "result = f.fit(data_x, data_y, weights=1/data_e, method=f_method)"
   ]
  },
  {
   "cell_type": "code",
   "execution_count": null,
   "metadata": {},
   "outputs": [],
   "source": [
    "if result.success:\n",
    "    print(\"The fit has been successful: {}\".format(result.success))\n",
    "    print(\"The gooodness of fit is: {}\".format(result.goodness_of_fit))\n",
    "    \n",
    "sim_y_data = interface.fit_func(data_x)"
   ]
  },
  {
   "cell_type": "code",
   "execution_count": null,
   "metadata": {},
   "outputs": [],
   "source": [
    "%matplotlib notebook\n",
    "plt.plot(data_x, data_y, label='Experimental')\n",
    "plt.plot(data_x, sim_y_data, label='Best Fit')\n",
    "plt.legend()"
   ]
  },
  {
   "cell_type": "code",
   "execution_count": null,
   "metadata": {},
   "outputs": [],
   "source": [
    "print(f'Scale: {S.pattern.scale}')\n",
    "print(f'Scale: {S.pattern.zero_shift}')"
   ]
  },
  {
   "cell_type": "code",
   "execution_count": null,
   "metadata": {},
   "outputs": [],
   "source": []
  }
 ],
 "metadata": {
  "kernelspec": {
   "display_name": "Python 3 (ipykernel)",
   "language": "python",
   "name": "python3"
  },
  "language_info": {
   "codemirror_mode": {
    "name": "ipython",
    "version": 3
   },
   "file_extension": ".py",
   "mimetype": "text/x-python",
   "name": "python",
   "nbconvert_exporter": "python",
   "pygments_lexer": "ipython3",
   "version": "3.7.10"
  }
 },
 "nbformat": 4,
 "nbformat_minor": 4
}
