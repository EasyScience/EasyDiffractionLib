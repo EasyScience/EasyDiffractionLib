{
 "cells": [
  {
   "cell_type": "markdown",
   "metadata": {},
   "source": [
    "# Fitting"
   ]
  },
  {
   "cell_type": "markdown",
   "metadata": {},
   "source": [
    "There are two built in fitting engines, `lmfit` and `bumps`."
   ]
  },
  {
   "cell_type": "markdown",
   "metadata": {},
   "source": [
    "Import all the packages."
   ]
  },
  {
   "cell_type": "code",
   "execution_count": null,
   "metadata": {},
   "outputs": [],
   "source": [
    "# Import all the packages\n",
    "import numpy as np\n",
    "from easyDiffractionLib.sample import Sample\n",
    "from easyDiffractionLib import Phases\n",
    "from easyDiffractionLib.interface import InterfaceFactory\n",
    "from easyDiffractionLib.Elements.Experiments.Pattern import Pattern1D\n",
    "from easyDiffractionLib.Profiles.P1D import Instrument1DCWParameters\n",
    "\n",
    "from easyscience.fitting.fitter import Fitter\n",
    "\n",
    "from easyscience.Datasets.xarray import xr"
   ]
  },
  {
   "cell_type": "code",
   "execution_count": null,
   "metadata": {},
   "outputs": [],
   "source": [
    "try:\n",
    "    import hvplot.xarray\n",
    "except:\n",
    "    import sys\n",
    "    !{sys.executable} -m pip install hvplot\n",
    "    import hvplot.xarray"
   ]
  },
  {
   "cell_type": "markdown",
   "metadata": {},
   "source": [
    "## Preparing the sample and data"
   ]
  },
  {
   "cell_type": "markdown",
   "metadata": {},
   "source": [
    "We load up a cif file and then set the experimental parameters."
   ]
  },
  {
   "cell_type": "code",
   "execution_count": null,
   "metadata": {},
   "outputs": [],
   "source": [
    "interface = InterfaceFactory()\n",
    "c = Phases.from_cif_file('PbSO4.cif')\n",
    "S = Sample(phases=c, parameters=Instrument1DCWParameters.default(), interface=interface)"
   ]
  },
  {
   "cell_type": "markdown",
   "metadata": {},
   "source": [
    "We can load up some experimental data"
   ]
  },
  {
   "cell_type": "code",
   "execution_count": null,
   "metadata": {},
   "outputs": [],
   "source": [
    "file_path = 'PbSO4_neutrons.xye'\n",
    "data_x, data_y, data_e = np.loadtxt(file_path, unpack=True)\n",
    "data_y = data_y/100.0\n",
    "data_set = xr.Dataset()\n",
    "data_set.easyscience.add_coordinate('tth', data_x)\n",
    "data_set.easyscience.add_variable('I', ['tth'], data_y)\n",
    "data_set.easyscience.sigma_attach('I', data_e)"
   ]
  },
  {
   "cell_type": "code",
   "execution_count": null,
   "metadata": {},
   "outputs": [],
   "source": [
    "# Generate the simulation y-data and show the xarray\n",
    "data_set.easyscience.add_variable('simulated', ['tth'], interface.fit_func(data_set['tth']))\n",
    "data_set"
   ]
  },
  {
   "cell_type": "code",
   "execution_count": null,
   "metadata": {},
   "outputs": [],
   "source": [
    "data_set.hvplot(y=['I', 'simulated'])"
   ]
  },
  {
   "cell_type": "markdown",
   "metadata": {},
   "source": [
    "We do not have the correct experimental parameters, let's approximate some"
   ]
  },
  {
   "cell_type": "code",
   "execution_count": null,
   "metadata": {},
   "outputs": [],
   "source": [
    "S.parameters.wavelength = 1.54\n",
    "S.parameters.u_resolution = 0.031\n",
    "S.parameters.v_resolution = -0.052\n",
    "S.parameters.w_resolution = 0.032\n",
    "S.parameters.x_resolution = 0.015\n",
    "S.parameters.y_resolution = 0.0"
   ]
  },
  {
   "cell_type": "code",
   "execution_count": null,
   "metadata": {},
   "outputs": [],
   "source": [
    "data_set.easyscience.add_variable('simulated', ['tth'], interface.fit_func(data_set['tth']))\n",
    "data_set.hvplot(y=['I', 'simulated'])"
   ]
  },
  {
   "cell_type": "markdown",
   "metadata": {},
   "source": [
    "Now we need to set the background"
   ]
  },
  {
   "cell_type": "code",
   "execution_count": null,
   "metadata": {},
   "outputs": [],
   "source": [
    "from easyDiffractionLib.Elements.Backgrounds.Point import PointBackground, BackgroundPoint\n",
    "\n",
    "bg = PointBackground(linked_experiment='PbSO4')\n",
    "bg.append(BackgroundPoint.from_pars(data_x[0], 1.66))\n",
    "bg.append(BackgroundPoint.from_pars(16, 0.36))\n",
    "bg.append(BackgroundPoint.from_pars(50, 1.20))\n",
    "bg.append(BackgroundPoint.from_pars(100, 1.00))\n",
    "bg.append(BackgroundPoint.from_pars(data_x[-1], 1.64))\n",
    "print(bg)\n",
    "\n",
    "S.set_background(bg)\n",
    "print(S.backgrounds)"
   ]
  },
  {
   "cell_type": "code",
   "execution_count": null,
   "metadata": {},
   "outputs": [],
   "source": [
    "data_set.easyscience.add_variable('simulated', ['tth'], interface.fit_func(np.array(data_set['tth'])))\n",
    "data_set.hvplot(y=['I', 'simulated'])"
   ]
  },
  {
   "cell_type": "markdown",
   "metadata": {},
   "source": [
    "Select CrysFML calculator"
   ]
  },
  {
   "cell_type": "code",
   "execution_count": null,
   "metadata": {},
   "outputs": [],
   "source": [
    "print(interface.available_interfaces)\n",
    "print(interface.current_interface_name)\n",
    "interface.switch('CrysFML')\n",
    "print(interface.current_interface_name)"
   ]
  },
  {
   "cell_type": "markdown",
   "metadata": {},
   "source": [
    "Reload the sample"
   ]
  },
  {
   "cell_type": "code",
   "execution_count": null,
   "metadata": {},
   "outputs": [],
   "source": [
    "S = Sample(phases=c, parameters=Instrument1DCWParameters.default(), interface=interface)\n",
    "#S.parameters.wavelength = 1.54\n",
    "#S.parameters.u_resolution = 0.031\n",
    "#S.parameters.v_resolution = -0.052\n",
    "#S.parameters.w_resolution = 0.032\n",
    "#S.parameters.x_resolution = 0.015\n",
    "#S.parameters.y_resolution = 0.0\n",
    "bg = PointBackground(linked_experiment='PbSO4')\n",
    "bg.append(BackgroundPoint.from_pars(data_x[0], 1.66))\n",
    "bg.append(BackgroundPoint.from_pars(16, 0.36))\n",
    "bg.append(BackgroundPoint.from_pars(50, 1.20))\n",
    "bg.append(BackgroundPoint.from_pars(100, 1.00))\n",
    "bg.append(BackgroundPoint.from_pars(data_x[-1], 1.64))\n",
    "print(bg)\n",
    "\n",
    "S.set_background(bg)"
   ]
  },
  {
   "cell_type": "code",
   "execution_count": null,
   "metadata": {},
   "outputs": [],
   "source": [
    "data_set.easyscience.add_variable('simulated', ['tth'], interface.fit_func(np.array(data_set['tth'])))\n",
    "data_set.hvplot(y=['I', 'simulated'])"
   ]
  },
  {
   "cell_type": "markdown",
   "metadata": {},
   "source": [
    "Change scale manually"
   ]
  },
  {
   "cell_type": "code",
   "execution_count": null,
   "metadata": {},
   "outputs": [],
   "source": [
    "S.pattern.scale = 2\n",
    "\n",
    "data_set.easyscience.add_variable('simulated', ['tth'], interface.fit_func(np.array(data_set['tth'])))\n",
    "data_set.hvplot(y=['I', 'simulated'])"
   ]
  },
  {
   "cell_type": "markdown",
   "metadata": {},
   "source": [
    "## Fitting to the data"
   ]
  },
  {
   "cell_type": "markdown",
   "metadata": {},
   "source": [
    "Initalize the fitting engine and apply a few constraints"
   ]
  },
  {
   "cell_type": "code",
   "execution_count": null,
   "metadata": {},
   "outputs": [],
   "source": [
    "f = Fitter(S, interface.fit_func)\n",
    "\n",
    "# Vary the scale and the BG points\n",
    "S.pattern.scale.fixed = False\n",
    "S.pattern.zero_shift.fixed = False\n",
    "#S.parameters.resolution_u.fixed = False\n",
    "#S.parameters.resolution_v.fixed = False\n",
    "#S.parameters.resolution_w.fixed = False\n",
    "#S.parameters.resolution_x.fixed = False\n",
    "#S.backgrounds[0][0].y.fixed = False\n",
    "#S.backgrounds[0][1].y.fixed = False\n",
    "#S.backgrounds[0][2].y.fixed = False\n",
    "#S.backgrounds[0][3].y.fixed = False\n",
    "#S.backgrounds[0][4].y.fixed = False"
   ]
  },
  {
   "cell_type": "markdown",
   "metadata": {},
   "source": [
    "Select bumps minimizer"
   ]
  },
  {
   "cell_type": "code",
   "execution_count": null,
   "metadata": {},
   "outputs": [],
   "source": [
    "print(\"available minimizers:\", f.available_engines)\n",
    "print()\n",
    "print(\"current minimizer:\", f.current_engine.name)\n",
    "print(\"available methods of current minimizer:\", f.available_methods())\n",
    "print()\n",
    "print(\"switch minimizer\")\n",
    "f.switch_engine('bumps')\n",
    "f_method = 'lm'\n",
    "print(\"current minimizer:\", f.current_engine.name)\n",
    "print(\"available methods of current minimizer:\", f.available_methods())"
   ]
  },
  {
   "cell_type": "markdown",
   "metadata": {},
   "source": [
    "Perform the fit"
   ]
  },
  {
   "cell_type": "code",
   "execution_count": null,
   "metadata": {},
   "outputs": [],
   "source": [
    "result = data_set['I'].easyscience.fit(f, fit_kwargs={'weights':1/data_e, 'method':f_method})"
   ]
  },
  {
   "cell_type": "code",
   "execution_count": null,
   "metadata": {},
   "outputs": [],
   "source": [
    "if result.success:\n",
    "    print(\"The fit has been successful: {}\".format(result.success))\n",
    "    print(\"The gooodness of fit is: {}\".format(result.goodness_of_fit))\n",
    "    \n",
    "data_set['best_fit'] = result.y_calc"
   ]
  },
  {
   "cell_type": "code",
   "execution_count": null,
   "metadata": {},
   "outputs": [],
   "source": [
    "data_set.hvplot(y =['I', 'best_fit'])"
   ]
  },
  {
   "cell_type": "code",
   "execution_count": null,
   "metadata": {},
   "outputs": [],
   "source": [
    "print(f'Scale: {S.pattern.scale}')\n",
    "print(f'Scale: {S.pattern.zero_shift}')"
   ]
  },
  {
   "cell_type": "code",
   "execution_count": null,
   "metadata": {},
   "outputs": [],
   "source": []
  }
 ],
 "metadata": {
  "kernelspec": {
   "display_name": "Python 3 (ipykernel)",
   "language": "python",
   "name": "python3"
  },
  "language_info": {
   "codemirror_mode": {
    "name": "ipython",
    "version": 3
   },
   "file_extension": ".py",
   "mimetype": "text/x-python",
   "name": "python",
   "nbconvert_exporter": "python",
   "pygments_lexer": "ipython3",
   "version": "3.7.10"
  }
 },
 "nbformat": 4,
 "nbformat_minor": 4
}
